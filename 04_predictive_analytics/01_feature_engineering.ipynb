{
 "cells": [
  {
   "cell_type": "code",
   "execution_count": 239,
   "metadata": {},
   "outputs": [],
   "source": [
    "import pandas as pd"
   ]
  },
  {
   "cell_type": "code",
   "execution_count": 240,
   "metadata": {},
   "outputs": [],
   "source": [
    "trips_hourly = pd.read_pickle('../00_data/trips_hourly.pkl')\n",
    "trips_df = pd.read_pickle('../00_data/trips.pkl')"
   ]
  },
  {
   "cell_type": "markdown",
   "metadata": {},
   "source": [
    "### Create available bikes feature"
   ]
  },
  {
   "cell_type": "code",
   "execution_count": 241,
   "metadata": {},
   "outputs": [],
   "source": [
    "# we calculate the total number of ongoing trips\n",
    "# we can use the number of ongoing trips of the previous hour as feature,\n",
    "# because our task is to predict the total demand exactly for the next hour\n",
    "trips_hourly['trips_diff'] = trips_hourly['starting_trips'] - trips_hourly['ending_trips']\n",
    "trips_hourly['ongoing_trips'] = trips_hourly['trips_diff'].cumsum()\n",
    "# we can now use ongoing trips from the previous hour as input feature\n",
    "trips_hourly['ongoing_trips_prev'] = trips_hourly['ongoing_trips'].shift(1)"
   ]
  },
  {
   "cell_type": "code",
   "execution_count": 242,
   "metadata": {},
   "outputs": [
    {
     "data": {
      "text/html": [
       "<div>\n",
       "<style scoped>\n",
       "    .dataframe tbody tr th:only-of-type {\n",
       "        vertical-align: middle;\n",
       "    }\n",
       "\n",
       "    .dataframe tbody tr th {\n",
       "        vertical-align: top;\n",
       "    }\n",
       "\n",
       "    .dataframe thead th {\n",
       "        text-align: right;\n",
       "    }\n",
       "</style>\n",
       "<table border=\"1\" class=\"dataframe\">\n",
       "  <thead>\n",
       "    <tr style=\"text-align: right;\">\n",
       "      <th></th>\n",
       "      <th>starting_trips</th>\n",
       "      <th>ending_trips</th>\n",
       "      <th>trips_diff</th>\n",
       "      <th>ongoing_trips</th>\n",
       "      <th>ongoing_trips_prev</th>\n",
       "    </tr>\n",
       "  </thead>\n",
       "  <tbody>\n",
       "    <tr>\n",
       "      <th>2019-01-01 00:00:00</th>\n",
       "      <td>14.0</td>\n",
       "      <td>12.0</td>\n",
       "      <td>2.0</td>\n",
       "      <td>2.0</td>\n",
       "      <td>NaN</td>\n",
       "    </tr>\n",
       "    <tr>\n",
       "      <th>2019-01-01 01:00:00</th>\n",
       "      <td>8.0</td>\n",
       "      <td>6.0</td>\n",
       "      <td>2.0</td>\n",
       "      <td>4.0</td>\n",
       "      <td>2.0</td>\n",
       "    </tr>\n",
       "    <tr>\n",
       "      <th>2019-01-01 02:00:00</th>\n",
       "      <td>11.0</td>\n",
       "      <td>12.0</td>\n",
       "      <td>-1.0</td>\n",
       "      <td>3.0</td>\n",
       "      <td>4.0</td>\n",
       "    </tr>\n",
       "    <tr>\n",
       "      <th>2019-01-01 03:00:00</th>\n",
       "      <td>2.0</td>\n",
       "      <td>4.0</td>\n",
       "      <td>-2.0</td>\n",
       "      <td>1.0</td>\n",
       "      <td>3.0</td>\n",
       "    </tr>\n",
       "    <tr>\n",
       "      <th>2019-01-01 06:00:00</th>\n",
       "      <td>2.0</td>\n",
       "      <td>2.0</td>\n",
       "      <td>0.0</td>\n",
       "      <td>1.0</td>\n",
       "      <td>1.0</td>\n",
       "    </tr>\n",
       "  </tbody>\n",
       "</table>\n",
       "</div>"
      ],
      "text/plain": [
       "                     starting_trips  ending_trips  trips_diff  ongoing_trips  \\\n",
       "2019-01-01 00:00:00            14.0          12.0         2.0            2.0   \n",
       "2019-01-01 01:00:00             8.0           6.0         2.0            4.0   \n",
       "2019-01-01 02:00:00            11.0          12.0        -1.0            3.0   \n",
       "2019-01-01 03:00:00             2.0           4.0        -2.0            1.0   \n",
       "2019-01-01 06:00:00             2.0           2.0         0.0            1.0   \n",
       "\n",
       "                     ongoing_trips_prev  \n",
       "2019-01-01 00:00:00                 NaN  \n",
       "2019-01-01 01:00:00                 2.0  \n",
       "2019-01-01 02:00:00                 4.0  \n",
       "2019-01-01 03:00:00                 3.0  \n",
       "2019-01-01 06:00:00                 1.0  "
      ]
     },
     "execution_count": 242,
     "metadata": {},
     "output_type": "execute_result"
    }
   ],
   "source": [
    "trips_hourly.head(5)"
   ]
  },
  {
   "cell_type": "code",
   "execution_count": 243,
   "metadata": {},
   "outputs": [],
   "source": [
    "trips_hourly = trips_hourly[['starting_trips', 'ongoing_trips_prev']]\n",
    "# effectively drops first observation as ongoing trips prev cannot be calculated due to the abscence of data\n",
    "trips_hourly = trips_hourly.dropna()"
   ]
  },
  {
   "cell_type": "code",
   "execution_count": 244,
   "metadata": {},
   "outputs": [
    {
     "data": {
      "text/plain": [
       "bike_ids_week    757.480769\n",
       "dtype: float64"
      ]
     },
     "execution_count": 244,
     "metadata": {},
     "output_type": "execute_result"
    }
   ],
   "source": [
    "# get the number of unique bike_ids per week\n",
    "trips_df['week'] = trips_df['start_time'].dt.isocalendar().week\n",
    "\n",
    "bike_ids_week_grouped = (\n",
    "    trips_df.groupby([\"week\"])['bike_id']\n",
    "    .nunique()\n",
    "    .to_frame(\"bike_ids_week\")\n",
    ")\n",
    "bike_ids_week_grouped.mean()"
   ]
  },
  {
   "cell_type": "code",
   "execution_count": 245,
   "metadata": {},
   "outputs": [
    {
     "data": {
      "text/html": [
       "<div>\n",
       "<style scoped>\n",
       "    .dataframe tbody tr th:only-of-type {\n",
       "        vertical-align: middle;\n",
       "    }\n",
       "\n",
       "    .dataframe tbody tr th {\n",
       "        vertical-align: top;\n",
       "    }\n",
       "\n",
       "    .dataframe thead th {\n",
       "        text-align: right;\n",
       "    }\n",
       "</style>\n",
       "<table border=\"1\" class=\"dataframe\">\n",
       "  <thead>\n",
       "    <tr style=\"text-align: right;\">\n",
       "      <th></th>\n",
       "      <th>start_time</th>\n",
       "      <th>end_time</th>\n",
       "      <th>bike_id</th>\n",
       "    </tr>\n",
       "    <tr>\n",
       "      <th>bike_id</th>\n",
       "      <th></th>\n",
       "      <th></th>\n",
       "      <th></th>\n",
       "    </tr>\n",
       "  </thead>\n",
       "  <tbody>\n",
       "    <tr>\n",
       "      <th>5715</th>\n",
       "      <td>2019-04-17 23:39:00</td>\n",
       "      <td>2019-12-17 21:57:12</td>\n",
       "      <td>68</td>\n",
       "    </tr>\n",
       "    <tr>\n",
       "      <th>5716</th>\n",
       "      <td>2019-04-13 15:58:00</td>\n",
       "      <td>2019-06-07 17:13:00</td>\n",
       "      <td>33</td>\n",
       "    </tr>\n",
       "    <tr>\n",
       "      <th>5717</th>\n",
       "      <td>2019-04-23 07:42:00</td>\n",
       "      <td>2019-12-20 18:08:21</td>\n",
       "      <td>129</td>\n",
       "    </tr>\n",
       "    <tr>\n",
       "      <th>5718</th>\n",
       "      <td>2019-09-14 05:54:00</td>\n",
       "      <td>2019-12-31 15:20:23</td>\n",
       "      <td>48</td>\n",
       "    </tr>\n",
       "    <tr>\n",
       "      <th>5719</th>\n",
       "      <td>2019-04-15 18:26:00</td>\n",
       "      <td>2019-12-30 15:31:02</td>\n",
       "      <td>71</td>\n",
       "    </tr>\n",
       "  </tbody>\n",
       "</table>\n",
       "</div>"
      ],
      "text/plain": [
       "                 start_time            end_time  bike_id\n",
       "bike_id                                                 \n",
       "5715    2019-04-17 23:39:00 2019-12-17 21:57:12       68\n",
       "5716    2019-04-13 15:58:00 2019-06-07 17:13:00       33\n",
       "5717    2019-04-23 07:42:00 2019-12-20 18:08:21      129\n",
       "5718    2019-09-14 05:54:00 2019-12-31 15:20:23       48\n",
       "5719    2019-04-15 18:26:00 2019-12-30 15:31:02       71"
      ]
     },
     "execution_count": 245,
     "metadata": {},
     "output_type": "execute_result"
    }
   ],
   "source": [
    "# create dataframe that depicts the first time and the last time each bicycle was used (in our defined timeframe)\n",
    "# and the number of trips made with it\n",
    "bikes_df = trips_df.groupby(\"bike_id\").agg(\n",
    "    {\n",
    "\t\t\"start_time\": \"min\",\n",
    "\t\t\"end_time\": \"max\",\n",
    "\t\t\"bike_id\": \"count\"\n",
    "\t}\n",
    ")\n",
    "# bikes_df = bikes_df.rename(columns={\n",
    "#     \"start_time\" : \"first_trip_start_time\",\n",
    "#     \"end_time\" : \"last_trip_end_time\",\n",
    "#     \"bike_id\" : \"number_of_trips\"\n",
    "# })\n",
    "bikes_df.head(5)"
   ]
  },
  {
   "cell_type": "code",
   "execution_count": 246,
   "metadata": {},
   "outputs": [
    {
     "data": {
      "text/html": [
       "<div>\n",
       "<style scoped>\n",
       "    .dataframe tbody tr th:only-of-type {\n",
       "        vertical-align: middle;\n",
       "    }\n",
       "\n",
       "    .dataframe tbody tr th {\n",
       "        vertical-align: top;\n",
       "    }\n",
       "\n",
       "    .dataframe thead th {\n",
       "        text-align: right;\n",
       "    }\n",
       "</style>\n",
       "<table border=\"1\" class=\"dataframe\">\n",
       "  <thead>\n",
       "    <tr style=\"text-align: right;\">\n",
       "      <th></th>\n",
       "      <th>start_time</th>\n",
       "      <th>end_time</th>\n",
       "      <th>start_station_id</th>\n",
       "      <th>end_station_id</th>\n",
       "      <th>bike_id</th>\n",
       "      <th>user_type</th>\n",
       "      <th>start_station_name</th>\n",
       "      <th>end_station_name</th>\n",
       "      <th>duration</th>\n",
       "      <th>start_latitude</th>\n",
       "      <th>start_longitude</th>\n",
       "      <th>end_latitude</th>\n",
       "      <th>end_longitude</th>\n",
       "      <th>distance</th>\n",
       "      <th>speed</th>\n",
       "      <th>week</th>\n",
       "    </tr>\n",
       "  </thead>\n",
       "  <tbody>\n",
       "    <tr>\n",
       "      <th>290267</th>\n",
       "      <td>2019-12-31 20:50:25</td>\n",
       "      <td>2019-12-31 20:58:42</td>\n",
       "      <td>4442</td>\n",
       "      <td>4436</td>\n",
       "      <td>6130</td>\n",
       "      <td>Annual Pass</td>\n",
       "      <td>Normandie &amp; Sunset</td>\n",
       "      <td>Vermont &amp; Franklin</td>\n",
       "      <td>0 days 00:08:17</td>\n",
       "      <td>34.098</td>\n",
       "      <td>-118.30047</td>\n",
       "      <td>34.10578</td>\n",
       "      <td>-118.29194</td>\n",
       "      <td>1.032698</td>\n",
       "      <td>7.480307</td>\n",
       "      <td>1</td>\n",
       "    </tr>\n",
       "  </tbody>\n",
       "</table>\n",
       "</div>"
      ],
      "text/plain": [
       "                start_time            end_time  start_station_id  \\\n",
       "290267 2019-12-31 20:50:25 2019-12-31 20:58:42              4442   \n",
       "\n",
       "        end_station_id bike_id    user_type  start_station_name  \\\n",
       "290267            4436    6130  Annual Pass  Normandie & Sunset   \n",
       "\n",
       "          end_station_name        duration  start_latitude  start_longitude  \\\n",
       "290267  Vermont & Franklin 0 days 00:08:17          34.098       -118.30047   \n",
       "\n",
       "        end_latitude  end_longitude  distance     speed  week  \n",
       "290267      34.10578     -118.29194  1.032698  7.480307     1  "
      ]
     },
     "execution_count": 246,
     "metadata": {},
     "output_type": "execute_result"
    }
   ],
   "source": [
    "# show bikes with latest start time and earliest end time\n",
    "# indicates whether bikes are available constantly or not\n",
    "trips_df[(trips_df[\"bike_id\"] == bikes_df[\"start_time\"].idxmax())]"
   ]
  },
  {
   "cell_type": "code",
   "execution_count": 247,
   "metadata": {},
   "outputs": [
    {
     "data": {
      "text/html": [
       "<div>\n",
       "<style scoped>\n",
       "    .dataframe tbody tr th:only-of-type {\n",
       "        vertical-align: middle;\n",
       "    }\n",
       "\n",
       "    .dataframe tbody tr th {\n",
       "        vertical-align: top;\n",
       "    }\n",
       "\n",
       "    .dataframe thead th {\n",
       "        text-align: right;\n",
       "    }\n",
       "</style>\n",
       "<table border=\"1\" class=\"dataframe\">\n",
       "  <thead>\n",
       "    <tr style=\"text-align: right;\">\n",
       "      <th></th>\n",
       "      <th>start_time</th>\n",
       "      <th>end_time</th>\n",
       "      <th>start_station_id</th>\n",
       "      <th>end_station_id</th>\n",
       "      <th>bike_id</th>\n",
       "      <th>user_type</th>\n",
       "      <th>start_station_name</th>\n",
       "      <th>end_station_name</th>\n",
       "      <th>duration</th>\n",
       "      <th>start_latitude</th>\n",
       "      <th>start_longitude</th>\n",
       "      <th>end_latitude</th>\n",
       "      <th>end_longitude</th>\n",
       "      <th>distance</th>\n",
       "      <th>speed</th>\n",
       "      <th>week</th>\n",
       "    </tr>\n",
       "  </thead>\n",
       "  <tbody>\n",
       "    <tr>\n",
       "      <th>85</th>\n",
       "      <td>2019-01-01 11:07:00</td>\n",
       "      <td>2019-01-01 11:49:00</td>\n",
       "      <td>4210</td>\n",
       "      <td>4210</td>\n",
       "      <td>12043</td>\n",
       "      <td>Walk-up</td>\n",
       "      <td>Ocean Front Walk &amp; North Venice</td>\n",
       "      <td>Ocean Front Walk &amp; North Venice</td>\n",
       "      <td>0 days 00:42:00</td>\n",
       "      <td>33.98434</td>\n",
       "      <td>-118.47155</td>\n",
       "      <td>33.98434</td>\n",
       "      <td>-118.47155</td>\n",
       "      <td>0.0</td>\n",
       "      <td>0.0</td>\n",
       "      <td>1</td>\n",
       "    </tr>\n",
       "    <tr>\n",
       "      <th>144</th>\n",
       "      <td>2019-01-01 12:29:00</td>\n",
       "      <td>2019-01-01 12:52:00</td>\n",
       "      <td>4210</td>\n",
       "      <td>4210</td>\n",
       "      <td>12043</td>\n",
       "      <td>Walk-up</td>\n",
       "      <td>Ocean Front Walk &amp; North Venice</td>\n",
       "      <td>Ocean Front Walk &amp; North Venice</td>\n",
       "      <td>0 days 00:23:00</td>\n",
       "      <td>33.98434</td>\n",
       "      <td>-118.47155</td>\n",
       "      <td>33.98434</td>\n",
       "      <td>-118.47155</td>\n",
       "      <td>0.0</td>\n",
       "      <td>0.0</td>\n",
       "      <td>1</td>\n",
       "    </tr>\n",
       "  </tbody>\n",
       "</table>\n",
       "</div>"
      ],
      "text/plain": [
       "             start_time            end_time  start_station_id  end_station_id  \\\n",
       "85  2019-01-01 11:07:00 2019-01-01 11:49:00              4210            4210   \n",
       "144 2019-01-01 12:29:00 2019-01-01 12:52:00              4210            4210   \n",
       "\n",
       "    bike_id user_type               start_station_name  \\\n",
       "85    12043   Walk-up  Ocean Front Walk & North Venice   \n",
       "144   12043   Walk-up  Ocean Front Walk & North Venice   \n",
       "\n",
       "                    end_station_name        duration  start_latitude  \\\n",
       "85   Ocean Front Walk & North Venice 0 days 00:42:00        33.98434   \n",
       "144  Ocean Front Walk & North Venice 0 days 00:23:00        33.98434   \n",
       "\n",
       "     start_longitude  end_latitude  end_longitude  distance  speed  week  \n",
       "85        -118.47155      33.98434     -118.47155       0.0    0.0     1  \n",
       "144       -118.47155      33.98434     -118.47155       0.0    0.0     1  "
      ]
     },
     "execution_count": 247,
     "metadata": {},
     "output_type": "execute_result"
    }
   ],
   "source": [
    "trips_df[(trips_df[\"bike_id\"] == bikes_df[\"end_time\"].idxmin())]"
   ]
  },
  {
   "cell_type": "code",
   "execution_count": 248,
   "metadata": {},
   "outputs": [],
   "source": [
    "bikes_df[\"start_time_floored\"] = bikes_df[\"start_time\"].dt.floor(\"1H\")\n",
    "bikes_df[\"end_time_floored\"] = bikes_df[\"end_time\"].dt.floor(\"1H\") + pd.DateOffset(hours=1)\n",
    "\n",
    "bikes_used_after = (\n",
    "    bikes_df.groupby(\"start_time_floored\").size().to_frame(\"bikes_used_after\")\n",
    ")\n",
    "bikes_used_before = (\n",
    "    bikes_df.groupby(\"end_time_floored\").size().to_frame(\"bikes_used_before\")\n",
    ")\n",
    "\n",
    "bikes_used = pd.concat([bikes_used_before, bikes_used_after], axis=1)\n",
    "bikes_used = bikes_used.fillna(0)\n",
    "bikes_used['diff'] = bikes_used['bikes_used_after'] - bikes_used['bikes_used_before'] \n",
    "bikes_used['in_service_bikes'] = bikes_used['diff'].cumsum()\n"
   ]
  },
  {
   "cell_type": "code",
   "execution_count": 249,
   "metadata": {},
   "outputs": [
    {
     "data": {
      "text/plain": [
       "<AxesSubplot:xlabel='start_time_floored', ylabel='in_service_bikes'>"
      ]
     },
     "execution_count": 249,
     "metadata": {},
     "output_type": "execute_result"
    },
    {
     "data": {
      "image/png": "[encoded data removed]",
      "text/plain": [
       "<Figure size 432x288 with 1 Axes>"
      ]
     },
     "metadata": {
      "needs_background": "light"
     },
     "output_type": "display_data"
    }
   ],
   "source": [
    "bikes_used = bikes_used.reset_index().rename(columns={\"index\": \"start_time_floored\"})\n",
    "bikes_used.plot.scatter(x=\"start_time_floored\", y=\"in_service_bikes\")"
   ]
  },
  {
   "cell_type": "code",
   "execution_count": 250,
   "metadata": {},
   "outputs": [],
   "source": [
    "bikes_used['in_service_bikes_rolling'] = bikes_used.rolling('30d', center=True, on='start_time_floored')['in_service_bikes'].max()"
   ]
  },
  {
   "cell_type": "code",
   "execution_count": 251,
   "metadata": {},
   "outputs": [
    {
     "data": {
      "text/plain": [
       "<AxesSubplot:xlabel='start_time_floored', ylabel='in_service_bikes_rolling'>"
      ]
     },
     "execution_count": 251,
     "metadata": {},
     "output_type": "execute_result"
    },
    {
     "data": {
      "image/png": "[encoded data removed]",
      "text/plain": [
       "<Figure size 432x288 with 1 Axes>"
      ]
     },
     "metadata": {
      "needs_background": "light"
     },
     "output_type": "display_data"
    }
   ],
   "source": [
    "bikes_used.plot.scatter(x=\"start_time_floored\", y=\"in_service_bikes_rolling\")"
   ]
  },
  {
   "cell_type": "code",
   "execution_count": 252,
   "metadata": {},
   "outputs": [],
   "source": [
    "bikes_used = bikes_used.set_index(\"start_time_floored\")"
   ]
  },
  {
   "cell_type": "code",
   "execution_count": 253,
   "metadata": {},
   "outputs": [
    {
     "data": {
      "text/plain": [
       "start_time_floored\n",
       "2019-01-01 00:00:00    873.0\n",
       "2019-01-01 01:00:00    873.0\n",
       "2019-01-01 02:00:00    873.0\n",
       "2019-01-01 03:00:00    873.0\n",
       "2019-01-01 06:00:00    873.0\n",
       "                       ...  \n",
       "2020-01-01 17:00:00    890.0\n",
       "2020-01-02 01:00:00    883.0\n",
       "2020-01-02 13:00:00    872.0\n",
       "2020-01-02 18:00:00    861.0\n",
       "2020-01-03 16:00:00    816.0\n",
       "Name: in_service_bikes_rolling, Length: 2924, dtype: float64"
      ]
     },
     "execution_count": 253,
     "metadata": {},
     "output_type": "execute_result"
    }
   ],
   "source": [
    "bikes_used['in_service_bikes_rolling']"
   ]
  },
  {
   "cell_type": "code",
   "execution_count": 254,
   "metadata": {},
   "outputs": [
    {
     "data": {
      "text/html": [
       "<div>\n",
       "<style scoped>\n",
       "    .dataframe tbody tr th:only-of-type {\n",
       "        vertical-align: middle;\n",
       "    }\n",
       "\n",
       "    .dataframe tbody tr th {\n",
       "        vertical-align: top;\n",
       "    }\n",
       "\n",
       "    .dataframe thead th {\n",
       "        text-align: right;\n",
       "    }\n",
       "</style>\n",
       "<table border=\"1\" class=\"dataframe\">\n",
       "  <thead>\n",
       "    <tr style=\"text-align: right;\">\n",
       "      <th></th>\n",
       "      <th>starting_trips</th>\n",
       "      <th>ongoing_trips_prev</th>\n",
       "      <th>in_service_bikes_rolling</th>\n",
       "    </tr>\n",
       "  </thead>\n",
       "  <tbody>\n",
       "    <tr>\n",
       "      <th>2019-01-01 01:00:00</th>\n",
       "      <td>8.0</td>\n",
       "      <td>2.0</td>\n",
       "      <td>873.0</td>\n",
       "    </tr>\n",
       "    <tr>\n",
       "      <th>2019-01-01 02:00:00</th>\n",
       "      <td>11.0</td>\n",
       "      <td>4.0</td>\n",
       "      <td>873.0</td>\n",
       "    </tr>\n",
       "  </tbody>\n",
       "</table>\n",
       "</div>"
      ],
      "text/plain": [
       "                     starting_trips  ongoing_trips_prev  \\\n",
       "2019-01-01 01:00:00             8.0                 2.0   \n",
       "2019-01-01 02:00:00            11.0                 4.0   \n",
       "\n",
       "                     in_service_bikes_rolling  \n",
       "2019-01-01 01:00:00                     873.0  \n",
       "2019-01-01 02:00:00                     873.0  "
      ]
     },
     "execution_count": 254,
     "metadata": {},
     "output_type": "execute_result"
    }
   ],
   "source": [
    "trips_hourly['in_service_bikes_rolling'] = bikes_used['in_service_bikes_rolling'].asfreq('1H', method=\"bfill\")\n",
    "trips_hourly.head(2)"
   ]
  },
  {
   "cell_type": "code",
   "execution_count": 255,
   "metadata": {},
   "outputs": [
    {
     "data": {
      "text/html": [
       "<div>\n",
       "<style scoped>\n",
       "    .dataframe tbody tr th:only-of-type {\n",
       "        vertical-align: middle;\n",
       "    }\n",
       "\n",
       "    .dataframe tbody tr th {\n",
       "        vertical-align: top;\n",
       "    }\n",
       "\n",
       "    .dataframe thead th {\n",
       "        text-align: right;\n",
       "    }\n",
       "</style>\n",
       "<table border=\"1\" class=\"dataframe\">\n",
       "  <thead>\n",
       "    <tr style=\"text-align: right;\">\n",
       "      <th></th>\n",
       "      <th>starting_trips</th>\n",
       "      <th>ongoing_trips_prev</th>\n",
       "      <th>in_service_bikes_rolling</th>\n",
       "      <th>available_bikes</th>\n",
       "    </tr>\n",
       "  </thead>\n",
       "  <tbody>\n",
       "    <tr>\n",
       "      <th>2019-01-01 01:00:00</th>\n",
       "      <td>8.0</td>\n",
       "      <td>2.0</td>\n",
       "      <td>873.0</td>\n",
       "      <td>871.0</td>\n",
       "    </tr>\n",
       "    <tr>\n",
       "      <th>2019-01-01 02:00:00</th>\n",
       "      <td>11.0</td>\n",
       "      <td>4.0</td>\n",
       "      <td>873.0</td>\n",
       "      <td>869.0</td>\n",
       "    </tr>\n",
       "  </tbody>\n",
       "</table>\n",
       "</div>"
      ],
      "text/plain": [
       "                     starting_trips  ongoing_trips_prev  \\\n",
       "2019-01-01 01:00:00             8.0                 2.0   \n",
       "2019-01-01 02:00:00            11.0                 4.0   \n",
       "\n",
       "                     in_service_bikes_rolling  available_bikes  \n",
       "2019-01-01 01:00:00                     873.0            871.0  \n",
       "2019-01-01 02:00:00                     873.0            869.0  "
      ]
     },
     "execution_count": 255,
     "metadata": {},
     "output_type": "execute_result"
    }
   ],
   "source": [
    "trips_hourly[\"available_bikes\"] = (\n",
    "    trips_hourly[\"in_service_bikes_rolling\"] - trips_hourly[\"ongoing_trips_prev\"]\n",
    ")\n",
    "trips_hourly.head(2)"
   ]
  },
  {
   "cell_type": "code",
   "execution_count": 256,
   "metadata": {},
   "outputs": [
    {
     "data": {
      "text/html": [
       "<div>\n",
       "<style scoped>\n",
       "    .dataframe tbody tr th:only-of-type {\n",
       "        vertical-align: middle;\n",
       "    }\n",
       "\n",
       "    .dataframe tbody tr th {\n",
       "        vertical-align: top;\n",
       "    }\n",
       "\n",
       "    .dataframe thead th {\n",
       "        text-align: right;\n",
       "    }\n",
       "</style>\n",
       "<table border=\"1\" class=\"dataframe\">\n",
       "  <thead>\n",
       "    <tr style=\"text-align: right;\">\n",
       "      <th></th>\n",
       "      <th>starting_trips</th>\n",
       "      <th>ongoing_trips_prev</th>\n",
       "      <th>in_service_bikes_rolling</th>\n",
       "      <th>available_bikes</th>\n",
       "    </tr>\n",
       "  </thead>\n",
       "  <tbody>\n",
       "    <tr>\n",
       "      <th>count</th>\n",
       "      <td>8432.000000</td>\n",
       "      <td>8432.000000</td>\n",
       "      <td>8432.000000</td>\n",
       "      <td>8432.000000</td>\n",
       "    </tr>\n",
       "    <tr>\n",
       "      <th>mean</th>\n",
       "      <td>26.759843</td>\n",
       "      <td>10.846181</td>\n",
       "      <td>1273.419711</td>\n",
       "      <td>1262.573529</td>\n",
       "    </tr>\n",
       "    <tr>\n",
       "      <th>std</th>\n",
       "      <td>21.229878</td>\n",
       "      <td>10.954113</td>\n",
       "      <td>341.360424</td>\n",
       "      <td>340.364612</td>\n",
       "    </tr>\n",
       "    <tr>\n",
       "      <th>min</th>\n",
       "      <td>0.000000</td>\n",
       "      <td>0.000000</td>\n",
       "      <td>816.000000</td>\n",
       "      <td>815.000000</td>\n",
       "    </tr>\n",
       "    <tr>\n",
       "      <th>25%</th>\n",
       "      <td>7.000000</td>\n",
       "      <td>5.000000</td>\n",
       "      <td>993.000000</td>\n",
       "      <td>988.000000</td>\n",
       "    </tr>\n",
       "    <tr>\n",
       "      <th>50%</th>\n",
       "      <td>25.000000</td>\n",
       "      <td>9.000000</td>\n",
       "      <td>1160.000000</td>\n",
       "      <td>1151.000000</td>\n",
       "    </tr>\n",
       "    <tr>\n",
       "      <th>75%</th>\n",
       "      <td>41.000000</td>\n",
       "      <td>14.000000</td>\n",
       "      <td>1451.000000</td>\n",
       "      <td>1443.000000</td>\n",
       "    </tr>\n",
       "    <tr>\n",
       "      <th>max</th>\n",
       "      <td>281.000000</td>\n",
       "      <td>364.000000</td>\n",
       "      <td>1905.000000</td>\n",
       "      <td>1904.000000</td>\n",
       "    </tr>\n",
       "  </tbody>\n",
       "</table>\n",
       "</div>"
      ],
      "text/plain": [
       "       starting_trips  ongoing_trips_prev  in_service_bikes_rolling  \\\n",
       "count     8432.000000         8432.000000               8432.000000   \n",
       "mean        26.759843           10.846181               1273.419711   \n",
       "std         21.229878           10.954113                341.360424   \n",
       "min          0.000000            0.000000                816.000000   \n",
       "25%          7.000000            5.000000                993.000000   \n",
       "50%         25.000000            9.000000               1160.000000   \n",
       "75%         41.000000           14.000000               1451.000000   \n",
       "max        281.000000          364.000000               1905.000000   \n",
       "\n",
       "       available_bikes  \n",
       "count      8432.000000  \n",
       "mean       1262.573529  \n",
       "std         340.364612  \n",
       "min         815.000000  \n",
       "25%         988.000000  \n",
       "50%        1151.000000  \n",
       "75%        1443.000000  \n",
       "max        1904.000000  "
      ]
     },
     "execution_count": 256,
     "metadata": {},
     "output_type": "execute_result"
    }
   ],
   "source": [
    "trips_hourly.describe()"
   ]
  },
  {
   "cell_type": "markdown",
   "metadata": {},
   "source": [
    "### Add weather features"
   ]
  },
  {
   "cell_type": "code",
   "execution_count": 257,
   "metadata": {},
   "outputs": [],
   "source": [
    "weather_df = pd.read_pickle('../00_data/weather.pkl')"
   ]
  },
  {
   "cell_type": "code",
   "execution_count": 258,
   "metadata": {},
   "outputs": [
    {
     "data": {
      "text/plain": [
       "max_temp    0\n",
       "min_temp    0\n",
       "precip      0\n",
       "dtype: int64"
      ]
     },
     "execution_count": 258,
     "metadata": {},
     "output_type": "execute_result"
    }
   ],
   "source": [
    "weather_df = weather_df.asfreq(\"1H\", method=\"ffill\")\n",
    "weather_df.isna().sum()"
   ]
  },
  {
   "cell_type": "code",
   "execution_count": 259,
   "metadata": {},
   "outputs": [
    {
     "data": {
      "text/html": [
       "<div>\n",
       "<style scoped>\n",
       "    .dataframe tbody tr th:only-of-type {\n",
       "        vertical-align: middle;\n",
       "    }\n",
       "\n",
       "    .dataframe tbody tr th {\n",
       "        vertical-align: top;\n",
       "    }\n",
       "\n",
       "    .dataframe thead th {\n",
       "        text-align: right;\n",
       "    }\n",
       "</style>\n",
       "<table border=\"1\" class=\"dataframe\">\n",
       "  <thead>\n",
       "    <tr style=\"text-align: right;\">\n",
       "      <th></th>\n",
       "      <th>starting_trips</th>\n",
       "      <th>ongoing_trips_prev</th>\n",
       "      <th>in_service_bikes_rolling</th>\n",
       "      <th>available_bikes</th>\n",
       "      <th>max_temp</th>\n",
       "      <th>min_temp</th>\n",
       "      <th>precip</th>\n",
       "    </tr>\n",
       "  </thead>\n",
       "  <tbody>\n",
       "    <tr>\n",
       "      <th>2019-01-01 01:00:00</th>\n",
       "      <td>8.0</td>\n",
       "      <td>2.0</td>\n",
       "      <td>873.0</td>\n",
       "      <td>871.0</td>\n",
       "      <td>15.6</td>\n",
       "      <td>15.6</td>\n",
       "      <td>0.0</td>\n",
       "    </tr>\n",
       "    <tr>\n",
       "      <th>2019-01-01 02:00:00</th>\n",
       "      <td>11.0</td>\n",
       "      <td>4.0</td>\n",
       "      <td>873.0</td>\n",
       "      <td>869.0</td>\n",
       "      <td>15.0</td>\n",
       "      <td>15.0</td>\n",
       "      <td>0.0</td>\n",
       "    </tr>\n",
       "  </tbody>\n",
       "</table>\n",
       "</div>"
      ],
      "text/plain": [
       "                     starting_trips  ongoing_trips_prev  \\\n",
       "2019-01-01 01:00:00             8.0                 2.0   \n",
       "2019-01-01 02:00:00            11.0                 4.0   \n",
       "\n",
       "                     in_service_bikes_rolling  available_bikes  max_temp  \\\n",
       "2019-01-01 01:00:00                     873.0            871.0      15.6   \n",
       "2019-01-01 02:00:00                     873.0            869.0      15.0   \n",
       "\n",
       "                     min_temp  precip  \n",
       "2019-01-01 01:00:00      15.6     0.0  \n",
       "2019-01-01 02:00:00      15.0     0.0  "
      ]
     },
     "execution_count": 259,
     "metadata": {},
     "output_type": "execute_result"
    }
   ],
   "source": [
    "trips_hourly['max_temp'] = weather_df['max_temp']\n",
    "trips_hourly['min_temp'] = weather_df['min_temp']\n",
    "trips_hourly['precip'] = weather_df['precip']\n",
    "\n",
    "trips_hourly.head(2)"
   ]
  },
  {
   "cell_type": "markdown",
   "metadata": {},
   "source": [
    "### Create time related features"
   ]
  },
  {
   "cell_type": "code",
   "execution_count": 260,
   "metadata": {},
   "outputs": [],
   "source": [
    "# create time related features\n",
    "trips_hourly['hour'] = trips_hourly.index.hour\n",
    "trips_hourly['day_of_week'] = trips_hourly.index.day_of_week\n",
    "trips_hourly['month'] = trips_hourly.index.month\n",
    "trips_hourly['day_of_year'] = trips_hourly.index.day_of_year\n",
    "trips_hourly['week'] = trips_hourly.index.isocalendar().week\n",
    "trips_hourly['is_weekday'] = trips_hourly['day_of_week'] < 5\n",
    "trips_hourly['date'] = trips_hourly.index.date"
   ]
  },
  {
   "cell_type": "code",
   "execution_count": 261,
   "metadata": {},
   "outputs": [
    {
     "data": {
      "text/plain": [
       "Index(['starting_trips', 'ongoing_trips_prev', 'in_service_bikes_rolling',\n",
       "       'available_bikes', 'max_temp', 'min_temp', 'precip', 'hour',\n",
       "       'day_of_week', 'month', 'day_of_year', 'week', 'is_weekday', 'date',\n",
       "       'hour_0', 'hour_1', 'hour_2', 'hour_3', 'hour_4', 'hour_5', 'hour_6',\n",
       "       'hour_7', 'hour_8', 'hour_9', 'hour_10', 'hour_11', 'hour_12',\n",
       "       'hour_13', 'hour_14', 'hour_15', 'hour_16', 'hour_17', 'hour_18',\n",
       "       'hour_19', 'hour_20', 'hour_21', 'hour_22', 'hour_23', 'day_of_week_0',\n",
       "       'day_of_week_1', 'day_of_week_2', 'day_of_week_3', 'day_of_week_4',\n",
       "       'day_of_week_5', 'day_of_week_6', 'month_1', 'month_2', 'month_3',\n",
       "       'month_4', 'month_5', 'month_6', 'month_7', 'month_8', 'month_9',\n",
       "       'month_10', 'month_11', 'month_12'],\n",
       "      dtype='object')"
      ]
     },
     "execution_count": 261,
     "metadata": {},
     "output_type": "execute_result"
    }
   ],
   "source": [
    "# one hot encoding of categorical features\n",
    "# hour encoding\n",
    "hour_dummies = pd.get_dummies(trips_hourly[\"hour\"], prefix=\"hour\")\n",
    "trips_hourly[list(hour_dummies.columns)] = hour_dummies.astype(bool)\n",
    "\n",
    "day_of_week_dummies = pd.get_dummies(trips_hourly[\"day_of_week\"], prefix=\"day_of_week\")\n",
    "trips_hourly[list(day_of_week_dummies.columns)] = day_of_week_dummies.astype(bool)\n",
    "\n",
    "month_dummies = pd.get_dummies(trips_hourly[\"month\"], prefix=\"month\")\n",
    "trips_hourly[list(month_dummies.columns)] = month_dummies.astype(bool)\n",
    "\n",
    "trips_hourly.columns"
   ]
  },
  {
   "cell_type": "markdown",
   "metadata": {},
   "source": [
    "### Create is holiday feature"
   ]
  },
  {
   "cell_type": "code",
   "execution_count": 262,
   "metadata": {},
   "outputs": [],
   "source": [
    "holidays_df = pd.read_pickle('../00_data/holidays.pkl')"
   ]
  },
  {
   "cell_type": "code",
   "execution_count": 263,
   "metadata": {},
   "outputs": [
    {
     "name": "stdout",
     "output_type": "stream",
     "text": [
      "object\n",
      "datetime64[ns]\n"
     ]
    }
   ],
   "source": [
    "print(trips_hourly['date'].dtype)\n",
    "print(holidays_df['date'].dtype)"
   ]
  },
  {
   "cell_type": "code",
   "execution_count": 264,
   "metadata": {},
   "outputs": [],
   "source": [
    "trips_hourly['date'] = trips_hourly['date'].astype('datetime64[ns]')\n",
    "trips_hourly = trips_hourly.merge(holidays_df, on='date', how='left')"
   ]
  },
  {
   "cell_type": "code",
   "execution_count": 265,
   "metadata": {},
   "outputs": [
    {
     "data": {
      "text/plain": [
       "Index(['starting_trips', 'ongoing_trips_prev', 'in_service_bikes_rolling',\n",
       "       'available_bikes', 'max_temp', 'min_temp', 'precip', 'hour',\n",
       "       'day_of_week', 'month', 'day_of_year', 'week', 'is_weekday', 'hour_0',\n",
       "       'hour_1', 'hour_2', 'hour_3', 'hour_4', 'hour_5', 'hour_6', 'hour_7',\n",
       "       'hour_8', 'hour_9', 'hour_10', 'hour_11', 'hour_12', 'hour_13',\n",
       "       'hour_14', 'hour_15', 'hour_16', 'hour_17', 'hour_18', 'hour_19',\n",
       "       'hour_20', 'hour_21', 'hour_22', 'hour_23', 'day_of_week_0',\n",
       "       'day_of_week_1', 'day_of_week_2', 'day_of_week_3', 'day_of_week_4',\n",
       "       'day_of_week_5', 'day_of_week_6', 'month_1', 'month_2', 'month_3',\n",
       "       'month_4', 'month_5', 'month_6', 'month_7', 'month_8', 'month_9',\n",
       "       'month_10', 'month_11', 'month_12', 'is_holiday'],\n",
       "      dtype='object')"
      ]
     },
     "execution_count": 265,
     "metadata": {},
     "output_type": "execute_result"
    }
   ],
   "source": [
    "trips_hourly['is_holiday'] = trips_hourly['holiday_name'].notna()\n",
    "trips_hourly = trips_hourly.drop(columns=['holiday_name', 'date'])\n",
    "trips_hourly.columns"
   ]
  },
  {
   "cell_type": "markdown",
   "metadata": {},
   "source": [
    "### Create number of open stations feature"
   ]
  },
  {
   "cell_type": "code",
   "execution_count": null,
   "metadata": {},
   "outputs": [],
   "source": []
  },
  {
   "cell_type": "code",
   "execution_count": 266,
   "metadata": {},
   "outputs": [],
   "source": [
    "trips_hourly.to_pickle('../00_data/trips_hourly_engineered.pkl')"
   ]
  }
 ],
 "metadata": {
  "interpreter": {
   "hash": "8b60088a9b347fcb01b673d89e7da3a71c8c9fcb762a42ef04d5b6405c108bf0"
  },
  "kernelspec": {
   "display_name": "Python 3.9.7 64-bit ('aa_magma': conda)",
   "language": "python",
   "name": "python3"
  },
  "language_info": {
   "codemirror_mode": {
    "name": "ipython",
    "version": 3
   },
   "file_extension": ".py",
   "mimetype": "text/x-python",
   "name": "python",
   "nbconvert_exporter": "python",
   "pygments_lexer": "ipython3",
   "version": "3.9.7"
  },
  "orig_nbformat": 4
 },
 "nbformat": 4,
 "nbformat_minor": 2
}
