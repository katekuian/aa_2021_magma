{
 "cells": [
  {
   "cell_type": "markdown",
   "metadata": {},
   "source": [
    "## Feature Engineering\n",
    "In this notebook, we will combine different data collected until now into a single dataframe and additionally calculate some new features. This data will be then be used as features for predictive analysis."
   ]
  },
  {
   "cell_type": "code",
   "execution_count": 1,
   "metadata": {},
   "outputs": [],
   "source": [
    "import pandas as pd"
   ]
  },
  {
   "cell_type": "code",
   "execution_count": 2,
   "metadata": {},
   "outputs": [],
   "source": [
    "trips_hourly = pd.read_pickle('../00_data/trips_hourly.pkl')\n",
    "trips_df = pd.read_pickle('../00_data/trips.pkl')"
   ]
  },
  {
   "cell_type": "markdown",
   "metadata": {},
   "source": [
    "### Create ```available_bikes``` feature\n",
    "We assume that one of the features influencing the demand is the number of bikes available for rental. If the user opens the app and sees only a few or even no bikes in the stations near them, they will most likely choose an alternative mode of transport.\n",
    "\n",
    "In order to calculate ```available_bikes``` we first have to determine how many bikes there are in the fleet and how many bikes are being currently rented. We will start with the second one, which we defined as the cumulative sum of the difference between started and ended trips. We then use the number of ongoing trips from the previous hour as an input feature."
   ]
  },
  {
   "cell_type": "code",
   "execution_count": 3,
   "metadata": {},
   "outputs": [],
   "source": [
    "trips_hourly['trips_diff'] = trips_hourly['starting_trips'] - trips_hourly['ending_trips']\n",
    "trips_hourly['ongoing_trips'] = trips_hourly['trips_diff'].cumsum()\n",
    "\n",
    "# save values from the previous hour in an additional column\n",
    "trips_hourly['ongoing_trips_prev'] = trips_hourly['ongoing_trips'].shift(1)\n",
    "\n",
    "# keep only the columns of interest; here starting trips represents demand\n",
    "trips_hourly = trips_hourly[['starting_trips', 'ongoing_trips_prev']]"
   ]
  },
  {
   "cell_type": "code",
   "execution_count": 4,
   "metadata": {},
   "outputs": [
    {
     "data": {
      "text/html": [
       "<div>\n",
       "<style scoped>\n",
       "    .dataframe tbody tr th:only-of-type {\n",
       "        vertical-align: middle;\n",
       "    }\n",
       "\n",
       "    .dataframe tbody tr th {\n",
       "        vertical-align: top;\n",
       "    }\n",
       "\n",
       "    .dataframe thead th {\n",
       "        text-align: right;\n",
       "    }\n",
       "</style>\n",
       "<table border=\"1\" class=\"dataframe\">\n",
       "  <thead>\n",
       "    <tr style=\"text-align: right;\">\n",
       "      <th></th>\n",
       "      <th>starting_trips</th>\n",
       "      <th>ongoing_trips_prev</th>\n",
       "    </tr>\n",
       "  </thead>\n",
       "  <tbody>\n",
       "    <tr>\n",
       "      <th>2019-01-01 00:00:00</th>\n",
       "      <td>14.0</td>\n",
       "      <td>NaN</td>\n",
       "    </tr>\n",
       "    <tr>\n",
       "      <th>2019-01-01 01:00:00</th>\n",
       "      <td>8.0</td>\n",
       "      <td>2.0</td>\n",
       "    </tr>\n",
       "    <tr>\n",
       "      <th>2019-01-01 02:00:00</th>\n",
       "      <td>11.0</td>\n",
       "      <td>4.0</td>\n",
       "    </tr>\n",
       "    <tr>\n",
       "      <th>2019-01-01 03:00:00</th>\n",
       "      <td>2.0</td>\n",
       "      <td>3.0</td>\n",
       "    </tr>\n",
       "  </tbody>\n",
       "</table>\n",
       "</div>"
      ],
      "text/plain": [
       "                     starting_trips  ongoing_trips_prev\n",
       "2019-01-01 00:00:00            14.0                 NaN\n",
       "2019-01-01 01:00:00             8.0                 2.0\n",
       "2019-01-01 02:00:00            11.0                 4.0\n",
       "2019-01-01 03:00:00             2.0                 3.0"
      ]
     },
     "execution_count": 4,
     "metadata": {},
     "output_type": "execute_result"
    }
   ],
   "source": [
    "trips_hourly.head(4)"
   ]
  },
  {
   "cell_type": "code",
   "execution_count": 5,
   "metadata": {},
   "outputs": [],
   "source": [
    "# effectively drops first observation as ongoing trips prev cannot be calculated due to the absence of data\n",
    "trips_hourly = trips_hourly.dropna()"
   ]
  },
  {
   "cell_type": "markdown",
   "metadata": {},
   "source": [
    "Next, we aim to determine the number of bikes in the fleet. The easiest way would be to sum the number of unique bike ids. However, this calculation would most likely overestimate the actual value. We assume that bikes regularly break and have to be repaired, and therefore are unavailable to customers. Also, Bikeshare Metro might want to control the fleet size to respond to changes in demand during different seasons. Therefore, we decided to calculate the number of unique bike ids for each week. Hereby, we assume that each bike, that is not broken and is placed correctly is used at least once a week."
   ]
  },
  {
   "cell_type": "code",
   "execution_count": 6,
   "metadata": {},
   "outputs": [
    {
     "name": "stdout",
     "output_type": "stream",
     "text": [
      "There are in total 3891 unique bike ids in the whole dataset.\n",
      "On average there are 756.6730769230769 bikes available.\n"
     ]
    }
   ],
   "source": [
    "trips_df['week'] = trips_df['start_time'].dt.isocalendar().week\n",
    "\n",
    "bike_ids_week_grouped = (\n",
    "    trips_df.groupby([\"week\"])['bike_id']\n",
    "    .nunique()\n",
    "    .to_frame(\"bike_ids_week\")\n",
    ")\n",
    "print(f\"There are in total {trips_df['bike_id'].nunique()} unique bike ids in the whole dataset.\")\n",
    "print(f\"On average there are {bike_ids_week_grouped['bike_ids_week'].mean()} bikes available.\")"
   ]
  },
  {
   "cell_type": "markdown",
   "metadata": {},
   "source": [
    "As we see, there is a substantial difference between the two numbers. In order to identify which one is more realistic, we will do some further analysis."
   ]
  },
  {
   "cell_type": "code",
   "execution_count": 7,
   "metadata": {},
   "outputs": [
    {
     "data": {
      "text/html": [
       "<div>\n",
       "<style scoped>\n",
       "    .dataframe tbody tr th:only-of-type {\n",
       "        vertical-align: middle;\n",
       "    }\n",
       "\n",
       "    .dataframe tbody tr th {\n",
       "        vertical-align: top;\n",
       "    }\n",
       "\n",
       "    .dataframe thead th {\n",
       "        text-align: right;\n",
       "    }\n",
       "</style>\n",
       "<table border=\"1\" class=\"dataframe\">\n",
       "  <thead>\n",
       "    <tr style=\"text-align: right;\">\n",
       "      <th></th>\n",
       "      <th>first_trip_start_time</th>\n",
       "      <th>last_trip_end_time</th>\n",
       "      <th>number_of_trips</th>\n",
       "    </tr>\n",
       "    <tr>\n",
       "      <th>bike_id</th>\n",
       "      <th></th>\n",
       "      <th></th>\n",
       "      <th></th>\n",
       "    </tr>\n",
       "  </thead>\n",
       "  <tbody>\n",
       "    <tr>\n",
       "      <th>5715</th>\n",
       "      <td>2019-04-17 23:39:00</td>\n",
       "      <td>2019-12-17 21:57:12</td>\n",
       "      <td>68</td>\n",
       "    </tr>\n",
       "    <tr>\n",
       "      <th>5716</th>\n",
       "      <td>2019-04-13 15:58:00</td>\n",
       "      <td>2019-06-07 17:13:00</td>\n",
       "      <td>32</td>\n",
       "    </tr>\n",
       "  </tbody>\n",
       "</table>\n",
       "</div>"
      ],
      "text/plain": [
       "        first_trip_start_time  last_trip_end_time  number_of_trips\n",
       "bike_id                                                           \n",
       "5715      2019-04-17 23:39:00 2019-12-17 21:57:12               68\n",
       "5716      2019-04-13 15:58:00 2019-06-07 17:13:00               32"
      ]
     },
     "execution_count": 7,
     "metadata": {},
     "output_type": "execute_result"
    }
   ],
   "source": [
    "# create dataframe that depicts the first time and the last time each bicycle was used (in our defined timeframe)\n",
    "# and the number of trips made with it\n",
    "bikes_df = trips_df.groupby(\"bike_id\").agg(\n",
    "    {\n",
    "\t\t\"start_time\": \"min\",\n",
    "\t\t\"end_time\": \"max\",\n",
    "\t\t\"bike_id\": \"count\"\n",
    "\t}\n",
    ")\n",
    "bikes_df = bikes_df.rename(columns={\n",
    "    \"start_time\" : \"first_trip_start_time\",\n",
    "    \"end_time\" : \"last_trip_end_time\",\n",
    "    \"bike_id\" : \"number_of_trips\"\n",
    "})\n",
    "bikes_df.head(2)"
   ]
  },
  {
   "cell_type": "code",
   "execution_count": 8,
   "metadata": {},
   "outputs": [
    {
     "data": {
      "text/html": [
       "<div>\n",
       "<style scoped>\n",
       "    .dataframe tbody tr th:only-of-type {\n",
       "        vertical-align: middle;\n",
       "    }\n",
       "\n",
       "    .dataframe tbody tr th {\n",
       "        vertical-align: top;\n",
       "    }\n",
       "\n",
       "    .dataframe thead th {\n",
       "        text-align: right;\n",
       "    }\n",
       "</style>\n",
       "<table border=\"1\" class=\"dataframe\">\n",
       "  <thead>\n",
       "    <tr style=\"text-align: right;\">\n",
       "      <th></th>\n",
       "      <th>start_time</th>\n",
       "      <th>end_time</th>\n",
       "      <th>start_station_id</th>\n",
       "      <th>end_station_id</th>\n",
       "      <th>bike_id</th>\n",
       "      <th>user_type</th>\n",
       "      <th>start_station_name</th>\n",
       "      <th>end_station_name</th>\n",
       "      <th>duration</th>\n",
       "      <th>start_latitude</th>\n",
       "      <th>...</th>\n",
       "      <th>public_transport_poi_start</th>\n",
       "      <th>education_poi_start</th>\n",
       "      <th>arts_and_culture_poi_start</th>\n",
       "      <th>sports_poi_start</th>\n",
       "      <th>sustenance_poi_end</th>\n",
       "      <th>public_transport_poi_end</th>\n",
       "      <th>education_poi_end</th>\n",
       "      <th>arts_and_culture_poi_end</th>\n",
       "      <th>sports_poi_end</th>\n",
       "      <th>week</th>\n",
       "    </tr>\n",
       "  </thead>\n",
       "  <tbody>\n",
       "    <tr>\n",
       "      <th>222393</th>\n",
       "      <td>2019-12-31 20:50:25</td>\n",
       "      <td>2019-12-31 20:58:42</td>\n",
       "      <td>4442</td>\n",
       "      <td>4436</td>\n",
       "      <td>6130</td>\n",
       "      <td>Annual Pass</td>\n",
       "      <td>Normandie &amp; Sunset</td>\n",
       "      <td>Vermont &amp; Franklin</td>\n",
       "      <td>0 days 00:08:17</td>\n",
       "      <td>34.098</td>\n",
       "      <td>...</td>\n",
       "      <td>20</td>\n",
       "      <td>1</td>\n",
       "      <td>0</td>\n",
       "      <td>0</td>\n",
       "      <td>51</td>\n",
       "      <td>15</td>\n",
       "      <td>1</td>\n",
       "      <td>2</td>\n",
       "      <td>0</td>\n",
       "      <td>1</td>\n",
       "    </tr>\n",
       "  </tbody>\n",
       "</table>\n",
       "<p>1 rows × 28 columns</p>\n",
       "</div>"
      ],
      "text/plain": [
       "                start_time            end_time  start_station_id  \\\n",
       "222393 2019-12-31 20:50:25 2019-12-31 20:58:42              4442   \n",
       "\n",
       "        end_station_id bike_id    user_type  start_station_name  \\\n",
       "222393            4436    6130  Annual Pass  Normandie & Sunset   \n",
       "\n",
       "          end_station_name        duration  start_latitude  ...  \\\n",
       "222393  Vermont & Franklin 0 days 00:08:17          34.098  ...   \n",
       "\n",
       "        public_transport_poi_start  education_poi_start  \\\n",
       "222393                          20                    1   \n",
       "\n",
       "        arts_and_culture_poi_start  sports_poi_start  sustenance_poi_end  \\\n",
       "222393                           0                 0                  51   \n",
       "\n",
       "       public_transport_poi_end education_poi_end  arts_and_culture_poi_end  \\\n",
       "222393                       15                 1                         2   \n",
       "\n",
       "        sports_poi_end  week  \n",
       "222393               0     1  \n",
       "\n",
       "[1 rows x 28 columns]"
      ]
     },
     "execution_count": 8,
     "metadata": {},
     "output_type": "execute_result"
    }
   ],
   "source": [
    "# show bike(s) with the latest start time\n",
    "trips_df[(trips_df[\"bike_id\"] == bikes_df[\"first_trip_start_time\"].idxmax())]"
   ]
  },
  {
   "cell_type": "code",
   "execution_count": 9,
   "metadata": {},
   "outputs": [
    {
     "data": {
      "text/html": [
       "<div>\n",
       "<style scoped>\n",
       "    .dataframe tbody tr th:only-of-type {\n",
       "        vertical-align: middle;\n",
       "    }\n",
       "\n",
       "    .dataframe tbody tr th {\n",
       "        vertical-align: top;\n",
       "    }\n",
       "\n",
       "    .dataframe thead th {\n",
       "        text-align: right;\n",
       "    }\n",
       "</style>\n",
       "<table border=\"1\" class=\"dataframe\">\n",
       "  <thead>\n",
       "    <tr style=\"text-align: right;\">\n",
       "      <th></th>\n",
       "      <th>start_time</th>\n",
       "      <th>end_time</th>\n",
       "      <th>start_station_id</th>\n",
       "      <th>end_station_id</th>\n",
       "      <th>bike_id</th>\n",
       "      <th>user_type</th>\n",
       "      <th>start_station_name</th>\n",
       "      <th>end_station_name</th>\n",
       "      <th>duration</th>\n",
       "      <th>start_latitude</th>\n",
       "      <th>...</th>\n",
       "      <th>public_transport_poi_start</th>\n",
       "      <th>education_poi_start</th>\n",
       "      <th>arts_and_culture_poi_start</th>\n",
       "      <th>sports_poi_start</th>\n",
       "      <th>sustenance_poi_end</th>\n",
       "      <th>public_transport_poi_end</th>\n",
       "      <th>education_poi_end</th>\n",
       "      <th>arts_and_culture_poi_end</th>\n",
       "      <th>sports_poi_end</th>\n",
       "      <th>week</th>\n",
       "    </tr>\n",
       "  </thead>\n",
       "  <tbody>\n",
       "    <tr>\n",
       "      <th>218461</th>\n",
       "      <td>2019-01-01 11:07:00</td>\n",
       "      <td>2019-01-01 11:49:00</td>\n",
       "      <td>4210</td>\n",
       "      <td>4210</td>\n",
       "      <td>12043</td>\n",
       "      <td>Walk-up</td>\n",
       "      <td>Ocean Front Walk &amp; North Venice</td>\n",
       "      <td>Ocean Front Walk &amp; North Venice</td>\n",
       "      <td>0 days 00:42:00</td>\n",
       "      <td>33.98434</td>\n",
       "      <td>...</td>\n",
       "      <td>5</td>\n",
       "      <td>0</td>\n",
       "      <td>0</td>\n",
       "      <td>0</td>\n",
       "      <td>13</td>\n",
       "      <td>5</td>\n",
       "      <td>0</td>\n",
       "      <td>0</td>\n",
       "      <td>0</td>\n",
       "      <td>1</td>\n",
       "    </tr>\n",
       "    <tr>\n",
       "      <th>218469</th>\n",
       "      <td>2019-01-01 12:29:00</td>\n",
       "      <td>2019-01-01 12:52:00</td>\n",
       "      <td>4210</td>\n",
       "      <td>4210</td>\n",
       "      <td>12043</td>\n",
       "      <td>Walk-up</td>\n",
       "      <td>Ocean Front Walk &amp; North Venice</td>\n",
       "      <td>Ocean Front Walk &amp; North Venice</td>\n",
       "      <td>0 days 00:23:00</td>\n",
       "      <td>33.98434</td>\n",
       "      <td>...</td>\n",
       "      <td>5</td>\n",
       "      <td>0</td>\n",
       "      <td>0</td>\n",
       "      <td>0</td>\n",
       "      <td>13</td>\n",
       "      <td>5</td>\n",
       "      <td>0</td>\n",
       "      <td>0</td>\n",
       "      <td>0</td>\n",
       "      <td>1</td>\n",
       "    </tr>\n",
       "  </tbody>\n",
       "</table>\n",
       "<p>2 rows × 28 columns</p>\n",
       "</div>"
      ],
      "text/plain": [
       "                start_time            end_time  start_station_id  \\\n",
       "218461 2019-01-01 11:07:00 2019-01-01 11:49:00              4210   \n",
       "218469 2019-01-01 12:29:00 2019-01-01 12:52:00              4210   \n",
       "\n",
       "        end_station_id bike_id user_type               start_station_name  \\\n",
       "218461            4210   12043   Walk-up  Ocean Front Walk & North Venice   \n",
       "218469            4210   12043   Walk-up  Ocean Front Walk & North Venice   \n",
       "\n",
       "                       end_station_name        duration  start_latitude  ...  \\\n",
       "218461  Ocean Front Walk & North Venice 0 days 00:42:00        33.98434  ...   \n",
       "218469  Ocean Front Walk & North Venice 0 days 00:23:00        33.98434  ...   \n",
       "\n",
       "        public_transport_poi_start  education_poi_start  \\\n",
       "218461                           5                    0   \n",
       "218469                           5                    0   \n",
       "\n",
       "        arts_and_culture_poi_start  sports_poi_start  sustenance_poi_end  \\\n",
       "218461                           0                 0                  13   \n",
       "218469                           0                 0                  13   \n",
       "\n",
       "       public_transport_poi_end education_poi_end  arts_and_culture_poi_end  \\\n",
       "218461                        5                 0                         0   \n",
       "218469                        5                 0                         0   \n",
       "\n",
       "        sports_poi_end  week  \n",
       "218461               0     1  \n",
       "218469               0     1  \n",
       "\n",
       "[2 rows x 28 columns]"
      ]
     },
     "execution_count": 9,
     "metadata": {},
     "output_type": "execute_result"
    }
   ],
   "source": [
    "# show bike(s) with the earliest end time\n",
    "trips_df[(trips_df[\"bike_id\"] == bikes_df[\"last_trip_end_time\"].idxmin())]"
   ]
  },
  {
   "cell_type": "markdown",
   "metadata": {},
   "source": [
    "There is a bike that was used on 31.12.2019 (the last day of our timeframe) for the first time and two bikes that were used on 01.01.2019 (the first day of our timeframe) for the last time. Clearly, none of these three bikes were available throughout the whole year. This proves that considering some sort of average is more accurate than a bold sum of all unique bike ids.\n",
    "\n",
    "We already have time when each bike was used for the first and last time. Now we will aggregate the dataframe by these hours and calculate how many bikes were used after and before certain hours. Afterwards, we will calculate the cumulative sum of the difference between ```bikes_used_after``` and ```bikes_used_before``` for each hour. Thus, we receive the new column ```in_service_bikes```."
   ]
  },
  {
   "cell_type": "code",
   "execution_count": 10,
   "metadata": {},
   "outputs": [],
   "source": [
    "bikes_df[\"start_time_floored\"] = bikes_df[\"first_trip_start_time\"].dt.floor(\"1H\")\n",
    "bikes_df[\"end_time_floored\"] = bikes_df[\"last_trip_end_time\"].dt.floor(\"1H\") + pd.DateOffset(hours=1)\n",
    "\n",
    "bikes_used_after = (\n",
    "    bikes_df.groupby(\"start_time_floored\").size().to_frame(\"bikes_used_after\")\n",
    ")\n",
    "bikes_used_before = (\n",
    "    bikes_df.groupby(\"end_time_floored\").size().to_frame(\"bikes_used_before\")\n",
    ")\n",
    "\n",
    "bikes_used = pd.concat([bikes_used_before, bikes_used_after], axis=1)\n",
    "bikes_used = bikes_used.fillna(0)\n",
    "bikes_used['diff'] = bikes_used['bikes_used_after'] - bikes_used['bikes_used_before'] \n",
    "bikes_used['in_service_bikes'] = bikes_used['diff'].cumsum()\n"
   ]
  },
  {
   "cell_type": "code",
   "execution_count": 11,
   "metadata": {},
   "outputs": [
    {
     "data": {
      "text/plain": [
       "<AxesSubplot:xlabel='start_time_floored', ylabel='in_service_bikes'>"
      ]
     },
     "execution_count": 11,
     "metadata": {},
     "output_type": "execute_result"
    },
    {
     "data": {
      "image/png": "[encoded data removed]",
      "text/plain": [
       "<Figure size 432x288 with 1 Axes>"
      ]
     },
     "metadata": {
      "needs_background": "light"
     },
     "output_type": "display_data"
    }
   ],
   "source": [
    "# plot 'in_service_bikes' over time\n",
    "bikes_used = bikes_used.reset_index().rename(columns={\"index\": \"start_time_floored\"})\n",
    "bikes_used.plot.scatter(x=\"start_time_floored\", y=\"in_service_bikes\")"
   ]
  },
  {
   "cell_type": "code",
   "execution_count": 12,
   "metadata": {},
   "outputs": [],
   "source": [
    "# to smooth out the edges, especially at the beginning and the end of the dataset, we introduce in_service_bikes_rolling\n",
    "# rolling function provides us with a maximum value of 'in_service_bikes' column during a 30 days window\n",
    "bikes_used['in_service_bikes_rolling'] = bikes_used.rolling('30d', center=True, on='start_time_floored')['in_service_bikes'].max()"
   ]
  },
  {
   "cell_type": "code",
   "execution_count": 13,
   "metadata": {},
   "outputs": [
    {
     "data": {
      "text/plain": [
       "<AxesSubplot:xlabel='start_time_floored', ylabel='in_service_bikes_rolling'>"
      ]
     },
     "execution_count": 13,
     "metadata": {},
     "output_type": "execute_result"
    },
    {
     "data": {
      "image/png": "[encoded data removed]",
      "text/plain": [
       "<Figure size 432x288 with 1 Axes>"
      ]
     },
     "metadata": {
      "needs_background": "light"
     },
     "output_type": "display_data"
    }
   ],
   "source": [
    "# plot 'in_service_bikes_rolling' over time\n",
    "bikes_used.plot.scatter(x=\"start_time_floored\", y=\"in_service_bikes_rolling\")"
   ]
  },
  {
   "cell_type": "code",
   "execution_count": 14,
   "metadata": {},
   "outputs": [],
   "source": [
    "bikes_used = bikes_used.set_index(\"start_time_floored\")"
   ]
  },
  {
   "cell_type": "code",
   "execution_count": 15,
   "metadata": {},
   "outputs": [
    {
     "data": {
      "text/html": [
       "<div>\n",
       "<style scoped>\n",
       "    .dataframe tbody tr th:only-of-type {\n",
       "        vertical-align: middle;\n",
       "    }\n",
       "\n",
       "    .dataframe tbody tr th {\n",
       "        vertical-align: top;\n",
       "    }\n",
       "\n",
       "    .dataframe thead th {\n",
       "        text-align: right;\n",
       "    }\n",
       "</style>\n",
       "<table border=\"1\" class=\"dataframe\">\n",
       "  <thead>\n",
       "    <tr style=\"text-align: right;\">\n",
       "      <th></th>\n",
       "      <th>starting_trips</th>\n",
       "      <th>ongoing_trips_prev</th>\n",
       "      <th>in_service_bikes_rolling</th>\n",
       "    </tr>\n",
       "  </thead>\n",
       "  <tbody>\n",
       "    <tr>\n",
       "      <th>2019-01-01 01:00:00</th>\n",
       "      <td>8.0</td>\n",
       "      <td>2.0</td>\n",
       "      <td>872.0</td>\n",
       "    </tr>\n",
       "    <tr>\n",
       "      <th>2019-01-01 02:00:00</th>\n",
       "      <td>11.0</td>\n",
       "      <td>4.0</td>\n",
       "      <td>872.0</td>\n",
       "    </tr>\n",
       "  </tbody>\n",
       "</table>\n",
       "</div>"
      ],
      "text/plain": [
       "                     starting_trips  ongoing_trips_prev  \\\n",
       "2019-01-01 01:00:00             8.0                 2.0   \n",
       "2019-01-01 02:00:00            11.0                 4.0   \n",
       "\n",
       "                     in_service_bikes_rolling  \n",
       "2019-01-01 01:00:00                     872.0  \n",
       "2019-01-01 02:00:00                     872.0  "
      ]
     },
     "execution_count": 15,
     "metadata": {},
     "output_type": "execute_result"
    }
   ],
   "source": [
    "# fill null values\n",
    "trips_hourly['in_service_bikes_rolling'] = bikes_used['in_service_bikes_rolling'].asfreq('1H', method=\"bfill\")\n",
    "trips_hourly.head(2)"
   ]
  },
  {
   "cell_type": "code",
   "execution_count": 16,
   "metadata": {},
   "outputs": [
    {
     "data": {
      "text/html": [
       "<div>\n",
       "<style scoped>\n",
       "    .dataframe tbody tr th:only-of-type {\n",
       "        vertical-align: middle;\n",
       "    }\n",
       "\n",
       "    .dataframe tbody tr th {\n",
       "        vertical-align: top;\n",
       "    }\n",
       "\n",
       "    .dataframe thead th {\n",
       "        text-align: right;\n",
       "    }\n",
       "</style>\n",
       "<table border=\"1\" class=\"dataframe\">\n",
       "  <thead>\n",
       "    <tr style=\"text-align: right;\">\n",
       "      <th></th>\n",
       "      <th>starting_trips</th>\n",
       "      <th>ongoing_trips_prev</th>\n",
       "      <th>in_service_bikes_rolling</th>\n",
       "      <th>available_bikes</th>\n",
       "    </tr>\n",
       "  </thead>\n",
       "  <tbody>\n",
       "    <tr>\n",
       "      <th>2019-01-01 01:00:00</th>\n",
       "      <td>8.0</td>\n",
       "      <td>2.0</td>\n",
       "      <td>872.0</td>\n",
       "      <td>870.0</td>\n",
       "    </tr>\n",
       "    <tr>\n",
       "      <th>2019-01-01 02:00:00</th>\n",
       "      <td>11.0</td>\n",
       "      <td>4.0</td>\n",
       "      <td>872.0</td>\n",
       "      <td>868.0</td>\n",
       "    </tr>\n",
       "  </tbody>\n",
       "</table>\n",
       "</div>"
      ],
      "text/plain": [
       "                     starting_trips  ongoing_trips_prev  \\\n",
       "2019-01-01 01:00:00             8.0                 2.0   \n",
       "2019-01-01 02:00:00            11.0                 4.0   \n",
       "\n",
       "                     in_service_bikes_rolling  available_bikes  \n",
       "2019-01-01 01:00:00                     872.0            870.0  \n",
       "2019-01-01 02:00:00                     872.0            868.0  "
      ]
     },
     "execution_count": 16,
     "metadata": {},
     "output_type": "execute_result"
    }
   ],
   "source": [
    "# compute the 'available_bikes'\n",
    "trips_hourly[\"available_bikes\"] = (\n",
    "    trips_hourly[\"in_service_bikes_rolling\"] - trips_hourly[\"ongoing_trips_prev\"]\n",
    ")\n",
    "trips_hourly.head(2)"
   ]
  },
  {
   "cell_type": "code",
   "execution_count": 17,
   "metadata": {},
   "outputs": [
    {
     "data": {
      "text/html": [
       "<div>\n",
       "<style scoped>\n",
       "    .dataframe tbody tr th:only-of-type {\n",
       "        vertical-align: middle;\n",
       "    }\n",
       "\n",
       "    .dataframe tbody tr th {\n",
       "        vertical-align: top;\n",
       "    }\n",
       "\n",
       "    .dataframe thead th {\n",
       "        text-align: right;\n",
       "    }\n",
       "</style>\n",
       "<table border=\"1\" class=\"dataframe\">\n",
       "  <thead>\n",
       "    <tr style=\"text-align: right;\">\n",
       "      <th></th>\n",
       "      <th>starting_trips</th>\n",
       "      <th>ongoing_trips_prev</th>\n",
       "      <th>in_service_bikes_rolling</th>\n",
       "      <th>available_bikes</th>\n",
       "    </tr>\n",
       "  </thead>\n",
       "  <tbody>\n",
       "    <tr>\n",
       "      <th>count</th>\n",
       "      <td>8418.000000</td>\n",
       "      <td>8418.000000</td>\n",
       "      <td>8418.000000</td>\n",
       "      <td>8418.000000</td>\n",
       "    </tr>\n",
       "    <tr>\n",
       "      <th>mean</th>\n",
       "      <td>26.761701</td>\n",
       "      <td>9.212758</td>\n",
       "      <td>1273.285222</td>\n",
       "      <td>1264.072464</td>\n",
       "    </tr>\n",
       "    <tr>\n",
       "      <th>std</th>\n",
       "      <td>21.185417</td>\n",
       "      <td>10.625903</td>\n",
       "      <td>341.309420</td>\n",
       "      <td>340.691950</td>\n",
       "    </tr>\n",
       "    <tr>\n",
       "      <th>min</th>\n",
       "      <td>0.000000</td>\n",
       "      <td>0.000000</td>\n",
       "      <td>872.000000</td>\n",
       "      <td>825.000000</td>\n",
       "    </tr>\n",
       "    <tr>\n",
       "      <th>25%</th>\n",
       "      <td>7.000000</td>\n",
       "      <td>4.000000</td>\n",
       "      <td>992.000000</td>\n",
       "      <td>988.000000</td>\n",
       "    </tr>\n",
       "    <tr>\n",
       "      <th>50%</th>\n",
       "      <td>25.000000</td>\n",
       "      <td>8.000000</td>\n",
       "      <td>1159.000000</td>\n",
       "      <td>1151.000000</td>\n",
       "    </tr>\n",
       "    <tr>\n",
       "      <th>75%</th>\n",
       "      <td>41.000000</td>\n",
       "      <td>12.000000</td>\n",
       "      <td>1448.000000</td>\n",
       "      <td>1442.750000</td>\n",
       "    </tr>\n",
       "    <tr>\n",
       "      <th>max</th>\n",
       "      <td>279.000000</td>\n",
       "      <td>355.000000</td>\n",
       "      <td>1905.000000</td>\n",
       "      <td>1905.000000</td>\n",
       "    </tr>\n",
       "  </tbody>\n",
       "</table>\n",
       "</div>"
      ],
      "text/plain": [
       "       starting_trips  ongoing_trips_prev  in_service_bikes_rolling  \\\n",
       "count     8418.000000         8418.000000               8418.000000   \n",
       "mean        26.761701            9.212758               1273.285222   \n",
       "std         21.185417           10.625903                341.309420   \n",
       "min          0.000000            0.000000                872.000000   \n",
       "25%          7.000000            4.000000                992.000000   \n",
       "50%         25.000000            8.000000               1159.000000   \n",
       "75%         41.000000           12.000000               1448.000000   \n",
       "max        279.000000          355.000000               1905.000000   \n",
       "\n",
       "       available_bikes  \n",
       "count      8418.000000  \n",
       "mean       1264.072464  \n",
       "std         340.691950  \n",
       "min         825.000000  \n",
       "25%         988.000000  \n",
       "50%        1151.000000  \n",
       "75%        1442.750000  \n",
       "max        1905.000000  "
      ]
     },
     "execution_count": 17,
     "metadata": {},
     "output_type": "execute_result"
    }
   ],
   "source": [
    "trips_hourly.describe()"
   ]
  },
  {
   "cell_type": "markdown",
   "metadata": {},
   "source": [
    "### Add weather features\n",
    "Copy precipitation, min and max temperature values from weather dataset."
   ]
  },
  {
   "cell_type": "code",
   "execution_count": 18,
   "metadata": {},
   "outputs": [],
   "source": [
    "weather_df = pd.read_pickle('../00_data/weather.pkl')"
   ]
  },
  {
   "cell_type": "code",
   "execution_count": 19,
   "metadata": {},
   "outputs": [],
   "source": [
    "trips_hourly['max_temp'] = weather_df['max_temp']\n",
    "trips_hourly['min_temp'] = weather_df['min_temp']\n",
    "trips_hourly['precip'] = weather_df['precip']"
   ]
  },
  {
   "cell_type": "code",
   "execution_count": 20,
   "metadata": {},
   "outputs": [
    {
     "data": {
      "text/html": [
       "<div>\n",
       "<style scoped>\n",
       "    .dataframe tbody tr th:only-of-type {\n",
       "        vertical-align: middle;\n",
       "    }\n",
       "\n",
       "    .dataframe tbody tr th {\n",
       "        vertical-align: top;\n",
       "    }\n",
       "\n",
       "    .dataframe thead th {\n",
       "        text-align: right;\n",
       "    }\n",
       "</style>\n",
       "<table border=\"1\" class=\"dataframe\">\n",
       "  <thead>\n",
       "    <tr style=\"text-align: right;\">\n",
       "      <th></th>\n",
       "      <th>starting_trips</th>\n",
       "      <th>ongoing_trips_prev</th>\n",
       "      <th>in_service_bikes_rolling</th>\n",
       "      <th>available_bikes</th>\n",
       "      <th>max_temp</th>\n",
       "      <th>min_temp</th>\n",
       "      <th>precip</th>\n",
       "    </tr>\n",
       "  </thead>\n",
       "  <tbody>\n",
       "    <tr>\n",
       "      <th>2019-01-01 01:00:00</th>\n",
       "      <td>8.0</td>\n",
       "      <td>2.0</td>\n",
       "      <td>872.0</td>\n",
       "      <td>870.0</td>\n",
       "      <td>15.6</td>\n",
       "      <td>15.6</td>\n",
       "      <td>0.0</td>\n",
       "    </tr>\n",
       "    <tr>\n",
       "      <th>2019-01-01 02:00:00</th>\n",
       "      <td>11.0</td>\n",
       "      <td>4.0</td>\n",
       "      <td>872.0</td>\n",
       "      <td>868.0</td>\n",
       "      <td>15.0</td>\n",
       "      <td>15.0</td>\n",
       "      <td>0.0</td>\n",
       "    </tr>\n",
       "  </tbody>\n",
       "</table>\n",
       "</div>"
      ],
      "text/plain": [
       "                     starting_trips  ongoing_trips_prev  \\\n",
       "2019-01-01 01:00:00             8.0                 2.0   \n",
       "2019-01-01 02:00:00            11.0                 4.0   \n",
       "\n",
       "                     in_service_bikes_rolling  available_bikes  max_temp  \\\n",
       "2019-01-01 01:00:00                     872.0            870.0      15.6   \n",
       "2019-01-01 02:00:00                     872.0            868.0      15.0   \n",
       "\n",
       "                     min_temp  precip  \n",
       "2019-01-01 01:00:00      15.6     0.0  \n",
       "2019-01-01 02:00:00      15.0     0.0  "
      ]
     },
     "execution_count": 20,
     "metadata": {},
     "output_type": "execute_result"
    }
   ],
   "source": [
    "trips_hourly.head(2)"
   ]
  },
  {
   "cell_type": "code",
   "execution_count": 21,
   "metadata": {},
   "outputs": [],
   "source": [
    "trips_hourly = trips_hourly.dropna()"
   ]
  },
  {
   "cell_type": "markdown",
   "metadata": {},
   "source": [
    "### Create time related features"
   ]
  },
  {
   "cell_type": "code",
   "execution_count": 22,
   "metadata": {},
   "outputs": [],
   "source": [
    "trips_hourly['hour'] = trips_hourly.index.hour\n",
    "trips_hourly['day_of_week'] = trips_hourly.index.day_of_week\n",
    "trips_hourly['month'] = trips_hourly.index.month\n",
    "trips_hourly['day_of_year'] = trips_hourly.index.day_of_year\n",
    "trips_hourly['week'] = trips_hourly.index.isocalendar().week.astype('int64')\n",
    "trips_hourly['is_weekday'] = trips_hourly['day_of_week'] < 5\n",
    "trips_hourly['date'] = trips_hourly.index.date.astype('datetime64[ns]')"
   ]
  },
  {
   "cell_type": "code",
   "execution_count": 23,
   "metadata": {},
   "outputs": [
    {
     "data": {
      "text/html": [
       "<div>\n",
       "<style scoped>\n",
       "    .dataframe tbody tr th:only-of-type {\n",
       "        vertical-align: middle;\n",
       "    }\n",
       "\n",
       "    .dataframe tbody tr th {\n",
       "        vertical-align: top;\n",
       "    }\n",
       "\n",
       "    .dataframe thead th {\n",
       "        text-align: right;\n",
       "    }\n",
       "</style>\n",
       "<table border=\"1\" class=\"dataframe\">\n",
       "  <thead>\n",
       "    <tr style=\"text-align: right;\">\n",
       "      <th></th>\n",
       "      <th>starting_trips</th>\n",
       "      <th>ongoing_trips_prev</th>\n",
       "      <th>in_service_bikes_rolling</th>\n",
       "      <th>available_bikes</th>\n",
       "      <th>max_temp</th>\n",
       "      <th>min_temp</th>\n",
       "      <th>precip</th>\n",
       "      <th>hour</th>\n",
       "      <th>day_of_week</th>\n",
       "      <th>month</th>\n",
       "      <th>day_of_year</th>\n",
       "      <th>week</th>\n",
       "      <th>is_weekday</th>\n",
       "      <th>date</th>\n",
       "    </tr>\n",
       "  </thead>\n",
       "  <tbody>\n",
       "    <tr>\n",
       "      <th>2019-01-01 01:00:00</th>\n",
       "      <td>8.0</td>\n",
       "      <td>2.0</td>\n",
       "      <td>872.0</td>\n",
       "      <td>870.0</td>\n",
       "      <td>15.6</td>\n",
       "      <td>15.6</td>\n",
       "      <td>0.0</td>\n",
       "      <td>1</td>\n",
       "      <td>1</td>\n",
       "      <td>1</td>\n",
       "      <td>1</td>\n",
       "      <td>1</td>\n",
       "      <td>True</td>\n",
       "      <td>2019-01-01</td>\n",
       "    </tr>\n",
       "    <tr>\n",
       "      <th>2019-01-01 02:00:00</th>\n",
       "      <td>11.0</td>\n",
       "      <td>4.0</td>\n",
       "      <td>872.0</td>\n",
       "      <td>868.0</td>\n",
       "      <td>15.0</td>\n",
       "      <td>15.0</td>\n",
       "      <td>0.0</td>\n",
       "      <td>2</td>\n",
       "      <td>1</td>\n",
       "      <td>1</td>\n",
       "      <td>1</td>\n",
       "      <td>1</td>\n",
       "      <td>True</td>\n",
       "      <td>2019-01-01</td>\n",
       "    </tr>\n",
       "  </tbody>\n",
       "</table>\n",
       "</div>"
      ],
      "text/plain": [
       "                     starting_trips  ongoing_trips_prev  \\\n",
       "2019-01-01 01:00:00             8.0                 2.0   \n",
       "2019-01-01 02:00:00            11.0                 4.0   \n",
       "\n",
       "                     in_service_bikes_rolling  available_bikes  max_temp  \\\n",
       "2019-01-01 01:00:00                     872.0            870.0      15.6   \n",
       "2019-01-01 02:00:00                     872.0            868.0      15.0   \n",
       "\n",
       "                     min_temp  precip  hour  day_of_week  month  day_of_year  \\\n",
       "2019-01-01 01:00:00      15.6     0.0     1            1      1            1   \n",
       "2019-01-01 02:00:00      15.0     0.0     2            1      1            1   \n",
       "\n",
       "                     week  is_weekday       date  \n",
       "2019-01-01 01:00:00     1        True 2019-01-01  \n",
       "2019-01-01 02:00:00     1        True 2019-01-01  "
      ]
     },
     "execution_count": 23,
     "metadata": {},
     "output_type": "execute_result"
    }
   ],
   "source": [
    "trips_hourly.head(2)"
   ]
  },
  {
   "cell_type": "markdown",
   "metadata": {},
   "source": [
    "### Create is holiday feature\n",
    "We create a feature 'is_holiday', which is true when there is an entry on the same day in the holidays' dataset, and false otherwise."
   ]
  },
  {
   "cell_type": "code",
   "execution_count": 24,
   "metadata": {},
   "outputs": [],
   "source": [
    "holidays_df = pd.read_pickle('../00_data/holidays.pkl')"
   ]
  },
  {
   "cell_type": "code",
   "execution_count": 25,
   "metadata": {},
   "outputs": [],
   "source": [
    "trips_hourly = trips_hourly.reset_index().merge(holidays_df, on='date', how='left').set_index('index')"
   ]
  },
  {
   "cell_type": "code",
   "execution_count": 26,
   "metadata": {},
   "outputs": [
    {
     "data": {
      "text/plain": [
       "Index(['starting_trips', 'ongoing_trips_prev', 'in_service_bikes_rolling',\n",
       "       'available_bikes', 'max_temp', 'min_temp', 'precip', 'hour',\n",
       "       'day_of_week', 'month', 'day_of_year', 'week', 'is_weekday',\n",
       "       'is_holiday'],\n",
       "      dtype='object')"
      ]
     },
     "execution_count": 26,
     "metadata": {},
     "output_type": "execute_result"
    }
   ],
   "source": [
    "trips_hourly['is_holiday'] = trips_hourly['holiday_name'].notna()\n",
    "trips_hourly = trips_hourly.drop(columns=['holiday_name', 'date'])\n",
    "trips_hourly.columns"
   ]
  },
  {
   "cell_type": "code",
   "execution_count": 27,
   "metadata": {},
   "outputs": [],
   "source": [
    "trips_hourly.to_pickle('../00_data/trips_hourly_engineered.pkl')"
   ]
  }
 ],
 "metadata": {
  "interpreter": {
   "hash": "8b60088a9b347fcb01b673d89e7da3a71c8c9fcb762a42ef04d5b6405c108bf0"
  },
  "kernelspec": {
   "display_name": "Python 3.9.7 64-bit ('aa_magma': conda)",
   "language": "python",
   "name": "python3"
  },
  "language_info": {
   "codemirror_mode": {
    "name": "ipython",
    "version": 3
   },
   "file_extension": ".py",
   "mimetype": "text/x-python",
   "name": "python",
   "nbconvert_exporter": "python",
   "pygments_lexer": "ipython3",
   "version": "3.9.7"
  },
  "orig_nbformat": 4
 },
 "nbformat": 4,
 "nbformat_minor": 2
}
