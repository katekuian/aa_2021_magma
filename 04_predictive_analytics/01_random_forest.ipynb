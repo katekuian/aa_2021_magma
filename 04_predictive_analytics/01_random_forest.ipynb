{
 "cells": [
  {
   "cell_type": "code",
   "execution_count": 75,
   "metadata": {},
   "outputs": [],
   "source": [
    "import pandas as pd\n",
    "from sklearn.ensemble import RandomForestRegressor\n",
    "from sklearn.model_selection import train_test_split, GridSearchCV\n",
    "from sklearn.metrics import mean_squared_error, mean_absolute_error"
   ]
  },
  {
   "cell_type": "code",
   "execution_count": 76,
   "metadata": {},
   "outputs": [],
   "source": [
    "trips_df = pd.read_pickle('../00_data/trips_hourly_selected.pkl')"
   ]
  },
  {
   "cell_type": "code",
   "execution_count": 77,
   "metadata": {},
   "outputs": [],
   "source": [
    "X = trips_df.drop(['starting_trips'], axis=1)\n",
    "y = trips_df['starting_trips']"
   ]
  },
  {
   "cell_type": "code",
   "execution_count": 78,
   "metadata": {},
   "outputs": [],
   "source": [
    "# perform train test split\n",
    "X_train, X_test, y_train, y_test = train_test_split(X, y, test_size=0.2, random_state=4711)"
   ]
  },
  {
   "cell_type": "markdown",
   "metadata": {},
   "source": [
    "#### Hyperparameter Grid Search\n",
    "##### `max_features`\n",
    "`max_features` is the number of features to consider when looking for the best\n",
    "split during a tree's growth.  \n",
    "\n",
    "##### `min_samples_leaf`\n",
    "`min_samples_leaf` is the minimum number of samples required to be at a leaf\n",
    "node. If a leaf has less samples than this, the corresponding split will be\n",
    "removed.  \n",
    "\n",
    "##### `min_samples_split`\n",
    "`min_samples_split` is the minimum number of samples required to split a leaf\n",
    "node. If a node has less samples than this, it is automatically a leaf node.  \n",
    "\n",
    "##### `max_depth`\n",
    "`max_depth` is the maximum depth of a tree.  \n",
    "\n",
    "##### `max_leaf_nodes`\n",
    "`max_leaf_nodes` is the maximum number of leaf nodes. As soon as a tree reaches\n",
    "this number, it is not expanded further.  \n",
    "\n",
    "We will not use `n_estimators` in the grid search, because we expect that model\n",
    "performance simply improves with more trees. Including that parameter in a grid\n",
    "search would simply yield the highest value. Therefore we will fix it to 100.  "
   ]
  },
  {
   "cell_type": "code",
   "execution_count": 79,
   "metadata": {},
   "outputs": [],
   "source": [
    "estimator = RandomForestRegressor(n_estimators=100, bootstrap=True, random_state=4711)\n",
    "param_grid = {\n",
    "\t'max_features': ['auto', 'sqrt', 'log2'],\n",
    "\t'min_samples_leaf': [1, 2, 4, 8],\n",
    "\t'min_samples_split': [2, 4, 8],\n",
    "\t'max_depth': [None, 10, 50, 100],\n",
    "\t'max_leaf_nodes': [None, 10, 50, 100],\n",
    "}"
   ]
  },
  {
   "cell_type": "code",
   "execution_count": 80,
   "metadata": {},
   "outputs": [
    {
     "name": "stdout",
     "output_type": "stream",
     "text": [
      "Fitting 3 folds for each of 576 candidates, totalling 1728 fits\n"
     ]
    },
    {
     "data": {
      "text/plain": [
       "GridSearchCV(cv=3, estimator=RandomForestRegressor(random_state=4711),\n",
       "             n_jobs=-1,\n",
       "             param_grid={'max_depth': [None, 10, 50, 100],\n",
       "                         'max_features': ['auto', 'sqrt', 'log2'],\n",
       "                         'max_leaf_nodes': [None, 10, 50, 100],\n",
       "                         'min_samples_leaf': [1, 2, 4, 8],\n",
       "                         'min_samples_split': [2, 4, 8]},\n",
       "             scoring='neg_mean_squared_error', verbose=1)"
      ]
     },
     "execution_count": 80,
     "metadata": {},
     "output_type": "execute_result"
    }
   ],
   "source": [
    "model = GridSearchCV(\n",
    "    estimator, param_grid, cv=3, scoring=\"neg_mean_squared_error\", n_jobs=-1 , verbose=1\n",
    ")\n",
    "model.fit(X_train, y_train)\n"
   ]
  },
  {
   "cell_type": "code",
   "execution_count": 81,
   "metadata": {},
   "outputs": [
    {
     "data": {
      "text/plain": [
       "{'max_depth': None,\n",
       " 'max_features': 'auto',\n",
       " 'max_leaf_nodes': None,\n",
       " 'min_samples_leaf': 2,\n",
       " 'min_samples_split': 8}"
      ]
     },
     "execution_count": 81,
     "metadata": {},
     "output_type": "execute_result"
    }
   ],
   "source": [
    "model.best_params_"
   ]
  },
  {
   "cell_type": "markdown",
   "metadata": {},
   "source": [
    "As we can see when looking at `max_depth`, `max_leaf_nodes` and\n",
    "`min_samples_leaf`, the hyperparameter search yielded the parameters that are\n",
    "the least \"constraining\". We think that these parameters mainly have two purposes:\n",
    "increase fitting speed and decrease overfitting. As we already used a random\n",
    "forest to reduce overfitting, the grid search \"set\" these parameter to be the\n",
    "least constraining.  \n",
    "The only exception here is `min_samples_leaf`, which is set to 2, although the\n",
    "minimum value for it is 1.  \n",
    "`max_features` is set to the square root of the number of features, which is\n",
    "the default and most common value for it.\n"
   ]
  },
  {
   "cell_type": "code",
   "execution_count": 82,
   "metadata": {},
   "outputs": [],
   "source": [
    "best_model = model.best_estimator_"
   ]
  },
  {
   "cell_type": "code",
   "execution_count": 83,
   "metadata": {},
   "outputs": [
    {
     "name": "stdout",
     "output_type": "stream",
     "text": [
      "MSE: 76.18\n",
      "MAE: 5.71\n"
     ]
    }
   ],
   "source": [
    "# evaluate the model\n",
    "y_pred = best_model.predict(X_test)\n",
    "\n",
    "mse = mean_squared_error(y_test, y_pred)\n",
    "mae = mean_absolute_error(y_test, y_pred)\n",
    "\n",
    "print(f\"MSE: {mse:.2f}\")\n",
    "print(f\"MAE: {mae:.2f}\")"
   ]
  }
 ],
 "metadata": {
  "interpreter": {
   "hash": "8b60088a9b347fcb01b673d89e7da3a71c8c9fcb762a42ef04d5b6405c108bf0"
  },
  "kernelspec": {
   "display_name": "Python 3.9.7 64-bit ('aa_magma': conda)",
   "language": "python",
   "name": "python3"
  },
  "language_info": {
   "codemirror_mode": {
    "name": "ipython",
    "version": 3
   },
   "file_extension": ".py",
   "mimetype": "text/x-python",
   "name": "python",
   "nbconvert_exporter": "python",
   "pygments_lexer": "ipython3",
   "version": "3.9.7"
  },
  "orig_nbformat": 4
 },
 "nbformat": 4,
 "nbformat_minor": 2
}
