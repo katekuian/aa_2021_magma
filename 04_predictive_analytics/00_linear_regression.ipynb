{
 "cells": [
  {
   "cell_type": "code",
   "execution_count": 23,
   "metadata": {},
   "outputs": [],
   "source": [
    "import pandas as pd\n",
    "from sklearn.linear_model import LinearRegression\n",
    "from sklearn.model_selection import train_test_split\n",
    "from sklearn.gaussian_process.kernels import RBF\n",
    "from sklearn.metrics import mean_squared_error, mean_absolute_error, r2_score\n",
    "from sklearn.preprocessing import StandardScaler\n"
   ]
  },
  {
   "cell_type": "markdown",
   "metadata": {},
   "source": [
    "## Linear Regression\n",
    "In this notebook we create a linear prediction model."
   ]
  },
  {
   "cell_type": "code",
   "execution_count": 31,
   "metadata": {},
   "outputs": [],
   "source": [
    "trips_df = pd.read_pickle('../00_data/trips_hourly_selected.pkl')"
   ]
  },
  {
   "cell_type": "markdown",
   "metadata": {},
   "source": [
    "First we create a dataframe encompassing our selected paramenters."
   ]
  },
  {
   "cell_type": "code",
   "execution_count": 32,
   "metadata": {},
   "outputs": [
    {
     "name": "stdout",
     "output_type": "stream",
     "text": [
      "<class 'pandas.core.frame.DataFrame'>\n",
      "DatetimeIndex: 7977 entries, 2019-01-01 01:00:00 to 2019-12-31 23:00:00\n",
      "Data columns (total 6 columns):\n",
      " #   Column           Non-Null Count  Dtype  \n",
      "---  ------           --------------  -----  \n",
      " 0   demand           7977 non-null   float64\n",
      " 1   min_temp         7977 non-null   float64\n",
      " 2   available_bikes  7977 non-null   float64\n",
      " 3   hour             7977 non-null   int64  \n",
      " 4   month            7977 non-null   int64  \n",
      " 5   is_holiday       7977 non-null   bool   \n",
      "dtypes: bool(1), float64(3), int64(2)\n",
      "memory usage: 381.7 KB\n"
     ]
    }
   ],
   "source": [
    "MulReg = pd.DataFrame()\n",
    "MulReg[\"demand\"] = trips_df[\"starting_trips\"]\n",
    "MulReg[\"min_temp\"] = trips_df[\"min_temp\"]\n",
    "MulReg[\"available_bikes\"] = trips_df[\"available_bikes\"]\n",
    "MulReg[\"hour\"] = trips_df[\"hour\"]\n",
    "MulReg[\"month\"] = trips_df[\"month\"]\n",
    "MulReg[\"is_holiday\"] = trips_df[\"is_holiday\"]\n",
    "MulReg.info()\n"
   ]
  },
  {
   "cell_type": "markdown",
   "metadata": {},
   "source": [
    "We split the dataframe in X and y and standardize the parameters in X. We also standardize the data thus ensuring they have the same mean (0) and standard deviation (1)."
   ]
  },
  {
   "cell_type": "code",
   "execution_count": 34,
   "metadata": {},
   "outputs": [],
   "source": [
    "X = MulReg[[\"min_temp\",\"available_bikes\",\"hour\",\"month\",\"is_holiday\",]]\n",
    "X_std = StandardScaler().fit_transform(X)\n",
    "y = MulReg[\"demand\"]"
   ]
  },
  {
   "cell_type": "markdown",
   "metadata": {},
   "source": [
    "We make a train test split with a testsize of 30%."
   ]
  },
  {
   "cell_type": "code",
   "execution_count": 35,
   "metadata": {},
   "outputs": [],
   "source": [
    "X_train, X_test, y_train, y_test = train_test_split(\n",
    "    X_std, y, test_size=0.3, random_state=0\n",
    ")\n"
   ]
  },
  {
   "cell_type": "markdown",
   "metadata": {},
   "source": [
    "## Training the model"
   ]
  },
  {
   "cell_type": "code",
   "execution_count": 36,
   "metadata": {},
   "outputs": [],
   "source": [
    "lin_mod_mul = LinearRegression()\n",
    "lin_mod_mul.fit(X_train, y_train)\n",
    "y_pred = lin_mod_mul.predict(X_test)\n",
    "y_true_2 = y_test\n"
   ]
  },
  {
   "cell_type": "markdown",
   "metadata": {},
   "source": [
    "Here we print the coefficients for the model."
   ]
  },
  {
   "cell_type": "code",
   "execution_count": 37,
   "metadata": {},
   "outputs": [
    {
     "name": "stdout",
     "output_type": "stream",
     "text": [
      "The Coefficients for our multiple linear regression model are: \n",
      "\n",
      "min_temp        =    -4.578909084473554 \n",
      "available_bikes =   4.21231363158025 \n",
      "hour            =    9.302884716591885 \n",
      "month           =    2.9930031911936323 \n",
      "is_holiday      =    -1.1950362852277219 \n",
      "The Intercept is: 26.813398176070617\n"
     ]
    }
   ],
   "source": [
    "print(\n",
    "    \"The Coefficients for our multiple linear regression model are:\",\n",
    "    \"\\n\" \"\\n\" \"min_temp        =   \",\n",
    "    lin_mod_mul.coef_[0],\n",
    "    \"\\n\" \"available_bikes =  \",\n",
    "    lin_mod_mul.coef_[1],\n",
    "    \"\\n\" \"hour            =   \",\n",
    "    lin_mod_mul.coef_[2],\n",
    "    \"\\n\" \"month           =   \",\n",
    "    lin_mod_mul.coef_[3],\n",
    "    \"\\n\" \"is_holiday      =   \",\n",
    "    lin_mod_mul.coef_[4],\n",
    "    \"\\n\" \"The Intercept is:\",\n",
    "    lin_mod_mul.intercept_,\n",
    ")\n"
   ]
  },
  {
   "cell_type": "markdown",
   "metadata": {},
   "source": [
    "## Evaluating the testmetrics"
   ]
  },
  {
   "cell_type": "code",
   "execution_count": 38,
   "metadata": {},
   "outputs": [
    {
     "name": "stdout",
     "output_type": "stream",
     "text": [
      "MAE: 14.779343682249632\n",
      "MSE: 366.7337845239947\n",
      "R^2: 0.20686247016334214\n"
     ]
    }
   ],
   "source": [
    "print(\"MAE:\", mean_absolute_error(y_true_2, y_pred))\n",
    "print(\"MSE:\", mean_squared_error(y_true_2, y_pred))\n",
    "print(\"R^2:\", r2_score(y_true_2, y_pred))"
   ]
  }
 ],
 "metadata": {
  "interpreter": {
   "hash": "1941f329dd3f9600ec40c0b6c46f405fe17aa396e43af8e4f84469bd5e1ebab2"
  },
  "kernelspec": {
   "display_name": "Python 3.9.7 64-bit ('aaMagma': conda)",
   "language": "python",
   "name": "python3"
  },
  "language_info": {
   "codemirror_mode": {
    "name": "ipython",
    "version": 3
   },
   "file_extension": ".py",
   "mimetype": "text/x-python",
   "name": "python",
   "nbconvert_exporter": "python",
   "pygments_lexer": "ipython3",
   "version": "3.9.7"
  },
  "orig_nbformat": 4
 },
 "nbformat": 4,
 "nbformat_minor": 2
}
