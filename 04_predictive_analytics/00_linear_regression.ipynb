{
 "cells": [
  {
   "cell_type": "markdown",
   "metadata": {},
   "source": [
    "## Linear Regression\n",
    "In this notebook we create a linear prediction model. Linear regression is the\n",
    "simplest form of a predictive model.  \n",
    "We will use it as a baseline to compare the performance of other models. If other\n",
    "models do not perform significantly better, the linear regression is favorable,\n",
    "as it can train way faster than other models and is relatively easy to understand\n",
    "and interpret."
   ]
  },
  {
   "cell_type": "code",
   "execution_count": 1,
   "metadata": {},
   "outputs": [],
   "source": [
    "import pandas as pd\n",
    "from sklearn.linear_model import LinearRegression\n",
    "from sklearn.model_selection import train_test_split\n",
    "from sklearn.gaussian_process.kernels import RBF\n",
    "from sklearn.metrics import mean_squared_error, mean_absolute_error, r2_score\n",
    "from sklearn.preprocessing import StandardScaler\n",
    "import sys, os\n",
    "sys.path.append(os.path.abspath(os.path.join(\"..\")))\n",
    "from utils.evaluation import mean_average_percentage_error, root_mean_squared_error"
   ]
  },
  {
   "cell_type": "markdown",
   "metadata": {},
   "source": [
    "First we load our prepared data."
   ]
  },
  {
   "cell_type": "code",
   "execution_count": 2,
   "metadata": {},
   "outputs": [],
   "source": [
    "trips_df = pd.read_pickle('../00_data/trips_hourly_selected.pkl')"
   ]
  },
  {
   "cell_type": "markdown",
   "metadata": {},
   "source": [
    "We split the dataframe in X and y and standardize the parameters in X. We also standardize the data thus ensuring they have the same mean (0) and standard deviation (1)."
   ]
  },
  {
   "cell_type": "code",
   "execution_count": 3,
   "metadata": {},
   "outputs": [
    {
     "data": {
      "text/html": [
       "<div>\n",
       "<style scoped>\n",
       "    .dataframe tbody tr th:only-of-type {\n",
       "        vertical-align: middle;\n",
       "    }\n",
       "\n",
       "    .dataframe tbody tr th {\n",
       "        vertical-align: top;\n",
       "    }\n",
       "\n",
       "    .dataframe thead th {\n",
       "        text-align: right;\n",
       "    }\n",
       "</style>\n",
       "<table border=\"1\" class=\"dataframe\">\n",
       "  <thead>\n",
       "    <tr style=\"text-align: right;\">\n",
       "      <th></th>\n",
       "      <th>starting_trips</th>\n",
       "      <th>ongoing_trips_prev</th>\n",
       "      <th>available_bikes</th>\n",
       "      <th>min_temp</th>\n",
       "      <th>hour</th>\n",
       "      <th>month</th>\n",
       "      <th>is_weekday</th>\n",
       "      <th>is_holiday</th>\n",
       "    </tr>\n",
       "    <tr>\n",
       "      <th>index</th>\n",
       "      <th></th>\n",
       "      <th></th>\n",
       "      <th></th>\n",
       "      <th></th>\n",
       "      <th></th>\n",
       "      <th></th>\n",
       "      <th></th>\n",
       "      <th></th>\n",
       "    </tr>\n",
       "  </thead>\n",
       "  <tbody>\n",
       "    <tr>\n",
       "      <th>2019-01-01 01:00:00</th>\n",
       "      <td>8.0</td>\n",
       "      <td>2.0</td>\n",
       "      <td>870.0</td>\n",
       "      <td>15.6</td>\n",
       "      <td>1</td>\n",
       "      <td>1</td>\n",
       "      <td>True</td>\n",
       "      <td>True</td>\n",
       "    </tr>\n",
       "    <tr>\n",
       "      <th>2019-01-01 02:00:00</th>\n",
       "      <td>11.0</td>\n",
       "      <td>4.0</td>\n",
       "      <td>868.0</td>\n",
       "      <td>15.0</td>\n",
       "      <td>2</td>\n",
       "      <td>1</td>\n",
       "      <td>True</td>\n",
       "      <td>True</td>\n",
       "    </tr>\n",
       "  </tbody>\n",
       "</table>\n",
       "</div>"
      ],
      "text/plain": [
       "                     starting_trips  ongoing_trips_prev  available_bikes  \\\n",
       "index                                                                      \n",
       "2019-01-01 01:00:00             8.0                 2.0            870.0   \n",
       "2019-01-01 02:00:00            11.0                 4.0            868.0   \n",
       "\n",
       "                     min_temp  hour  month  is_weekday  is_holiday  \n",
       "index                                                               \n",
       "2019-01-01 01:00:00      15.6     1      1        True        True  \n",
       "2019-01-01 02:00:00      15.0     2      1        True        True  "
      ]
     },
     "execution_count": 3,
     "metadata": {},
     "output_type": "execute_result"
    }
   ],
   "source": [
    "trips_df.head(2)"
   ]
  },
  {
   "cell_type": "code",
   "execution_count": 4,
   "metadata": {},
   "outputs": [],
   "source": [
    "X = trips_df[\n",
    "    [\n",
    "        \"ongoing_trips_prev\",\n",
    "        \"available_bikes\",\n",
    "        \"min_temp\",\n",
    "        \"hour\",\n",
    "        \"month\",\n",
    "        \"is_weekday\",\n",
    "        \"is_holiday\",\n",
    "    ]\n",
    "]\n",
    "X_std = StandardScaler().fit_transform(X)\n",
    "y = trips_df[\"starting_trips\"]\n"
   ]
  },
  {
   "cell_type": "markdown",
   "metadata": {},
   "source": [
    "We make a train test split with a test size of 30%, so that we can evaluate our\n",
    "model on unseen data later."
   ]
  },
  {
   "cell_type": "code",
   "execution_count": 5,
   "metadata": {},
   "outputs": [],
   "source": [
    "X_train, X_test, y_train, y_test = train_test_split(\n",
    "    X_std, y, test_size=0.3, random_state=0\n",
    ")\n"
   ]
  },
  {
   "cell_type": "markdown",
   "metadata": {},
   "source": [
    "### Training the model"
   ]
  },
  {
   "cell_type": "code",
   "execution_count": 6,
   "metadata": {},
   "outputs": [],
   "source": [
    "lin_mod = LinearRegression()\n",
    "lin_mod.fit(X_train, y_train)\n",
    "y_pred = lin_mod.predict(X_test)\n",
    "y_true = y_test\n"
   ]
  },
  {
   "cell_type": "markdown",
   "metadata": {},
   "source": [
    "Here we print the coefficients for the model. These can be easily interpreted. \n",
    "A unit increase in a feature leads to a increase of the size of the corresponding\n",
    "coefficient in the outcome (demand).  \n",
    "E.g. if the temperature (`min_temp`) increases by 1 degree, the demand will (on average)\n",
    "increase by ~10.48."
   ]
  },
  {
   "cell_type": "code",
   "execution_count": 7,
   "metadata": {},
   "outputs": [
    {
     "name": "stdout",
     "output_type": "stream",
     "text": [
      "The Coefficients for our multiple linear regression model are: \n",
      "\n",
      "min_temp        =    10.476929709657899 \n",
      "available_bikes =   2.9790711497688642 \n",
      "hour            =    -3.7372022716485818 \n",
      "month           =    5.99382804742423 \n",
      "is_holiday      =    3.2786355231110527 \n",
      "The Intercept is: 26.464125085090274\n"
     ]
    }
   ],
   "source": [
    "print(\n",
    "    \"The Coefficients for our multiple linear regression model are:\",\n",
    "    \"\\n\" \"\\n\" \"min_temp        =   \",\n",
    "    lin_mod.coef_[0],\n",
    "    \"\\n\" \"available_bikes =  \",\n",
    "    lin_mod.coef_[1],\n",
    "    \"\\n\" \"hour            =   \",\n",
    "    lin_mod.coef_[2],\n",
    "    \"\\n\" \"month           =   \",\n",
    "    lin_mod.coef_[3],\n",
    "    \"\\n\" \"is_holiday      =   \",\n",
    "    lin_mod.coef_[4],\n",
    "    \"\\n\" \"The Intercept is:\",\n",
    "    lin_mod.intercept_,\n",
    ")\n"
   ]
  },
  {
   "cell_type": "markdown",
   "metadata": {},
   "source": [
    "### Evaluating the testmetrics"
   ]
  },
  {
   "cell_type": "code",
   "execution_count": 8,
   "metadata": {},
   "outputs": [
    {
     "name": "stdout",
     "output_type": "stream",
     "text": [
      "MAE: 12.06\n",
      "MSE: 231.06\n",
      "MAPE: 45.40%\n",
      "RMSE: 15.20\n",
      "R^2: 0.46\n"
     ]
    }
   ],
   "source": [
    "print(f\"MAE: {mean_absolute_error(y_true, y_pred):.2f}\")\n",
    "print(f\"MSE: {mean_squared_error(y_true, y_pred):.2f}\")\n",
    "print(f\"MAPE: {mean_average_percentage_error(y_true, y_pred) * 100:.2f}%\")\n",
    "print(f\"RMSE: {root_mean_squared_error(y_true, y_pred):.2f}\")\n",
    "print(f\"R^2: { r2_score(y_true, y_pred):.2f}\")"
   ]
  },
  {
   "cell_type": "markdown",
   "metadata": {},
   "source": [
    "As we can see the model does not perform very well. This shows us that a simple\n",
    "linear regression is not enough for this problem."
   ]
  }
 ],
 "metadata": {
  "interpreter": {
   "hash": "1941f329dd3f9600ec40c0b6c46f405fe17aa396e43af8e4f84469bd5e1ebab2"
  },
  "kernelspec": {
   "display_name": "Python 3.9.7 64-bit ('aaMagma': conda)",
   "language": "python",
   "name": "python3"
  },
  "language_info": {
   "codemirror_mode": {
    "name": "ipython",
    "version": 3
   },
   "file_extension": ".py",
   "mimetype": "text/x-python",
   "name": "python",
   "nbconvert_exporter": "python",
   "pygments_lexer": "ipython3",
   "version": "3.9.7"
  },
  "orig_nbformat": 4
 },
 "nbformat": 4,
 "nbformat_minor": 2
}
