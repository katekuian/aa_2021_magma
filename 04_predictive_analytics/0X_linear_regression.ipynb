{
 "cells": [
  {
   "cell_type": "code",
   "execution_count": 2,
   "metadata": {},
   "outputs": [],
   "source": [
    "import pandas as pd\n",
    "import numpy as np\n",
    "import matplotlib.pyplot as plt\n",
    "from sklearn.linear_model import LinearRegression\n",
    "from sklearn.model_selection import train_test_split\n",
    "from sklearn.kernel_ridge import KernelRidge\n",
    "from sklearn.gaussian_process.kernels import RBF\n",
    "from sklearn.metrics import mean_squared_error, mean_absolute_error, r2_score\n",
    "from sklearn.preprocessing import StandardScaler\n"
   ]
  },
  {
   "cell_type": "markdown",
   "metadata": {},
   "source": [
    "## Linear Regression\n",
    "In this notebook we create a linear prediction model."
   ]
  },
  {
   "cell_type": "code",
   "execution_count": 3,
   "metadata": {},
   "outputs": [],
   "source": [
    "trips_df = pd.read_pickle('../00_data/trips_hourly_selected.pkl')\n"
   ]
  },
  {
   "cell_type": "markdown",
   "metadata": {},
   "source": [
    "First we create a dataframe encompassing our selected paramenters."
   ]
  },
  {
   "cell_type": "code",
   "execution_count": 4,
   "metadata": {},
   "outputs": [
    {
     "name": "stdout",
     "output_type": "stream",
     "text": [
      "<class 'pandas.core.frame.DataFrame'>\n",
      "DatetimeIndex: 8423 entries, 2019-01-01 01:00:00 to 2019-12-31 23:00:00\n",
      "Data columns (total 8 columns):\n",
      " #   Column           Non-Null Count  Dtype  \n",
      "---  ------           --------------  -----  \n",
      " 0   demand           8423 non-null   float64\n",
      " 1   min_temp         8423 non-null   float64\n",
      " 2   available_bikes  8423 non-null   float64\n",
      " 3   hour             8423 non-null   int64  \n",
      " 4   month            8423 non-null   int64  \n",
      " 5   day_of_week      8423 non-null   int64  \n",
      " 6   is_holiday       8423 non-null   bool   \n",
      " 7   precip           8423 non-null   float64\n",
      "dtypes: bool(1), float64(4), int64(3)\n",
      "memory usage: 534.7 KB\n"
     ]
    }
   ],
   "source": [
    "MulReg = pd.DataFrame()\n",
    "MulReg[\"demand\"]=trips_df['starting_trips']\n",
    "MulReg[\"min_temp\"]=trips_df['min_temp']\n",
    "MulReg[\"available_bikes\"]=trips_df[\"available_bikes\"]\n",
    "MulReg[\"hour\"]=trips_df[\"hour\"]\n",
    "MulReg[\"month\"]=trips_df[\"month\"]\n",
    "MulReg[\"day_of_week\"]=trips_df[\"day_of_week\"]\n",
    "MulReg[\"is_holiday\"]=trips_df[\"is_holiday\"]\n",
    "MulReg[\"precip\"]=trips_df[\"precip\"]\n",
    "MulReg.info()\n",
    "\n"
   ]
  },
  {
   "cell_type": "markdown",
   "metadata": {},
   "source": [
    "We split the dataframe in X and y and standardize the parameters in X. We also standardize the data thus ensuring they have the same mean (0) and standard deviation (1)."
   ]
  },
  {
   "cell_type": "code",
   "execution_count": 5,
   "metadata": {},
   "outputs": [],
   "source": [
    "X = MulReg[[\"min_temp\",\"available_bikes\",\"hour\",\"month\",\"day_of_week\",\"is_holiday\",\"precip\"]]\n",
    "X_std = StandardScaler().fit_transform(X)\n",
    "y = MulReg[\"demand\"]"
   ]
  },
  {
   "cell_type": "markdown",
   "metadata": {},
   "source": [
    "We make a train test split with a testsize of 30%."
   ]
  },
  {
   "cell_type": "code",
   "execution_count": 6,
   "metadata": {},
   "outputs": [],
   "source": [
    "X_train, X_test, y_train, y_test = train_test_split(X_std, y, test_size=0.3, random_state=0)\n",
    "\n",
    "\n"
   ]
  },
  {
   "cell_type": "markdown",
   "metadata": {},
   "source": [
    "## Training the model"
   ]
  },
  {
   "cell_type": "code",
   "execution_count": 7,
   "metadata": {},
   "outputs": [],
   "source": [
    "lin_mod_mul =LinearRegression()\n",
    "lin_mod_mul.fit(X_train, y_train)\n",
    "y_pred = lin_mod_mul.predict(X_test)\n",
    "y_true_2 = y_test"
   ]
  },
  {
   "cell_type": "markdown",
   "metadata": {},
   "source": [
    "Here we print the coefficients for the model."
   ]
  },
  {
   "cell_type": "code",
   "execution_count": 8,
   "metadata": {},
   "outputs": [
    {
     "name": "stdout",
     "output_type": "stream",
     "text": [
      "The Coefficients for our multiple linear regression model are: \n",
      "\n",
      "min_temp        =    -4.815410034202011 \n",
      "available_bikes =   4.634371928223787 \n",
      "hour            =    9.248678509811587 \n",
      "month           =    2.9486548241571824 \n",
      "day_of_week     =    -2.688327101805283 \n",
      "is_holiday      =    -1.7628180775078734 \n",
      "precipitation     =    -1.6429164375336256 \n",
      "\n",
      "The Intercept is: 26.78537086877164\n"
     ]
    }
   ],
   "source": [
    "print(\"The Coefficients for our multiple linear regression model are:\", \"\\n\" \"\\n\"\n",
    "      \"min_temp        =   \", lin_mod_mul.coef_[0], \"\\n\"\n",
    "      \"available_bikes =  \", lin_mod_mul.coef_[1],\"\\n\"\n",
    "      \"hour            =   \", lin_mod_mul.coef_[2],\"\\n\"\n",
    "      \"month           =   \", lin_mod_mul.coef_[3],\"\\n\"\n",
    "      \"day_of_week     =   \", lin_mod_mul.coef_[4],\"\\n\"\n",
    "      \"is_holiday      =   \", lin_mod_mul.coef_[5],\"\\n\"\n",
    "      \"precipitation     =   \", lin_mod_mul.coef_[6],\"\\n\\n\"\n",
    "      \"The Intercept is:\", lin_mod_mul.intercept_)"
   ]
  },
  {
   "cell_type": "markdown",
   "metadata": {},
   "source": [
    "## Evaluating the testmetrics"
   ]
  },
  {
   "cell_type": "code",
   "execution_count": 9,
   "metadata": {},
   "outputs": [
    {
     "name": "stdout",
     "output_type": "stream",
     "text": [
      "MAE: 14.697835243673717\n",
      "MSE: 356.211035668143\n",
      "R^2: 0.2257583094042228\n"
     ]
    }
   ],
   "source": [
    "\n",
    "\n",
    "print(\"MAE:\",mean_absolute_error(y_true_2, y_pred))\n",
    "print(\"MSE:\",mean_squared_error(y_true_2, y_pred))\n",
    "print(\"R^2:\",r2_score(y_true_2, y_pred))\n",
    "\n"
   ]
  }
 ],
 "metadata": {
  "interpreter": {
   "hash": "1941f329dd3f9600ec40c0b6c46f405fe17aa396e43af8e4f84469bd5e1ebab2"
  },
  "kernelspec": {
   "display_name": "Python 3.9.7 64-bit ('aaMagma': conda)",
   "language": "python",
   "name": "python3"
  },
  "language_info": {
   "codemirror_mode": {
    "name": "ipython",
    "version": 3
   },
   "file_extension": ".py",
   "mimetype": "text/x-python",
   "name": "python",
   "nbconvert_exporter": "python",
   "pygments_lexer": "ipython3",
   "version": "3.9.7"
  },
  "orig_nbformat": 4
 },
 "nbformat": 4,
 "nbformat_minor": 2
}
