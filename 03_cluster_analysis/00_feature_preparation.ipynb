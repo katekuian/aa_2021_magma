{
 "cells": [
  {
   "cell_type": "markdown",
   "metadata": {},
   "source": [
    "# Feature Preparation for clustering trips"
   ]
  },
  {
   "cell_type": "code",
   "execution_count": 148,
   "metadata": {
    "pycharm": {
     "name": "#%%\n"
    }
   },
   "outputs": [],
   "source": [
    "import numpy as np\n",
    "import pandas as pd"
   ]
  },
  {
   "cell_type": "code",
   "execution_count": 149,
   "metadata": {
    "pycharm": {
     "name": "#%%\n"
    }
   },
   "outputs": [
    {
     "data": {
      "text/html": [
       "<div>\n",
       "<style scoped>\n",
       "    .dataframe tbody tr th:only-of-type {\n",
       "        vertical-align: middle;\n",
       "    }\n",
       "\n",
       "    .dataframe tbody tr th {\n",
       "        vertical-align: top;\n",
       "    }\n",
       "\n",
       "    .dataframe thead th {\n",
       "        text-align: right;\n",
       "    }\n",
       "</style>\n",
       "<table border=\"1\" class=\"dataframe\">\n",
       "  <thead>\n",
       "    <tr style=\"text-align: right;\">\n",
       "      <th></th>\n",
       "      <th>start_time</th>\n",
       "      <th>end_time</th>\n",
       "      <th>start_station_id</th>\n",
       "      <th>end_station_id</th>\n",
       "      <th>bike_id</th>\n",
       "      <th>user_type</th>\n",
       "      <th>start_station_name</th>\n",
       "      <th>end_station_name</th>\n",
       "      <th>duration</th>\n",
       "      <th>start_latitude</th>\n",
       "      <th>start_longitude</th>\n",
       "      <th>end_latitude</th>\n",
       "      <th>end_longitude</th>\n",
       "      <th>distance</th>\n",
       "      <th>speed</th>\n",
       "    </tr>\n",
       "  </thead>\n",
       "  <tbody>\n",
       "    <tr>\n",
       "      <th>2</th>\n",
       "      <td>2019-01-01 00:18:00</td>\n",
       "      <td>2019-01-01 00:50:00</td>\n",
       "      <td>3030</td>\n",
       "      <td>3075</td>\n",
       "      <td>05992</td>\n",
       "      <td>Walk-up</td>\n",
       "      <td>Main &amp; 1st</td>\n",
       "      <td>Broadway &amp; 9th</td>\n",
       "      <td>0 days 00:32:00</td>\n",
       "      <td>34.05194</td>\n",
       "      <td>-118.24353</td>\n",
       "      <td>34.04211</td>\n",
       "      <td>-118.25619</td>\n",
       "      <td>1.498844</td>\n",
       "      <td>2.810332</td>\n",
       "    </tr>\n",
       "    <tr>\n",
       "      <th>3</th>\n",
       "      <td>2019-01-01 00:20:00</td>\n",
       "      <td>2019-01-01 00:50:00</td>\n",
       "      <td>3030</td>\n",
       "      <td>3075</td>\n",
       "      <td>05860</td>\n",
       "      <td>Walk-up</td>\n",
       "      <td>Main &amp; 1st</td>\n",
       "      <td>Broadway &amp; 9th</td>\n",
       "      <td>0 days 00:30:00</td>\n",
       "      <td>34.05194</td>\n",
       "      <td>-118.24353</td>\n",
       "      <td>34.04211</td>\n",
       "      <td>-118.25619</td>\n",
       "      <td>1.498844</td>\n",
       "      <td>2.997688</td>\n",
       "    </tr>\n",
       "  </tbody>\n",
       "</table>\n",
       "</div>"
      ],
      "text/plain": [
       "           start_time            end_time  start_station_id  end_station_id  \\\n",
       "2 2019-01-01 00:18:00 2019-01-01 00:50:00              3030            3075   \n",
       "3 2019-01-01 00:20:00 2019-01-01 00:50:00              3030            3075   \n",
       "\n",
       "  bike_id user_type start_station_name end_station_name        duration  \\\n",
       "2   05992   Walk-up         Main & 1st   Broadway & 9th 0 days 00:32:00   \n",
       "3   05860   Walk-up         Main & 1st   Broadway & 9th 0 days 00:30:00   \n",
       "\n",
       "   start_latitude  start_longitude  end_latitude  end_longitude  distance  \\\n",
       "2        34.05194       -118.24353      34.04211     -118.25619  1.498844   \n",
       "3        34.05194       -118.24353      34.04211     -118.25619  1.498844   \n",
       "\n",
       "      speed  \n",
       "2  2.810332  \n",
       "3  2.997688  "
      ]
     },
     "execution_count": 149,
     "metadata": {},
     "output_type": "execute_result"
    }
   ],
   "source": [
    "trips_df = pd.read_pickle('../00_data/trips.pkl')\n",
    "trips_df.head(2)"
   ]
  },
  {
   "cell_type": "code",
   "execution_count": 150,
   "metadata": {
    "pycharm": {
     "name": "#%%\n"
    }
   },
   "outputs": [
    {
     "data": {
      "text/html": [
       "<div>\n",
       "<style scoped>\n",
       "    .dataframe tbody tr th:only-of-type {\n",
       "        vertical-align: middle;\n",
       "    }\n",
       "\n",
       "    .dataframe tbody tr th {\n",
       "        vertical-align: top;\n",
       "    }\n",
       "\n",
       "    .dataframe thead th {\n",
       "        text-align: right;\n",
       "    }\n",
       "</style>\n",
       "<table border=\"1\" class=\"dataframe\">\n",
       "  <thead>\n",
       "    <tr style=\"text-align: right;\">\n",
       "      <th></th>\n",
       "      <th>starting_trips</th>\n",
       "      <th>ongoing_trips_prev</th>\n",
       "      <th>in_service_bikes_rolling</th>\n",
       "      <th>available_bikes</th>\n",
       "      <th>max_temp</th>\n",
       "      <th>min_temp</th>\n",
       "      <th>precip</th>\n",
       "      <th>hour</th>\n",
       "      <th>day_of_week</th>\n",
       "      <th>month</th>\n",
       "      <th>day_of_year</th>\n",
       "      <th>week</th>\n",
       "      <th>is_weekday</th>\n",
       "      <th>is_holiday</th>\n",
       "    </tr>\n",
       "    <tr>\n",
       "      <th>index</th>\n",
       "      <th></th>\n",
       "      <th></th>\n",
       "      <th></th>\n",
       "      <th></th>\n",
       "      <th></th>\n",
       "      <th></th>\n",
       "      <th></th>\n",
       "      <th></th>\n",
       "      <th></th>\n",
       "      <th></th>\n",
       "      <th></th>\n",
       "      <th></th>\n",
       "      <th></th>\n",
       "      <th></th>\n",
       "    </tr>\n",
       "  </thead>\n",
       "  <tbody>\n",
       "    <tr>\n",
       "      <th>2019-01-01 01:00:00</th>\n",
       "      <td>8.0</td>\n",
       "      <td>2.0</td>\n",
       "      <td>873.0</td>\n",
       "      <td>871.0</td>\n",
       "      <td>15.6</td>\n",
       "      <td>15.6</td>\n",
       "      <td>0.0</td>\n",
       "      <td>1</td>\n",
       "      <td>1</td>\n",
       "      <td>1</td>\n",
       "      <td>1</td>\n",
       "      <td>1</td>\n",
       "      <td>True</td>\n",
       "      <td>True</td>\n",
       "    </tr>\n",
       "    <tr>\n",
       "      <th>2019-01-01 02:00:00</th>\n",
       "      <td>11.0</td>\n",
       "      <td>4.0</td>\n",
       "      <td>873.0</td>\n",
       "      <td>869.0</td>\n",
       "      <td>15.0</td>\n",
       "      <td>15.0</td>\n",
       "      <td>0.0</td>\n",
       "      <td>2</td>\n",
       "      <td>1</td>\n",
       "      <td>1</td>\n",
       "      <td>1</td>\n",
       "      <td>1</td>\n",
       "      <td>True</td>\n",
       "      <td>True</td>\n",
       "    </tr>\n",
       "  </tbody>\n",
       "</table>\n",
       "</div>"
      ],
      "text/plain": [
       "                     starting_trips  ongoing_trips_prev  \\\n",
       "index                                                     \n",
       "2019-01-01 01:00:00             8.0                 2.0   \n",
       "2019-01-01 02:00:00            11.0                 4.0   \n",
       "\n",
       "                     in_service_bikes_rolling  available_bikes  max_temp  \\\n",
       "index                                                                      \n",
       "2019-01-01 01:00:00                     873.0            871.0      15.6   \n",
       "2019-01-01 02:00:00                     873.0            869.0      15.0   \n",
       "\n",
       "                     min_temp  precip  hour  day_of_week  month  day_of_year  \\\n",
       "index                                                                          \n",
       "2019-01-01 01:00:00      15.6     0.0     1            1      1            1   \n",
       "2019-01-01 02:00:00      15.0     0.0     2            1      1            1   \n",
       "\n",
       "                     week  is_weekday  is_holiday  \n",
       "index                                              \n",
       "2019-01-01 01:00:00     1        True        True  \n",
       "2019-01-01 02:00:00     1        True        True  "
      ]
     },
     "execution_count": 150,
     "metadata": {},
     "output_type": "execute_result"
    }
   ],
   "source": [
    "trips_hourly_df = pd.read_pickle('../00_data/trips_hourly_selected.pkl')\n",
    "trips_hourly_df.head(2)"
   ]
  },
  {
   "cell_type": "code",
   "execution_count": 151,
   "metadata": {},
   "outputs": [],
   "source": [
    "#TODO data above is from feature selection in task4 move to task1?"
   ]
  },
  {
   "cell_type": "markdown",
   "metadata": {
    "pycharm": {
     "name": "#%% md\n"
    }
   },
   "source": [
    "Let's merge the hourly data to our trip dataframe. To do that we have to have a column that has the same values as the hourly-data-index. "
   ]
  },
  {
   "cell_type": "code",
   "execution_count": 152,
   "metadata": {},
   "outputs": [
    {
     "data": {
      "text/html": [
       "<div>\n",
       "<style scoped>\n",
       "    .dataframe tbody tr th:only-of-type {\n",
       "        vertical-align: middle;\n",
       "    }\n",
       "\n",
       "    .dataframe tbody tr th {\n",
       "        vertical-align: top;\n",
       "    }\n",
       "\n",
       "    .dataframe thead th {\n",
       "        text-align: right;\n",
       "    }\n",
       "</style>\n",
       "<table border=\"1\" class=\"dataframe\">\n",
       "  <thead>\n",
       "    <tr style=\"text-align: right;\">\n",
       "      <th></th>\n",
       "      <th>start_time</th>\n",
       "      <th>end_time</th>\n",
       "      <th>start_station_id</th>\n",
       "      <th>end_station_id</th>\n",
       "      <th>bike_id</th>\n",
       "      <th>user_type</th>\n",
       "      <th>start_station_name</th>\n",
       "      <th>end_station_name</th>\n",
       "      <th>duration</th>\n",
       "      <th>start_latitude</th>\n",
       "      <th>...</th>\n",
       "      <th>max_temp</th>\n",
       "      <th>min_temp</th>\n",
       "      <th>precip</th>\n",
       "      <th>hour</th>\n",
       "      <th>day_of_week</th>\n",
       "      <th>month</th>\n",
       "      <th>day_of_year</th>\n",
       "      <th>week</th>\n",
       "      <th>is_weekday</th>\n",
       "      <th>is_holiday</th>\n",
       "    </tr>\n",
       "  </thead>\n",
       "  <tbody>\n",
       "    <tr>\n",
       "      <th>19</th>\n",
       "      <td>2019-01-01 01:29:00</td>\n",
       "      <td>2019-01-01 02:49:00</td>\n",
       "      <td>4211</td>\n",
       "      <td>4211</td>\n",
       "      <td>12244</td>\n",
       "      <td>Walk-up</td>\n",
       "      <td>Pacific &amp; North Venice</td>\n",
       "      <td>Pacific &amp; North Venice</td>\n",
       "      <td>0 days 01:20:00</td>\n",
       "      <td>33.98493</td>\n",
       "      <td>...</td>\n",
       "      <td>15.6</td>\n",
       "      <td>15.6</td>\n",
       "      <td>0.0</td>\n",
       "      <td>1</td>\n",
       "      <td>1</td>\n",
       "      <td>1</td>\n",
       "      <td>1</td>\n",
       "      <td>1</td>\n",
       "      <td>True</td>\n",
       "      <td>True</td>\n",
       "    </tr>\n",
       "    <tr>\n",
       "      <th>20</th>\n",
       "      <td>2019-01-01 01:31:00</td>\n",
       "      <td>2019-01-01 01:35:00</td>\n",
       "      <td>3027</td>\n",
       "      <td>3046</td>\n",
       "      <td>05819</td>\n",
       "      <td>Walk-up</td>\n",
       "      <td>Spring &amp; 3rd</td>\n",
       "      <td>2nd &amp; Hill</td>\n",
       "      <td>0 days 00:04:00</td>\n",
       "      <td>34.04998</td>\n",
       "      <td>...</td>\n",
       "      <td>15.6</td>\n",
       "      <td>15.6</td>\n",
       "      <td>0.0</td>\n",
       "      <td>1</td>\n",
       "      <td>1</td>\n",
       "      <td>1</td>\n",
       "      <td>1</td>\n",
       "      <td>1</td>\n",
       "      <td>True</td>\n",
       "      <td>True</td>\n",
       "    </tr>\n",
       "  </tbody>\n",
       "</table>\n",
       "<p>2 rows × 30 columns</p>\n",
       "</div>"
      ],
      "text/plain": [
       "            start_time            end_time  start_station_id  end_station_id  \\\n",
       "19 2019-01-01 01:29:00 2019-01-01 02:49:00              4211            4211   \n",
       "20 2019-01-01 01:31:00 2019-01-01 01:35:00              3027            3046   \n",
       "\n",
       "   bike_id user_type      start_station_name        end_station_name  \\\n",
       "19   12244   Walk-up  Pacific & North Venice  Pacific & North Venice   \n",
       "20   05819   Walk-up            Spring & 3rd              2nd & Hill   \n",
       "\n",
       "          duration  start_latitude  ...  max_temp  min_temp  precip  hour  \\\n",
       "19 0 days 01:20:00        33.98493  ...      15.6      15.6     0.0     1   \n",
       "20 0 days 00:04:00        34.04998  ...      15.6      15.6     0.0     1   \n",
       "\n",
       "    day_of_week month  day_of_year  week  is_weekday  is_holiday  \n",
       "19            1     1            1     1        True        True  \n",
       "20            1     1            1     1        True        True  \n",
       "\n",
       "[2 rows x 30 columns]"
      ]
     },
     "execution_count": 152,
     "metadata": {},
     "output_type": "execute_result"
    }
   ],
   "source": [
    "trips_df[\"start_time_floored\"]=trips_df['start_time'].dt.floor('1H')\n",
    "len_before_merge = len(trips_df)\n",
    "trips_df = trips_df.merge(trips_hourly_df, left_on='start_time_floored', right_index=True)\n",
    "trips_df.head(2)"
   ]
  },
  {
   "cell_type": "markdown",
   "metadata": {},
   "source": [
    "Now we can compute how many rows we lost:"
   ]
  },
  {
   "cell_type": "code",
   "execution_count": 153,
   "metadata": {},
   "outputs": [
    {
     "name": "stdout",
     "output_type": "stream",
     "text": [
      "14\n"
     ]
    }
   ],
   "source": [
    "print(len_before_merge - len(trips_df))"
   ]
  },
  {
   "cell_type": "markdown",
   "metadata": {},
   "source": [
    "Those 14 trips were started between 0:00 am and 1:00 am at the first of january 2019. For this hour there is no hourly data created so it was dropped when merging.\n",
    "Now we will edit some columns to our needs:\n",
    "- set the duration in minutes\n",
    "- set an end hour\n",
    "- change boolean values to 1 and 0"
   ]
  },
  {
   "cell_type": "code",
   "execution_count": null,
   "metadata": {},
   "outputs": [],
   "source": [
    "#TODO: first hour data manually???"
   ]
  },
  {
   "cell_type": "code",
   "execution_count": 158,
   "metadata": {},
   "outputs": [
    {
     "data": {
      "text/html": [
       "<div>\n",
       "<style scoped>\n",
       "    .dataframe tbody tr th:only-of-type {\n",
       "        vertical-align: middle;\n",
       "    }\n",
       "\n",
       "    .dataframe tbody tr th {\n",
       "        vertical-align: top;\n",
       "    }\n",
       "\n",
       "    .dataframe thead th {\n",
       "        text-align: right;\n",
       "    }\n",
       "</style>\n",
       "<table border=\"1\" class=\"dataframe\">\n",
       "  <thead>\n",
       "    <tr style=\"text-align: right;\">\n",
       "      <th></th>\n",
       "      <th>start_time</th>\n",
       "      <th>end_time</th>\n",
       "      <th>start_station_id</th>\n",
       "      <th>end_station_id</th>\n",
       "      <th>bike_id</th>\n",
       "      <th>user_type</th>\n",
       "      <th>start_station_name</th>\n",
       "      <th>end_station_name</th>\n",
       "      <th>duration</th>\n",
       "      <th>start_latitude</th>\n",
       "      <th>...</th>\n",
       "      <th>precip</th>\n",
       "      <th>hour</th>\n",
       "      <th>day_of_week</th>\n",
       "      <th>month</th>\n",
       "      <th>day_of_year</th>\n",
       "      <th>week</th>\n",
       "      <th>is_weekday</th>\n",
       "      <th>is_holiday</th>\n",
       "      <th>duration_min</th>\n",
       "      <th>hour_end</th>\n",
       "    </tr>\n",
       "  </thead>\n",
       "  <tbody>\n",
       "    <tr>\n",
       "      <th>19</th>\n",
       "      <td>2019-01-01 01:29:00</td>\n",
       "      <td>2019-01-01 02:49:00</td>\n",
       "      <td>4211</td>\n",
       "      <td>4211</td>\n",
       "      <td>12244</td>\n",
       "      <td>Walk-up</td>\n",
       "      <td>Pacific &amp; North Venice</td>\n",
       "      <td>Pacific &amp; North Venice</td>\n",
       "      <td>80.0</td>\n",
       "      <td>33.98493</td>\n",
       "      <td>...</td>\n",
       "      <td>0.0</td>\n",
       "      <td>1</td>\n",
       "      <td>1</td>\n",
       "      <td>1</td>\n",
       "      <td>1</td>\n",
       "      <td>1</td>\n",
       "      <td>1</td>\n",
       "      <td>1</td>\n",
       "      <td>80.0</td>\n",
       "      <td>2</td>\n",
       "    </tr>\n",
       "    <tr>\n",
       "      <th>20</th>\n",
       "      <td>2019-01-01 01:31:00</td>\n",
       "      <td>2019-01-01 01:35:00</td>\n",
       "      <td>3027</td>\n",
       "      <td>3046</td>\n",
       "      <td>05819</td>\n",
       "      <td>Walk-up</td>\n",
       "      <td>Spring &amp; 3rd</td>\n",
       "      <td>2nd &amp; Hill</td>\n",
       "      <td>4.0</td>\n",
       "      <td>34.04998</td>\n",
       "      <td>...</td>\n",
       "      <td>0.0</td>\n",
       "      <td>1</td>\n",
       "      <td>1</td>\n",
       "      <td>1</td>\n",
       "      <td>1</td>\n",
       "      <td>1</td>\n",
       "      <td>1</td>\n",
       "      <td>1</td>\n",
       "      <td>4.0</td>\n",
       "      <td>1</td>\n",
       "    </tr>\n",
       "  </tbody>\n",
       "</table>\n",
       "<p>2 rows × 32 columns</p>\n",
       "</div>"
      ],
      "text/plain": [
       "            start_time            end_time  start_station_id  end_station_id  \\\n",
       "19 2019-01-01 01:29:00 2019-01-01 02:49:00              4211            4211   \n",
       "20 2019-01-01 01:31:00 2019-01-01 01:35:00              3027            3046   \n",
       "\n",
       "   bike_id user_type      start_station_name        end_station_name  \\\n",
       "19   12244   Walk-up  Pacific & North Venice  Pacific & North Venice   \n",
       "20   05819   Walk-up            Spring & 3rd              2nd & Hill   \n",
       "\n",
       "    duration  start_latitude  ...  precip  hour  day_of_week  month  \\\n",
       "19      80.0        33.98493  ...     0.0     1            1      1   \n",
       "20       4.0        34.04998  ...     0.0     1            1      1   \n",
       "\n",
       "    day_of_year week  is_weekday  is_holiday  duration_min  hour_end  \n",
       "19            1    1           1           1          80.0         2  \n",
       "20            1    1           1           1           4.0         1  \n",
       "\n",
       "[2 rows x 32 columns]"
      ]
     },
     "execution_count": 158,
     "metadata": {},
     "output_type": "execute_result"
    }
   ],
   "source": [
    "trips_df['duration'] = trips_df['duration'].dt.seconds/60\n",
    "trips_df[\"hour_end\"] = trips_df['end_time'].dt.hour\n",
    "trips_df[\"is_weekday\"] = trips_df[\"is_weekday\"].apply(lambda x: int(x))\n",
    "trips_df[\"is_holiday\"] = trips_df[\"is_holiday\"].apply(lambda x: int(x))\n",
    "\n",
    "trips_df.head(2)"
   ]
  },
  {
   "cell_type": "markdown",
   "metadata": {},
   "source": [
    "Lastly let us take a look at the columns and which of them we will need. We drop the others."
   ]
  },
  {
   "cell_type": "code",
   "execution_count": 159,
   "metadata": {
    "pycharm": {
     "name": "#%%\n"
    }
   },
   "outputs": [
    {
     "name": "stdout",
     "output_type": "stream",
     "text": [
      "<class 'pandas.core.frame.DataFrame'>\n",
      "Int64Index: 225627 entries, 19 to 290340\n",
      "Data columns (total 32 columns):\n",
      " #   Column                    Non-Null Count   Dtype         \n",
      "---  ------                    --------------   -----         \n",
      " 0   start_time                225627 non-null  datetime64[ns]\n",
      " 1   end_time                  225627 non-null  datetime64[ns]\n",
      " 2   start_station_id          225627 non-null  int64         \n",
      " 3   end_station_id            225627 non-null  int64         \n",
      " 4   bike_id                   225627 non-null  object        \n",
      " 5   user_type                 225627 non-null  object        \n",
      " 6   start_station_name        225627 non-null  object        \n",
      " 7   end_station_name          225627 non-null  object        \n",
      " 8   duration                  225627 non-null  float64       \n",
      " 9   start_latitude            225627 non-null  float64       \n",
      " 10  start_longitude           225627 non-null  float64       \n",
      " 11  end_latitude              225627 non-null  float64       \n",
      " 12  end_longitude             225627 non-null  float64       \n",
      " 13  distance                  225627 non-null  float64       \n",
      " 14  speed                     225627 non-null  float64       \n",
      " 15  start_time_floored        225627 non-null  datetime64[ns]\n",
      " 16  starting_trips            225627 non-null  float64       \n",
      " 17  ongoing_trips_prev        225627 non-null  float64       \n",
      " 18  in_service_bikes_rolling  225627 non-null  float64       \n",
      " 19  available_bikes           225627 non-null  float64       \n",
      " 20  max_temp                  225627 non-null  float64       \n",
      " 21  min_temp                  225627 non-null  float64       \n",
      " 22  precip                    225627 non-null  float64       \n",
      " 23  hour                      225627 non-null  int64         \n",
      " 24  day_of_week               225627 non-null  int64         \n",
      " 25  month                     225627 non-null  int64         \n",
      " 26  day_of_year               225627 non-null  int64         \n",
      " 27  week                      225627 non-null  int64         \n",
      " 28  is_weekday                225627 non-null  int64         \n",
      " 29  is_holiday                225627 non-null  int64         \n",
      " 30  duration_min              225627 non-null  float64       \n",
      " 31  hour_end                  225627 non-null  int64         \n",
      "dtypes: datetime64[ns](3), float64(15), int64(10), object(4)\n",
      "memory usage: 56.8+ MB\n"
     ]
    }
   ],
   "source": [
    "trips_df.info()"
   ]
  },
  {
   "cell_type": "code",
   "execution_count": 160,
   "metadata": {
    "pycharm": {
     "name": "#%%\n"
    }
   },
   "outputs": [],
   "source": [
    "trips_df = trips_df.drop(columns=[\n",
    "    'start_time','end_time',\n",
    "    'start_station_id', 'end_station_id',\n",
    "    'start_station_name', 'end_station_name',\n",
    "    'start_latitude','start_longitude',\n",
    "    'end_latitude','end_longitude',\n",
    "    'start_time_floored','bike_id','user_type',\n",
    "    'starting_trips', 'ongoing_trips_prev',\n",
    "    'in_service_bikes_rolling','available_bikes',\n",
    "    'min_temp', 'week', 'day_of_year'])\n",
    "\n",
    "trips_df = trips_df.rename(columns={\"hour\": \"hour_start\", \"max_temp\": \"temp\"})"
   ]
  },
  {
   "cell_type": "code",
   "execution_count": 161,
   "metadata": {
    "pycharm": {
     "name": "#%%\n"
    }
   },
   "outputs": [
    {
     "name": "stdout",
     "output_type": "stream",
     "text": [
      "<class 'pandas.core.frame.DataFrame'>\n",
      "Int64Index: 225627 entries, 19 to 290340\n",
      "Data columns (total 12 columns):\n",
      " #   Column        Non-Null Count   Dtype  \n",
      "---  ------        --------------   -----  \n",
      " 0   duration      225627 non-null  float64\n",
      " 1   distance      225627 non-null  float64\n",
      " 2   speed         225627 non-null  float64\n",
      " 3   temp          225627 non-null  float64\n",
      " 4   precip        225627 non-null  float64\n",
      " 5   hour_start    225627 non-null  int64  \n",
      " 6   day_of_week   225627 non-null  int64  \n",
      " 7   month         225627 non-null  int64  \n",
      " 8   is_weekday    225627 non-null  int64  \n",
      " 9   is_holiday    225627 non-null  int64  \n",
      " 10  duration_min  225627 non-null  float64\n",
      " 11  hour_end      225627 non-null  int64  \n",
      "dtypes: float64(6), int64(6)\n",
      "memory usage: 22.4 MB\n"
     ]
    }
   ],
   "source": [
    "trips_df.info()"
   ]
  },
  {
   "cell_type": "code",
   "execution_count": 162,
   "metadata": {
    "pycharm": {
     "name": "#%%\n"
    }
   },
   "outputs": [],
   "source": [
    "trips_df.to_pickle('../00_data/trips_with_hourly_features.pkl')"
   ]
  }
 ],
 "metadata": {
  "kernelspec": {
   "display_name": "PyCharm (aa_2021_magma)",
   "language": "python",
   "name": "pycharm-53867d80"
  },
  "language_info": {
   "codemirror_mode": {
    "name": "ipython",
    "version": 3
   },
   "file_extension": ".py",
   "mimetype": "text/x-python",
   "name": "python",
   "nbconvert_exporter": "python",
   "pygments_lexer": "ipython3",
   "version": "3.8.0"
  }
 },
 "nbformat": 4,
 "nbformat_minor": 1
}
