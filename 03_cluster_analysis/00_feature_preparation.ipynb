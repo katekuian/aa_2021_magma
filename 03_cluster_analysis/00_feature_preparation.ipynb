{
 "cells": [
  {
   "cell_type": "markdown",
   "source": [
    "# Feature Preparation for Clustering Trips and Stations"
   ],
   "metadata": {
    "collapsed": false
   }
  },
  {
   "cell_type": "code",
   "execution_count": 1,
   "metadata": {
    "pycharm": {
     "name": "#%%\n"
    }
   },
   "outputs": [],
   "source": [
    "import pandas as pd"
   ]
  },
  {
   "cell_type": "code",
   "execution_count": 2,
   "metadata": {
    "pycharm": {
     "name": "#%%\n"
    }
   },
   "outputs": [
    {
     "data": {
      "text/plain": "           start_time            end_time  start_station_id  end_station_id  \\\n0 2019-01-01 00:18:00 2019-01-01 00:50:00              3030            3075   \n1 2019-01-01 00:20:00 2019-01-01 00:50:00              3030            3075   \n\n  bike_id user_type start_station_name end_station_name        duration  \\\n0   05992   Walk-up         Main & 1st   Broadway & 9th 0 days 00:32:00   \n1   05860   Walk-up         Main & 1st   Broadway & 9th 0 days 00:30:00   \n\n   start_latitude  ...  sustenance_poi_start  public_transport_poi_start  \\\n0        34.05194  ...                    80                          28   \n1        34.05194  ...                    80                          28   \n\n   education_poi_start  arts_and_culture_poi_start  sports_poi_start  \\\n0                    2                           4                 0   \n1                    2                           4                 0   \n\n  sustenance_poi_end public_transport_poi_end  education_poi_end  \\\n0                 67                       51                  0   \n1                 67                       51                  0   \n\n   arts_and_culture_poi_end  sports_poi_end  \n0                         4               4  \n1                         4               4  \n\n[2 rows x 27 columns]",
      "text/html": "<div>\n<style scoped>\n    .dataframe tbody tr th:only-of-type {\n        vertical-align: middle;\n    }\n\n    .dataframe tbody tr th {\n        vertical-align: top;\n    }\n\n    .dataframe thead th {\n        text-align: right;\n    }\n</style>\n<table border=\"1\" class=\"dataframe\">\n  <thead>\n    <tr style=\"text-align: right;\">\n      <th></th>\n      <th>start_time</th>\n      <th>end_time</th>\n      <th>start_station_id</th>\n      <th>end_station_id</th>\n      <th>bike_id</th>\n      <th>user_type</th>\n      <th>start_station_name</th>\n      <th>end_station_name</th>\n      <th>duration</th>\n      <th>start_latitude</th>\n      <th>...</th>\n      <th>sustenance_poi_start</th>\n      <th>public_transport_poi_start</th>\n      <th>education_poi_start</th>\n      <th>arts_and_culture_poi_start</th>\n      <th>sports_poi_start</th>\n      <th>sustenance_poi_end</th>\n      <th>public_transport_poi_end</th>\n      <th>education_poi_end</th>\n      <th>arts_and_culture_poi_end</th>\n      <th>sports_poi_end</th>\n    </tr>\n  </thead>\n  <tbody>\n    <tr>\n      <th>0</th>\n      <td>2019-01-01 00:18:00</td>\n      <td>2019-01-01 00:50:00</td>\n      <td>3030</td>\n      <td>3075</td>\n      <td>05992</td>\n      <td>Walk-up</td>\n      <td>Main &amp; 1st</td>\n      <td>Broadway &amp; 9th</td>\n      <td>0 days 00:32:00</td>\n      <td>34.05194</td>\n      <td>...</td>\n      <td>80</td>\n      <td>28</td>\n      <td>2</td>\n      <td>4</td>\n      <td>0</td>\n      <td>67</td>\n      <td>51</td>\n      <td>0</td>\n      <td>4</td>\n      <td>4</td>\n    </tr>\n    <tr>\n      <th>1</th>\n      <td>2019-01-01 00:20:00</td>\n      <td>2019-01-01 00:50:00</td>\n      <td>3030</td>\n      <td>3075</td>\n      <td>05860</td>\n      <td>Walk-up</td>\n      <td>Main &amp; 1st</td>\n      <td>Broadway &amp; 9th</td>\n      <td>0 days 00:30:00</td>\n      <td>34.05194</td>\n      <td>...</td>\n      <td>80</td>\n      <td>28</td>\n      <td>2</td>\n      <td>4</td>\n      <td>0</td>\n      <td>67</td>\n      <td>51</td>\n      <td>0</td>\n      <td>4</td>\n      <td>4</td>\n    </tr>\n  </tbody>\n</table>\n<p>2 rows × 27 columns</p>\n</div>"
     },
     "execution_count": 2,
     "metadata": {},
     "output_type": "execute_result"
    }
   ],
   "source": [
    "trips_df = pd.read_pickle('../00_data/trips.pkl')\n",
    "trips_df.head(2)"
   ]
  },
  {
   "cell_type": "code",
   "execution_count": 3,
   "metadata": {
    "pycharm": {
     "name": "#%%\n"
    }
   },
   "outputs": [
    {
     "data": {
      "text/plain": "                     starting_trips  ongoing_trips_prev  available_bikes  \\\nindex                                                                      \n2019-01-01 01:00:00             8.0                 2.0            870.0   \n2019-01-01 02:00:00            11.0                 4.0            868.0   \n\n                     min_temp  hour  month  is_weekday  is_holiday  \nindex                                                               \n2019-01-01 01:00:00      15.6     1      1        True        True  \n2019-01-01 02:00:00      15.0     2      1        True        True  ",
      "text/html": "<div>\n<style scoped>\n    .dataframe tbody tr th:only-of-type {\n        vertical-align: middle;\n    }\n\n    .dataframe tbody tr th {\n        vertical-align: top;\n    }\n\n    .dataframe thead th {\n        text-align: right;\n    }\n</style>\n<table border=\"1\" class=\"dataframe\">\n  <thead>\n    <tr style=\"text-align: right;\">\n      <th></th>\n      <th>starting_trips</th>\n      <th>ongoing_trips_prev</th>\n      <th>available_bikes</th>\n      <th>min_temp</th>\n      <th>hour</th>\n      <th>month</th>\n      <th>is_weekday</th>\n      <th>is_holiday</th>\n    </tr>\n    <tr>\n      <th>index</th>\n      <th></th>\n      <th></th>\n      <th></th>\n      <th></th>\n      <th></th>\n      <th></th>\n      <th></th>\n      <th></th>\n    </tr>\n  </thead>\n  <tbody>\n    <tr>\n      <th>2019-01-01 01:00:00</th>\n      <td>8.0</td>\n      <td>2.0</td>\n      <td>870.0</td>\n      <td>15.6</td>\n      <td>1</td>\n      <td>1</td>\n      <td>True</td>\n      <td>True</td>\n    </tr>\n    <tr>\n      <th>2019-01-01 02:00:00</th>\n      <td>11.0</td>\n      <td>4.0</td>\n      <td>868.0</td>\n      <td>15.0</td>\n      <td>2</td>\n      <td>1</td>\n      <td>True</td>\n      <td>True</td>\n    </tr>\n  </tbody>\n</table>\n</div>"
     },
     "execution_count": 3,
     "metadata": {},
     "output_type": "execute_result"
    }
   ],
   "source": [
    "trips_hourly_df = pd.read_pickle('../00_data/trips_hourly_selected.pkl')\n",
    "trips_hourly_df.head(2)"
   ]
  },
  {
   "cell_type": "markdown",
   "metadata": {
    "pycharm": {
     "name": "#%% md\n"
    }
   },
   "source": [
    "Let's merge the hourly data to our trip dataframe. To do that we have to have a column that has the same values as the hourly-data-index. "
   ]
  },
  {
   "cell_type": "code",
   "execution_count": 4,
   "metadata": {},
   "outputs": [
    {
     "data": {
      "text/plain": "                start_time            end_time  start_station_id  \\\n210759 2019-01-01 01:29:00 2019-01-01 02:49:00              4211   \n55231  2019-01-01 01:31:00 2019-01-01 01:35:00              3027   \n\n        end_station_id bike_id user_type      start_station_name  \\\n210759            4211   12244   Walk-up  Pacific & North Venice   \n55231             3046   05819   Walk-up            Spring & 3rd   \n\n              end_station_name        duration  start_latitude  ...  \\\n210759  Pacific & North Venice 0 days 01:20:00        33.98493  ...   \n55231               2nd & Hill 0 days 00:04:00        34.04998  ...   \n\n        sports_poi_end  start_time_floored  starting_trips  \\\n210759               0 2019-01-01 01:00:00             8.0   \n55231                1 2019-01-01 01:00:00             8.0   \n\n        ongoing_trips_prev  available_bikes min_temp hour  month  is_weekday  \\\n210759                 2.0            870.0     15.6    1      1        True   \n55231                  2.0            870.0     15.6    1      1        True   \n\n        is_holiday  \n210759        True  \n55231         True  \n\n[2 rows x 36 columns]",
      "text/html": "<div>\n<style scoped>\n    .dataframe tbody tr th:only-of-type {\n        vertical-align: middle;\n    }\n\n    .dataframe tbody tr th {\n        vertical-align: top;\n    }\n\n    .dataframe thead th {\n        text-align: right;\n    }\n</style>\n<table border=\"1\" class=\"dataframe\">\n  <thead>\n    <tr style=\"text-align: right;\">\n      <th></th>\n      <th>start_time</th>\n      <th>end_time</th>\n      <th>start_station_id</th>\n      <th>end_station_id</th>\n      <th>bike_id</th>\n      <th>user_type</th>\n      <th>start_station_name</th>\n      <th>end_station_name</th>\n      <th>duration</th>\n      <th>start_latitude</th>\n      <th>...</th>\n      <th>sports_poi_end</th>\n      <th>start_time_floored</th>\n      <th>starting_trips</th>\n      <th>ongoing_trips_prev</th>\n      <th>available_bikes</th>\n      <th>min_temp</th>\n      <th>hour</th>\n      <th>month</th>\n      <th>is_weekday</th>\n      <th>is_holiday</th>\n    </tr>\n  </thead>\n  <tbody>\n    <tr>\n      <th>210759</th>\n      <td>2019-01-01 01:29:00</td>\n      <td>2019-01-01 02:49:00</td>\n      <td>4211</td>\n      <td>4211</td>\n      <td>12244</td>\n      <td>Walk-up</td>\n      <td>Pacific &amp; North Venice</td>\n      <td>Pacific &amp; North Venice</td>\n      <td>0 days 01:20:00</td>\n      <td>33.98493</td>\n      <td>...</td>\n      <td>0</td>\n      <td>2019-01-01 01:00:00</td>\n      <td>8.0</td>\n      <td>2.0</td>\n      <td>870.0</td>\n      <td>15.6</td>\n      <td>1</td>\n      <td>1</td>\n      <td>True</td>\n      <td>True</td>\n    </tr>\n    <tr>\n      <th>55231</th>\n      <td>2019-01-01 01:31:00</td>\n      <td>2019-01-01 01:35:00</td>\n      <td>3027</td>\n      <td>3046</td>\n      <td>05819</td>\n      <td>Walk-up</td>\n      <td>Spring &amp; 3rd</td>\n      <td>2nd &amp; Hill</td>\n      <td>0 days 00:04:00</td>\n      <td>34.04998</td>\n      <td>...</td>\n      <td>1</td>\n      <td>2019-01-01 01:00:00</td>\n      <td>8.0</td>\n      <td>2.0</td>\n      <td>870.0</td>\n      <td>15.6</td>\n      <td>1</td>\n      <td>1</td>\n      <td>True</td>\n      <td>True</td>\n    </tr>\n  </tbody>\n</table>\n<p>2 rows × 36 columns</p>\n</div>"
     },
     "execution_count": 4,
     "metadata": {},
     "output_type": "execute_result"
    }
   ],
   "source": [
    "trips_df[\"start_time_floored\"]=trips_df['start_time'].dt.floor('H')\n",
    "trips_df = trips_df.sort_values(\"start_time\")\n",
    "len_before_merge = len(trips_df)\n",
    "trips_df = trips_df.merge(trips_hourly_df, left_on='start_time_floored', right_index=True)\n",
    "trips_df.head(2)"
   ]
  },
  {
   "cell_type": "markdown",
   "metadata": {},
   "source": [
    "Now we can compute how many rows we lost:"
   ]
  },
  {
   "cell_type": "code",
   "execution_count": 5,
   "metadata": {},
   "outputs": [
    {
     "name": "stdout",
     "output_type": "stream",
     "text": [
      "14\n"
     ]
    }
   ],
   "source": [
    "print(len_before_merge - len(trips_df))"
   ]
  },
  {
   "cell_type": "markdown",
   "metadata": {},
   "source": [
    "Those 14 trips were started between 0:00 am and 1:00 am at the first of january 2019. For this hour there is no hourly\n",
    "data created so it was dropped when merging.\n",
    "Now we will edit some columns to our needs:\n",
    "- set the duration in minutes\n",
    "- set an end hour\n",
    "- change boolean values to 1 and 0\n",
    "- change user types to numbers\n"
   ]
  },
  {
   "cell_type": "code",
   "execution_count": 6,
   "outputs": [
    {
     "data": {
      "text/plain": "                start_time            end_time  start_station_id  \\\n210759 2019-01-01 01:29:00 2019-01-01 02:49:00              4211   \n55231  2019-01-01 01:31:00 2019-01-01 01:35:00              3027   \n\n        end_station_id bike_id  user_type      start_station_name  \\\n210759            4211   12244          0  Pacific & North Venice   \n55231             3046   05819          0            Spring & 3rd   \n\n              end_station_name  duration  start_latitude  ...  \\\n210759  Pacific & North Venice      80.0        33.98493  ...   \n55231               2nd & Hill       4.0        34.04998  ...   \n\n        start_time_floored  starting_trips  ongoing_trips_prev  \\\n210759 2019-01-01 01:00:00             8.0                 2.0   \n55231  2019-01-01 01:00:00             8.0                 2.0   \n\n        available_bikes  min_temp hour month  is_weekday  is_holiday  hour_end  \n210759            870.0      15.6    1     1           1           1         2  \n55231             870.0      15.6    1     1           1           1         1  \n\n[2 rows x 37 columns]",
      "text/html": "<div>\n<style scoped>\n    .dataframe tbody tr th:only-of-type {\n        vertical-align: middle;\n    }\n\n    .dataframe tbody tr th {\n        vertical-align: top;\n    }\n\n    .dataframe thead th {\n        text-align: right;\n    }\n</style>\n<table border=\"1\" class=\"dataframe\">\n  <thead>\n    <tr style=\"text-align: right;\">\n      <th></th>\n      <th>start_time</th>\n      <th>end_time</th>\n      <th>start_station_id</th>\n      <th>end_station_id</th>\n      <th>bike_id</th>\n      <th>user_type</th>\n      <th>start_station_name</th>\n      <th>end_station_name</th>\n      <th>duration</th>\n      <th>start_latitude</th>\n      <th>...</th>\n      <th>start_time_floored</th>\n      <th>starting_trips</th>\n      <th>ongoing_trips_prev</th>\n      <th>available_bikes</th>\n      <th>min_temp</th>\n      <th>hour</th>\n      <th>month</th>\n      <th>is_weekday</th>\n      <th>is_holiday</th>\n      <th>hour_end</th>\n    </tr>\n  </thead>\n  <tbody>\n    <tr>\n      <th>210759</th>\n      <td>2019-01-01 01:29:00</td>\n      <td>2019-01-01 02:49:00</td>\n      <td>4211</td>\n      <td>4211</td>\n      <td>12244</td>\n      <td>0</td>\n      <td>Pacific &amp; North Venice</td>\n      <td>Pacific &amp; North Venice</td>\n      <td>80.0</td>\n      <td>33.98493</td>\n      <td>...</td>\n      <td>2019-01-01 01:00:00</td>\n      <td>8.0</td>\n      <td>2.0</td>\n      <td>870.0</td>\n      <td>15.6</td>\n      <td>1</td>\n      <td>1</td>\n      <td>1</td>\n      <td>1</td>\n      <td>2</td>\n    </tr>\n    <tr>\n      <th>55231</th>\n      <td>2019-01-01 01:31:00</td>\n      <td>2019-01-01 01:35:00</td>\n      <td>3027</td>\n      <td>3046</td>\n      <td>05819</td>\n      <td>0</td>\n      <td>Spring &amp; 3rd</td>\n      <td>2nd &amp; Hill</td>\n      <td>4.0</td>\n      <td>34.04998</td>\n      <td>...</td>\n      <td>2019-01-01 01:00:00</td>\n      <td>8.0</td>\n      <td>2.0</td>\n      <td>870.0</td>\n      <td>15.6</td>\n      <td>1</td>\n      <td>1</td>\n      <td>1</td>\n      <td>1</td>\n      <td>1</td>\n    </tr>\n  </tbody>\n</table>\n<p>2 rows × 37 columns</p>\n</div>"
     },
     "execution_count": 6,
     "metadata": {},
     "output_type": "execute_result"
    }
   ],
   "source": [
    "trips_df['duration'] = trips_df['duration'].dt.seconds/60\n",
    "trips_df[\"hour_end\"] = trips_df['end_time'].dt.hour\n",
    "trips_df[\"is_weekday\"] = trips_df[\"is_weekday\"].apply(lambda x: int(x))\n",
    "trips_df[\"is_holiday\"] = trips_df[\"is_holiday\"].apply(lambda x: int(x))\n",
    "types = ['Walk-up', 'Monthly Pass', 'Annual Pass', 'One Day Pass', 'Flex Pass', 'Testing']\n",
    "trips_df[\"user_type\"] = trips_df[\"user_type\"].apply(lambda x: types.index(x) if type(x) == str else None)\n",
    "\n",
    "trips_df.head(2)"
   ],
   "metadata": {
    "collapsed": false,
    "pycharm": {
     "name": "#%%\n"
    }
   }
  },
  {
   "cell_type": "markdown",
   "metadata": {},
   "source": [
    "Lastly let us take a look at the columns and which of them we will need. We drop the others and save the dataframe as a pickle."
   ]
  },
  {
   "cell_type": "code",
   "execution_count": 7,
   "metadata": {
    "pycharm": {
     "name": "#%%\n"
    }
   },
   "outputs": [
    {
     "name": "stdout",
     "output_type": "stream",
     "text": [
      "<class 'pandas.core.frame.DataFrame'>\n",
      "Int64Index: 225280 entries, 210759 to 130228\n",
      "Data columns (total 37 columns):\n",
      " #   Column                      Non-Null Count   Dtype         \n",
      "---  ------                      --------------   -----         \n",
      " 0   start_time                  225280 non-null  datetime64[ns]\n",
      " 1   end_time                    225280 non-null  datetime64[ns]\n",
      " 2   start_station_id            225280 non-null  int64         \n",
      " 3   end_station_id              225280 non-null  int64         \n",
      " 4   bike_id                     225280 non-null  object        \n",
      " 5   user_type                   225280 non-null  int64         \n",
      " 6   start_station_name          225280 non-null  object        \n",
      " 7   end_station_name            225280 non-null  object        \n",
      " 8   duration                    225280 non-null  float64       \n",
      " 9   start_latitude              225280 non-null  float64       \n",
      " 10  start_longitude             225280 non-null  float64       \n",
      " 11  end_latitude                225280 non-null  float64       \n",
      " 12  end_longitude               225280 non-null  float64       \n",
      " 13  distance                    225280 non-null  float64       \n",
      " 14  speed                       225280 non-null  float64       \n",
      " 15  start_hex                   225280 non-null  object        \n",
      " 16  end_hex                     225280 non-null  object        \n",
      " 17  sustenance_poi_start        225280 non-null  int64         \n",
      " 18  public_transport_poi_start  225280 non-null  int64         \n",
      " 19  education_poi_start         225280 non-null  int64         \n",
      " 20  arts_and_culture_poi_start  225280 non-null  int64         \n",
      " 21  sports_poi_start            225280 non-null  int64         \n",
      " 22  sustenance_poi_end          225280 non-null  int64         \n",
      " 23  public_transport_poi_end    225280 non-null  int64         \n",
      " 24  education_poi_end           225280 non-null  int64         \n",
      " 25  arts_and_culture_poi_end    225280 non-null  int64         \n",
      " 26  sports_poi_end              225280 non-null  int64         \n",
      " 27  start_time_floored          225280 non-null  datetime64[ns]\n",
      " 28  starting_trips              225280 non-null  float64       \n",
      " 29  ongoing_trips_prev          225280 non-null  float64       \n",
      " 30  available_bikes             225280 non-null  float64       \n",
      " 31  min_temp                    225280 non-null  float64       \n",
      " 32  hour                        225280 non-null  int64         \n",
      " 33  month                       225280 non-null  int64         \n",
      " 34  is_weekday                  225280 non-null  int64         \n",
      " 35  is_holiday                  225280 non-null  int64         \n",
      " 36  hour_end                    225280 non-null  int64         \n",
      "dtypes: datetime64[ns](3), float64(11), int64(18), object(5)\n",
      "memory usage: 65.3+ MB\n"
     ]
    }
   ],
   "source": [
    "trips_df.info()"
   ]
  },
  {
   "cell_type": "code",
   "execution_count": 8,
   "metadata": {
    "pycharm": {
     "name": "#%%\n"
    }
   },
   "outputs": [],
   "source": [
    "trips_with_hourly_df = trips_df.drop(columns=[\n",
    "    'start_time','end_time',                    # start and end hour accurate enough\n",
    "    'start_station_id', 'end_station_id',       # station id not important only where it is\n",
    "    'start_station_name', 'end_station_name',   # station name not important only where it is\n",
    "    'bike_id', 'start_hex', 'end_hex',          # bike_id unique and hex not for clustering\n",
    "    'sustenance_poi_start', 'public_transport_poi_start', # POI's dependent on location\n",
    "    'education_poi_start', 'arts_and_culture_poi_start',  # we want to cluster location via latitude and longitude\n",
    "    'sports_poi_start', 'sustenance_poi_end',\n",
    "    'public_transport_poi_end', 'education_poi_end',\n",
    "    'arts_and_culture_poi_end', 'sports_poi_end',\n",
    "    'start_time_floored',                       # start time in start_hour\n",
    "    'starting_trips', 'ongoing_trips_prev',     # not important for single trip\n",
    "    'available_bikes'                           # not important for single trip\n",
    "   ])\n",
    "trips_with_hourly_df = trips_with_hourly_df.rename(columns={\"hour\": \"hour_start\", \"min_temp\": \"temp\"})"
   ]
  },
  {
   "cell_type": "code",
   "execution_count": 9,
   "metadata": {
    "pycharm": {
     "name": "#%%\n"
    }
   },
   "outputs": [
    {
     "name": "stdout",
     "output_type": "stream",
     "text": [
      "<class 'pandas.core.frame.DataFrame'>\n",
      "Int64Index: 225280 entries, 210759 to 130228\n",
      "Data columns (total 14 columns):\n",
      " #   Column           Non-Null Count   Dtype  \n",
      "---  ------           --------------   -----  \n",
      " 0   user_type        225280 non-null  int64  \n",
      " 1   duration         225280 non-null  float64\n",
      " 2   start_latitude   225280 non-null  float64\n",
      " 3   start_longitude  225280 non-null  float64\n",
      " 4   end_latitude     225280 non-null  float64\n",
      " 5   end_longitude    225280 non-null  float64\n",
      " 6   distance         225280 non-null  float64\n",
      " 7   speed            225280 non-null  float64\n",
      " 8   temp             225280 non-null  float64\n",
      " 9   hour_start       225280 non-null  int64  \n",
      " 10  month            225280 non-null  int64  \n",
      " 11  is_weekday       225280 non-null  int64  \n",
      " 12  is_holiday       225280 non-null  int64  \n",
      " 13  hour_end         225280 non-null  int64  \n",
      "dtypes: float64(8), int64(6)\n",
      "memory usage: 25.8 MB\n"
     ]
    }
   ],
   "source": [
    "trips_with_hourly_df.info()"
   ]
  },
  {
   "cell_type": "code",
   "execution_count": 10,
   "metadata": {
    "pycharm": {
     "name": "#%%\n"
    }
   },
   "outputs": [],
   "source": [
    "trips_with_hourly_df.to_pickle('../00_data/trips_with_hourly_features.pkl')"
   ]
  },
  {
   "cell_type": "markdown",
   "source": [
    "# Feature Preparation for clustering locations based on demand"
   ],
   "metadata": {
    "collapsed": false,
    "pycharm": {
     "name": "#%% md\n"
    }
   }
  },
  {
   "cell_type": "markdown",
   "source": [
    "We filter only demand related features from the trips dataframe and save them to trips_demand_df."
   ],
   "metadata": {
    "collapsed": false,
    "pycharm": {
     "name": "#%% md\n"
    }
   }
  },
  {
   "cell_type": "code",
   "execution_count": 11,
   "outputs": [
    {
     "name": "stdout",
     "output_type": "stream",
     "text": [
      "<class 'pandas.core.frame.DataFrame'>\n",
      "Int64Index: 225280 entries, 210759 to 130228\n",
      "Data columns (total 37 columns):\n",
      " #   Column                      Non-Null Count   Dtype         \n",
      "---  ------                      --------------   -----         \n",
      " 0   start_time                  225280 non-null  datetime64[ns]\n",
      " 1   end_time                    225280 non-null  datetime64[ns]\n",
      " 2   start_station_id            225280 non-null  int64         \n",
      " 3   end_station_id              225280 non-null  int64         \n",
      " 4   bike_id                     225280 non-null  object        \n",
      " 5   user_type                   225280 non-null  int64         \n",
      " 6   start_station_name          225280 non-null  object        \n",
      " 7   end_station_name            225280 non-null  object        \n",
      " 8   duration                    225280 non-null  float64       \n",
      " 9   start_latitude              225280 non-null  float64       \n",
      " 10  start_longitude             225280 non-null  float64       \n",
      " 11  end_latitude                225280 non-null  float64       \n",
      " 12  end_longitude               225280 non-null  float64       \n",
      " 13  distance                    225280 non-null  float64       \n",
      " 14  speed                       225280 non-null  float64       \n",
      " 15  start_hex                   225280 non-null  object        \n",
      " 16  end_hex                     225280 non-null  object        \n",
      " 17  sustenance_poi_start        225280 non-null  int64         \n",
      " 18  public_transport_poi_start  225280 non-null  int64         \n",
      " 19  education_poi_start         225280 non-null  int64         \n",
      " 20  arts_and_culture_poi_start  225280 non-null  int64         \n",
      " 21  sports_poi_start            225280 non-null  int64         \n",
      " 22  sustenance_poi_end          225280 non-null  int64         \n",
      " 23  public_transport_poi_end    225280 non-null  int64         \n",
      " 24  education_poi_end           225280 non-null  int64         \n",
      " 25  arts_and_culture_poi_end    225280 non-null  int64         \n",
      " 26  sports_poi_end              225280 non-null  int64         \n",
      " 27  start_time_floored          225280 non-null  datetime64[ns]\n",
      " 28  starting_trips              225280 non-null  float64       \n",
      " 29  ongoing_trips_prev          225280 non-null  float64       \n",
      " 30  available_bikes             225280 non-null  float64       \n",
      " 31  min_temp                    225280 non-null  float64       \n",
      " 32  hour                        225280 non-null  int64         \n",
      " 33  month                       225280 non-null  int64         \n",
      " 34  is_weekday                  225280 non-null  int64         \n",
      " 35  is_holiday                  225280 non-null  int64         \n",
      " 36  hour_end                    225280 non-null  int64         \n",
      "dtypes: datetime64[ns](3), float64(11), int64(18), object(5)\n",
      "memory usage: 65.3+ MB\n"
     ]
    }
   ],
   "source": [
    "trips_df.info()"
   ],
   "metadata": {
    "collapsed": false,
    "pycharm": {
     "name": "#%%\n"
    }
   }
  },
  {
   "cell_type": "code",
   "execution_count": 12,
   "outputs": [],
   "source": [
    "trips_demand_df = trips_df[[\"start_time\", \"end_time\", \"start_station_id\", \"end_station_id\", \"hour\", \"month\", \"is_weekday\", \"is_holiday\", \"hour_end\"]\n",
    "]"
   ],
   "metadata": {
    "collapsed": false,
    "pycharm": {
     "name": "#%%\n"
    }
   }
  },
  {
   "cell_type": "code",
   "execution_count": 13,
   "outputs": [
    {
     "data": {
      "text/plain": "                start_time            end_time  start_station_id  \\\n210759 2019-01-01 01:29:00 2019-01-01 02:49:00              4211   \n55231  2019-01-01 01:31:00 2019-01-01 01:35:00              3027   \n\n        end_station_id  hour  month  is_weekday  is_holiday  hour_end  \n210759            4211     1      1           1           1         2  \n55231             3046     1      1           1           1         1  ",
      "text/html": "<div>\n<style scoped>\n    .dataframe tbody tr th:only-of-type {\n        vertical-align: middle;\n    }\n\n    .dataframe tbody tr th {\n        vertical-align: top;\n    }\n\n    .dataframe thead th {\n        text-align: right;\n    }\n</style>\n<table border=\"1\" class=\"dataframe\">\n  <thead>\n    <tr style=\"text-align: right;\">\n      <th></th>\n      <th>start_time</th>\n      <th>end_time</th>\n      <th>start_station_id</th>\n      <th>end_station_id</th>\n      <th>hour</th>\n      <th>month</th>\n      <th>is_weekday</th>\n      <th>is_holiday</th>\n      <th>hour_end</th>\n    </tr>\n  </thead>\n  <tbody>\n    <tr>\n      <th>210759</th>\n      <td>2019-01-01 01:29:00</td>\n      <td>2019-01-01 02:49:00</td>\n      <td>4211</td>\n      <td>4211</td>\n      <td>1</td>\n      <td>1</td>\n      <td>1</td>\n      <td>1</td>\n      <td>2</td>\n    </tr>\n    <tr>\n      <th>55231</th>\n      <td>2019-01-01 01:31:00</td>\n      <td>2019-01-01 01:35:00</td>\n      <td>3027</td>\n      <td>3046</td>\n      <td>1</td>\n      <td>1</td>\n      <td>1</td>\n      <td>1</td>\n      <td>1</td>\n    </tr>\n  </tbody>\n</table>\n</div>"
     },
     "execution_count": 13,
     "metadata": {},
     "output_type": "execute_result"
    }
   ],
   "source": [
    "trips_demand_df.head(2)"
   ],
   "metadata": {
    "collapsed": false,
    "pycharm": {
     "name": "#%%\n"
    }
   }
  },
  {
   "cell_type": "markdown",
   "source": [
    "Then we create different features from our demand related data:"
   ],
   "metadata": {
    "collapsed": false,
    "pycharm": {
     "name": "#%% md\n"
    }
   }
  },
  {
   "cell_type": "markdown",
   "source": [
    "- Demnad at different times in a day"
   ],
   "metadata": {
    "collapsed": false,
    "pycharm": {
     "name": "#%% md\n"
    }
   }
  },
  {
   "cell_type": "code",
   "execution_count": 14,
   "outputs": [],
   "source": [
    "# filter dataframe for different features\n",
    "morning_df = trips_demand_df[(trips_demand_df[\"hour\"] > 4) & (trips_demand_df[\"hour\"] <= 10)]\n",
    "noon_df = trips_demand_df[(trips_demand_df[\"hour\"] > 10) & (trips_demand_df[\"hour\"] <= 16)]\n",
    "evening_df = trips_demand_df[(trips_demand_df[\"hour\"] > 16) & (trips_demand_df[\"hour\"] <= 22)]\n",
    "night_df = trips_demand_df[(trips_demand_df[\"hour\"] > 22) | (trips_demand_df[\"hour\"] <= 4)]\n",
    "\n",
    "morning_end_df = trips_demand_df[(trips_demand_df[\"hour_end\"] > 4) & (trips_demand_df[\"hour_end\"] <= 10)]\n",
    "noon_end_df = trips_demand_df[(trips_demand_df[\"hour_end\"] > 10) & (trips_demand_df[\"hour_end\"] <= 16)]\n",
    "evening_end_df = trips_demand_df[(trips_demand_df[\"hour_end\"] > 16) & (trips_demand_df[\"hour_end\"] <= 22)]\n",
    "night_end_df = trips_demand_df[(trips_demand_df[\"hour_end\"] > 22) | (trips_demand_df[\"hour_end\"] <= 4)]\n",
    "\n",
    "# save time new features to stations\n",
    "start_all = trips_demand_df.groupby(\"start_station_id\").size()\n",
    "stations_new_df = pd.DataFrame({\"start_all\": start_all})\n",
    "stations_new_df[\"end_all\"] = trips_demand_df.groupby(\"end_station_id\").size()\n",
    "stations_new_df[\"fluctuation\"] = stations_new_df[\"end_all\"] - stations_new_df[\"start_all\"]\n",
    "\n",
    "stations_new_df[\"start_morning\"] = morning_df.groupby(\"start_station_id\").size()\n",
    "stations_new_df[\"start_noon\"] = noon_df.groupby(\"start_station_id\").size()\n",
    "stations_new_df[\"start_evening\"] = evening_df.groupby(\"start_station_id\").size()\n",
    "stations_new_df[\"start_night\"] = night_df.groupby(\"start_station_id\").size()\n",
    "\n",
    "stations_new_df[\"end_morning\"] = morning_end_df.groupby(\"end_station_id\").size()\n",
    "stations_new_df[\"end_noon\"] = noon_end_df.groupby(\"end_station_id\").size()\n",
    "stations_new_df[\"end_evening\"] = evening_end_df.groupby(\"end_station_id\").size()\n",
    "stations_new_df[\"end_night\"] = night_end_df.groupby(\"end_station_id\").size()"
   ],
   "metadata": {
    "collapsed": false,
    "pycharm": {
     "name": "#%%\n"
    }
   }
  },
  {
   "cell_type": "markdown",
   "source": [
    "- Demnad in different seasons"
   ],
   "metadata": {
    "collapsed": false,
    "pycharm": {
     "name": "#%% md\n"
    }
   }
  },
  {
   "cell_type": "code",
   "execution_count": 15,
   "outputs": [],
   "source": [
    "# filter dataframe for different features\n",
    "summer_df = trips_demand_df[(trips_demand_df[\"month\"] > 3) & (trips_demand_df[\"hour\"] <= 9)]\n",
    "winter_df = trips_demand_df[(trips_demand_df[\"month\"] > 9) | (trips_demand_df[\"hour\"] <= 3)]\n",
    "\n",
    "# save time new features to stations\n",
    "stations_new_df[\"start_summer\"] = summer_df.groupby(\"start_station_id\").size()\n",
    "stations_new_df[\"end_summer\"] = summer_df.groupby(\"end_station_id\").size()\n",
    "stations_new_df[\"start_winter\"] = winter_df.groupby(\"start_station_id\").size()\n",
    "stations_new_df[\"end_winter\"] = winter_df.groupby(\"end_station_id\").size()"
   ],
   "metadata": {
    "collapsed": false,
    "pycharm": {
     "name": "#%%\n"
    }
   }
  },
  {
   "cell_type": "markdown",
   "source": [
    "- Demnad on weekends and holidays"
   ],
   "metadata": {
    "collapsed": false
   }
  },
  {
   "cell_type": "code",
   "execution_count": 16,
   "outputs": [],
   "source": [
    "# filter dataframe for different features\n",
    "holiday_df = trips_demand_df[trips_demand_df[\"is_holiday\"] == 1]\n",
    "weekday_df = trips_demand_df[trips_demand_df[\"is_weekday\"] == 1]\n",
    "weekend_df = trips_demand_df[trips_demand_df[\"is_weekday\"] == 0]\n",
    "\n",
    "# save time new features to stations\n",
    "stations_new_df[\"start_holiday\"] = holiday_df.groupby(\"start_station_id\").size()\n",
    "stations_new_df[\"end_holiday\"] = holiday_df.groupby(\"end_station_id\").size()\n",
    "stations_new_df[\"start_week\"] = weekday_df.groupby(\"start_station_id\").size()\n",
    "stations_new_df[\"end_week\"] = weekday_df.groupby(\"end_station_id\").size()\n",
    "stations_new_df[\"start_weekend\"] = weekend_df.groupby(\"start_station_id\").size()\n",
    "stations_new_df[\"end_weekend\"] = weekend_df.groupby(\"end_station_id\").size()"
   ],
   "metadata": {
    "collapsed": false,
    "pycharm": {
     "name": "#%%\n"
    }
   }
  },
  {
   "cell_type": "markdown",
   "source": [
    "Lastly we fill Null values with the numeric integer 0 and save the location data in a pickle file."
   ],
   "metadata": {
    "collapsed": false,
    "pycharm": {
     "name": "#%% md\n"
    }
   }
  },
  {
   "cell_type": "code",
   "execution_count": 17,
   "outputs": [
    {
     "data": {
      "text/plain": "                  start_all  end_all  fluctuation  start_morning  start_noon  \\\nstart_station_id                                                               \n3005                  13337    14189          852         2369.0      4714.0   \n3006                   6304     6569          265          849.0      2475.0   \n3007                   4930     4332         -598          491.0      2315.0   \n3008                   3566     3434         -132          398.0      1395.0   \n3010                    793      792           -1           36.0       376.0   \n...                     ...      ...          ...            ...         ...   \n4482                     29       33            4            2.0        15.0   \n4483                     43       34           -9            5.0        28.0   \n4490                      1        1            0            0.0         0.0   \n4491                    280      247          -33           57.0        92.0   \n4493                     30       28           -2            6.0        17.0   \n\n                  start_evening  start_night  end_morning  end_noon  \\\nstart_station_id                                                      \n3005                     5671.0        583.0       3652.0    5105.0   \n3006                     2632.0        348.0        689.0    2755.0   \n3007                     2039.0         85.0       1310.0    1926.0   \n3008                     1573.0        200.0        762.0    1271.0   \n3010                      368.0         13.0        196.0     456.0   \n...                         ...          ...          ...       ...   \n4482                       12.0          0.0          2.0      20.0   \n4483                        6.0          4.0          2.0      22.0   \n4490                        1.0          0.0          0.0       0.0   \n4491                       99.0         32.0         39.0      78.0   \n4493                        7.0          0.0          4.0      16.0   \n\n                  end_evening  ...  start_summer  end_summer  start_winter  \\\nstart_station_id               ...                                           \n3005                     4784  ...        1665.0      2589.0        3971.0   \n3006                     2816  ...         579.0       474.0        1660.0   \n3007                     1006  ...         272.0       977.0        1391.0   \n3008                     1237  ...         302.0       541.0        1075.0   \n3010                      125  ...          25.0       141.0         224.0   \n...                       ...  ...           ...         ...           ...   \n4482                       10  ...           0.0         2.0          29.0   \n4483                        6  ...           6.0         4.0          43.0   \n4490                        1  ...           0.0         0.0           1.0   \n4491                       91  ...          60.0        48.0         280.0   \n4493                        7  ...           5.0         3.0          30.0   \n\n                  end_winter  start_holiday  end_holiday  start_week  \\\nstart_station_id                                                       \n3005                  4155.0          542.0        601.0       10404   \n3006                  1677.0          295.0        322.0        4586   \n3007                  1321.0          228.0        180.0        4046   \n3008                  1036.0          169.0        147.0        2684   \n3010                   204.0           42.0         45.0         652   \n...                      ...            ...          ...         ...   \n4482                    33.0            1.0          2.0          20   \n4483                    34.0            4.0          2.0          30   \n4490                     1.0            1.0          1.0           1   \n4491                   247.0           21.0         20.0         191   \n4493                    28.0            9.0         10.0          22   \n\n                  end_week  start_weekend  end_weekend  \nstart_station_id                                        \n3005                 11306         2933.0       2883.0  \n3006                  4765         1718.0       1804.0  \n3007                  3569          884.0        763.0  \n3008                  2545          882.0        889.0  \n3010                   592          141.0        200.0  \n...                    ...            ...          ...  \n4482                    24            9.0          9.0  \n4483                    23           13.0         11.0  \n4490                     1            0.0          0.0  \n4491                   180           89.0         67.0  \n4493                    21            8.0          7.0  \n\n[148 rows x 21 columns]",
      "text/html": "<div>\n<style scoped>\n    .dataframe tbody tr th:only-of-type {\n        vertical-align: middle;\n    }\n\n    .dataframe tbody tr th {\n        vertical-align: top;\n    }\n\n    .dataframe thead th {\n        text-align: right;\n    }\n</style>\n<table border=\"1\" class=\"dataframe\">\n  <thead>\n    <tr style=\"text-align: right;\">\n      <th></th>\n      <th>start_all</th>\n      <th>end_all</th>\n      <th>fluctuation</th>\n      <th>start_morning</th>\n      <th>start_noon</th>\n      <th>start_evening</th>\n      <th>start_night</th>\n      <th>end_morning</th>\n      <th>end_noon</th>\n      <th>end_evening</th>\n      <th>...</th>\n      <th>start_summer</th>\n      <th>end_summer</th>\n      <th>start_winter</th>\n      <th>end_winter</th>\n      <th>start_holiday</th>\n      <th>end_holiday</th>\n      <th>start_week</th>\n      <th>end_week</th>\n      <th>start_weekend</th>\n      <th>end_weekend</th>\n    </tr>\n    <tr>\n      <th>start_station_id</th>\n      <th></th>\n      <th></th>\n      <th></th>\n      <th></th>\n      <th></th>\n      <th></th>\n      <th></th>\n      <th></th>\n      <th></th>\n      <th></th>\n      <th></th>\n      <th></th>\n      <th></th>\n      <th></th>\n      <th></th>\n      <th></th>\n      <th></th>\n      <th></th>\n      <th></th>\n      <th></th>\n      <th></th>\n    </tr>\n  </thead>\n  <tbody>\n    <tr>\n      <th>3005</th>\n      <td>13337</td>\n      <td>14189</td>\n      <td>852</td>\n      <td>2369.0</td>\n      <td>4714.0</td>\n      <td>5671.0</td>\n      <td>583.0</td>\n      <td>3652.0</td>\n      <td>5105.0</td>\n      <td>4784</td>\n      <td>...</td>\n      <td>1665.0</td>\n      <td>2589.0</td>\n      <td>3971.0</td>\n      <td>4155.0</td>\n      <td>542.0</td>\n      <td>601.0</td>\n      <td>10404</td>\n      <td>11306</td>\n      <td>2933.0</td>\n      <td>2883.0</td>\n    </tr>\n    <tr>\n      <th>3006</th>\n      <td>6304</td>\n      <td>6569</td>\n      <td>265</td>\n      <td>849.0</td>\n      <td>2475.0</td>\n      <td>2632.0</td>\n      <td>348.0</td>\n      <td>689.0</td>\n      <td>2755.0</td>\n      <td>2816</td>\n      <td>...</td>\n      <td>579.0</td>\n      <td>474.0</td>\n      <td>1660.0</td>\n      <td>1677.0</td>\n      <td>295.0</td>\n      <td>322.0</td>\n      <td>4586</td>\n      <td>4765</td>\n      <td>1718.0</td>\n      <td>1804.0</td>\n    </tr>\n    <tr>\n      <th>3007</th>\n      <td>4930</td>\n      <td>4332</td>\n      <td>-598</td>\n      <td>491.0</td>\n      <td>2315.0</td>\n      <td>2039.0</td>\n      <td>85.0</td>\n      <td>1310.0</td>\n      <td>1926.0</td>\n      <td>1006</td>\n      <td>...</td>\n      <td>272.0</td>\n      <td>977.0</td>\n      <td>1391.0</td>\n      <td>1321.0</td>\n      <td>228.0</td>\n      <td>180.0</td>\n      <td>4046</td>\n      <td>3569</td>\n      <td>884.0</td>\n      <td>763.0</td>\n    </tr>\n    <tr>\n      <th>3008</th>\n      <td>3566</td>\n      <td>3434</td>\n      <td>-132</td>\n      <td>398.0</td>\n      <td>1395.0</td>\n      <td>1573.0</td>\n      <td>200.0</td>\n      <td>762.0</td>\n      <td>1271.0</td>\n      <td>1237</td>\n      <td>...</td>\n      <td>302.0</td>\n      <td>541.0</td>\n      <td>1075.0</td>\n      <td>1036.0</td>\n      <td>169.0</td>\n      <td>147.0</td>\n      <td>2684</td>\n      <td>2545</td>\n      <td>882.0</td>\n      <td>889.0</td>\n    </tr>\n    <tr>\n      <th>3010</th>\n      <td>793</td>\n      <td>792</td>\n      <td>-1</td>\n      <td>36.0</td>\n      <td>376.0</td>\n      <td>368.0</td>\n      <td>13.0</td>\n      <td>196.0</td>\n      <td>456.0</td>\n      <td>125</td>\n      <td>...</td>\n      <td>25.0</td>\n      <td>141.0</td>\n      <td>224.0</td>\n      <td>204.0</td>\n      <td>42.0</td>\n      <td>45.0</td>\n      <td>652</td>\n      <td>592</td>\n      <td>141.0</td>\n      <td>200.0</td>\n    </tr>\n    <tr>\n      <th>...</th>\n      <td>...</td>\n      <td>...</td>\n      <td>...</td>\n      <td>...</td>\n      <td>...</td>\n      <td>...</td>\n      <td>...</td>\n      <td>...</td>\n      <td>...</td>\n      <td>...</td>\n      <td>...</td>\n      <td>...</td>\n      <td>...</td>\n      <td>...</td>\n      <td>...</td>\n      <td>...</td>\n      <td>...</td>\n      <td>...</td>\n      <td>...</td>\n      <td>...</td>\n      <td>...</td>\n    </tr>\n    <tr>\n      <th>4482</th>\n      <td>29</td>\n      <td>33</td>\n      <td>4</td>\n      <td>2.0</td>\n      <td>15.0</td>\n      <td>12.0</td>\n      <td>0.0</td>\n      <td>2.0</td>\n      <td>20.0</td>\n      <td>10</td>\n      <td>...</td>\n      <td>0.0</td>\n      <td>2.0</td>\n      <td>29.0</td>\n      <td>33.0</td>\n      <td>1.0</td>\n      <td>2.0</td>\n      <td>20</td>\n      <td>24</td>\n      <td>9.0</td>\n      <td>9.0</td>\n    </tr>\n    <tr>\n      <th>4483</th>\n      <td>43</td>\n      <td>34</td>\n      <td>-9</td>\n      <td>5.0</td>\n      <td>28.0</td>\n      <td>6.0</td>\n      <td>4.0</td>\n      <td>2.0</td>\n      <td>22.0</td>\n      <td>6</td>\n      <td>...</td>\n      <td>6.0</td>\n      <td>4.0</td>\n      <td>43.0</td>\n      <td>34.0</td>\n      <td>4.0</td>\n      <td>2.0</td>\n      <td>30</td>\n      <td>23</td>\n      <td>13.0</td>\n      <td>11.0</td>\n    </tr>\n    <tr>\n      <th>4490</th>\n      <td>1</td>\n      <td>1</td>\n      <td>0</td>\n      <td>0.0</td>\n      <td>0.0</td>\n      <td>1.0</td>\n      <td>0.0</td>\n      <td>0.0</td>\n      <td>0.0</td>\n      <td>1</td>\n      <td>...</td>\n      <td>0.0</td>\n      <td>0.0</td>\n      <td>1.0</td>\n      <td>1.0</td>\n      <td>1.0</td>\n      <td>1.0</td>\n      <td>1</td>\n      <td>1</td>\n      <td>0.0</td>\n      <td>0.0</td>\n    </tr>\n    <tr>\n      <th>4491</th>\n      <td>280</td>\n      <td>247</td>\n      <td>-33</td>\n      <td>57.0</td>\n      <td>92.0</td>\n      <td>99.0</td>\n      <td>32.0</td>\n      <td>39.0</td>\n      <td>78.0</td>\n      <td>91</td>\n      <td>...</td>\n      <td>60.0</td>\n      <td>48.0</td>\n      <td>280.0</td>\n      <td>247.0</td>\n      <td>21.0</td>\n      <td>20.0</td>\n      <td>191</td>\n      <td>180</td>\n      <td>89.0</td>\n      <td>67.0</td>\n    </tr>\n    <tr>\n      <th>4493</th>\n      <td>30</td>\n      <td>28</td>\n      <td>-2</td>\n      <td>6.0</td>\n      <td>17.0</td>\n      <td>7.0</td>\n      <td>0.0</td>\n      <td>4.0</td>\n      <td>16.0</td>\n      <td>7</td>\n      <td>...</td>\n      <td>5.0</td>\n      <td>3.0</td>\n      <td>30.0</td>\n      <td>28.0</td>\n      <td>9.0</td>\n      <td>10.0</td>\n      <td>22</td>\n      <td>21</td>\n      <td>8.0</td>\n      <td>7.0</td>\n    </tr>\n  </tbody>\n</table>\n<p>148 rows × 21 columns</p>\n</div>"
     },
     "execution_count": 17,
     "metadata": {},
     "output_type": "execute_result"
    }
   ],
   "source": [
    "stations_new_df = stations_new_df.fillna(0)\n",
    "stations_new_df"
   ],
   "metadata": {
    "collapsed": false,
    "pycharm": {
     "name": "#%%\n"
    }
   }
  },
  {
   "cell_type": "code",
   "execution_count": 18,
   "outputs": [],
   "source": [
    "stations_new_df.to_pickle('../00_data/station_demand.pkl')"
   ],
   "metadata": {
    "collapsed": false,
    "pycharm": {
     "name": "#%%\n"
    }
   }
  }
 ],
 "metadata": {
  "kernelspec": {
   "display_name": "PyCharm (aa_2021_magma)",
   "language": "python",
   "name": "pycharm-53867d80"
  },
  "language_info": {
   "codemirror_mode": {
    "name": "ipython",
    "version": 3
   },
   "file_extension": ".py",
   "mimetype": "text/x-python",
   "name": "python",
   "nbconvert_exporter": "python",
   "pygments_lexer": "ipython3",
   "version": "3.8.0"
  }
 },
 "nbformat": 4,
 "nbformat_minor": 1
}