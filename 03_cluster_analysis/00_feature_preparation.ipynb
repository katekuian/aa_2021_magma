{
 "cells": [
  {
   "cell_type": "markdown",
   "metadata": {},
   "source": [
    "# Feature Preparation for clustering trips"
   ]
  },
  {
   "cell_type": "code",
   "execution_count": 1,
   "metadata": {
    "pycharm": {
     "name": "#%%\n"
    }
   },
   "outputs": [],
   "source": [
    "import pandas as pd"
   ]
  },
  {
   "cell_type": "code",
   "execution_count": 2,
   "metadata": {
    "pycharm": {
     "name": "#%%\n"
    }
   },
   "outputs": [
    {
     "data": {
      "text/plain": "           start_time            end_time  start_station_id  end_station_id  \\\n0 2019-01-01 00:18:00 2019-01-01 00:50:00              3030            3075   \n1 2019-01-01 00:20:00 2019-01-01 00:50:00              3030            3075   \n\n  bike_id user_type start_station_name end_station_name        duration  \\\n0   05992   Walk-up         Main & 1st   Broadway & 9th 0 days 00:32:00   \n1   05860   Walk-up         Main & 1st   Broadway & 9th 0 days 00:30:00   \n\n   start_latitude  ...  sustenance_poi_start  public_transport_poi_start  \\\n0        34.05194  ...                    80                          28   \n1        34.05194  ...                    80                          28   \n\n   education_poi_start  arts_and_culture_poi_start  sports_poi_start  \\\n0                    2                           4                 0   \n1                    2                           4                 0   \n\n  sustenance_poi_end public_transport_poi_end  education_poi_end  \\\n0                 67                       51                  0   \n1                 67                       51                  0   \n\n   arts_and_culture_poi_end  sports_poi_end  \n0                         4               4  \n1                         4               4  \n\n[2 rows x 27 columns]",
      "text/html": "<div>\n<style scoped>\n    .dataframe tbody tr th:only-of-type {\n        vertical-align: middle;\n    }\n\n    .dataframe tbody tr th {\n        vertical-align: top;\n    }\n\n    .dataframe thead th {\n        text-align: right;\n    }\n</style>\n<table border=\"1\" class=\"dataframe\">\n  <thead>\n    <tr style=\"text-align: right;\">\n      <th></th>\n      <th>start_time</th>\n      <th>end_time</th>\n      <th>start_station_id</th>\n      <th>end_station_id</th>\n      <th>bike_id</th>\n      <th>user_type</th>\n      <th>start_station_name</th>\n      <th>end_station_name</th>\n      <th>duration</th>\n      <th>start_latitude</th>\n      <th>...</th>\n      <th>sustenance_poi_start</th>\n      <th>public_transport_poi_start</th>\n      <th>education_poi_start</th>\n      <th>arts_and_culture_poi_start</th>\n      <th>sports_poi_start</th>\n      <th>sustenance_poi_end</th>\n      <th>public_transport_poi_end</th>\n      <th>education_poi_end</th>\n      <th>arts_and_culture_poi_end</th>\n      <th>sports_poi_end</th>\n    </tr>\n  </thead>\n  <tbody>\n    <tr>\n      <th>0</th>\n      <td>2019-01-01 00:18:00</td>\n      <td>2019-01-01 00:50:00</td>\n      <td>3030</td>\n      <td>3075</td>\n      <td>05992</td>\n      <td>Walk-up</td>\n      <td>Main &amp; 1st</td>\n      <td>Broadway &amp; 9th</td>\n      <td>0 days 00:32:00</td>\n      <td>34.05194</td>\n      <td>...</td>\n      <td>80</td>\n      <td>28</td>\n      <td>2</td>\n      <td>4</td>\n      <td>0</td>\n      <td>67</td>\n      <td>51</td>\n      <td>0</td>\n      <td>4</td>\n      <td>4</td>\n    </tr>\n    <tr>\n      <th>1</th>\n      <td>2019-01-01 00:20:00</td>\n      <td>2019-01-01 00:50:00</td>\n      <td>3030</td>\n      <td>3075</td>\n      <td>05860</td>\n      <td>Walk-up</td>\n      <td>Main &amp; 1st</td>\n      <td>Broadway &amp; 9th</td>\n      <td>0 days 00:30:00</td>\n      <td>34.05194</td>\n      <td>...</td>\n      <td>80</td>\n      <td>28</td>\n      <td>2</td>\n      <td>4</td>\n      <td>0</td>\n      <td>67</td>\n      <td>51</td>\n      <td>0</td>\n      <td>4</td>\n      <td>4</td>\n    </tr>\n  </tbody>\n</table>\n<p>2 rows × 27 columns</p>\n</div>"
     },
     "execution_count": 2,
     "metadata": {},
     "output_type": "execute_result"
    }
   ],
   "source": [
    "trips_df = pd.read_pickle('../00_data/trips.pkl')\n",
    "trips_df.head(2)"
   ]
  },
  {
   "cell_type": "code",
   "execution_count": 3,
   "metadata": {
    "pycharm": {
     "name": "#%%\n"
    }
   },
   "outputs": [
    {
     "data": {
      "text/plain": "                     starting_trips  ongoing_trips_prev  \\\nindex                                                     \n2019-01-01 01:00:00             8.0                 2.0   \n2019-01-01 02:00:00            11.0                 4.0   \n\n                     in_service_bikes_rolling  available_bikes  max_temp  \\\nindex                                                                      \n2019-01-01 01:00:00                     873.0            871.0      15.6   \n2019-01-01 02:00:00                     873.0            869.0      15.0   \n\n                     min_temp  precip  hour  day_of_week  month  day_of_year  \\\nindex                                                                          \n2019-01-01 01:00:00      15.6     0.0     1            1      1            1   \n2019-01-01 02:00:00      15.0     0.0     2            1      1            1   \n\n                     week  is_weekday  is_holiday  \nindex                                              \n2019-01-01 01:00:00     1        True        True  \n2019-01-01 02:00:00     1        True        True  ",
      "text/html": "<div>\n<style scoped>\n    .dataframe tbody tr th:only-of-type {\n        vertical-align: middle;\n    }\n\n    .dataframe tbody tr th {\n        vertical-align: top;\n    }\n\n    .dataframe thead th {\n        text-align: right;\n    }\n</style>\n<table border=\"1\" class=\"dataframe\">\n  <thead>\n    <tr style=\"text-align: right;\">\n      <th></th>\n      <th>starting_trips</th>\n      <th>ongoing_trips_prev</th>\n      <th>in_service_bikes_rolling</th>\n      <th>available_bikes</th>\n      <th>max_temp</th>\n      <th>min_temp</th>\n      <th>precip</th>\n      <th>hour</th>\n      <th>day_of_week</th>\n      <th>month</th>\n      <th>day_of_year</th>\n      <th>week</th>\n      <th>is_weekday</th>\n      <th>is_holiday</th>\n    </tr>\n    <tr>\n      <th>index</th>\n      <th></th>\n      <th></th>\n      <th></th>\n      <th></th>\n      <th></th>\n      <th></th>\n      <th></th>\n      <th></th>\n      <th></th>\n      <th></th>\n      <th></th>\n      <th></th>\n      <th></th>\n      <th></th>\n    </tr>\n  </thead>\n  <tbody>\n    <tr>\n      <th>2019-01-01 01:00:00</th>\n      <td>8.0</td>\n      <td>2.0</td>\n      <td>873.0</td>\n      <td>871.0</td>\n      <td>15.6</td>\n      <td>15.6</td>\n      <td>0.0</td>\n      <td>1</td>\n      <td>1</td>\n      <td>1</td>\n      <td>1</td>\n      <td>1</td>\n      <td>True</td>\n      <td>True</td>\n    </tr>\n    <tr>\n      <th>2019-01-01 02:00:00</th>\n      <td>11.0</td>\n      <td>4.0</td>\n      <td>873.0</td>\n      <td>869.0</td>\n      <td>15.0</td>\n      <td>15.0</td>\n      <td>0.0</td>\n      <td>2</td>\n      <td>1</td>\n      <td>1</td>\n      <td>1</td>\n      <td>1</td>\n      <td>True</td>\n      <td>True</td>\n    </tr>\n  </tbody>\n</table>\n</div>"
     },
     "execution_count": 3,
     "metadata": {},
     "output_type": "execute_result"
    }
   ],
   "source": [
    "trips_hourly_df = pd.read_pickle('../00_data/trips_hourly_selected.pkl')\n",
    "trips_hourly_df.head(2)"
   ]
  },
  {
   "cell_type": "markdown",
   "metadata": {
    "pycharm": {
     "name": "#%% md\n"
    }
   },
   "source": [
    "Let's merge the hourly data to our trip dataframe. To do that we have to have a column that has the same values as the hourly-data-index. "
   ]
  },
  {
   "cell_type": "code",
   "execution_count": 4,
   "metadata": {},
   "outputs": [
    {
     "data": {
      "text/plain": "                start_time            end_time  start_station_id  \\\n210759 2019-01-01 01:29:00 2019-01-01 02:49:00              4211   \n55231  2019-01-01 01:31:00 2019-01-01 01:35:00              3027   \n\n        end_station_id bike_id user_type      start_station_name  \\\n210759            4211   12244   Walk-up  Pacific & North Venice   \n55231             3046   05819   Walk-up            Spring & 3rd   \n\n              end_station_name        duration  start_latitude  ...  max_temp  \\\n210759  Pacific & North Venice 0 days 01:20:00        33.98493  ...      15.6   \n55231               2nd & Hill 0 days 00:04:00        34.04998  ...      15.6   \n\n        min_temp  precip  hour  day_of_week month day_of_year  week  \\\n210759      15.6     0.0     1            1     1           1     1   \n55231       15.6     0.0     1            1     1           1     1   \n\n        is_weekday  is_holiday  \n210759        True        True  \n55231         True        True  \n\n[2 rows x 42 columns]",
      "text/html": "<div>\n<style scoped>\n    .dataframe tbody tr th:only-of-type {\n        vertical-align: middle;\n    }\n\n    .dataframe tbody tr th {\n        vertical-align: top;\n    }\n\n    .dataframe thead th {\n        text-align: right;\n    }\n</style>\n<table border=\"1\" class=\"dataframe\">\n  <thead>\n    <tr style=\"text-align: right;\">\n      <th></th>\n      <th>start_time</th>\n      <th>end_time</th>\n      <th>start_station_id</th>\n      <th>end_station_id</th>\n      <th>bike_id</th>\n      <th>user_type</th>\n      <th>start_station_name</th>\n      <th>end_station_name</th>\n      <th>duration</th>\n      <th>start_latitude</th>\n      <th>...</th>\n      <th>max_temp</th>\n      <th>min_temp</th>\n      <th>precip</th>\n      <th>hour</th>\n      <th>day_of_week</th>\n      <th>month</th>\n      <th>day_of_year</th>\n      <th>week</th>\n      <th>is_weekday</th>\n      <th>is_holiday</th>\n    </tr>\n  </thead>\n  <tbody>\n    <tr>\n      <th>210759</th>\n      <td>2019-01-01 01:29:00</td>\n      <td>2019-01-01 02:49:00</td>\n      <td>4211</td>\n      <td>4211</td>\n      <td>12244</td>\n      <td>Walk-up</td>\n      <td>Pacific &amp; North Venice</td>\n      <td>Pacific &amp; North Venice</td>\n      <td>0 days 01:20:00</td>\n      <td>33.98493</td>\n      <td>...</td>\n      <td>15.6</td>\n      <td>15.6</td>\n      <td>0.0</td>\n      <td>1</td>\n      <td>1</td>\n      <td>1</td>\n      <td>1</td>\n      <td>1</td>\n      <td>True</td>\n      <td>True</td>\n    </tr>\n    <tr>\n      <th>55231</th>\n      <td>2019-01-01 01:31:00</td>\n      <td>2019-01-01 01:35:00</td>\n      <td>3027</td>\n      <td>3046</td>\n      <td>05819</td>\n      <td>Walk-up</td>\n      <td>Spring &amp; 3rd</td>\n      <td>2nd &amp; Hill</td>\n      <td>0 days 00:04:00</td>\n      <td>34.04998</td>\n      <td>...</td>\n      <td>15.6</td>\n      <td>15.6</td>\n      <td>0.0</td>\n      <td>1</td>\n      <td>1</td>\n      <td>1</td>\n      <td>1</td>\n      <td>1</td>\n      <td>True</td>\n      <td>True</td>\n    </tr>\n  </tbody>\n</table>\n<p>2 rows × 42 columns</p>\n</div>"
     },
     "execution_count": 4,
     "metadata": {},
     "output_type": "execute_result"
    }
   ],
   "source": [
    "trips_df[\"start_time_floored\"]=trips_df['start_time'].dt.floor('H')\n",
    "trips_df = trips_df.sort_values(\"start_time\")\n",
    "len_before_merge = len(trips_df)\n",
    "trips_df = trips_df.merge(trips_hourly_df, left_on='start_time_floored', right_index=True)\n",
    "trips_df.head(2)"
   ]
  },
  {
   "cell_type": "markdown",
   "metadata": {},
   "source": [
    "Now we can compute how many rows we lost:"
   ]
  },
  {
   "cell_type": "code",
   "execution_count": 5,
   "metadata": {},
   "outputs": [
    {
     "name": "stdout",
     "output_type": "stream",
     "text": [
      "14\n"
     ]
    }
   ],
   "source": [
    "print(len_before_merge - len(trips_df))"
   ]
  },
  {
   "cell_type": "markdown",
   "metadata": {},
   "source": [
    "Those 14 trips were started between 0:00 am and 1:00 am at the first of january 2019. For this hour there is no hourly\n",
    "data created so it was dropped when merging.\n",
    "Now we will edit some columns to our needs:\n",
    "- set the duration in minutes\n",
    "- set an end hour\n",
    "- change boolean values to 1 and 0\n",
    "- change user types to numbers\n",
    "- simplify the points of interest by only indicating whether there are POIs of this category at the station or not\n"
   ]
  },
  {
   "cell_type": "code",
   "execution_count": 6,
   "outputs": [
    {
     "data": {
      "text/plain": "                start_time            end_time  start_station_id  \\\n210759 2019-01-01 01:29:00 2019-01-01 02:49:00              4211   \n55231  2019-01-01 01:31:00 2019-01-01 01:35:00              3027   \n\n        end_station_id bike_id  user_type      start_station_name  \\\n210759            4211   12244          0  Pacific & North Venice   \n55231             3046   05819          0            Spring & 3rd   \n\n              end_station_name  duration  start_latitude  ...  min_temp  \\\n210759  Pacific & North Venice      80.0        33.98493  ...      15.6   \n55231               2nd & Hill       4.0        34.04998  ...      15.6   \n\n        precip  hour  day_of_week  month day_of_year week  is_weekday  \\\n210759     0.0     1            1      1           1    1           1   \n55231      0.0     1            1      1           1    1           1   \n\n        is_holiday  hour_end  \n210759           1         2  \n55231            1         1  \n\n[2 rows x 43 columns]",
      "text/html": "<div>\n<style scoped>\n    .dataframe tbody tr th:only-of-type {\n        vertical-align: middle;\n    }\n\n    .dataframe tbody tr th {\n        vertical-align: top;\n    }\n\n    .dataframe thead th {\n        text-align: right;\n    }\n</style>\n<table border=\"1\" class=\"dataframe\">\n  <thead>\n    <tr style=\"text-align: right;\">\n      <th></th>\n      <th>start_time</th>\n      <th>end_time</th>\n      <th>start_station_id</th>\n      <th>end_station_id</th>\n      <th>bike_id</th>\n      <th>user_type</th>\n      <th>start_station_name</th>\n      <th>end_station_name</th>\n      <th>duration</th>\n      <th>start_latitude</th>\n      <th>...</th>\n      <th>min_temp</th>\n      <th>precip</th>\n      <th>hour</th>\n      <th>day_of_week</th>\n      <th>month</th>\n      <th>day_of_year</th>\n      <th>week</th>\n      <th>is_weekday</th>\n      <th>is_holiday</th>\n      <th>hour_end</th>\n    </tr>\n  </thead>\n  <tbody>\n    <tr>\n      <th>210759</th>\n      <td>2019-01-01 01:29:00</td>\n      <td>2019-01-01 02:49:00</td>\n      <td>4211</td>\n      <td>4211</td>\n      <td>12244</td>\n      <td>0</td>\n      <td>Pacific &amp; North Venice</td>\n      <td>Pacific &amp; North Venice</td>\n      <td>80.0</td>\n      <td>33.98493</td>\n      <td>...</td>\n      <td>15.6</td>\n      <td>0.0</td>\n      <td>1</td>\n      <td>1</td>\n      <td>1</td>\n      <td>1</td>\n      <td>1</td>\n      <td>1</td>\n      <td>1</td>\n      <td>2</td>\n    </tr>\n    <tr>\n      <th>55231</th>\n      <td>2019-01-01 01:31:00</td>\n      <td>2019-01-01 01:35:00</td>\n      <td>3027</td>\n      <td>3046</td>\n      <td>05819</td>\n      <td>0</td>\n      <td>Spring &amp; 3rd</td>\n      <td>2nd &amp; Hill</td>\n      <td>4.0</td>\n      <td>34.04998</td>\n      <td>...</td>\n      <td>15.6</td>\n      <td>0.0</td>\n      <td>1</td>\n      <td>1</td>\n      <td>1</td>\n      <td>1</td>\n      <td>1</td>\n      <td>1</td>\n      <td>1</td>\n      <td>1</td>\n    </tr>\n  </tbody>\n</table>\n<p>2 rows × 43 columns</p>\n</div>"
     },
     "execution_count": 6,
     "metadata": {},
     "output_type": "execute_result"
    }
   ],
   "source": [
    "trips_df['duration'] = trips_df['duration'].dt.seconds/60\n",
    "trips_df[\"hour_end\"] = trips_df['end_time'].dt.hour\n",
    "trips_df[\"is_weekday\"] = trips_df[\"is_weekday\"].apply(lambda x: int(x))\n",
    "trips_df[\"is_holiday\"] = trips_df[\"is_holiday\"].apply(lambda x: int(x))\n",
    "types = ['Walk-up', 'Monthly Pass', 'Annual Pass', 'One Day Pass', 'Flex Pass', 'Testing']\n",
    "trips_df[\"user_type\"] = trips_df[\"user_type\"].apply(lambda x: types.index(x) if type(x) == str else None)\n",
    "for col in [\"sustenance_poi_start\", \"public_transport_poi_start\",\n",
    "            \"education_poi_start\", \"arts_and_culture_poi_start\",\n",
    "            \"sports_poi_start\", \"sustenance_poi_end\",\n",
    "            \"public_transport_poi_end\", \"education_poi_end\",\n",
    "            \"arts_and_culture_poi_end\", \"sports_poi_end\",]:\n",
    "    trips_df[col] = trips_df[col].apply(lambda x: int(x>0))\n",
    "\n",
    "trips_df.head(2)"
   ],
   "metadata": {
    "collapsed": false,
    "pycharm": {
     "name": "#%%\n"
    }
   }
  },
  {
   "cell_type": "markdown",
   "metadata": {},
   "source": [
    "Lastly let us take a look at the columns and which of them we will need. We drop the others."
   ]
  },
  {
   "cell_type": "code",
   "execution_count": 7,
   "metadata": {
    "pycharm": {
     "name": "#%%\n"
    }
   },
   "outputs": [
    {
     "name": "stdout",
     "output_type": "stream",
     "text": [
      "<class 'pandas.core.frame.DataFrame'>\n",
      "Int64Index: 225280 entries, 210759 to 130228\n",
      "Data columns (total 43 columns):\n",
      " #   Column                      Non-Null Count   Dtype         \n",
      "---  ------                      --------------   -----         \n",
      " 0   start_time                  225280 non-null  datetime64[ns]\n",
      " 1   end_time                    225280 non-null  datetime64[ns]\n",
      " 2   start_station_id            225280 non-null  int64         \n",
      " 3   end_station_id              225280 non-null  int64         \n",
      " 4   bike_id                     225280 non-null  object        \n",
      " 5   user_type                   225280 non-null  int64         \n",
      " 6   start_station_name          225280 non-null  object        \n",
      " 7   end_station_name            225280 non-null  object        \n",
      " 8   duration                    225280 non-null  float64       \n",
      " 9   start_latitude              225280 non-null  float64       \n",
      " 10  start_longitude             225280 non-null  float64       \n",
      " 11  end_latitude                225280 non-null  float64       \n",
      " 12  end_longitude               225280 non-null  float64       \n",
      " 13  distance                    225280 non-null  float64       \n",
      " 14  speed                       225280 non-null  float64       \n",
      " 15  start_hex                   225280 non-null  object        \n",
      " 16  end_hex                     225280 non-null  object        \n",
      " 17  sustenance_poi_start        225280 non-null  int64         \n",
      " 18  public_transport_poi_start  225280 non-null  int64         \n",
      " 19  education_poi_start         225280 non-null  int64         \n",
      " 20  arts_and_culture_poi_start  225280 non-null  int64         \n",
      " 21  sports_poi_start            225280 non-null  int64         \n",
      " 22  sustenance_poi_end          225280 non-null  int64         \n",
      " 23  public_transport_poi_end    225280 non-null  int64         \n",
      " 24  education_poi_end           225280 non-null  int64         \n",
      " 25  arts_and_culture_poi_end    225280 non-null  int64         \n",
      " 26  sports_poi_end              225280 non-null  int64         \n",
      " 27  start_time_floored          225280 non-null  datetime64[ns]\n",
      " 28  starting_trips              225280 non-null  float64       \n",
      " 29  ongoing_trips_prev          225280 non-null  float64       \n",
      " 30  in_service_bikes_rolling    225280 non-null  float64       \n",
      " 31  available_bikes             225280 non-null  float64       \n",
      " 32  max_temp                    225280 non-null  float64       \n",
      " 33  min_temp                    225280 non-null  float64       \n",
      " 34  precip                      225280 non-null  float64       \n",
      " 35  hour                        225280 non-null  int64         \n",
      " 36  day_of_week                 225280 non-null  int64         \n",
      " 37  month                       225280 non-null  int64         \n",
      " 38  day_of_year                 225280 non-null  int64         \n",
      " 39  week                        225280 non-null  int64         \n",
      " 40  is_weekday                  225280 non-null  int64         \n",
      " 41  is_holiday                  225280 non-null  int64         \n",
      " 42  hour_end                    225280 non-null  int64         \n",
      "dtypes: datetime64[ns](3), float64(14), int64(21), object(5)\n",
      "memory usage: 75.6+ MB\n"
     ]
    }
   ],
   "source": [
    "trips_df.info()"
   ]
  },
  {
   "cell_type": "code",
   "execution_count": 8,
   "metadata": {
    "pycharm": {
     "name": "#%%\n"
    }
   },
   "outputs": [],
   "source": [
    "trips_df = trips_df.drop(columns=[\n",
    "    'start_time','end_time',                    # we already have start and end hour that is accurate enough\n",
    "    'start_station_id', 'end_station_id',       # important for station clustering\n",
    "    'start_station_name', 'end_station_name',   # identifier as id so no new information gain\n",
    "    'start_latitude','start_longitude',         # important for station clustering\n",
    "    'end_latitude','end_longitude',             # important for station clustering\n",
    "    'start_time_floored','week','day_of_year',  # start time in start_hour and week & day_of_year correlated with month\n",
    "    'starting_trips', 'ongoing_trips_prev',     # not important for single trip\n",
    "    'in_service_bikes_rolling','available_bikes', # not important for single trip\n",
    "    'min_temp','bike_id',                       # min_temp correlates to max_temp and bike id too specific\n",
    "    'start_hex', 'end_hex'])                    # hex not for clustering\n",
    "trips_df = trips_df.rename(columns={\"hour\": \"hour_start\", \"max_temp\": \"temp\"})"
   ]
  },
  {
   "cell_type": "code",
   "execution_count": 9,
   "metadata": {
    "pycharm": {
     "name": "#%%\n"
    }
   },
   "outputs": [
    {
     "name": "stdout",
     "output_type": "stream",
     "text": [
      "<class 'pandas.core.frame.DataFrame'>\n",
      "Int64Index: 225280 entries, 210759 to 130228\n",
      "Data columns (total 22 columns):\n",
      " #   Column                      Non-Null Count   Dtype  \n",
      "---  ------                      --------------   -----  \n",
      " 0   user_type                   225280 non-null  int64  \n",
      " 1   duration                    225280 non-null  float64\n",
      " 2   distance                    225280 non-null  float64\n",
      " 3   speed                       225280 non-null  float64\n",
      " 4   sustenance_poi_start        225280 non-null  int64  \n",
      " 5   public_transport_poi_start  225280 non-null  int64  \n",
      " 6   education_poi_start         225280 non-null  int64  \n",
      " 7   arts_and_culture_poi_start  225280 non-null  int64  \n",
      " 8   sports_poi_start            225280 non-null  int64  \n",
      " 9   sustenance_poi_end          225280 non-null  int64  \n",
      " 10  public_transport_poi_end    225280 non-null  int64  \n",
      " 11  education_poi_end           225280 non-null  int64  \n",
      " 12  arts_and_culture_poi_end    225280 non-null  int64  \n",
      " 13  sports_poi_end              225280 non-null  int64  \n",
      " 14  temp                        225280 non-null  float64\n",
      " 15  precip                      225280 non-null  float64\n",
      " 16  hour_start                  225280 non-null  int64  \n",
      " 17  day_of_week                 225280 non-null  int64  \n",
      " 18  month                       225280 non-null  int64  \n",
      " 19  is_weekday                  225280 non-null  int64  \n",
      " 20  is_holiday                  225280 non-null  int64  \n",
      " 21  hour_end                    225280 non-null  int64  \n",
      "dtypes: float64(5), int64(17)\n",
      "memory usage: 39.5 MB\n"
     ]
    }
   ],
   "source": [
    "trips_df.info()"
   ]
  },
  {
   "cell_type": "code",
   "execution_count": 10,
   "metadata": {
    "pycharm": {
     "name": "#%%\n"
    }
   },
   "outputs": [],
   "source": [
    "trips_df.to_pickle('../00_data/trips_with_hourly_features.pkl')"
   ]
  }
 ],
 "metadata": {
  "kernelspec": {
   "display_name": "PyCharm (aa_2021_magma)",
   "language": "python",
   "name": "pycharm-53867d80"
  },
  "language_info": {
   "codemirror_mode": {
    "name": "ipython",
    "version": 3
   },
   "file_extension": ".py",
   "mimetype": "text/x-python",
   "name": "python",
   "nbconvert_exporter": "python",
   "pygments_lexer": "ipython3",
   "version": "3.8.0"
  }
 },
 "nbformat": 4,
 "nbformat_minor": 1
}