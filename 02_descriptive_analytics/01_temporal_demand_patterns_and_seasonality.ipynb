{
 "cells": [
  {
   "cell_type": "markdown",
   "metadata": {},
   "source": [
    "### Data and Package Import"
   ]
  },
  {
   "cell_type": "code",
   "execution_count": 1,
   "metadata": {},
   "outputs": [],
   "source": [
    "import pandas as pd\n",
    "import numpy as np\n",
    "import matplotlib.pyplot as plt\n",
    "import seaborn as sns"
   ]
  },
  {
   "cell_type": "code",
   "execution_count": 2,
   "metadata": {},
   "outputs": [],
   "source": [
    "trips_hourly_engineered = pd.read_pickle('../00_data/trips_hourly_engineered.pkl')"
   ]
  },
  {
   "cell_type": "markdown",
   "metadata": {},
   "source": [
    "### Weekday"
   ]
  },
  {
   "cell_type": "code",
   "execution_count": 3,
   "metadata": {},
   "outputs": [
    {
     "data": {
      "text/html": [
       "<div>\n",
       "<style scoped>\n",
       "    .dataframe tbody tr th:only-of-type {\n",
       "        vertical-align: middle;\n",
       "    }\n",
       "\n",
       "    .dataframe tbody tr th {\n",
       "        vertical-align: top;\n",
       "    }\n",
       "\n",
       "    .dataframe thead th {\n",
       "        text-align: right;\n",
       "    }\n",
       "</style>\n",
       "<table border=\"1\" class=\"dataframe\">\n",
       "  <thead>\n",
       "    <tr style=\"text-align: right;\">\n",
       "      <th></th>\n",
       "      <th>starting_trips</th>\n",
       "      <th>ongoing_trips_prev</th>\n",
       "      <th>in_service_bikes_rolling</th>\n",
       "      <th>available_bikes</th>\n",
       "      <th>max_temp</th>\n",
       "      <th>min_temp</th>\n",
       "      <th>precip</th>\n",
       "      <th>hour</th>\n",
       "      <th>day_of_week</th>\n",
       "      <th>month</th>\n",
       "      <th>day_of_year</th>\n",
       "      <th>week</th>\n",
       "      <th>is_weekday</th>\n",
       "      <th>is_holiday</th>\n",
       "      <th>ongoing_trips_total</th>\n",
       "    </tr>\n",
       "    <tr>\n",
       "      <th>index</th>\n",
       "      <th></th>\n",
       "      <th></th>\n",
       "      <th></th>\n",
       "      <th></th>\n",
       "      <th></th>\n",
       "      <th></th>\n",
       "      <th></th>\n",
       "      <th></th>\n",
       "      <th></th>\n",
       "      <th></th>\n",
       "      <th></th>\n",
       "      <th></th>\n",
       "      <th></th>\n",
       "      <th></th>\n",
       "      <th></th>\n",
       "    </tr>\n",
       "  </thead>\n",
       "  <tbody>\n",
       "    <tr>\n",
       "      <th>2019-01-06 02:00:00</th>\n",
       "      <td>5.0</td>\n",
       "      <td>6.0</td>\n",
       "      <td>899.0</td>\n",
       "      <td>893.0</td>\n",
       "      <td>12.80</td>\n",
       "      <td>12.50</td>\n",
       "      <td>0.5</td>\n",
       "      <td>2</td>\n",
       "      <td>6</td>\n",
       "      <td>1</td>\n",
       "      <td>6</td>\n",
       "      <td>1</td>\n",
       "      <td>False</td>\n",
       "      <td>False</td>\n",
       "      <td>11.0</td>\n",
       "    </tr>\n",
       "    <tr>\n",
       "      <th>2019-01-07 11:00:00</th>\n",
       "      <td>23.0</td>\n",
       "      <td>9.0</td>\n",
       "      <td>904.0</td>\n",
       "      <td>895.0</td>\n",
       "      <td>11.10</td>\n",
       "      <td>11.10</td>\n",
       "      <td>1.0</td>\n",
       "      <td>11</td>\n",
       "      <td>0</td>\n",
       "      <td>1</td>\n",
       "      <td>7</td>\n",
       "      <td>2</td>\n",
       "      <td>True</td>\n",
       "      <td>False</td>\n",
       "      <td>32.0</td>\n",
       "    </tr>\n",
       "    <tr>\n",
       "      <th>2019-01-07 12:00:00</th>\n",
       "      <td>30.0</td>\n",
       "      <td>7.0</td>\n",
       "      <td>904.0</td>\n",
       "      <td>897.0</td>\n",
       "      <td>11.10</td>\n",
       "      <td>10.60</td>\n",
       "      <td>1.0</td>\n",
       "      <td>12</td>\n",
       "      <td>0</td>\n",
       "      <td>1</td>\n",
       "      <td>7</td>\n",
       "      <td>2</td>\n",
       "      <td>True</td>\n",
       "      <td>False</td>\n",
       "      <td>37.0</td>\n",
       "    </tr>\n",
       "    <tr>\n",
       "      <th>2019-01-07 13:00:00</th>\n",
       "      <td>32.0</td>\n",
       "      <td>12.0</td>\n",
       "      <td>904.0</td>\n",
       "      <td>892.0</td>\n",
       "      <td>10.60</td>\n",
       "      <td>10.60</td>\n",
       "      <td>1.0</td>\n",
       "      <td>13</td>\n",
       "      <td>0</td>\n",
       "      <td>1</td>\n",
       "      <td>7</td>\n",
       "      <td>2</td>\n",
       "      <td>True</td>\n",
       "      <td>False</td>\n",
       "      <td>44.0</td>\n",
       "    </tr>\n",
       "    <tr>\n",
       "      <th>2019-01-07 14:00:00</th>\n",
       "      <td>21.0</td>\n",
       "      <td>7.0</td>\n",
       "      <td>905.0</td>\n",
       "      <td>898.0</td>\n",
       "      <td>10.60</td>\n",
       "      <td>10.60</td>\n",
       "      <td>1.0</td>\n",
       "      <td>14</td>\n",
       "      <td>0</td>\n",
       "      <td>1</td>\n",
       "      <td>7</td>\n",
       "      <td>2</td>\n",
       "      <td>True</td>\n",
       "      <td>False</td>\n",
       "      <td>28.0</td>\n",
       "    </tr>\n",
       "    <tr>\n",
       "      <th>...</th>\n",
       "      <td>...</td>\n",
       "      <td>...</td>\n",
       "      <td>...</td>\n",
       "      <td>...</td>\n",
       "      <td>...</td>\n",
       "      <td>...</td>\n",
       "      <td>...</td>\n",
       "      <td>...</td>\n",
       "      <td>...</td>\n",
       "      <td>...</td>\n",
       "      <td>...</td>\n",
       "      <td>...</td>\n",
       "      <td>...</td>\n",
       "      <td>...</td>\n",
       "      <td>...</td>\n",
       "    </tr>\n",
       "    <tr>\n",
       "      <th>2019-12-26 05:00:00</th>\n",
       "      <td>1.0</td>\n",
       "      <td>1.0</td>\n",
       "      <td>1001.0</td>\n",
       "      <td>1000.0</td>\n",
       "      <td>13.05</td>\n",
       "      <td>12.75</td>\n",
       "      <td>1.0</td>\n",
       "      <td>5</td>\n",
       "      <td>3</td>\n",
       "      <td>12</td>\n",
       "      <td>360</td>\n",
       "      <td>52</td>\n",
       "      <td>True</td>\n",
       "      <td>False</td>\n",
       "      <td>2.0</td>\n",
       "    </tr>\n",
       "    <tr>\n",
       "      <th>2019-12-26 09:00:00</th>\n",
       "      <td>15.0</td>\n",
       "      <td>8.0</td>\n",
       "      <td>997.0</td>\n",
       "      <td>989.0</td>\n",
       "      <td>11.70</td>\n",
       "      <td>11.70</td>\n",
       "      <td>1.0</td>\n",
       "      <td>9</td>\n",
       "      <td>3</td>\n",
       "      <td>12</td>\n",
       "      <td>360</td>\n",
       "      <td>52</td>\n",
       "      <td>True</td>\n",
       "      <td>False</td>\n",
       "      <td>23.0</td>\n",
       "    </tr>\n",
       "    <tr>\n",
       "      <th>2019-12-26 10:00:00</th>\n",
       "      <td>26.0</td>\n",
       "      <td>6.0</td>\n",
       "      <td>997.0</td>\n",
       "      <td>991.0</td>\n",
       "      <td>11.10</td>\n",
       "      <td>10.60</td>\n",
       "      <td>1.0</td>\n",
       "      <td>10</td>\n",
       "      <td>3</td>\n",
       "      <td>12</td>\n",
       "      <td>360</td>\n",
       "      <td>52</td>\n",
       "      <td>True</td>\n",
       "      <td>False</td>\n",
       "      <td>32.0</td>\n",
       "    </tr>\n",
       "    <tr>\n",
       "      <th>2019-12-26 11:00:00</th>\n",
       "      <td>32.0</td>\n",
       "      <td>12.0</td>\n",
       "      <td>995.0</td>\n",
       "      <td>983.0</td>\n",
       "      <td>10.00</td>\n",
       "      <td>10.00</td>\n",
       "      <td>1.0</td>\n",
       "      <td>11</td>\n",
       "      <td>3</td>\n",
       "      <td>12</td>\n",
       "      <td>360</td>\n",
       "      <td>52</td>\n",
       "      <td>True</td>\n",
       "      <td>False</td>\n",
       "      <td>44.0</td>\n",
       "    </tr>\n",
       "    <tr>\n",
       "      <th>2019-12-26 13:00:00</th>\n",
       "      <td>23.0</td>\n",
       "      <td>10.0</td>\n",
       "      <td>995.0</td>\n",
       "      <td>985.0</td>\n",
       "      <td>8.30</td>\n",
       "      <td>8.30</td>\n",
       "      <td>1.0</td>\n",
       "      <td>13</td>\n",
       "      <td>3</td>\n",
       "      <td>12</td>\n",
       "      <td>360</td>\n",
       "      <td>52</td>\n",
       "      <td>True</td>\n",
       "      <td>False</td>\n",
       "      <td>33.0</td>\n",
       "    </tr>\n",
       "  </tbody>\n",
       "</table>\n",
       "<p>270 rows × 15 columns</p>\n",
       "</div>"
      ],
      "text/plain": [
       "                     starting_trips  ongoing_trips_prev  \\\n",
       "index                                                     \n",
       "2019-01-06 02:00:00             5.0                 6.0   \n",
       "2019-01-07 11:00:00            23.0                 9.0   \n",
       "2019-01-07 12:00:00            30.0                 7.0   \n",
       "2019-01-07 13:00:00            32.0                12.0   \n",
       "2019-01-07 14:00:00            21.0                 7.0   \n",
       "...                             ...                 ...   \n",
       "2019-12-26 05:00:00             1.0                 1.0   \n",
       "2019-12-26 09:00:00            15.0                 8.0   \n",
       "2019-12-26 10:00:00            26.0                 6.0   \n",
       "2019-12-26 11:00:00            32.0                12.0   \n",
       "2019-12-26 13:00:00            23.0                10.0   \n",
       "\n",
       "                     in_service_bikes_rolling  available_bikes  max_temp  \\\n",
       "index                                                                      \n",
       "2019-01-06 02:00:00                     899.0            893.0     12.80   \n",
       "2019-01-07 11:00:00                     904.0            895.0     11.10   \n",
       "2019-01-07 12:00:00                     904.0            897.0     11.10   \n",
       "2019-01-07 13:00:00                     904.0            892.0     10.60   \n",
       "2019-01-07 14:00:00                     905.0            898.0     10.60   \n",
       "...                                       ...              ...       ...   \n",
       "2019-12-26 05:00:00                    1001.0           1000.0     13.05   \n",
       "2019-12-26 09:00:00                     997.0            989.0     11.70   \n",
       "2019-12-26 10:00:00                     997.0            991.0     11.10   \n",
       "2019-12-26 11:00:00                     995.0            983.0     10.00   \n",
       "2019-12-26 13:00:00                     995.0            985.0      8.30   \n",
       "\n",
       "                     min_temp  precip  hour  day_of_week  month  day_of_year  \\\n",
       "index                                                                          \n",
       "2019-01-06 02:00:00     12.50     0.5     2            6      1            6   \n",
       "2019-01-07 11:00:00     11.10     1.0    11            0      1            7   \n",
       "2019-01-07 12:00:00     10.60     1.0    12            0      1            7   \n",
       "2019-01-07 13:00:00     10.60     1.0    13            0      1            7   \n",
       "2019-01-07 14:00:00     10.60     1.0    14            0      1            7   \n",
       "...                       ...     ...   ...          ...    ...          ...   \n",
       "2019-12-26 05:00:00     12.75     1.0     5            3     12          360   \n",
       "2019-12-26 09:00:00     11.70     1.0     9            3     12          360   \n",
       "2019-12-26 10:00:00     10.60     1.0    10            3     12          360   \n",
       "2019-12-26 11:00:00     10.00     1.0    11            3     12          360   \n",
       "2019-12-26 13:00:00      8.30     1.0    13            3     12          360   \n",
       "\n",
       "                     week  is_weekday  is_holiday  ongoing_trips_total  \n",
       "index                                                                   \n",
       "2019-01-06 02:00:00     1       False       False                 11.0  \n",
       "2019-01-07 11:00:00     2        True       False                 32.0  \n",
       "2019-01-07 12:00:00     2        True       False                 37.0  \n",
       "2019-01-07 13:00:00     2        True       False                 44.0  \n",
       "2019-01-07 14:00:00     2        True       False                 28.0  \n",
       "...                   ...         ...         ...                  ...  \n",
       "2019-12-26 05:00:00    52        True       False                  2.0  \n",
       "2019-12-26 09:00:00    52        True       False                 23.0  \n",
       "2019-12-26 10:00:00    52        True       False                 32.0  \n",
       "2019-12-26 11:00:00    52        True       False                 44.0  \n",
       "2019-12-26 13:00:00    52        True       False                 33.0  \n",
       "\n",
       "[270 rows x 15 columns]"
      ]
     },
     "execution_count": 3,
     "metadata": {},
     "output_type": "execute_result"
    }
   ],
   "source": [
    "#create column for total of starting and ongoing trips per hour\n",
    "trips_hourly_engineered[\"ongoing_trips_total\"] = trips_hourly_engineered[\"starting_trips\"] + trips_hourly_engineered[\"ongoing_trips_prev\"]\n",
    "trips_hourly_engineered[trips_hourly_engineered[\"precip\"] != 0]"
   ]
  },
  {
   "cell_type": "code",
   "execution_count": 4,
   "metadata": {},
   "outputs": [
    {
     "data": {
      "text/plain": [
       "day_of_year  day_of_week\n",
       "1            1               806.0\n",
       "2            2               935.0\n",
       "3            3              1051.0\n",
       "4            4              1175.0\n",
       "5            5               624.0\n",
       "                             ...  \n",
       "361          4               834.0\n",
       "362          5               802.0\n",
       "363          6               622.0\n",
       "364          0               934.0\n",
       "365          1               849.0\n",
       "Name: ongoing_trips_total, Length: 365, dtype: float64"
      ]
     },
     "execution_count": 4,
     "metadata": {},
     "output_type": "execute_result"
    }
   ],
   "source": [
    "trips_hourly_engineered.groupby([\"day_of_year\",\"day_of_week\"])[\"ongoing_trips_total\"].sum()"
   ]
  },
  {
   "cell_type": "code",
   "execution_count": 5,
   "metadata": {},
   "outputs": [
    {
     "data": {
      "image/png": "[encoded data removed]",
      "text/plain": [
       "<Figure size 720x288 with 1 Axes>"
      ]
     },
     "metadata": {
      "needs_background": "light"
     },
     "output_type": "display_data"
    }
   ],
   "source": [
    "#group by weekday and plot\n",
    "trips_hourly_engineered_weekday = trips_hourly_engineered.groupby([\"day_of_year\",\"day_of_week\"])[\"ongoing_trips_total\"].sum()\n",
    "trips_hourly_engineered_weekday = pd.DataFrame(trips_hourly_engineered_weekday)\n",
    "\n",
    "fig,ax = plt.subplots(figsize=(10,4)) \n",
    "\n",
    "sns.boxplot(x=trips_hourly_engineered_weekday.index.get_level_values(1), y=trips_hourly_engineered_weekday[\"ongoing_trips_total\"],ax=ax, palette=\"magma\")\n",
    "ax.set_title(\"\", fontsize=18, fontname=\"Arial\")\n",
    "ax.set_xlabel(\"Weekday\")\n",
    "ax.set_ylabel(\"Usage\")\n",
    "plt.show()"
   ]
  },
  {
   "cell_type": "markdown",
   "metadata": {},
   "source": [
    "### Hour"
   ]
  },
  {
   "cell_type": "code",
   "execution_count": 6,
   "metadata": {},
   "outputs": [
    {
     "data": {
      "image/png": "[encoded data removed]",
      "text/plain": [
       "<Figure size 720x288 with 1 Axes>"
      ]
     },
     "metadata": {
      "needs_background": "light"
     },
     "output_type": "display_data"
    }
   ],
   "source": [
    "#group by hour and plot\n",
    "trips_hourly_engineered_hour = trips_hourly_engineered.groupby([\"day_of_year\",\"hour\"])[\"ongoing_trips_total\"].sum()\n",
    "trips_hourly_engineered_hour = pd.DataFrame(trips_hourly_engineered_hour)\n",
    "\n",
    "fig,ax = plt.subplots(figsize=(10,4)) \n",
    "\n",
    "sns.boxplot(x=trips_hourly_engineered_hour.index.get_level_values(1), y=trips_hourly_engineered_hour[\"ongoing_trips_total\"],ax=ax, palette=\"magma\")\n",
    "ax.set_title(\"\", fontsize=18, fontname=\"Arial\")\n",
    "ax.set_xlabel(\"Hour\")\n",
    "ax.set_ylabel(\"Usage\")\n",
    "plt.show()"
   ]
  },
  {
   "cell_type": "markdown",
   "metadata": {},
   "source": [
    "### Month"
   ]
  },
  {
   "cell_type": "code",
   "execution_count": 7,
   "metadata": {},
   "outputs": [
    {
     "data": {
      "image/png": "[encoded data removed]",
      "text/plain": [
       "<Figure size 720x288 with 1 Axes>"
      ]
     },
     "metadata": {
      "needs_background": "light"
     },
     "output_type": "display_data"
    }
   ],
   "source": [
    "#group by month and plot\n",
    "trips_hourly_engineered_month = trips_hourly_engineered.groupby([\"day_of_year\",\"month\"])[\"ongoing_trips_total\"].sum()\n",
    "trips_hourly_engineered_month = pd.DataFrame(trips_hourly_engineered_month)\n",
    "\n",
    "fig,ax = plt.subplots(figsize=(10,4)) \n",
    "\n",
    "sns.boxplot(x=trips_hourly_engineered_month.index.get_level_values(1), y=trips_hourly_engineered_month[\"ongoing_trips_total\"],ax=ax, palette=\"magma\")\n",
    "ax.set_title(\"\", fontsize=18, fontname=\"Arial\")\n",
    "ax.set_xlabel(\"Month\")\n",
    "ax.set_ylabel(\"Usage\")\n",
    "plt.show()"
   ]
  },
  {
   "cell_type": "markdown",
   "metadata": {},
   "source": [
    "### Holidays"
   ]
  },
  {
   "cell_type": "code",
   "execution_count": 8,
   "metadata": {},
   "outputs": [
    {
     "data": {
      "image/png": "[encoded data removed]",
      "text/plain": [
       "<Figure size 720x288 with 1 Axes>"
      ]
     },
     "metadata": {
      "needs_background": "light"
     },
     "output_type": "display_data"
    }
   ],
   "source": [
    "#group by holiday and plot\n",
    "trips_hourly_engineered_holiday = trips_hourly_engineered.groupby([\"day_of_year\",\"is_holiday\"])[\"ongoing_trips_total\"].sum()\n",
    "trips_hourly_engineered_holiday = pd.DataFrame(trips_hourly_engineered_holiday)\n",
    "\n",
    "fig,ax = plt.subplots(figsize=(10,4)) \n",
    "\n",
    "sns.boxplot(x=trips_hourly_engineered_holiday.index.get_level_values(1), y=trips_hourly_engineered_holiday[\"ongoing_trips_total\"],ax=ax, palette=\"magma\")\n",
    "ax.set_title(\"\", fontsize=18, fontname=\"Arial\")\n",
    "ax.set_xlabel(\"Holiday\")\n",
    "ax.set_ylabel(\"Usage\")\n",
    "plt.show()"
   ]
  },
  {
   "cell_type": "markdown",
   "metadata": {},
   "source": [
    "### Weather"
   ]
  },
  {
   "cell_type": "code",
   "execution_count": 9,
   "metadata": {},
   "outputs": [
    {
     "data": {
      "image/png": "[encoded data removed]",
      "text/plain": [
       "<Figure size 720x288 with 1 Axes>"
      ]
     },
     "metadata": {
      "needs_background": "light"
     },
     "output_type": "display_data"
    }
   ],
   "source": [
    "#group by precipitation and plot\n",
    "trips_hourly_engineered_precip = trips_hourly_engineered.groupby([\"day_of_year\",\"precip\"])[\"ongoing_trips_total\"].sum()\n",
    "trips_hourly_engineered_precip = pd.DataFrame(trips_hourly_engineered_precip)\n",
    "\n",
    "fig,ax = plt.subplots(figsize=(10,4)) \n",
    "\n",
    "sns.boxplot(x=trips_hourly_engineered_precip.index.get_level_values(1), y=trips_hourly_engineered_precip[\"ongoing_trips_total\"],ax=ax, palette=\"magma\")\n",
    "ax.set_title(\"\", fontsize=18, fontname=\"Arial\")\n",
    "ax.set_xlabel(\"Precipitation\")\n",
    "ax.set_ylabel(\"Usage\")\n",
    "plt.show()"
   ]
  },
  {
   "cell_type": "code",
   "execution_count": null,
   "metadata": {},
   "outputs": [],
   "source": []
  }
 ],
 "metadata": {
  "kernelspec": {
   "display_name": "Python 3 (ipykernel)",
   "language": "python",
   "name": "python3"
  },
  "language_info": {
   "codemirror_mode": {
    "name": "ipython",
    "version": 3
   },
   "file_extension": ".py",
   "mimetype": "text/x-python",
   "name": "python",
   "nbconvert_exporter": "python",
   "pygments_lexer": "ipython3",
   "version": "3.9.7"
  }
 },
 "nbformat": 4,
 "nbformat_minor": 4
}
