{
 "cells": [
  {
   "cell_type": "code",
   "execution_count": 83,
   "metadata": {},
   "outputs": [],
   "source": [
    "import pandas as pd\n",
    "import numpy as np\n",
    "import folium"
   ]
  },
  {
   "cell_type": "code",
   "execution_count": 84,
   "metadata": {},
   "outputs": [],
   "source": [
    "trips_df = pd.read_pickle('../00_data/trips.pkl')\n",
    "stations_df = pd.read_pickle('../00_data/stations.pkl')\n",
    "stations_df = stations_df.set_index(\"station_id\")"
   ]
  },
  {
   "cell_type": "code",
   "execution_count": 85,
   "metadata": {},
   "outputs": [],
   "source": [
    "station_ids = np.unique(\n",
    "    np.concatenate([trips_df[\"start_station_id\"], trips_df[\"end_station_id\"]])\n",
    ")"
   ]
  },
  {
   "cell_type": "code",
   "execution_count": 86,
   "metadata": {},
   "outputs": [],
   "source": [
    "dates = pd.date_range(start='2019-01-01', end='2019-12-31', freq='D')"
   ]
  },
  {
   "cell_type": "code",
   "execution_count": 87,
   "metadata": {},
   "outputs": [],
   "source": [
    "full_index = pd.MultiIndex.from_product([station_ids, dates], names=['station_id', 'date'])"
   ]
  },
  {
   "cell_type": "code",
   "execution_count": 88,
   "metadata": {},
   "outputs": [],
   "source": [
    "trips_df[\"start_time_floored\"] = trips_df[\"start_time\"].dt.floor(\"1D\")\n",
    "trips_per_station_date = trips_df.groupby(\n",
    "    [\"start_station_id\", \"start_time_floored\"]\n",
    ").size()\n",
    "trips_per_station_date = (\n",
    "    trips_per_station_date.reindex(full_index).fillna(0).to_frame(\"n_trips\")\n",
    ")\n"
   ]
  },
  {
   "cell_type": "code",
   "execution_count": 89,
   "metadata": {},
   "outputs": [
    {
     "data": {
      "text/plain": [
       "148"
      ]
     },
     "execution_count": 89,
     "metadata": {},
     "output_type": "execute_result"
    }
   ],
   "source": [
    "time_interval = pd.date_range(start='2019-12-01', end='2019-12-31', freq='H')\n",
    "\n",
    "trips_per_station_date.loc[(slice(None), time_interval), :].index.get_level_values(0).nunique()"
   ]
  },
  {
   "cell_type": "code",
   "execution_count": 90,
   "metadata": {},
   "outputs": [],
   "source": [
    "def get_station_utilization(time_interval):\n",
    "    station_utilization = trips_per_station_date.loc[(slice(None), time_interval), :]\n",
    "    station_utilization = (\n",
    "        station_utilization[station_utilization[\"n_trips\"] != 0]\n",
    "        .groupby(level=[0])\n",
    "        .count()\n",
    "    )\n",
    "    station_utilization = station_utilization.reindex(station_ids).fillna(0)\n",
    "    station_utilization = station_utilization.rename(columns={'n_trips': 'days_used'})\n",
    "    station_utilization['station_usage'] = station_utilization['days_used'] / len(time_interval)\n",
    "    return station_utilization"
   ]
  },
  {
   "cell_type": "code",
   "execution_count": 91,
   "metadata": {},
   "outputs": [],
   "source": [
    "def evaluate_station_utilization(station_utilization, threshold):\n",
    "    station_utilization_kpi = len(station_utilization[\n",
    "        station_utilization[\"station_usage\"] < threshold\n",
    "    ])\n",
    "    n_unused_stations = len(station_utilization[station_utilization[\"station_usage\"] == 0])\n",
    "    print(\n",
    "        f\"Number of stations with utilization below \"\n",
    "        + f\"{threshold*100:.0f}%: {station_utilization_kpi}\"\n",
    "    )\n",
    "    print(\n",
    "        f\"That is {station_utilization_kpi / len(station_utilization) * 100:.0f}% of all stations\"\n",
    "    )\n",
    "    print(f\"Number of stations that are unused: {n_unused_stations}\")"
   ]
  },
  {
   "cell_type": "code",
   "execution_count": 92,
   "metadata": {},
   "outputs": [
    {
     "name": "stdout",
     "output_type": "stream",
     "text": [
      "Number of stations with utilization below 20%: 46\n",
      "That is 31% of all stations\n",
      "Number of stations that are unused: 0\n"
     ]
    }
   ],
   "source": [
    "station_utilization = get_station_utilization(\n",
    "    pd.date_range(start=\"2019-01-01\", end=\"2019-12-31\", freq=\"D\")\n",
    ")\n",
    "evaluate_station_utilization(station_utilization, threshold=0.2)\n"
   ]
  },
  {
   "cell_type": "code",
   "execution_count": 93,
   "metadata": {},
   "outputs": [
    {
     "name": "stdout",
     "output_type": "stream",
     "text": [
      "Number of stations with utilization below 20%: 23\n",
      "That is 16% of all stations\n",
      "Number of stations that are unused: 14\n"
     ]
    }
   ],
   "source": [
    "station_utilization = get_station_utilization(\n",
    "    pd.date_range(start=\"2019-12-01\", end=\"2019-12-31\", freq=\"D\")\n",
    ")\n",
    "evaluate_station_utilization(station_utilization, threshold=0.2)"
   ]
  },
  {
   "cell_type": "code",
   "execution_count": 94,
   "metadata": {},
   "outputs": [
    {
     "name": "stdout",
     "output_type": "stream",
     "text": [
      "Number of stations with utilization below 20%: 27\n",
      "That is 18% of all stations\n",
      "Number of stations that are unused: 19\n"
     ]
    }
   ],
   "source": [
    "station_utilization = get_station_utilization(\n",
    "    pd.date_range(start=\"2019-11-01\", end=\"2019-11-30\", freq=\"D\")\n",
    ")\n",
    "evaluate_station_utilization(station_utilization, threshold=0.2)"
   ]
  },
  {
   "cell_type": "code",
   "execution_count": 95,
   "metadata": {},
   "outputs": [
    {
     "name": "stdout",
     "output_type": "stream",
     "text": [
      "Number of stations with utilization below 20%: 22\n",
      "That is 15% of all stations\n",
      "Number of stations that are unused: 15\n"
     ]
    }
   ],
   "source": [
    "station_utilization = get_station_utilization(\n",
    "    pd.date_range(start=\"2019-12-14\", end=\"2019-12-31\", freq=\"D\")\n",
    ")\n",
    "evaluate_station_utilization(station_utilization, threshold=0.2)"
   ]
  },
  {
   "cell_type": "code",
   "execution_count": 136,
   "metadata": {},
   "outputs": [],
   "source": [
    "def draw_underutilized_stations(station_utilization, threshold):\n",
    "    underutilized_stations = station_utilization[\n",
    "        station_utilization[\"station_usage\"] < threshold\n",
    "    ]\n",
    "    stations = stations_df.loc[underutilized_stations.index]\n",
    "    stations = stations.merge(underutilized_stations, left_index=True, right_index=True)\n",
    "    la_map = folium.Map(\n",
    "        location=(\n",
    "            34.052235,\n",
    "            -118.243683,\n",
    "        ),  # the orig mean values as location coordinates\n",
    "        zoom_start=11,\n",
    "        control_scale=True,\n",
    "        max_zoom=20,\n",
    "    )\n",
    "\n",
    "    for index, row in stations.iterrows():\n",
    "        days_used = int(row['days_used'])\n",
    "        popup = folium.Popup(\n",
    "            html=f\"Station ID: <b>{index}</b><br>Days used: <b>{days_used}</b>\",\n",
    "\t\t\tmax_width=100,\n",
    "\t\t\tmin_width=100,\n",
    "        )\n",
    "        color = 'red' if days_used == 0 else 'orange'\n",
    "        folium.Marker(\n",
    "            location=[row[\"latitude\"], row[\"longitude\"]],\n",
    "            popup=popup,\n",
    "            icon=folium.Icon(color=color),\n",
    "        ).add_to(la_map)\n",
    "\n",
    "    return la_map\n"
   ]
  },
  {
   "cell_type": "code",
   "execution_count": 137,
   "metadata": {},
   "outputs": [
    {
     "data": {
      "text/html": [
       "<div style=\"width:100%;\"><div style=\"position:relative;width:100%;height:0;padding-bottom:60%;\"><span style=\"color:#565656\">Make this Notebook Trusted to load map: File -> Trust Notebook</span><iframe src=\"about:blank\" style=\"position:absolute;width:100%;height:100%;left:0;top:0;border:none !important;\" data-html=%3C%21DOCTYPE%20html%3E%0A%3Chead%3E%20%20%20%20%0A%20%20%20%20%3Cmeta%20http-equiv%3D%22content-type%22%20content%3D%22text/html%3B%20charset%3DUTF-8%22%20/%3E%0A%20%20%20%20%0A%20%20%20%20%20%20%20%20%3Cscript%3E%0A%20%20%20%20%20%20%20%20%20%20%20%20L_NO_TOUCH%20%3D%20false%3B%0A%20%20%20%20%20%20%20%20%20%20%20%20L_DISABLE_3D%20%3D%20false%3B%0A%20%20%20%20%20%20%20%20%3C/script%3E%0A%20%20%20%20%0A%20%20%20%20%3Cstyle%3Ehtml%2C%20body%20%7Bwidth%3A%20100%25%3Bheight%3A%20100%25%3Bmargin%3A%200%3Bpadding%3A%200%3B%7D%3C/style%3E%0A%20%20%20%20%3Cstyle%3E%23map%20%7Bposition%3Aabsolute%3Btop%3A0%3Bbottom%3A0%3Bright%3A0%3Bleft%3A0%3B%7D%3C/style%3E%0A%20%20%20%20%3Cscript%20src%3D%22https%3A//cdn.jsdelivr.net/npm/leaflet%401.6.0/dist/leaflet.js%22%3E%3C/script%3E%0A%20%20%20%20%3Cscript%20src%3D%22https%3A//code.jquery.com/jquery-1.12.4.min.js%22%3E%3C/script%3E%0A%20%20%20%20%3Cscript%20src%3D%22https%3A//maxcdn.bootstrapcdn.com/bootstrap/3.2.0/js/bootstrap.min.js%22%3E%3C/script%3E%0A%20%20%20%20%3Cscript%20src%3D%22https%3A//cdnjs.cloudflare.com/ajax/libs/Leaflet.awesome-markers/2.0.2/leaflet.awesome-markers.js%22%3E%3C/script%3E%0A%20%20%20%20%3Clink%20rel%3D%22stylesheet%22%20href%3D%22https%3A//cdn.jsdelivr.net/npm/leaflet%401.6.0/dist/leaflet.css%22/%3E%0A%20%20%20%20%3Clink%20rel%3D%22stylesheet%22%20href%3D%22https%3A//maxcdn.bootstrapcdn.com/bootstrap/3.2.0/css/bootstrap.min.css%22/%3E%0A%20%20%20%20%3Clink%20rel%3D%22stylesheet%22%20href%3D%22https%3A//maxcdn.bootstrapcdn.com/bootstrap/3.2.0/css/bootstrap-theme.min.css%22/%3E%0A%20%20%20%20%3Clink%20rel%3D%22stylesheet%22%20href%3D%22https%3A//maxcdn.bootstrapcdn.com/font-awesome/4.6.3/css/font-awesome.min.css%22/%3E%0A%20%20%20%20%3Clink%20rel%3D%22stylesheet%22%20href%3D%22https%3A//cdnjs.cloudflare.com/ajax/libs/Leaflet.awesome-markers/2.0.2/leaflet.awesome-markers.css%22/%3E%0A%20%20%20%20%3Clink%20rel%3D%22stylesheet%22%20href%3D%22https%3A//cdn.jsdelivr.net/gh/python-visualization/folium/folium/templates/leaflet.awesome.rotate.min.css%22/%3E%0A%20%20%20%20%0A%20%20%20%20%20%20%20%20%20%20%20%20%3Cmeta%20name%3D%22viewport%22%20content%3D%22width%3Ddevice-width%2C%0A%20%20%20%20%20%20%20%20%20%20%20%20%20%20%20%20initial-scale%3D1.0%2C%20maximum-scale%3D1.0%2C%20user-scalable%3Dno%22%20/%3E%0A%20%20%20%20%20%20%20%20%20%20%20%20%3Cstyle%3E%0A%20%20%20%20%20%20%20%20%20%20%20%20%20%20%20%20%23map_ab4d17c8b7954c4a919b02052d69d7f8%20%7B%0A%20%20%20%20%20%20%20%20%20%20%20%20%20%20%20%20%20%20%20%20position%3A%20relative%3B%0A%20%20%20%20%20%20%20%20%20%20%20%20%20%20%20%20%20%20%20%20width%3A%20100.0%25%3B%0A%20%20%20%20%20%20%20%20%20%20%20%20%20%20%20%20%20%20%20%20height%3A%20100.0%25%3B%0A%20%20%20%20%20%20%20%20%20%20%20%20%20%20%20%20%20%20%20%20left%3A%200.0%25%3B%0A%20%20%20%20%20%20%20%20%20%20%20%20%20%20%20%20%20%20%20%20top%3A%200.0%25%3B%0A%20%20%20%20%20%20%20%20%20%20%20%20%20%20%20%20%7D%0A%20%20%20%20%20%20%20%20%20%20%20%20%3C/style%3E%0A%20%20%20%20%20%20%20%20%0A%3C/head%3E%0A%3Cbody%3E%20%20%20%20%0A%20%20%20%20%0A%20%20%20%20%20%20%20%20%20%20%20%20%3Cdiv%20class%3D%22folium-map%22%20id%3D%22map_ab4d17c8b7954c4a919b02052d69d7f8%22%20%3E%3C/div%3E%0A%20%20%20%20%20%20%20%20%0A%3C/body%3E%0A%3Cscript%3E%20%20%20%20%0A%20%20%20%20%0A%20%20%20%20%20%20%20%20%20%20%20%20var%20map_ab4d17c8b7954c4a919b02052d69d7f8%20%3D%20L.map%28%0A%20%20%20%20%20%20%20%20%20%20%20%20%20%20%20%20%22map_ab4d17c8b7954c4a919b02052d69d7f8%22%2C%0A%20%20%20%20%20%20%20%20%20%20%20%20%20%20%20%20%7B%0A%20%20%20%20%20%20%20%20%20%20%20%20%20%20%20%20%20%20%20%20center%3A%20%5B34.052235%2C%20-118.243683%5D%2C%0A%20%20%20%20%20%20%20%20%20%20%20%20%20%20%20%20%20%20%20%20crs%3A%20L.CRS.EPSG3857%2C%0A%20%20%20%20%20%20%20%20%20%20%20%20%20%20%20%20%20%20%20%20zoom%3A%2011%2C%0A%20%20%20%20%20%20%20%20%20%20%20%20%20%20%20%20%20%20%20%20zoomControl%3A%20true%2C%0A%20%20%20%20%20%20%20%20%20%20%20%20%20%20%20%20%20%20%20%20preferCanvas%3A%20false%2C%0A%20%20%20%20%20%20%20%20%20%20%20%20%20%20%20%20%7D%0A%20%20%20%20%20%20%20%20%20%20%20%20%29%3B%0A%20%20%20%20%20%20%20%20%20%20%20%20L.control.scale%28%29.addTo%28map_ab4d17c8b7954c4a919b02052d69d7f8%29%3B%0A%0A%20%20%20%20%20%20%20%20%20%20%20%20%0A%0A%20%20%20%20%20%20%20%20%0A%20%20%20%20%0A%20%20%20%20%20%20%20%20%20%20%20%20var%20tile_layer_06c45e21aa9f4f3e95f2c26f963780ff%20%3D%20L.tileLayer%28%0A%20%20%20%20%20%20%20%20%20%20%20%20%20%20%20%20%22https%3A//%7Bs%7D.tile.openstreetmap.org/%7Bz%7D/%7Bx%7D/%7By%7D.png%22%2C%0A%20%20%20%20%20%20%20%20%20%20%20%20%20%20%20%20%7B%22attribution%22%3A%20%22Data%20by%20%5Cu0026copy%3B%20%5Cu003ca%20href%3D%5C%22http%3A//openstreetmap.org%5C%22%5Cu003eOpenStreetMap%5Cu003c/a%5Cu003e%2C%20under%20%5Cu003ca%20href%3D%5C%22http%3A//www.openstreetmap.org/copyright%5C%22%5Cu003eODbL%5Cu003c/a%5Cu003e.%22%2C%20%22detectRetina%22%3A%20false%2C%20%22maxNativeZoom%22%3A%2020%2C%20%22maxZoom%22%3A%2020%2C%20%22minZoom%22%3A%200%2C%20%22noWrap%22%3A%20false%2C%20%22opacity%22%3A%201%2C%20%22subdomains%22%3A%20%22abc%22%2C%20%22tms%22%3A%20false%7D%0A%20%20%20%20%20%20%20%20%20%20%20%20%29.addTo%28map_ab4d17c8b7954c4a919b02052d69d7f8%29%3B%0A%20%20%20%20%20%20%20%20%0A%20%20%20%20%0A%20%20%20%20%20%20%20%20%20%20%20%20var%20marker_6b89fafadd4946afbcf1814fbe907c9c%20%3D%20L.marker%28%0A%20%20%20%20%20%20%20%20%20%20%20%20%20%20%20%20%5B33.99116%2C%20-118.46829%5D%2C%0A%20%20%20%20%20%20%20%20%20%20%20%20%20%20%20%20%7B%7D%0A%20%20%20%20%20%20%20%20%20%20%20%20%29.addTo%28map_ab4d17c8b7954c4a919b02052d69d7f8%29%3B%0A%20%20%20%20%20%20%20%20%0A%20%20%20%20%0A%20%20%20%20%20%20%20%20%20%20%20%20var%20icon_1794a47d62784aa4b633b1771c138a9d%20%3D%20L.AwesomeMarkers.icon%28%0A%20%20%20%20%20%20%20%20%20%20%20%20%20%20%20%20%7B%22extraClasses%22%3A%20%22fa-rotate-0%22%2C%20%22icon%22%3A%20%22info-sign%22%2C%20%22iconColor%22%3A%20%22white%22%2C%20%22markerColor%22%3A%20%22red%22%2C%20%22prefix%22%3A%20%22glyphicon%22%7D%0A%20%20%20%20%20%20%20%20%20%20%20%20%29%3B%0A%20%20%20%20%20%20%20%20%20%20%20%20marker_6b89fafadd4946afbcf1814fbe907c9c.setIcon%28icon_1794a47d62784aa4b633b1771c138a9d%29%3B%0A%20%20%20%20%20%20%20%20%0A%20%20%20%20%0A%20%20%20%20%20%20%20%20var%20popup_13fe100a4a1449368d57707272d057a8%20%3D%20L.popup%28%7B%22maxWidth%22%3A%20100%2C%20%22minWidth%22%3A%20100%7D%29%3B%0A%0A%20%20%20%20%20%20%20%20%0A%20%20%20%20%20%20%20%20%20%20%20%20var%20html_8e35888322144188a0a3ddade240ad47%20%3D%20%24%28%60%3Cdiv%20id%3D%22html_8e35888322144188a0a3ddade240ad47%22%20style%3D%22width%3A%20100.0%25%3B%20height%3A%20100.0%25%3B%22%3EStation%20ID%3A%20%3Cb%3E4202%3C/b%3E%3Cbr%3EDays%20used%3A%20%3Cb%3E0%3C/b%3E%3C/div%3E%60%29%5B0%5D%3B%0A%20%20%20%20%20%20%20%20%20%20%20%20popup_13fe100a4a1449368d57707272d057a8.setContent%28html_8e35888322144188a0a3ddade240ad47%29%3B%0A%20%20%20%20%20%20%20%20%0A%0A%20%20%20%20%20%20%20%20marker_6b89fafadd4946afbcf1814fbe907c9c.bindPopup%28popup_13fe100a4a1449368d57707272d057a8%29%0A%20%20%20%20%20%20%20%20%3B%0A%0A%20%20%20%20%20%20%20%20%0A%20%20%20%20%0A%20%20%20%20%0A%20%20%20%20%20%20%20%20%20%20%20%20var%20marker_1ff1d2396a4048f0b3f861fee8e9dfd9%20%3D%20L.marker%28%0A%20%20%20%20%20%20%20%20%20%20%20%20%20%20%20%20%5B33.98842%2C%20-118.45163%5D%2C%0A%20%20%20%20%20%20%20%20%20%20%20%20%20%20%20%20%7B%7D%0A%20%20%20%20%20%20%20%20%20%20%20%20%29.addTo%28map_ab4d17c8b7954c4a919b02052d69d7f8%29%3B%0A%20%20%20%20%20%20%20%20%0A%20%20%20%20%0A%20%20%20%20%20%20%20%20%20%20%20%20var%20icon_be75aa757f8b4911b6a75c1f3f3c19b8%20%3D%20L.AwesomeMarkers.icon%28%0A%20%20%20%20%20%20%20%20%20%20%20%20%20%20%20%20%7B%22extraClasses%22%3A%20%22fa-rotate-0%22%2C%20%22icon%22%3A%20%22info-sign%22%2C%20%22iconColor%22%3A%20%22white%22%2C%20%22markerColor%22%3A%20%22red%22%2C%20%22prefix%22%3A%20%22glyphicon%22%7D%0A%20%20%20%20%20%20%20%20%20%20%20%20%29%3B%0A%20%20%20%20%20%20%20%20%20%20%20%20marker_1ff1d2396a4048f0b3f861fee8e9dfd9.setIcon%28icon_be75aa757f8b4911b6a75c1f3f3c19b8%29%3B%0A%20%20%20%20%20%20%20%20%0A%20%20%20%20%0A%20%20%20%20%20%20%20%20var%20popup_afb3b75c47084c639fda84ee26e9db9f%20%3D%20L.popup%28%7B%22maxWidth%22%3A%20100%2C%20%22minWidth%22%3A%20100%7D%29%3B%0A%0A%20%20%20%20%20%20%20%20%0A%20%20%20%20%20%20%20%20%20%20%20%20var%20html_7a8187c7be2d4db9bb0bbceb031a75af%20%3D%20%24%28%60%3Cdiv%20id%3D%22html_7a8187c7be2d4db9bb0bbceb031a75af%22%20style%3D%22width%3A%20100.0%25%3B%20height%3A%20100.0%25%3B%22%3EStation%20ID%3A%20%3Cb%3E4204%3C/b%3E%3Cbr%3EDays%20used%3A%20%3Cb%3E0%3C/b%3E%3C/div%3E%60%29%5B0%5D%3B%0A%20%20%20%20%20%20%20%20%20%20%20%20popup_afb3b75c47084c639fda84ee26e9db9f.setContent%28html_7a8187c7be2d4db9bb0bbceb031a75af%29%3B%0A%20%20%20%20%20%20%20%20%0A%0A%20%20%20%20%20%20%20%20marker_1ff1d2396a4048f0b3f861fee8e9dfd9.bindPopup%28popup_afb3b75c47084c639fda84ee26e9db9f%29%0A%20%20%20%20%20%20%20%20%3B%0A%0A%20%20%20%20%20%20%20%20%0A%20%20%20%20%0A%20%20%20%20%0A%20%20%20%20%20%20%20%20%20%20%20%20var%20marker_6a6e11a4af304177910ccdcec529558a%20%3D%20L.marker%28%0A%20%20%20%20%20%20%20%20%20%20%20%20%20%20%20%20%5B33.99377%2C%20-118.45367%5D%2C%0A%20%20%20%20%20%20%20%20%20%20%20%20%20%20%20%20%7B%7D%0A%20%20%20%20%20%20%20%20%20%20%20%20%29.addTo%28map_ab4d17c8b7954c4a919b02052d69d7f8%29%3B%0A%20%20%20%20%20%20%20%20%0A%20%20%20%20%0A%20%20%20%20%20%20%20%20%20%20%20%20var%20icon_b124e46a70d044d199d43cded2e7d51e%20%3D%20L.AwesomeMarkers.icon%28%0A%20%20%20%20%20%20%20%20%20%20%20%20%20%20%20%20%7B%22extraClasses%22%3A%20%22fa-rotate-0%22%2C%20%22icon%22%3A%20%22info-sign%22%2C%20%22iconColor%22%3A%20%22white%22%2C%20%22markerColor%22%3A%20%22red%22%2C%20%22prefix%22%3A%20%22glyphicon%22%7D%0A%20%20%20%20%20%20%20%20%20%20%20%20%29%3B%0A%20%20%20%20%20%20%20%20%20%20%20%20marker_6a6e11a4af304177910ccdcec529558a.setIcon%28icon_b124e46a70d044d199d43cded2e7d51e%29%3B%0A%20%20%20%20%20%20%20%20%0A%20%20%20%20%0A%20%20%20%20%20%20%20%20var%20popup_e51cfc7540a24f629ca52c43cf7f4479%20%3D%20L.popup%28%7B%22maxWidth%22%3A%20100%2C%20%22minWidth%22%3A%20100%7D%29%3B%0A%0A%20%20%20%20%20%20%20%20%0A%20%20%20%20%20%20%20%20%20%20%20%20var%20html_2ace9f947a70493bb44601ca0612ae6c%20%3D%20%24%28%60%3Cdiv%20id%3D%22html_2ace9f947a70493bb44601ca0612ae6c%22%20style%3D%22width%3A%20100.0%25%3B%20height%3A%20100.0%25%3B%22%3EStation%20ID%3A%20%3Cb%3E4205%3C/b%3E%3Cbr%3EDays%20used%3A%20%3Cb%3E0%3C/b%3E%3C/div%3E%60%29%5B0%5D%3B%0A%20%20%20%20%20%20%20%20%20%20%20%20popup_e51cfc7540a24f629ca52c43cf7f4479.setContent%28html_2ace9f947a70493bb44601ca0612ae6c%29%3B%0A%20%20%20%20%20%20%20%20%0A%0A%20%20%20%20%20%20%20%20marker_6a6e11a4af304177910ccdcec529558a.bindPopup%28popup_e51cfc7540a24f629ca52c43cf7f4479%29%0A%20%20%20%20%20%20%20%20%3B%0A%0A%20%20%20%20%20%20%20%20%0A%20%20%20%20%0A%20%20%20%20%0A%20%20%20%20%20%20%20%20%20%20%20%20var%20marker_52ecf4469e6d4a25b6d91888311b5bc6%20%3D%20L.marker%28%0A%20%20%20%20%20%20%20%20%20%20%20%20%20%20%20%20%5B33.99834%2C%20-118.46101%5D%2C%0A%20%20%20%20%20%20%20%20%20%20%20%20%20%20%20%20%7B%7D%0A%20%20%20%20%20%20%20%20%20%20%20%20%29.addTo%28map_ab4d17c8b7954c4a919b02052d69d7f8%29%3B%0A%20%20%20%20%20%20%20%20%0A%20%20%20%20%0A%20%20%20%20%20%20%20%20%20%20%20%20var%20icon_785d74e849794e6e979136e5dc3d404f%20%3D%20L.AwesomeMarkers.icon%28%0A%20%20%20%20%20%20%20%20%20%20%20%20%20%20%20%20%7B%22extraClasses%22%3A%20%22fa-rotate-0%22%2C%20%22icon%22%3A%20%22info-sign%22%2C%20%22iconColor%22%3A%20%22white%22%2C%20%22markerColor%22%3A%20%22red%22%2C%20%22prefix%22%3A%20%22glyphicon%22%7D%0A%20%20%20%20%20%20%20%20%20%20%20%20%29%3B%0A%20%20%20%20%20%20%20%20%20%20%20%20marker_52ecf4469e6d4a25b6d91888311b5bc6.setIcon%28icon_785d74e849794e6e979136e5dc3d404f%29%3B%0A%20%20%20%20%20%20%20%20%0A%20%20%20%20%0A%20%20%20%20%20%20%20%20var%20popup_c5880f745a384bdabe903cf0aea0bed5%20%3D%20L.popup%28%7B%22maxWidth%22%3A%20100%2C%20%22minWidth%22%3A%20100%7D%29%3B%0A%0A%20%20%20%20%20%20%20%20%0A%20%20%20%20%20%20%20%20%20%20%20%20var%20html_36a8014d17974647aa502766f0bbac8e%20%3D%20%24%28%60%3Cdiv%20id%3D%22html_36a8014d17974647aa502766f0bbac8e%22%20style%3D%22width%3A%20100.0%25%3B%20height%3A%20100.0%25%3B%22%3EStation%20ID%3A%20%3Cb%3E4206%3C/b%3E%3Cbr%3EDays%20used%3A%20%3Cb%3E0%3C/b%3E%3C/div%3E%60%29%5B0%5D%3B%0A%20%20%20%20%20%20%20%20%20%20%20%20popup_c5880f745a384bdabe903cf0aea0bed5.setContent%28html_36a8014d17974647aa502766f0bbac8e%29%3B%0A%20%20%20%20%20%20%20%20%0A%0A%20%20%20%20%20%20%20%20marker_52ecf4469e6d4a25b6d91888311b5bc6.bindPopup%28popup_c5880f745a384bdabe903cf0aea0bed5%29%0A%20%20%20%20%20%20%20%20%3B%0A%0A%20%20%20%20%20%20%20%20%0A%20%20%20%20%0A%20%20%20%20%0A%20%20%20%20%20%20%20%20%20%20%20%20var%20marker_d6f9990838f84c699c03ae64b2046bd2%20%3D%20L.marker%28%0A%20%20%20%20%20%20%20%20%20%20%20%20%20%20%20%20%5B34.00088%2C%20-118.46891%5D%2C%0A%20%20%20%20%20%20%20%20%20%20%20%20%20%20%20%20%7B%7D%0A%20%20%20%20%20%20%20%20%20%20%20%20%29.addTo%28map_ab4d17c8b7954c4a919b02052d69d7f8%29%3B%0A%20%20%20%20%20%20%20%20%0A%20%20%20%20%0A%20%20%20%20%20%20%20%20%20%20%20%20var%20icon_d11fb0304f55458aa9aa8f72ce30cfad%20%3D%20L.AwesomeMarkers.icon%28%0A%20%20%20%20%20%20%20%20%20%20%20%20%20%20%20%20%7B%22extraClasses%22%3A%20%22fa-rotate-0%22%2C%20%22icon%22%3A%20%22info-sign%22%2C%20%22iconColor%22%3A%20%22white%22%2C%20%22markerColor%22%3A%20%22red%22%2C%20%22prefix%22%3A%20%22glyphicon%22%7D%0A%20%20%20%20%20%20%20%20%20%20%20%20%29%3B%0A%20%20%20%20%20%20%20%20%20%20%20%20marker_d6f9990838f84c699c03ae64b2046bd2.setIcon%28icon_d11fb0304f55458aa9aa8f72ce30cfad%29%3B%0A%20%20%20%20%20%20%20%20%0A%20%20%20%20%0A%20%20%20%20%20%20%20%20var%20popup_2cfab054b3654c268f06c15a2a2e634b%20%3D%20L.popup%28%7B%22maxWidth%22%3A%20100%2C%20%22minWidth%22%3A%20100%7D%29%3B%0A%0A%20%20%20%20%20%20%20%20%0A%20%20%20%20%20%20%20%20%20%20%20%20var%20html_be17cee571bc4269a3a216be4a5cdbfd%20%3D%20%24%28%60%3Cdiv%20id%3D%22html_be17cee571bc4269a3a216be4a5cdbfd%22%20style%3D%22width%3A%20100.0%25%3B%20height%3A%20100.0%25%3B%22%3EStation%20ID%3A%20%3Cb%3E4207%3C/b%3E%3Cbr%3EDays%20used%3A%20%3Cb%3E0%3C/b%3E%3C/div%3E%60%29%5B0%5D%3B%0A%20%20%20%20%20%20%20%20%20%20%20%20popup_2cfab054b3654c268f06c15a2a2e634b.setContent%28html_be17cee571bc4269a3a216be4a5cdbfd%29%3B%0A%20%20%20%20%20%20%20%20%0A%0A%20%20%20%20%20%20%20%20marker_d6f9990838f84c699c03ae64b2046bd2.bindPopup%28popup_2cfab054b3654c268f06c15a2a2e634b%29%0A%20%20%20%20%20%20%20%20%3B%0A%0A%20%20%20%20%20%20%20%20%0A%20%20%20%20%0A%20%20%20%20%0A%20%20%20%20%20%20%20%20%20%20%20%20var%20marker_da9638ed6fb64aa489704260f90cdfef%20%3D%20L.marker%28%0A%20%20%20%20%20%20%20%20%20%20%20%20%20%20%20%20%5B33.99868%2C%20-118.47298%5D%2C%0A%20%20%20%20%20%20%20%20%20%20%20%20%20%20%20%20%7B%7D%0A%20%20%20%20%20%20%20%20%20%20%20%20%29.addTo%28map_ab4d17c8b7954c4a919b02052d69d7f8%29%3B%0A%20%20%20%20%20%20%20%20%0A%20%20%20%20%0A%20%20%20%20%20%20%20%20%20%20%20%20var%20icon_bf747f2af91b40988b342e67471c41ae%20%3D%20L.AwesomeMarkers.icon%28%0A%20%20%20%20%20%20%20%20%20%20%20%20%20%20%20%20%7B%22extraClasses%22%3A%20%22fa-rotate-0%22%2C%20%22icon%22%3A%20%22info-sign%22%2C%20%22iconColor%22%3A%20%22white%22%2C%20%22markerColor%22%3A%20%22red%22%2C%20%22prefix%22%3A%20%22glyphicon%22%7D%0A%20%20%20%20%20%20%20%20%20%20%20%20%29%3B%0A%20%20%20%20%20%20%20%20%20%20%20%20marker_da9638ed6fb64aa489704260f90cdfef.setIcon%28icon_bf747f2af91b40988b342e67471c41ae%29%3B%0A%20%20%20%20%20%20%20%20%0A%20%20%20%20%0A%20%20%20%20%20%20%20%20var%20popup_fca8f5eb1e0b4914a820d92549df07fd%20%3D%20L.popup%28%7B%22maxWidth%22%3A%20100%2C%20%22minWidth%22%3A%20100%7D%29%3B%0A%0A%20%20%20%20%20%20%20%20%0A%20%20%20%20%20%20%20%20%20%20%20%20var%20html_5dc6fdee9c534b02b614245e6c15e725%20%3D%20%24%28%60%3Cdiv%20id%3D%22html_5dc6fdee9c534b02b614245e6c15e725%22%20style%3D%22width%3A%20100.0%25%3B%20height%3A%20100.0%25%3B%22%3EStation%20ID%3A%20%3Cb%3E4208%3C/b%3E%3Cbr%3EDays%20used%3A%20%3Cb%3E0%3C/b%3E%3C/div%3E%60%29%5B0%5D%3B%0A%20%20%20%20%20%20%20%20%20%20%20%20popup_fca8f5eb1e0b4914a820d92549df07fd.setContent%28html_5dc6fdee9c534b02b614245e6c15e725%29%3B%0A%20%20%20%20%20%20%20%20%0A%0A%20%20%20%20%20%20%20%20marker_da9638ed6fb64aa489704260f90cdfef.bindPopup%28popup_fca8f5eb1e0b4914a820d92549df07fd%29%0A%20%20%20%20%20%20%20%20%3B%0A%0A%20%20%20%20%20%20%20%20%0A%20%20%20%20%0A%20%20%20%20%0A%20%20%20%20%20%20%20%20%20%20%20%20var%20marker_d5f1f4e60e3745b08b7093a69a7ea358%20%3D%20L.marker%28%0A%20%20%20%20%20%20%20%20%20%20%20%20%20%20%20%20%5B33.99624%2C%20-118.47745%5D%2C%0A%20%20%20%20%20%20%20%20%20%20%20%20%20%20%20%20%7B%7D%0A%20%20%20%20%20%20%20%20%20%20%20%20%29.addTo%28map_ab4d17c8b7954c4a919b02052d69d7f8%29%3B%0A%20%20%20%20%20%20%20%20%0A%20%20%20%20%0A%20%20%20%20%20%20%20%20%20%20%20%20var%20icon_1bef0e0d063046ac929db8c95f131de4%20%3D%20L.AwesomeMarkers.icon%28%0A%20%20%20%20%20%20%20%20%20%20%20%20%20%20%20%20%7B%22extraClasses%22%3A%20%22fa-rotate-0%22%2C%20%22icon%22%3A%20%22info-sign%22%2C%20%22iconColor%22%3A%20%22white%22%2C%20%22markerColor%22%3A%20%22red%22%2C%20%22prefix%22%3A%20%22glyphicon%22%7D%0A%20%20%20%20%20%20%20%20%20%20%20%20%29%3B%0A%20%20%20%20%20%20%20%20%20%20%20%20marker_d5f1f4e60e3745b08b7093a69a7ea358.setIcon%28icon_1bef0e0d063046ac929db8c95f131de4%29%3B%0A%20%20%20%20%20%20%20%20%0A%20%20%20%20%0A%20%20%20%20%20%20%20%20var%20popup_58fa3156b01f46eabb1cc0328f528075%20%3D%20L.popup%28%7B%22maxWidth%22%3A%20100%2C%20%22minWidth%22%3A%20100%7D%29%3B%0A%0A%20%20%20%20%20%20%20%20%0A%20%20%20%20%20%20%20%20%20%20%20%20var%20html_5a9bebf03bd34f7fa1add1a7a4cb83f2%20%3D%20%24%28%60%3Cdiv%20id%3D%22html_5a9bebf03bd34f7fa1add1a7a4cb83f2%22%20style%3D%22width%3A%20100.0%25%3B%20height%3A%20100.0%25%3B%22%3EStation%20ID%3A%20%3Cb%3E4209%3C/b%3E%3Cbr%3EDays%20used%3A%20%3Cb%3E0%3C/b%3E%3C/div%3E%60%29%5B0%5D%3B%0A%20%20%20%20%20%20%20%20%20%20%20%20popup_58fa3156b01f46eabb1cc0328f528075.setContent%28html_5a9bebf03bd34f7fa1add1a7a4cb83f2%29%3B%0A%20%20%20%20%20%20%20%20%0A%0A%20%20%20%20%20%20%20%20marker_d5f1f4e60e3745b08b7093a69a7ea358.bindPopup%28popup_58fa3156b01f46eabb1cc0328f528075%29%0A%20%20%20%20%20%20%20%20%3B%0A%0A%20%20%20%20%20%20%20%20%0A%20%20%20%20%0A%20%20%20%20%0A%20%20%20%20%20%20%20%20%20%20%20%20var%20marker_1eb7d9e746514c15bcc8b0c36d2df752%20%3D%20L.marker%28%0A%20%20%20%20%20%20%20%20%20%20%20%20%20%20%20%20%5B33.98434%2C%20-118.47155%5D%2C%0A%20%20%20%20%20%20%20%20%20%20%20%20%20%20%20%20%7B%7D%0A%20%20%20%20%20%20%20%20%20%20%20%20%29.addTo%28map_ab4d17c8b7954c4a919b02052d69d7f8%29%3B%0A%20%20%20%20%20%20%20%20%0A%20%20%20%20%0A%20%20%20%20%20%20%20%20%20%20%20%20var%20icon_b5a43ab555f343c38310037b8d2bea58%20%3D%20L.AwesomeMarkers.icon%28%0A%20%20%20%20%20%20%20%20%20%20%20%20%20%20%20%20%7B%22extraClasses%22%3A%20%22fa-rotate-0%22%2C%20%22icon%22%3A%20%22info-sign%22%2C%20%22iconColor%22%3A%20%22white%22%2C%20%22markerColor%22%3A%20%22red%22%2C%20%22prefix%22%3A%20%22glyphicon%22%7D%0A%20%20%20%20%20%20%20%20%20%20%20%20%29%3B%0A%20%20%20%20%20%20%20%20%20%20%20%20marker_1eb7d9e746514c15bcc8b0c36d2df752.setIcon%28icon_b5a43ab555f343c38310037b8d2bea58%29%3B%0A%20%20%20%20%20%20%20%20%0A%20%20%20%20%0A%20%20%20%20%20%20%20%20var%20popup_72277c2a84b94cb09d553524c3dfd135%20%3D%20L.popup%28%7B%22maxWidth%22%3A%20100%2C%20%22minWidth%22%3A%20100%7D%29%3B%0A%0A%20%20%20%20%20%20%20%20%0A%20%20%20%20%20%20%20%20%20%20%20%20var%20html_d70e2701f42448e1ba030f20d388aafc%20%3D%20%24%28%60%3Cdiv%20id%3D%22html_d70e2701f42448e1ba030f20d388aafc%22%20style%3D%22width%3A%20100.0%25%3B%20height%3A%20100.0%25%3B%22%3EStation%20ID%3A%20%3Cb%3E4210%3C/b%3E%3Cbr%3EDays%20used%3A%20%3Cb%3E0%3C/b%3E%3C/div%3E%60%29%5B0%5D%3B%0A%20%20%20%20%20%20%20%20%20%20%20%20popup_72277c2a84b94cb09d553524c3dfd135.setContent%28html_d70e2701f42448e1ba030f20d388aafc%29%3B%0A%20%20%20%20%20%20%20%20%0A%0A%20%20%20%20%20%20%20%20marker_1eb7d9e746514c15bcc8b0c36d2df752.bindPopup%28popup_72277c2a84b94cb09d553524c3dfd135%29%0A%20%20%20%20%20%20%20%20%3B%0A%0A%20%20%20%20%20%20%20%20%0A%20%20%20%20%0A%20%20%20%20%0A%20%20%20%20%20%20%20%20%20%20%20%20var%20marker_32900d7a9a234311b200793c29ea0d0a%20%3D%20L.marker%28%0A%20%20%20%20%20%20%20%20%20%20%20%20%20%20%20%20%5B33.98493%2C%20-118.46996%5D%2C%0A%20%20%20%20%20%20%20%20%20%20%20%20%20%20%20%20%7B%7D%0A%20%20%20%20%20%20%20%20%20%20%20%20%29.addTo%28map_ab4d17c8b7954c4a919b02052d69d7f8%29%3B%0A%20%20%20%20%20%20%20%20%0A%20%20%20%20%0A%20%20%20%20%20%20%20%20%20%20%20%20var%20icon_7b2f680cfd9c4218af4e1c796c4bc896%20%3D%20L.AwesomeMarkers.icon%28%0A%20%20%20%20%20%20%20%20%20%20%20%20%20%20%20%20%7B%22extraClasses%22%3A%20%22fa-rotate-0%22%2C%20%22icon%22%3A%20%22info-sign%22%2C%20%22iconColor%22%3A%20%22white%22%2C%20%22markerColor%22%3A%20%22red%22%2C%20%22prefix%22%3A%20%22glyphicon%22%7D%0A%20%20%20%20%20%20%20%20%20%20%20%20%29%3B%0A%20%20%20%20%20%20%20%20%20%20%20%20marker_32900d7a9a234311b200793c29ea0d0a.setIcon%28icon_7b2f680cfd9c4218af4e1c796c4bc896%29%3B%0A%20%20%20%20%20%20%20%20%0A%20%20%20%20%0A%20%20%20%20%20%20%20%20var%20popup_632ad80b11bd4f6e9027eeb9f90bd3d2%20%3D%20L.popup%28%7B%22maxWidth%22%3A%20100%2C%20%22minWidth%22%3A%20100%7D%29%3B%0A%0A%20%20%20%20%20%20%20%20%0A%20%20%20%20%20%20%20%20%20%20%20%20var%20html_f844fe07691a4ff889249b3580dd3780%20%3D%20%24%28%60%3Cdiv%20id%3D%22html_f844fe07691a4ff889249b3580dd3780%22%20style%3D%22width%3A%20100.0%25%3B%20height%3A%20100.0%25%3B%22%3EStation%20ID%3A%20%3Cb%3E4211%3C/b%3E%3Cbr%3EDays%20used%3A%20%3Cb%3E0%3C/b%3E%3C/div%3E%60%29%5B0%5D%3B%0A%20%20%20%20%20%20%20%20%20%20%20%20popup_632ad80b11bd4f6e9027eeb9f90bd3d2.setContent%28html_f844fe07691a4ff889249b3580dd3780%29%3B%0A%20%20%20%20%20%20%20%20%0A%0A%20%20%20%20%20%20%20%20marker_32900d7a9a234311b200793c29ea0d0a.bindPopup%28popup_632ad80b11bd4f6e9027eeb9f90bd3d2%29%0A%20%20%20%20%20%20%20%20%3B%0A%0A%20%20%20%20%20%20%20%20%0A%20%20%20%20%0A%20%20%20%20%0A%20%20%20%20%20%20%20%20%20%20%20%20var%20marker_a110984c771c4a85890f80427a88904a%20%3D%20L.marker%28%0A%20%20%20%20%20%20%20%20%20%20%20%20%20%20%20%20%5B33.98813%2C%20-118.47174%5D%2C%0A%20%20%20%20%20%20%20%20%20%20%20%20%20%20%20%20%7B%7D%0A%20%20%20%20%20%20%20%20%20%20%20%20%29.addTo%28map_ab4d17c8b7954c4a919b02052d69d7f8%29%3B%0A%20%20%20%20%20%20%20%20%0A%20%20%20%20%0A%20%20%20%20%20%20%20%20%20%20%20%20var%20icon_86177f23f9554c9687f4fa231c74fc4a%20%3D%20L.AwesomeMarkers.icon%28%0A%20%20%20%20%20%20%20%20%20%20%20%20%20%20%20%20%7B%22extraClasses%22%3A%20%22fa-rotate-0%22%2C%20%22icon%22%3A%20%22info-sign%22%2C%20%22iconColor%22%3A%20%22white%22%2C%20%22markerColor%22%3A%20%22red%22%2C%20%22prefix%22%3A%20%22glyphicon%22%7D%0A%20%20%20%20%20%20%20%20%20%20%20%20%29%3B%0A%20%20%20%20%20%20%20%20%20%20%20%20marker_a110984c771c4a85890f80427a88904a.setIcon%28icon_86177f23f9554c9687f4fa231c74fc4a%29%3B%0A%20%20%20%20%20%20%20%20%0A%20%20%20%20%0A%20%20%20%20%20%20%20%20var%20popup_3bf2d7f7a14747f2bf1fa9e1ee854473%20%3D%20L.popup%28%7B%22maxWidth%22%3A%20100%2C%20%22minWidth%22%3A%20100%7D%29%3B%0A%0A%20%20%20%20%20%20%20%20%0A%20%20%20%20%20%20%20%20%20%20%20%20var%20html_42cdde8bb0ee473997dc0d4eed81c416%20%3D%20%24%28%60%3Cdiv%20id%3D%22html_42cdde8bb0ee473997dc0d4eed81c416%22%20style%3D%22width%3A%20100.0%25%3B%20height%3A%20100.0%25%3B%22%3EStation%20ID%3A%20%3Cb%3E4212%3C/b%3E%3Cbr%3EDays%20used%3A%20%3Cb%3E0%3C/b%3E%3C/div%3E%60%29%5B0%5D%3B%0A%20%20%20%20%20%20%20%20%20%20%20%20popup_3bf2d7f7a14747f2bf1fa9e1ee854473.setContent%28html_42cdde8bb0ee473997dc0d4eed81c416%29%3B%0A%20%20%20%20%20%20%20%20%0A%0A%20%20%20%20%20%20%20%20marker_a110984c771c4a85890f80427a88904a.bindPopup%28popup_3bf2d7f7a14747f2bf1fa9e1ee854473%29%0A%20%20%20%20%20%20%20%20%3B%0A%0A%20%20%20%20%20%20%20%20%0A%20%20%20%20%0A%20%20%20%20%0A%20%20%20%20%20%20%20%20%20%20%20%20var%20marker_82daf48814164ac2919a5655cc6c2cf5%20%3D%20L.marker%28%0A%20%20%20%20%20%20%20%20%20%20%20%20%20%20%20%20%5B33.99537%2C%20-118.4648%5D%2C%0A%20%20%20%20%20%20%20%20%20%20%20%20%20%20%20%20%7B%7D%0A%20%20%20%20%20%20%20%20%20%20%20%20%29.addTo%28map_ab4d17c8b7954c4a919b02052d69d7f8%29%3B%0A%20%20%20%20%20%20%20%20%0A%20%20%20%20%0A%20%20%20%20%20%20%20%20%20%20%20%20var%20icon_432aa32d7fc641f18dbe568ef470677f%20%3D%20L.AwesomeMarkers.icon%28%0A%20%20%20%20%20%20%20%20%20%20%20%20%20%20%20%20%7B%22extraClasses%22%3A%20%22fa-rotate-0%22%2C%20%22icon%22%3A%20%22info-sign%22%2C%20%22iconColor%22%3A%20%22white%22%2C%20%22markerColor%22%3A%20%22red%22%2C%20%22prefix%22%3A%20%22glyphicon%22%7D%0A%20%20%20%20%20%20%20%20%20%20%20%20%29%3B%0A%20%20%20%20%20%20%20%20%20%20%20%20marker_82daf48814164ac2919a5655cc6c2cf5.setIcon%28icon_432aa32d7fc641f18dbe568ef470677f%29%3B%0A%20%20%20%20%20%20%20%20%0A%20%20%20%20%0A%20%20%20%20%20%20%20%20var%20popup_c4448ea955fc4120804ce0e2a4ba497d%20%3D%20L.popup%28%7B%22maxWidth%22%3A%20100%2C%20%22minWidth%22%3A%20100%7D%29%3B%0A%0A%20%20%20%20%20%20%20%20%0A%20%20%20%20%20%20%20%20%20%20%20%20var%20html_4147cecc929046838dbd656bae10d561%20%3D%20%24%28%60%3Cdiv%20id%3D%22html_4147cecc929046838dbd656bae10d561%22%20style%3D%22width%3A%20100.0%25%3B%20height%3A%20100.0%25%3B%22%3EStation%20ID%3A%20%3Cb%3E4213%3C/b%3E%3Cbr%3EDays%20used%3A%20%3Cb%3E0%3C/b%3E%3C/div%3E%60%29%5B0%5D%3B%0A%20%20%20%20%20%20%20%20%20%20%20%20popup_c4448ea955fc4120804ce0e2a4ba497d.setContent%28html_4147cecc929046838dbd656bae10d561%29%3B%0A%20%20%20%20%20%20%20%20%0A%0A%20%20%20%20%20%20%20%20marker_82daf48814164ac2919a5655cc6c2cf5.bindPopup%28popup_c4448ea955fc4120804ce0e2a4ba497d%29%0A%20%20%20%20%20%20%20%20%3B%0A%0A%20%20%20%20%20%20%20%20%0A%20%20%20%20%0A%20%20%20%20%0A%20%20%20%20%20%20%20%20%20%20%20%20var%20marker_903ff78712394ebaa24a0595adaf106e%20%3D%20L.marker%28%0A%20%20%20%20%20%20%20%20%20%20%20%20%20%20%20%20%5B33.99556%2C%20-118.48155%5D%2C%0A%20%20%20%20%20%20%20%20%20%20%20%20%20%20%20%20%7B%7D%0A%20%20%20%20%20%20%20%20%20%20%20%20%29.addTo%28map_ab4d17c8b7954c4a919b02052d69d7f8%29%3B%0A%20%20%20%20%20%20%20%20%0A%20%20%20%20%0A%20%20%20%20%20%20%20%20%20%20%20%20var%20icon_52ce1c5a9d2d487cb21f87de1559da82%20%3D%20L.AwesomeMarkers.icon%28%0A%20%20%20%20%20%20%20%20%20%20%20%20%20%20%20%20%7B%22extraClasses%22%3A%20%22fa-rotate-0%22%2C%20%22icon%22%3A%20%22info-sign%22%2C%20%22iconColor%22%3A%20%22white%22%2C%20%22markerColor%22%3A%20%22red%22%2C%20%22prefix%22%3A%20%22glyphicon%22%7D%0A%20%20%20%20%20%20%20%20%20%20%20%20%29%3B%0A%20%20%20%20%20%20%20%20%20%20%20%20marker_903ff78712394ebaa24a0595adaf106e.setIcon%28icon_52ce1c5a9d2d487cb21f87de1559da82%29%3B%0A%20%20%20%20%20%20%20%20%0A%20%20%20%20%0A%20%20%20%20%20%20%20%20var%20popup_ec6729ca1fb246b7bffddc912cdd293e%20%3D%20L.popup%28%7B%22maxWidth%22%3A%20100%2C%20%22minWidth%22%3A%20100%7D%29%3B%0A%0A%20%20%20%20%20%20%20%20%0A%20%20%20%20%20%20%20%20%20%20%20%20var%20html_d858e4f5556043bdbcb7ddeaa8a4cd14%20%3D%20%24%28%60%3Cdiv%20id%3D%22html_d858e4f5556043bdbcb7ddeaa8a4cd14%22%20style%3D%22width%3A%20100.0%25%3B%20height%3A%20100.0%25%3B%22%3EStation%20ID%3A%20%3Cb%3E4214%3C/b%3E%3Cbr%3EDays%20used%3A%20%3Cb%3E0%3C/b%3E%3C/div%3E%60%29%5B0%5D%3B%0A%20%20%20%20%20%20%20%20%20%20%20%20popup_ec6729ca1fb246b7bffddc912cdd293e.setContent%28html_d858e4f5556043bdbcb7ddeaa8a4cd14%29%3B%0A%20%20%20%20%20%20%20%20%0A%0A%20%20%20%20%20%20%20%20marker_903ff78712394ebaa24a0595adaf106e.bindPopup%28popup_ec6729ca1fb246b7bffddc912cdd293e%29%0A%20%20%20%20%20%20%20%20%3B%0A%0A%20%20%20%20%20%20%20%20%0A%20%20%20%20%0A%20%20%20%20%0A%20%20%20%20%20%20%20%20%20%20%20%20var%20marker_5dd049693f704347a741987e3f9875f2%20%3D%20L.marker%28%0A%20%20%20%20%20%20%20%20%20%20%20%20%20%20%20%20%5B34.01431%2C%20-118.49134%5D%2C%0A%20%20%20%20%20%20%20%20%20%20%20%20%20%20%20%20%7B%7D%0A%20%20%20%20%20%20%20%20%20%20%20%20%29.addTo%28map_ab4d17c8b7954c4a919b02052d69d7f8%29%3B%0A%20%20%20%20%20%20%20%20%0A%20%20%20%20%0A%20%20%20%20%20%20%20%20%20%20%20%20var%20icon_c201fcdef4ab445880a148209312245e%20%3D%20L.AwesomeMarkers.icon%28%0A%20%20%20%20%20%20%20%20%20%20%20%20%20%20%20%20%7B%22extraClasses%22%3A%20%22fa-rotate-0%22%2C%20%22icon%22%3A%20%22info-sign%22%2C%20%22iconColor%22%3A%20%22white%22%2C%20%22markerColor%22%3A%20%22red%22%2C%20%22prefix%22%3A%20%22glyphicon%22%7D%0A%20%20%20%20%20%20%20%20%20%20%20%20%29%3B%0A%20%20%20%20%20%20%20%20%20%20%20%20marker_5dd049693f704347a741987e3f9875f2.setIcon%28icon_c201fcdef4ab445880a148209312245e%29%3B%0A%20%20%20%20%20%20%20%20%0A%20%20%20%20%0A%20%20%20%20%20%20%20%20var%20popup_886c477a785b44679345d8ff247d31e6%20%3D%20L.popup%28%7B%22maxWidth%22%3A%20100%2C%20%22minWidth%22%3A%20100%7D%29%3B%0A%0A%20%20%20%20%20%20%20%20%0A%20%20%20%20%20%20%20%20%20%20%20%20var%20html_bec9536c1aed491893aaf5b5a3408c9f%20%3D%20%24%28%60%3Cdiv%20id%3D%22html_bec9536c1aed491893aaf5b5a3408c9f%22%20style%3D%22width%3A%20100.0%25%3B%20height%3A%20100.0%25%3B%22%3EStation%20ID%3A%20%3Cb%3E4215%3C/b%3E%3Cbr%3EDays%20used%3A%20%3Cb%3E0%3C/b%3E%3C/div%3E%60%29%5B0%5D%3B%0A%20%20%20%20%20%20%20%20%20%20%20%20popup_886c477a785b44679345d8ff247d31e6.setContent%28html_bec9536c1aed491893aaf5b5a3408c9f%29%3B%0A%20%20%20%20%20%20%20%20%0A%0A%20%20%20%20%20%20%20%20marker_5dd049693f704347a741987e3f9875f2.bindPopup%28popup_886c477a785b44679345d8ff247d31e6%29%0A%20%20%20%20%20%20%20%20%3B%0A%0A%20%20%20%20%20%20%20%20%0A%20%20%20%20%0A%20%20%20%20%0A%20%20%20%20%20%20%20%20%20%20%20%20var%20marker_34452e7b629e4d098d7e4cad432e2fb3%20%3D%20L.marker%28%0A%20%20%20%20%20%20%20%20%20%20%20%20%20%20%20%20%5B34.02339%2C%20-118.47964%5D%2C%0A%20%20%20%20%20%20%20%20%20%20%20%20%20%20%20%20%7B%7D%0A%20%20%20%20%20%20%20%20%20%20%20%20%29.addTo%28map_ab4d17c8b7954c4a919b02052d69d7f8%29%3B%0A%20%20%20%20%20%20%20%20%0A%20%20%20%20%0A%20%20%20%20%20%20%20%20%20%20%20%20var%20icon_e5904711e88141a8882b0154e8d73a21%20%3D%20L.AwesomeMarkers.icon%28%0A%20%20%20%20%20%20%20%20%20%20%20%20%20%20%20%20%7B%22extraClasses%22%3A%20%22fa-rotate-0%22%2C%20%22icon%22%3A%20%22info-sign%22%2C%20%22iconColor%22%3A%20%22white%22%2C%20%22markerColor%22%3A%20%22red%22%2C%20%22prefix%22%3A%20%22glyphicon%22%7D%0A%20%20%20%20%20%20%20%20%20%20%20%20%29%3B%0A%20%20%20%20%20%20%20%20%20%20%20%20marker_34452e7b629e4d098d7e4cad432e2fb3.setIcon%28icon_e5904711e88141a8882b0154e8d73a21%29%3B%0A%20%20%20%20%20%20%20%20%0A%20%20%20%20%0A%20%20%20%20%20%20%20%20var%20popup_08fa2c9e7d3142f38633803a53b2372a%20%3D%20L.popup%28%7B%22maxWidth%22%3A%20100%2C%20%22minWidth%22%3A%20100%7D%29%3B%0A%0A%20%20%20%20%20%20%20%20%0A%20%20%20%20%20%20%20%20%20%20%20%20var%20html_e961051872cc489f9eae23cadf478ba4%20%3D%20%24%28%60%3Cdiv%20id%3D%22html_e961051872cc489f9eae23cadf478ba4%22%20style%3D%22width%3A%20100.0%25%3B%20height%3A%20100.0%25%3B%22%3EStation%20ID%3A%20%3Cb%3E4216%3C/b%3E%3Cbr%3EDays%20used%3A%20%3Cb%3E0%3C/b%3E%3C/div%3E%60%29%5B0%5D%3B%0A%20%20%20%20%20%20%20%20%20%20%20%20popup_08fa2c9e7d3142f38633803a53b2372a.setContent%28html_e961051872cc489f9eae23cadf478ba4%29%3B%0A%20%20%20%20%20%20%20%20%0A%0A%20%20%20%20%20%20%20%20marker_34452e7b629e4d098d7e4cad432e2fb3.bindPopup%28popup_08fa2c9e7d3142f38633803a53b2372a%29%0A%20%20%20%20%20%20%20%20%3B%0A%0A%20%20%20%20%20%20%20%20%0A%20%20%20%20%0A%20%20%20%20%0A%20%20%20%20%20%20%20%20%20%20%20%20var%20marker_0c020b74f9384a6882c331e3586a1c74%20%3D%20L.marker%28%0A%20%20%20%20%20%20%20%20%20%20%20%20%20%20%20%20%5B34.15758%2C%20-118.38826%5D%2C%0A%20%20%20%20%20%20%20%20%20%20%20%20%20%20%20%20%7B%7D%0A%20%20%20%20%20%20%20%20%20%20%20%20%29.addTo%28map_ab4d17c8b7954c4a919b02052d69d7f8%29%3B%0A%20%20%20%20%20%20%20%20%0A%20%20%20%20%0A%20%20%20%20%20%20%20%20%20%20%20%20var%20icon_d6bf804dc1af4618bdb5e1eb8bf6f395%20%3D%20L.AwesomeMarkers.icon%28%0A%20%20%20%20%20%20%20%20%20%20%20%20%20%20%20%20%7B%22extraClasses%22%3A%20%22fa-rotate-0%22%2C%20%22icon%22%3A%20%22info-sign%22%2C%20%22iconColor%22%3A%20%22white%22%2C%20%22markerColor%22%3A%20%22orange%22%2C%20%22prefix%22%3A%20%22glyphicon%22%7D%0A%20%20%20%20%20%20%20%20%20%20%20%20%29%3B%0A%20%20%20%20%20%20%20%20%20%20%20%20marker_0c020b74f9384a6882c331e3586a1c74.setIcon%28icon_d6bf804dc1af4618bdb5e1eb8bf6f395%29%3B%0A%20%20%20%20%20%20%20%20%0A%20%20%20%20%0A%20%20%20%20%20%20%20%20var%20popup_6025eccdf4b3434fba65c45b4fe5a23b%20%3D%20L.popup%28%7B%22maxWidth%22%3A%20100%2C%20%22minWidth%22%3A%20100%7D%29%3B%0A%0A%20%20%20%20%20%20%20%20%0A%20%20%20%20%20%20%20%20%20%20%20%20var%20html_15b0208e76ac4c3bb82c7a418a393cef%20%3D%20%24%28%60%3Cdiv%20id%3D%22html_15b0208e76ac4c3bb82c7a418a393cef%22%20style%3D%22width%3A%20100.0%25%3B%20height%3A%20100.0%25%3B%22%3EStation%20ID%3A%20%3Cb%3E4416%3C/b%3E%3Cbr%3EDays%20used%3A%20%3Cb%3E3%3C/b%3E%3C/div%3E%60%29%5B0%5D%3B%0A%20%20%20%20%20%20%20%20%20%20%20%20popup_6025eccdf4b3434fba65c45b4fe5a23b.setContent%28html_15b0208e76ac4c3bb82c7a418a393cef%29%3B%0A%20%20%20%20%20%20%20%20%0A%0A%20%20%20%20%20%20%20%20marker_0c020b74f9384a6882c331e3586a1c74.bindPopup%28popup_6025eccdf4b3434fba65c45b4fe5a23b%29%0A%20%20%20%20%20%20%20%20%3B%0A%0A%20%20%20%20%20%20%20%20%0A%20%20%20%20%0A%20%20%20%20%0A%20%20%20%20%20%20%20%20%20%20%20%20var%20marker_96493b8a616f4a77b8eaf75b7aef211d%20%3D%20L.marker%28%0A%20%20%20%20%20%20%20%20%20%20%20%20%20%20%20%20%5B34.15069%2C%20-118.36613%5D%2C%0A%20%20%20%20%20%20%20%20%20%20%20%20%20%20%20%20%7B%7D%0A%20%20%20%20%20%20%20%20%20%20%20%20%29.addTo%28map_ab4d17c8b7954c4a919b02052d69d7f8%29%3B%0A%20%20%20%20%20%20%20%20%0A%20%20%20%20%0A%20%20%20%20%20%20%20%20%20%20%20%20var%20icon_be0e59dc5c6148e587bc9136a4cdf282%20%3D%20L.AwesomeMarkers.icon%28%0A%20%20%20%20%20%20%20%20%20%20%20%20%20%20%20%20%7B%22extraClasses%22%3A%20%22fa-rotate-0%22%2C%20%22icon%22%3A%20%22info-sign%22%2C%20%22iconColor%22%3A%20%22white%22%2C%20%22markerColor%22%3A%20%22orange%22%2C%20%22prefix%22%3A%20%22glyphicon%22%7D%0A%20%20%20%20%20%20%20%20%20%20%20%20%29%3B%0A%20%20%20%20%20%20%20%20%20%20%20%20marker_96493b8a616f4a77b8eaf75b7aef211d.setIcon%28icon_be0e59dc5c6148e587bc9136a4cdf282%29%3B%0A%20%20%20%20%20%20%20%20%0A%20%20%20%20%0A%20%20%20%20%20%20%20%20var%20popup_41b544c0b8b24f3d9bc1d768a18b5f33%20%3D%20L.popup%28%7B%22maxWidth%22%3A%20100%2C%20%22minWidth%22%3A%20100%7D%29%3B%0A%0A%20%20%20%20%20%20%20%20%0A%20%20%20%20%20%20%20%20%20%20%20%20var%20html_4e7181ff870f481a8cb038949d1fb317%20%3D%20%24%28%60%3Cdiv%20id%3D%22html_4e7181ff870f481a8cb038949d1fb317%22%20style%3D%22width%3A%20100.0%25%3B%20height%3A%20100.0%25%3B%22%3EStation%20ID%3A%20%3Cb%3E4418%3C/b%3E%3Cbr%3EDays%20used%3A%20%3Cb%3E2%3C/b%3E%3C/div%3E%60%29%5B0%5D%3B%0A%20%20%20%20%20%20%20%20%20%20%20%20popup_41b544c0b8b24f3d9bc1d768a18b5f33.setContent%28html_4e7181ff870f481a8cb038949d1fb317%29%3B%0A%20%20%20%20%20%20%20%20%0A%0A%20%20%20%20%20%20%20%20marker_96493b8a616f4a77b8eaf75b7aef211d.bindPopup%28popup_41b544c0b8b24f3d9bc1d768a18b5f33%29%0A%20%20%20%20%20%20%20%20%3B%0A%0A%20%20%20%20%20%20%20%20%0A%20%20%20%20%0A%20%20%20%20%0A%20%20%20%20%20%20%20%20%20%20%20%20var%20marker_599270e87cb8482593a556cd410d0a31%20%3D%20L.marker%28%0A%20%20%20%20%20%20%20%20%20%20%20%20%20%20%20%20%5B34.15214%2C%20-118.36195%5D%2C%0A%20%20%20%20%20%20%20%20%20%20%20%20%20%20%20%20%7B%7D%0A%20%20%20%20%20%20%20%20%20%20%20%20%29.addTo%28map_ab4d17c8b7954c4a919b02052d69d7f8%29%3B%0A%20%20%20%20%20%20%20%20%0A%20%20%20%20%0A%20%20%20%20%20%20%20%20%20%20%20%20var%20icon_f8eee0629c02461b9c214335ea4743e7%20%3D%20L.AwesomeMarkers.icon%28%0A%20%20%20%20%20%20%20%20%20%20%20%20%20%20%20%20%7B%22extraClasses%22%3A%20%22fa-rotate-0%22%2C%20%22icon%22%3A%20%22info-sign%22%2C%20%22iconColor%22%3A%20%22white%22%2C%20%22markerColor%22%3A%20%22red%22%2C%20%22prefix%22%3A%20%22glyphicon%22%7D%0A%20%20%20%20%20%20%20%20%20%20%20%20%29%3B%0A%20%20%20%20%20%20%20%20%20%20%20%20marker_599270e87cb8482593a556cd410d0a31.setIcon%28icon_f8eee0629c02461b9c214335ea4743e7%29%3B%0A%20%20%20%20%20%20%20%20%0A%20%20%20%20%0A%20%20%20%20%20%20%20%20var%20popup_5f868f0653f64b538be2b6ad5347bb3d%20%3D%20L.popup%28%7B%22maxWidth%22%3A%20100%2C%20%22minWidth%22%3A%20100%7D%29%3B%0A%0A%20%20%20%20%20%20%20%20%0A%20%20%20%20%20%20%20%20%20%20%20%20var%20html_549395f8f88d40b2adb5e6715f3d8941%20%3D%20%24%28%60%3Cdiv%20id%3D%22html_549395f8f88d40b2adb5e6715f3d8941%22%20style%3D%22width%3A%20100.0%25%3B%20height%3A%20100.0%25%3B%22%3EStation%20ID%3A%20%3Cb%3E4422%3C/b%3E%3Cbr%3EDays%20used%3A%20%3Cb%3E0%3C/b%3E%3C/div%3E%60%29%5B0%5D%3B%0A%20%20%20%20%20%20%20%20%20%20%20%20popup_5f868f0653f64b538be2b6ad5347bb3d.setContent%28html_549395f8f88d40b2adb5e6715f3d8941%29%3B%0A%20%20%20%20%20%20%20%20%0A%0A%20%20%20%20%20%20%20%20marker_599270e87cb8482593a556cd410d0a31.bindPopup%28popup_5f868f0653f64b538be2b6ad5347bb3d%29%0A%20%20%20%20%20%20%20%20%3B%0A%0A%20%20%20%20%20%20%20%20%0A%20%20%20%20%0A%20%20%20%20%0A%20%20%20%20%20%20%20%20%20%20%20%20var%20marker_4858cc854bf840539b304ac4a60a59f8%20%3D%20L.marker%28%0A%20%20%20%20%20%20%20%20%20%20%20%20%20%20%20%20%5B34.152%2C%20-118.3506%5D%2C%0A%20%20%20%20%20%20%20%20%20%20%20%20%20%20%20%20%7B%7D%0A%20%20%20%20%20%20%20%20%20%20%20%20%29.addTo%28map_ab4d17c8b7954c4a919b02052d69d7f8%29%3B%0A%20%20%20%20%20%20%20%20%0A%20%20%20%20%0A%20%20%20%20%20%20%20%20%20%20%20%20var%20icon_4d9fa797465a4d03948b07e62c22f42f%20%3D%20L.AwesomeMarkers.icon%28%0A%20%20%20%20%20%20%20%20%20%20%20%20%20%20%20%20%7B%22extraClasses%22%3A%20%22fa-rotate-0%22%2C%20%22icon%22%3A%20%22info-sign%22%2C%20%22iconColor%22%3A%20%22white%22%2C%20%22markerColor%22%3A%20%22orange%22%2C%20%22prefix%22%3A%20%22glyphicon%22%7D%0A%20%20%20%20%20%20%20%20%20%20%20%20%29%3B%0A%20%20%20%20%20%20%20%20%20%20%20%20marker_4858cc854bf840539b304ac4a60a59f8.setIcon%28icon_4d9fa797465a4d03948b07e62c22f42f%29%3B%0A%20%20%20%20%20%20%20%20%0A%20%20%20%20%0A%20%20%20%20%20%20%20%20var%20popup_80dea29bc9b54dea80136b9c9fdf4c39%20%3D%20L.popup%28%7B%22maxWidth%22%3A%20100%2C%20%22minWidth%22%3A%20100%7D%29%3B%0A%0A%20%20%20%20%20%20%20%20%0A%20%20%20%20%20%20%20%20%20%20%20%20var%20html_126e20fe91f141b6b0be466c7335ae85%20%3D%20%24%28%60%3Cdiv%20id%3D%22html_126e20fe91f141b6b0be466c7335ae85%22%20style%3D%22width%3A%20100.0%25%3B%20height%3A%20100.0%25%3B%22%3EStation%20ID%3A%20%3Cb%3E4425%3C/b%3E%3Cbr%3EDays%20used%3A%20%3Cb%3E2%3C/b%3E%3C/div%3E%60%29%5B0%5D%3B%0A%20%20%20%20%20%20%20%20%20%20%20%20popup_80dea29bc9b54dea80136b9c9fdf4c39.setContent%28html_126e20fe91f141b6b0be466c7335ae85%29%3B%0A%20%20%20%20%20%20%20%20%0A%0A%20%20%20%20%20%20%20%20marker_4858cc854bf840539b304ac4a60a59f8.bindPopup%28popup_80dea29bc9b54dea80136b9c9fdf4c39%29%0A%20%20%20%20%20%20%20%20%3B%0A%0A%20%20%20%20%20%20%20%20%0A%20%20%20%20%0A%20%20%20%20%0A%20%20%20%20%20%20%20%20%20%20%20%20var%20marker_fce7b72339604df19e1002d3fb50b8be%20%3D%20L.marker%28%0A%20%20%20%20%20%20%20%20%20%20%20%20%20%20%20%20%5B34.14987%2C%20-118.37889%5D%2C%0A%20%20%20%20%20%20%20%20%20%20%20%20%20%20%20%20%7B%7D%0A%20%20%20%20%20%20%20%20%20%20%20%20%29.addTo%28map_ab4d17c8b7954c4a919b02052d69d7f8%29%3B%0A%20%20%20%20%20%20%20%20%0A%20%20%20%20%0A%20%20%20%20%20%20%20%20%20%20%20%20var%20icon_ec7afec6d4504aa8a831545e2cc01821%20%3D%20L.AwesomeMarkers.icon%28%0A%20%20%20%20%20%20%20%20%20%20%20%20%20%20%20%20%7B%22extraClasses%22%3A%20%22fa-rotate-0%22%2C%20%22icon%22%3A%20%22info-sign%22%2C%20%22iconColor%22%3A%20%22white%22%2C%20%22markerColor%22%3A%20%22orange%22%2C%20%22prefix%22%3A%20%22glyphicon%22%7D%0A%20%20%20%20%20%20%20%20%20%20%20%20%29%3B%0A%20%20%20%20%20%20%20%20%20%20%20%20marker_fce7b72339604df19e1002d3fb50b8be.setIcon%28icon_ec7afec6d4504aa8a831545e2cc01821%29%3B%0A%20%20%20%20%20%20%20%20%0A%20%20%20%20%0A%20%20%20%20%20%20%20%20var%20popup_aba1224b578f44319e708832e4ed7b8e%20%3D%20L.popup%28%7B%22maxWidth%22%3A%20100%2C%20%22minWidth%22%3A%20100%7D%29%3B%0A%0A%20%20%20%20%20%20%20%20%0A%20%20%20%20%20%20%20%20%20%20%20%20var%20html_374feec8dd5646a889f9ee8d45379ee9%20%3D%20%24%28%60%3Cdiv%20id%3D%22html_374feec8dd5646a889f9ee8d45379ee9%22%20style%3D%22width%3A%20100.0%25%3B%20height%3A%20100.0%25%3B%22%3EStation%20ID%3A%20%3Cb%3E4426%3C/b%3E%3Cbr%3EDays%20used%3A%20%3Cb%3E2%3C/b%3E%3C/div%3E%60%29%5B0%5D%3B%0A%20%20%20%20%20%20%20%20%20%20%20%20popup_aba1224b578f44319e708832e4ed7b8e.setContent%28html_374feec8dd5646a889f9ee8d45379ee9%29%3B%0A%20%20%20%20%20%20%20%20%0A%0A%20%20%20%20%20%20%20%20marker_fce7b72339604df19e1002d3fb50b8be.bindPopup%28popup_aba1224b578f44319e708832e4ed7b8e%29%0A%20%20%20%20%20%20%20%20%3B%0A%0A%20%20%20%20%20%20%20%20%0A%20%20%20%20%0A%20%20%20%20%0A%20%20%20%20%20%20%20%20%20%20%20%20var%20marker_36d5d87cf09449da9741ab395339012b%20%3D%20L.marker%28%0A%20%20%20%20%20%20%20%20%20%20%20%20%20%20%20%20%5B34.17245%2C%20-118.37037%5D%2C%0A%20%20%20%20%20%20%20%20%20%20%20%20%20%20%20%20%7B%7D%0A%20%20%20%20%20%20%20%20%20%20%20%20%29.addTo%28map_ab4d17c8b7954c4a919b02052d69d7f8%29%3B%0A%20%20%20%20%20%20%20%20%0A%20%20%20%20%0A%20%20%20%20%20%20%20%20%20%20%20%20var%20icon_fd5f2d4f15e5405c86514d2f33ee098b%20%3D%20L.AwesomeMarkers.icon%28%0A%20%20%20%20%20%20%20%20%20%20%20%20%20%20%20%20%7B%22extraClasses%22%3A%20%22fa-rotate-0%22%2C%20%22icon%22%3A%20%22info-sign%22%2C%20%22iconColor%22%3A%20%22white%22%2C%20%22markerColor%22%3A%20%22orange%22%2C%20%22prefix%22%3A%20%22glyphicon%22%7D%0A%20%20%20%20%20%20%20%20%20%20%20%20%29%3B%0A%20%20%20%20%20%20%20%20%20%20%20%20marker_36d5d87cf09449da9741ab395339012b.setIcon%28icon_fd5f2d4f15e5405c86514d2f33ee098b%29%3B%0A%20%20%20%20%20%20%20%20%0A%20%20%20%20%0A%20%20%20%20%20%20%20%20var%20popup_30aef859a43b4dcfb41259f9a10cdbc0%20%3D%20L.popup%28%7B%22maxWidth%22%3A%20100%2C%20%22minWidth%22%3A%20100%7D%29%3B%0A%0A%20%20%20%20%20%20%20%20%0A%20%20%20%20%20%20%20%20%20%20%20%20var%20html_bf0633abd216457697176fb79de68dff%20%3D%20%24%28%60%3Cdiv%20id%3D%22html_bf0633abd216457697176fb79de68dff%22%20style%3D%22width%3A%20100.0%25%3B%20height%3A%20100.0%25%3B%22%3EStation%20ID%3A%20%3Cb%3E4430%3C/b%3E%3Cbr%3EDays%20used%3A%20%3Cb%3E3%3C/b%3E%3C/div%3E%60%29%5B0%5D%3B%0A%20%20%20%20%20%20%20%20%20%20%20%20popup_30aef859a43b4dcfb41259f9a10cdbc0.setContent%28html_bf0633abd216457697176fb79de68dff%29%3B%0A%20%20%20%20%20%20%20%20%0A%0A%20%20%20%20%20%20%20%20marker_36d5d87cf09449da9741ab395339012b.bindPopup%28popup_30aef859a43b4dcfb41259f9a10cdbc0%29%0A%20%20%20%20%20%20%20%20%3B%0A%0A%20%20%20%20%20%20%20%20%0A%20%20%20%20%0A%20%20%20%20%0A%20%20%20%20%20%20%20%20%20%20%20%20var%20marker_a9bce05ff276432fbf7087dd5978743d%20%3D%20L.marker%28%0A%20%20%20%20%20%20%20%20%20%20%20%20%20%20%20%20%5B34.13957%2C%20-118.36225%5D%2C%0A%20%20%20%20%20%20%20%20%20%20%20%20%20%20%20%20%7B%7D%0A%20%20%20%20%20%20%20%20%20%20%20%20%29.addTo%28map_ab4d17c8b7954c4a919b02052d69d7f8%29%3B%0A%20%20%20%20%20%20%20%20%0A%20%20%20%20%0A%20%20%20%20%20%20%20%20%20%20%20%20var%20icon_bf0eda6ad15d4b72939cc88488286f00%20%3D%20L.AwesomeMarkers.icon%28%0A%20%20%20%20%20%20%20%20%20%20%20%20%20%20%20%20%7B%22extraClasses%22%3A%20%22fa-rotate-0%22%2C%20%22icon%22%3A%20%22info-sign%22%2C%20%22iconColor%22%3A%20%22white%22%2C%20%22markerColor%22%3A%20%22orange%22%2C%20%22prefix%22%3A%20%22glyphicon%22%7D%0A%20%20%20%20%20%20%20%20%20%20%20%20%29%3B%0A%20%20%20%20%20%20%20%20%20%20%20%20marker_a9bce05ff276432fbf7087dd5978743d.setIcon%28icon_bf0eda6ad15d4b72939cc88488286f00%29%3B%0A%20%20%20%20%20%20%20%20%0A%20%20%20%20%0A%20%20%20%20%20%20%20%20var%20popup_5756cb9bc5f84d5a8c5ce1fecbcece12%20%3D%20L.popup%28%7B%22maxWidth%22%3A%20100%2C%20%22minWidth%22%3A%20100%7D%29%3B%0A%0A%20%20%20%20%20%20%20%20%0A%20%20%20%20%20%20%20%20%20%20%20%20var%20html_2bea728cb41d47b6a3653dba32402ae0%20%3D%20%24%28%60%3Cdiv%20id%3D%22html_2bea728cb41d47b6a3653dba32402ae0%22%20style%3D%22width%3A%20100.0%25%3B%20height%3A%20100.0%25%3B%22%3EStation%20ID%3A%20%3Cb%3E4432%3C/b%3E%3Cbr%3EDays%20used%3A%20%3Cb%3E1%3C/b%3E%3C/div%3E%60%29%5B0%5D%3B%0A%20%20%20%20%20%20%20%20%20%20%20%20popup_5756cb9bc5f84d5a8c5ce1fecbcece12.setContent%28html_2bea728cb41d47b6a3653dba32402ae0%29%3B%0A%20%20%20%20%20%20%20%20%0A%0A%20%20%20%20%20%20%20%20marker_a9bce05ff276432fbf7087dd5978743d.bindPopup%28popup_5756cb9bc5f84d5a8c5ce1fecbcece12%29%0A%20%20%20%20%20%20%20%20%3B%0A%0A%20%20%20%20%20%20%20%20%0A%20%20%20%20%0A%20%20%20%20%0A%20%20%20%20%20%20%20%20%20%20%20%20var%20marker_7584be1d48eb45d7abaa20368f835eb2%20%3D%20L.marker%28%0A%20%20%20%20%20%20%20%20%20%20%20%20%20%20%20%20%5B34.05355%2C%20-118.25584%5D%2C%0A%20%20%20%20%20%20%20%20%20%20%20%20%20%20%20%20%7B%7D%0A%20%20%20%20%20%20%20%20%20%20%20%20%29.addTo%28map_ab4d17c8b7954c4a919b02052d69d7f8%29%3B%0A%20%20%20%20%20%20%20%20%0A%20%20%20%20%0A%20%20%20%20%20%20%20%20%20%20%20%20var%20icon_df3f6f4f9c2942a49ca903cbe25ddec1%20%3D%20L.AwesomeMarkers.icon%28%0A%20%20%20%20%20%20%20%20%20%20%20%20%20%20%20%20%7B%22extraClasses%22%3A%20%22fa-rotate-0%22%2C%20%22icon%22%3A%20%22info-sign%22%2C%20%22iconColor%22%3A%20%22white%22%2C%20%22markerColor%22%3A%20%22orange%22%2C%20%22prefix%22%3A%20%22glyphicon%22%7D%0A%20%20%20%20%20%20%20%20%20%20%20%20%29%3B%0A%20%20%20%20%20%20%20%20%20%20%20%20marker_7584be1d48eb45d7abaa20368f835eb2.setIcon%28icon_df3f6f4f9c2942a49ca903cbe25ddec1%29%3B%0A%20%20%20%20%20%20%20%20%0A%20%20%20%20%0A%20%20%20%20%20%20%20%20var%20popup_d5773c735b2245bba3fde31c33b7dff3%20%3D%20L.popup%28%7B%22maxWidth%22%3A%20100%2C%20%22minWidth%22%3A%20100%7D%29%3B%0A%0A%20%20%20%20%20%20%20%20%0A%20%20%20%20%20%20%20%20%20%20%20%20var%20html_627ed9f4d1d942cfb0cf08af3e85ecfb%20%3D%20%24%28%60%3Cdiv%20id%3D%22html_627ed9f4d1d942cfb0cf08af3e85ecfb%22%20style%3D%22width%3A%20100.0%25%3B%20height%3A%20100.0%25%3B%22%3EStation%20ID%3A%20%3Cb%3E4490%3C/b%3E%3Cbr%3EDays%20used%3A%20%3Cb%3E1%3C/b%3E%3C/div%3E%60%29%5B0%5D%3B%0A%20%20%20%20%20%20%20%20%20%20%20%20popup_d5773c735b2245bba3fde31c33b7dff3.setContent%28html_627ed9f4d1d942cfb0cf08af3e85ecfb%29%3B%0A%20%20%20%20%20%20%20%20%0A%0A%20%20%20%20%20%20%20%20marker_7584be1d48eb45d7abaa20368f835eb2.bindPopup%28popup_d5773c735b2245bba3fde31c33b7dff3%29%0A%20%20%20%20%20%20%20%20%3B%0A%0A%20%20%20%20%20%20%20%20%0A%20%20%20%20%0A%3C/script%3E onload=\"this.contentDocument.open();this.contentDocument.write(    decodeURIComponent(this.getAttribute('data-html')));this.contentDocument.close();\" allowfullscreen webkitallowfullscreen mozallowfullscreen></iframe></div></div>"
      ],
      "text/plain": [
       "<folium.folium.Map at 0x7f8ca26e1700>"
      ]
     },
     "execution_count": 137,
     "metadata": {},
     "output_type": "execute_result"
    }
   ],
   "source": [
    "draw_underutilized_stations(station_utilization, threshold=0.2)"
   ]
  },
  {
   "cell_type": "code",
   "execution_count": null,
   "metadata": {},
   "outputs": [],
   "source": []
  }
 ],
 "metadata": {
  "interpreter": {
   "hash": "8b60088a9b347fcb01b673d89e7da3a71c8c9fcb762a42ef04d5b6405c108bf0"
  },
  "kernelspec": {
   "display_name": "Python 3.9.7 64-bit ('aa_magma': conda)",
   "language": "python",
   "name": "python3"
  },
  "language_info": {
   "codemirror_mode": {
    "name": "ipython",
    "version": 3
   },
   "file_extension": ".py",
   "mimetype": "text/x-python",
   "name": "python",
   "nbconvert_exporter": "python",
   "pygments_lexer": "ipython3",
   "version": "3.9.7"
  },
  "orig_nbformat": 4
 },
 "nbformat": 4,
 "nbformat_minor": 2
}
