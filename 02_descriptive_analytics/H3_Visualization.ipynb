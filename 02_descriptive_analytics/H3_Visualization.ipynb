{
 "cells": [
  {
   "cell_type": "markdown",
   "metadata": {},
   "source": [
    "# H3 Visualization\n",
    "\n",
    "Uber provides an open source repository [h3-py-notebooks](https://github.com/uber/h3-py-notebooks) with tutorials, examples and visualizations of their H3 geospatial indexing system.\n",
    "\n",
    "The code below originally comes from [one of the example notebooks](https://github.com/uber/h3-py-notebooks/blob/master/notebooks/usage.ipynb). The method was, however, modified to take weight as an additional parameter. The weight determines the thickness of lines defining hexagons plotted on the map."
   ]
  },
  {
   "cell_type": "code",
   "execution_count": 16,
   "metadata": {},
   "outputs": [],
   "source": [
    "from h3 import h3\n",
    "import folium\n",
    "import plotly.express as px\n",
    "from shapely.geometry import Polygon\n",
    "from geojson import Feature, FeatureCollection"
   ]
  },
  {
   "cell_type": "code",
   "execution_count": 17,
   "metadata": {},
   "outputs": [],
   "source": [
    "def visualize_hexagons(hexagons, color=\"red\", weight=8, folium_map=None):\n",
    "    \"\"\"\n",
    "    hexagons is a list of hexcluster. Each hexcluster is a list of hexagons. \n",
    "    eg. [[hex1, hex2], [hex3, hex4]]\n",
    "    \"\"\"\n",
    "    polylines = []\n",
    "    lat = []\n",
    "    lng = []\n",
    "    for hex in hexagons:\n",
    "        polygons = h3.h3_set_to_multi_polygon([hex], geo_json=False)\n",
    "        # flatten polygons into loops.\n",
    "        outlines = [loop for polygon in polygons for loop in polygon]\n",
    "        polyline = [outline + [outline[0]] for outline in outlines][0]\n",
    "        lat.extend(map(lambda v:v[0],polyline))\n",
    "        lng.extend(map(lambda v:v[1],polyline))\n",
    "        polylines.append(polyline)\n",
    "    \n",
    "    f = folium.Figure(width=700, height=500)\n",
    "\n",
    "    if folium_map is None:\n",
    "        m = folium.Map(location=[sum(lat)/len(lat), sum(lng)/len(lng)], zoom_start=11, tiles='cartodbpositron')\n",
    "    else:\n",
    "        m = folium_map\n",
    "    for polyline in polylines:\n",
    "        my_PolyLine=folium.PolyLine(locations=polyline,weight=weight,color=color)\n",
    "        m.add_child(my_PolyLine)\n",
    "\n",
    "    f.add_child(m)\n",
    "    return f"
   ]
  },
  {
   "cell_type": "markdown",
   "metadata": {},
   "source": [
    "Following methods originate from this [medium article](https://medium.com/analytics-vidhya/how-to-create-a-choropleth-map-using-uber-h3-plotly-python-458f51593548), which is a helpful tutorial on how to use Uber H3 and Plotly."
   ]
  },
  {
   "cell_type": "code",
   "execution_count": 18,
   "metadata": {},
   "outputs": [],
   "source": [
    "def add_geometry(row):\n",
    "    points = h3.h3_to_geo_boundary(row.hex, True)\n",
    "    return Polygon(points)"
   ]
  },
  {
   "cell_type": "code",
   "execution_count": 19,
   "metadata": {},
   "outputs": [],
   "source": [
    "def hexagons_dataframe_to_geojson(df_hex, value_field, file_output = None):\n",
    "\n",
    "    list_features = []\n",
    "\n",
    "    for i, row in df_hex.iterrows():\n",
    "        feature = Feature(geometry = row['geometry'],\n",
    "                          id = row['hex'],\n",
    "                          properties = {\"value\": row[value_field]})\n",
    "        list_features.append(feature)\n",
    "\n",
    "    feat_collection = FeatureCollection(list_features)\n",
    "\n",
    "    if file_output is not None:\n",
    "        with open(file_output, \"w\") as f:\n",
    "            json.dump(feat_collection, f)\n",
    "\n",
    "    else :\n",
    "      return feat_collection"
   ]
  },
  {
   "cell_type": "code",
   "execution_count": 20,
   "metadata": {},
   "outputs": [],
   "source": [
    "def plot_frequency(dataset, variable, labels, range_color, palette=\"RdBu\"):\n",
    "    geojson_obj = (hexagons_dataframe_to_geojson(dataset, value_field=variable))\n",
    "\n",
    "    fig = (px.choropleth_mapbox(\n",
    "                    dataset,\n",
    "                    width=700,\n",
    "                    height=500,\n",
    "                    geojson=geojson_obj, \n",
    "                    locations='hex', \n",
    "                    color=variable,\n",
    "                    color_continuous_scale=palette,\n",
    "                    range_color=range_color,\n",
    "                    mapbox_style='carto-positron',\n",
    "                    zoom=10,\n",
    "                    center = {\"lat\": 34.052235, \"lon\": -118.4},\n",
    "                    opacity=0.7,\n",
    "                    labels=labels))\n",
    "    fig.update_layout(margin={\"r\":0,\"t\":0,\"l\":0,\"b\":0})\n",
    "    return fig "
   ]
  },
  {
   "cell_type": "code",
   "execution_count": null,
   "metadata": {},
   "outputs": [],
   "source": []
  }
 ],
 "metadata": {
  "interpreter": {
   "hash": "7db343c57d58e9748a6371022904f89f9ad086fecb2b127fffab6c0688550ecd"
  },
  "kernelspec": {
   "display_name": "Python 3.9.2 64-bit ('base': conda)",
   "name": "python3"
  },
  "language_info": {
   "codemirror_mode": {
    "name": "ipython",
    "version": 3
   },
   "file_extension": ".py",
   "mimetype": "text/x-python",
   "name": "python",
   "nbconvert_exporter": "python",
   "pygments_lexer": "ipython3",
   "version": "3.9.2"
  },
  "orig_nbformat": 2
 },
 "nbformat": 4,
 "nbformat_minor": 2
}
