{
 "cells": [
  {
   "cell_type": "code",
   "execution_count": 1,
   "metadata": {},
   "outputs": [],
   "source": [
    "import requests\n",
    "import pandas as pd\n",
    "import h3\n",
    "import json\n"
   ]
  },
  {
   "cell_type": "markdown",
   "metadata": {},
   "source": [
    "- In this notebook, we will first collect points of interest (poi) data.\n",
    "- In the second step we will calculate the number of points of interest in different categories for certain areas and each trip.\n",
    "\n",
    "\n",
    "# Points of interest - data collection\n",
    "\n",
    "We will use [OpenStreetMap (OSM)](https://en.wikipedia.org/wiki/OpenStreetMap) to collect data about different points of interest. OpenStreetMap is a collaborative free of charge tool that provides geographical data around the world. In general, data provided by OpenStreetMap is considered to be fairly good and is often compared to that of Google Maps.\n",
    "\n",
    "OpenStreetMap divided the area considered in our research into three cities Los Angeles, Santa Monica and Burbank. Hence, in the following, we will collect data for all three of them using Overpass API, which was created to collect custom data for selected parts of the world. The queries that we wrote for Overpass API can be found under /utils/overpass_meta.py. These are based on the various map features documented in the OSM [wiki](https://wiki.openstreetmap.org/wiki/Map_features#Public_Transport). Also, queries can be tested using a tool called [overpass turbo](https://overpass-turbo.eu/), which directly visualises the results."
   ]
  },
  {
   "cell_type": "code",
   "execution_count": 2,
   "metadata": {},
   "outputs": [],
   "source": [
    "# following code is required to import the get_meta_data function from /utils/overpass_meta.py\n",
    "import sys, os\n",
    "\n",
    "sys.path.append(os.path.abspath(os.path.join(\"..\", \"utils\")))\n",
    "from overpass_meta import get_meta_data\n",
    "\n",
    "overpass_meta = get_meta_data()\n"
   ]
  },
  {
   "cell_type": "code",
   "execution_count": 3,
   "metadata": {},
   "outputs": [],
   "source": [
    "# following functions can be used to check for existence, read and save poi json files\n",
    "# as well as fetch poi data from Overpass API\n",
    "def poi_file_exists(category):\n",
    "    return os.path.isfile(overpass_meta[category][\"filepath\"])\n",
    "\n",
    "\n",
    "def read_poi_file(category):\n",
    "    with open(overpass_meta[category][\"filepath\"]) as f:\n",
    "        data = json.load(f)\n",
    "    return data\n",
    "\n",
    "\n",
    "def save_poi_file(category, data):\n",
    "    with open(overpass_meta[category][\"filepath\"], \"w\") as f:\n",
    "        json.dump(data, f)\n",
    "\n",
    "\n",
    "def fetch_poi_data(category):\n",
    "    response = requests.get(\n",
    "        \"http://overpass-api.de/api/interpreter\",\n",
    "        params={\"data\": overpass_meta[category][\"query\"]},\n",
    "    )\n",
    "    data = response.json()\n",
    "    save_poi_file(category, data)\n",
    "    return data\n",
    "\n",
    "\n",
    "def get_poi_data(category):\n",
    "    if poi_file_exists(category):\n",
    "        return read_poi_file(category)\n",
    "    return fetch_poi_data(category)\n"
   ]
  },
  {
   "cell_type": "markdown",
   "metadata": {},
   "source": [
    "Next, we will extract poi data for each category we identified. These are \n",
    "- sustenance\n",
    "- public transport\n",
    "- education\n",
    "- arts and culture\n",
    "- sports\n",
    "\n",
    "There are many more possible categories and many possibilities to define each category by the inclusion of differently tagged elements. The type of elements and the different values of their tags can be found in OSM [wiki](https://wiki.openstreetmap.org/wiki/Map_features#Public_Transport). However, we decided to focus on these exemplary 5 to preserve the clarity of our findings and to avoid the curse of dimensionality."
   ]
  },
  {
   "cell_type": "code",
   "execution_count": 4,
   "metadata": {},
   "outputs": [
    {
     "data": {
      "text/plain": "   type        id        lat         lon  \\\n0  node  72448982  34.076217 -118.216020   \n1  node  72448995  34.076693 -118.216013   \n\n                                                tags    category    amenity  \n0  {'amenity': 'fast_food', 'cuisine': 'japanese'...  sustenance  fast_food  \n1  {'amenity': 'fast_food', 'cuisine': 'burger', ...  sustenance  fast_food  ",
      "text/html": "<div>\n<style scoped>\n    .dataframe tbody tr th:only-of-type {\n        vertical-align: middle;\n    }\n\n    .dataframe tbody tr th {\n        vertical-align: top;\n    }\n\n    .dataframe thead th {\n        text-align: right;\n    }\n</style>\n<table border=\"1\" class=\"dataframe\">\n  <thead>\n    <tr style=\"text-align: right;\">\n      <th></th>\n      <th>type</th>\n      <th>id</th>\n      <th>lat</th>\n      <th>lon</th>\n      <th>tags</th>\n      <th>category</th>\n      <th>amenity</th>\n    </tr>\n  </thead>\n  <tbody>\n    <tr>\n      <th>0</th>\n      <td>node</td>\n      <td>72448982</td>\n      <td>34.076217</td>\n      <td>-118.216020</td>\n      <td>{'amenity': 'fast_food', 'cuisine': 'japanese'...</td>\n      <td>sustenance</td>\n      <td>fast_food</td>\n    </tr>\n    <tr>\n      <th>1</th>\n      <td>node</td>\n      <td>72448995</td>\n      <td>34.076693</td>\n      <td>-118.216013</td>\n      <td>{'amenity': 'fast_food', 'cuisine': 'burger', ...</td>\n      <td>sustenance</td>\n      <td>fast_food</td>\n    </tr>\n  </tbody>\n</table>\n</div>"
     },
     "execution_count": 4,
     "metadata": {},
     "output_type": "execute_result"
    }
   ],
   "source": [
    "sustenance_data = get_poi_data(\"sustenance\")\n",
    "sustenance_df = pd.DataFrame(sustenance_data[\"elements\"])\n",
    "sustenance_df[\"category\"] = \"sustenance\"\n",
    "sustenance_df[\"amenity\"] = sustenance_df[\"tags\"].apply(lambda tags: tags[\"amenity\"])\n",
    "sustenance_df.head(2)\n"
   ]
  },
  {
   "cell_type": "code",
   "execution_count": 5,
   "metadata": {},
   "outputs": [
    {
     "data": {
      "text/plain": "   type        id        lat         lon  \\\n0  node  16298122  34.140526 -118.361246   \n1  node  18660357  34.090696 -118.291703   \n\n                                                tags          category  \n0  {'name': 'Universal City', 'network': 'LACMTA'...  public_transport  \n1  {'name': 'Vermont/Santa Monica', 'network': 'L...  public_transport  ",
      "text/html": "<div>\n<style scoped>\n    .dataframe tbody tr th:only-of-type {\n        vertical-align: middle;\n    }\n\n    .dataframe tbody tr th {\n        vertical-align: top;\n    }\n\n    .dataframe thead th {\n        text-align: right;\n    }\n</style>\n<table border=\"1\" class=\"dataframe\">\n  <thead>\n    <tr style=\"text-align: right;\">\n      <th></th>\n      <th>type</th>\n      <th>id</th>\n      <th>lat</th>\n      <th>lon</th>\n      <th>tags</th>\n      <th>category</th>\n    </tr>\n  </thead>\n  <tbody>\n    <tr>\n      <th>0</th>\n      <td>node</td>\n      <td>16298122</td>\n      <td>34.140526</td>\n      <td>-118.361246</td>\n      <td>{'name': 'Universal City', 'network': 'LACMTA'...</td>\n      <td>public_transport</td>\n    </tr>\n    <tr>\n      <th>1</th>\n      <td>node</td>\n      <td>18660357</td>\n      <td>34.090696</td>\n      <td>-118.291703</td>\n      <td>{'name': 'Vermont/Santa Monica', 'network': 'L...</td>\n      <td>public_transport</td>\n    </tr>\n  </tbody>\n</table>\n</div>"
     },
     "execution_count": 5,
     "metadata": {},
     "output_type": "execute_result"
    }
   ],
   "source": [
    "public_transport_data = get_poi_data(\"public_transport\")\n",
    "public_transport_df = pd.DataFrame(public_transport_data[\"elements\"])\n",
    "public_transport_df[\"category\"] = \"public_transport\"\n",
    "public_transport_df.head(2)\n"
   ]
  },
  {
   "cell_type": "code",
   "execution_count": 7,
   "metadata": {},
   "outputs": [
    {
     "data": {
      "text/plain": "   type         id        lat         lon  \\\n0  node  243805625  33.959419 -118.417117   \n1  node  344327189  34.258253 -118.301348   \n\n                                                tags   category  amenity  \n0  {'amenity': 'library', 'created_by': 'Potlatch...  education  library  \n1  {'addr:state': 'CA', 'amenity': 'library', 'el...  education  library  ",
      "text/html": "<div>\n<style scoped>\n    .dataframe tbody tr th:only-of-type {\n        vertical-align: middle;\n    }\n\n    .dataframe tbody tr th {\n        vertical-align: top;\n    }\n\n    .dataframe thead th {\n        text-align: right;\n    }\n</style>\n<table border=\"1\" class=\"dataframe\">\n  <thead>\n    <tr style=\"text-align: right;\">\n      <th></th>\n      <th>type</th>\n      <th>id</th>\n      <th>lat</th>\n      <th>lon</th>\n      <th>tags</th>\n      <th>category</th>\n      <th>amenity</th>\n    </tr>\n  </thead>\n  <tbody>\n    <tr>\n      <th>0</th>\n      <td>node</td>\n      <td>243805625</td>\n      <td>33.959419</td>\n      <td>-118.417117</td>\n      <td>{'amenity': 'library', 'created_by': 'Potlatch...</td>\n      <td>education</td>\n      <td>library</td>\n    </tr>\n    <tr>\n      <th>1</th>\n      <td>node</td>\n      <td>344327189</td>\n      <td>34.258253</td>\n      <td>-118.301348</td>\n      <td>{'addr:state': 'CA', 'amenity': 'library', 'el...</td>\n      <td>education</td>\n      <td>library</td>\n    </tr>\n  </tbody>\n</table>\n</div>"
     },
     "execution_count": 7,
     "metadata": {},
     "output_type": "execute_result"
    }
   ],
   "source": [
    "education_data = get_poi_data(\"education\")\n",
    "education_df = pd.DataFrame(education_data[\"elements\"])\n",
    "education_df[\"category\"] = \"education\"\n",
    "education_df[\"amenity\"] = education_df[\"tags\"].apply(lambda tags: tags[\"amenity\"])\n",
    "education_df.head(2)\n"
   ]
  },
  {
   "cell_type": "code",
   "execution_count": 8,
   "metadata": {},
   "outputs": [
    {
     "data": {
      "text/plain": "   type         id        lat         lon  \\\n0  node  368167434  34.084167 -118.482222   \n1  node  368167436  34.129722 -118.209722   \n\n                                                tags          category  \\\n0  {'addr:state': 'CA', 'amenity': 'arts_centre',...  arts_and_culture   \n1  {'addr:state': 'CA', 'amenity': 'arts_centre',...  arts_and_culture   \n\n       amenity  \n0  arts_centre  \n1  arts_centre  ",
      "text/html": "<div>\n<style scoped>\n    .dataframe tbody tr th:only-of-type {\n        vertical-align: middle;\n    }\n\n    .dataframe tbody tr th {\n        vertical-align: top;\n    }\n\n    .dataframe thead th {\n        text-align: right;\n    }\n</style>\n<table border=\"1\" class=\"dataframe\">\n  <thead>\n    <tr style=\"text-align: right;\">\n      <th></th>\n      <th>type</th>\n      <th>id</th>\n      <th>lat</th>\n      <th>lon</th>\n      <th>tags</th>\n      <th>category</th>\n      <th>amenity</th>\n    </tr>\n  </thead>\n  <tbody>\n    <tr>\n      <th>0</th>\n      <td>node</td>\n      <td>368167434</td>\n      <td>34.084167</td>\n      <td>-118.482222</td>\n      <td>{'addr:state': 'CA', 'amenity': 'arts_centre',...</td>\n      <td>arts_and_culture</td>\n      <td>arts_centre</td>\n    </tr>\n    <tr>\n      <th>1</th>\n      <td>node</td>\n      <td>368167436</td>\n      <td>34.129722</td>\n      <td>-118.209722</td>\n      <td>{'addr:state': 'CA', 'amenity': 'arts_centre',...</td>\n      <td>arts_and_culture</td>\n      <td>arts_centre</td>\n    </tr>\n  </tbody>\n</table>\n</div>"
     },
     "execution_count": 8,
     "metadata": {},
     "output_type": "execute_result"
    }
   ],
   "source": [
    "arts_and_culture_data = get_poi_data(\"arts_and_culture\")\n",
    "arts_and_culture_df = pd.DataFrame(arts_and_culture_data[\"elements\"])\n",
    "arts_and_culture_df[\"category\"] = \"arts_and_culture\"\n",
    "arts_and_culture_df[\"amenity\"] = arts_and_culture_df[\"tags\"].apply(\n",
    "    lambda tags: tags[\"amenity\"]\n",
    ")\n",
    "arts_and_culture_df.head(2)\n"
   ]
  },
  {
   "cell_type": "code",
   "execution_count": 9,
   "metadata": {},
   "outputs": [
    {
     "data": {
      "text/plain": "   type         id        lat         lon  \\\n0  node  358826475  34.047789 -118.334798   \n1  node  358826622  34.166808 -118.485205   \n\n                                                tags category  \n0  {'ele': '46', 'gnis:county_id': '037', 'gnis:c...   sports  \n1  {'ele': '213', 'gnis:county_id': '037', 'gnis:...   sports  ",
      "text/html": "<div>\n<style scoped>\n    .dataframe tbody tr th:only-of-type {\n        vertical-align: middle;\n    }\n\n    .dataframe tbody tr th {\n        vertical-align: top;\n    }\n\n    .dataframe thead th {\n        text-align: right;\n    }\n</style>\n<table border=\"1\" class=\"dataframe\">\n  <thead>\n    <tr style=\"text-align: right;\">\n      <th></th>\n      <th>type</th>\n      <th>id</th>\n      <th>lat</th>\n      <th>lon</th>\n      <th>tags</th>\n      <th>category</th>\n    </tr>\n  </thead>\n  <tbody>\n    <tr>\n      <th>0</th>\n      <td>node</td>\n      <td>358826475</td>\n      <td>34.047789</td>\n      <td>-118.334798</td>\n      <td>{'ele': '46', 'gnis:county_id': '037', 'gnis:c...</td>\n      <td>sports</td>\n    </tr>\n    <tr>\n      <th>1</th>\n      <td>node</td>\n      <td>358826622</td>\n      <td>34.166808</td>\n      <td>-118.485205</td>\n      <td>{'ele': '213', 'gnis:county_id': '037', 'gnis:...</td>\n      <td>sports</td>\n    </tr>\n  </tbody>\n</table>\n</div>"
     },
     "execution_count": 9,
     "metadata": {},
     "output_type": "execute_result"
    }
   ],
   "source": [
    "sports_data = get_poi_data(\"sports\")\n",
    "sports_df = pd.DataFrame(sports_data[\"elements\"])\n",
    "sports_df[\"category\"] = \"sports\"\n",
    "sports_df.head(2)\n"
   ]
  },
  {
   "cell_type": "code",
   "execution_count": 10,
   "metadata": {},
   "outputs": [
    {
     "data": {
      "text/plain": "         lat         lon    category    amenity\n0  34.076217 -118.216020  sustenance  fast_food\n1  34.076693 -118.216013  sustenance  fast_food",
      "text/html": "<div>\n<style scoped>\n    .dataframe tbody tr th:only-of-type {\n        vertical-align: middle;\n    }\n\n    .dataframe tbody tr th {\n        vertical-align: top;\n    }\n\n    .dataframe thead th {\n        text-align: right;\n    }\n</style>\n<table border=\"1\" class=\"dataframe\">\n  <thead>\n    <tr style=\"text-align: right;\">\n      <th></th>\n      <th>lat</th>\n      <th>lon</th>\n      <th>category</th>\n      <th>amenity</th>\n    </tr>\n  </thead>\n  <tbody>\n    <tr>\n      <th>0</th>\n      <td>34.076217</td>\n      <td>-118.216020</td>\n      <td>sustenance</td>\n      <td>fast_food</td>\n    </tr>\n    <tr>\n      <th>1</th>\n      <td>34.076693</td>\n      <td>-118.216013</td>\n      <td>sustenance</td>\n      <td>fast_food</td>\n    </tr>\n  </tbody>\n</table>\n</div>"
     },
     "execution_count": 10,
     "metadata": {},
     "output_type": "execute_result"
    }
   ],
   "source": [
    "poi_df = pd.concat(\n",
    "    [sustenance_df, public_transport_df, education_df, arts_and_culture_df, sports_df]\n",
    ")\n",
    "poi_df = poi_df.drop(columns={\"type\", \"id\", \"tags\"})\n",
    "poi_df.head(2)\n"
   ]
  },
  {
   "cell_type": "markdown",
   "metadata": {},
   "source": [
    "# Points of interest - data processing\n",
    "In this section, we will use a special geographical indexing system called [H3](https://h3geo.org/). It was developed by Uber and is now an open-source project. Its special characteristic is that it uses hexagons instead of squares compared to other geographical indexing systems. Using hexagons brings the advantage that the distance from the centre of one hexagon to all its neighbors is the same. This is of great importance in our case.\n",
    "\n",
    "We want to determine what was the possible destination of a trip or the original destination of a return trip. Optimally we would count all points of interest in a given radius. However, this is computationally intensive. Therefore, we divide the map into certain areas and calculate poi statistics for them. Then we can simply identify in which area the trip started and ended. In this case, the hexagons are a better approximation to a circle than squares.\n",
    "\n",
    "H3 is a hierarchical system, which means each hexagon has a bigger parent and smaller children. Hexagon sizes are determined by the resolution in the range from 0 to 15, where higher resolution means smaller hexagon area. We decided to use resolution 9 in our research. It corresponds to the area of 0.1053325 km^2 and the edge length of 0.174375668 km. Information about other resolutions can be found [here](https://h3geo.org/docs/core-library/restable/)."
   ]
  },
  {
   "cell_type": "code",
   "execution_count": 11,
   "metadata": {},
   "outputs": [],
   "source": [
    "resolution = 9\n",
    "\n",
    "# this function will return hex id for given latitude and longitude\n",
    "def convert_to_hex(latitude, longitude):\n",
    "    return h3.geo_to_h3(lat=latitude, lng=longitude, resolution=resolution)\n"
   ]
  },
  {
   "cell_type": "code",
   "execution_count": 12,
   "metadata": {},
   "outputs": [
    {
     "data": {
      "text/plain": "         lat         lon    category    amenity              hex\n0  34.076217 -118.216020  sustenance  fast_food  8929a1d73c7ffff\n1  34.076693 -118.216013  sustenance  fast_food  8929a1d731bffff",
      "text/html": "<div>\n<style scoped>\n    .dataframe tbody tr th:only-of-type {\n        vertical-align: middle;\n    }\n\n    .dataframe tbody tr th {\n        vertical-align: top;\n    }\n\n    .dataframe thead th {\n        text-align: right;\n    }\n</style>\n<table border=\"1\" class=\"dataframe\">\n  <thead>\n    <tr style=\"text-align: right;\">\n      <th></th>\n      <th>lat</th>\n      <th>lon</th>\n      <th>category</th>\n      <th>amenity</th>\n      <th>hex</th>\n    </tr>\n  </thead>\n  <tbody>\n    <tr>\n      <th>0</th>\n      <td>34.076217</td>\n      <td>-118.216020</td>\n      <td>sustenance</td>\n      <td>fast_food</td>\n      <td>8929a1d73c7ffff</td>\n    </tr>\n    <tr>\n      <th>1</th>\n      <td>34.076693</td>\n      <td>-118.216013</td>\n      <td>sustenance</td>\n      <td>fast_food</td>\n      <td>8929a1d731bffff</td>\n    </tr>\n  </tbody>\n</table>\n</div>"
     },
     "execution_count": 12,
     "metadata": {},
     "output_type": "execute_result"
    }
   ],
   "source": [
    "# compute the hexagon id for each point of interest\n",
    "poi_df[\"hex\"] = poi_df.apply(lambda poi: convert_to_hex(poi[\"lat\"], poi[\"lon\"]), axis=1)\n",
    "poi_df.head(2)\n"
   ]
  },
  {
   "cell_type": "code",
   "execution_count": 13,
   "metadata": {},
   "outputs": [
    {
     "data": {
      "text/plain": "               hex    category  number of poi\n0  891f9c344dbffff  sustenance              1\n1  892664501b7ffff  sustenance              1",
      "text/html": "<div>\n<style scoped>\n    .dataframe tbody tr th:only-of-type {\n        vertical-align: middle;\n    }\n\n    .dataframe tbody tr th {\n        vertical-align: top;\n    }\n\n    .dataframe thead th {\n        text-align: right;\n    }\n</style>\n<table border=\"1\" class=\"dataframe\">\n  <thead>\n    <tr style=\"text-align: right;\">\n      <th></th>\n      <th>hex</th>\n      <th>category</th>\n      <th>number of poi</th>\n    </tr>\n  </thead>\n  <tbody>\n    <tr>\n      <th>0</th>\n      <td>891f9c344dbffff</td>\n      <td>sustenance</td>\n      <td>1</td>\n    </tr>\n    <tr>\n      <th>1</th>\n      <td>892664501b7ffff</td>\n      <td>sustenance</td>\n      <td>1</td>\n    </tr>\n  </tbody>\n</table>\n</div>"
     },
     "execution_count": 13,
     "metadata": {},
     "output_type": "execute_result"
    }
   ],
   "source": [
    "# create a dataframe with the number of points of interest in each hexagon\n",
    "# and each category that occur in thepoi dataframe\n",
    "all_hexagons_with_poi = poi_df.groupby([\"hex\", \"category\"]).size().to_frame()\n",
    "all_hexagons_with_poi = all_hexagons_with_poi.reset_index()\n",
    "all_hexagons_with_poi = all_hexagons_with_poi.rename(columns={0: \"number of poi\"})\n",
    "all_hexagons_with_poi.head(2)\n"
   ]
  },
  {
   "cell_type": "code",
   "execution_count": 14,
   "metadata": {},
   "outputs": [],
   "source": [
    "# import trips data and compute start and end hexagons for each trip\n",
    "trips_df = pd.read_pickle(\"../00_data/trips.pkl\")\n",
    "\n",
    "trips_df[\"start_hex\"] = trips_df.apply(\n",
    "    lambda trip: convert_to_hex(trip[\"start_latitude\"], trip[\"start_longitude\"]), axis=1\n",
    ")\n",
    "\n",
    "trips_df[\"end_hex\"] = trips_df.apply(\n",
    "    lambda trip: convert_to_hex(trip[\"end_latitude\"], trip[\"end_longitude\"]), axis=1\n",
    ")\n"
   ]
  },
  {
   "cell_type": "code",
   "execution_count": 15,
   "metadata": {},
   "outputs": [
    {
     "name": "stdout",
     "output_type": "stream",
     "text": [
      "We have identified 130 hexagons in total with resolution 9 where at least one trip started or ended.\n"
     ]
    }
   ],
   "source": [
    "number_of_unique_hexagons = (\n",
    "    pd.concat([trips_df[\"start_hex\"], trips_df[\"end_hex\"]]).unique().size\n",
    ")\n",
    "print(\n",
    "    f\"We have identified {number_of_unique_hexagons} hexagons in total with \"\n",
    "    f\"resolution {resolution} where at least one trip started or ended.\"\n",
    ")\n"
   ]
  },
  {
   "cell_type": "code",
   "execution_count": 16,
   "metadata": {},
   "outputs": [
    {
     "data": {
      "text/plain": "               hex\n0  8929a1d7577ffff\n1  8929a1d7543ffff",
      "text/html": "<div>\n<style scoped>\n    .dataframe tbody tr th:only-of-type {\n        vertical-align: middle;\n    }\n\n    .dataframe tbody tr th {\n        vertical-align: top;\n    }\n\n    .dataframe thead th {\n        text-align: right;\n    }\n</style>\n<table border=\"1\" class=\"dataframe\">\n  <thead>\n    <tr style=\"text-align: right;\">\n      <th></th>\n      <th>hex</th>\n    </tr>\n  </thead>\n  <tbody>\n    <tr>\n      <th>0</th>\n      <td>8929a1d7577ffff</td>\n    </tr>\n    <tr>\n      <th>1</th>\n      <td>8929a1d7543ffff</td>\n    </tr>\n  </tbody>\n</table>\n</div>"
     },
     "execution_count": 16,
     "metadata": {},
     "output_type": "execute_result"
    }
   ],
   "source": [
    "# create a dataframe with all hexagons where at least one trip started or ended\n",
    "hexagons_df = pd.DataFrame()\n",
    "hexagons_df[\"hex\"] = pd.concat([trips_df[\"start_hex\"], trips_df[\"end_hex\"]]).unique()\n",
    "hexagons_df.head(2)\n"
   ]
  },
  {
   "cell_type": "code",
   "execution_count": 17,
   "metadata": {},
   "outputs": [
    {
     "data": {
      "text/plain": "               hex                                  hex_and_neighbors\n0  8929a1d7577ffff  [8929a1d7567ffff, 8929a1d7577ffff, 8929a1d7573...\n1  8929a1d7543ffff  [8929a1d7553ffff, 8929a1d7557ffff, 8929a1d754b...",
      "text/html": "<div>\n<style scoped>\n    .dataframe tbody tr th:only-of-type {\n        vertical-align: middle;\n    }\n\n    .dataframe tbody tr th {\n        vertical-align: top;\n    }\n\n    .dataframe thead th {\n        text-align: right;\n    }\n</style>\n<table border=\"1\" class=\"dataframe\">\n  <thead>\n    <tr style=\"text-align: right;\">\n      <th></th>\n      <th>hex</th>\n      <th>hex_and_neighbors</th>\n    </tr>\n  </thead>\n  <tbody>\n    <tr>\n      <th>0</th>\n      <td>8929a1d7577ffff</td>\n      <td>[8929a1d7567ffff, 8929a1d7577ffff, 8929a1d7573...</td>\n    </tr>\n    <tr>\n      <th>1</th>\n      <td>8929a1d7543ffff</td>\n      <td>[8929a1d7553ffff, 8929a1d7557ffff, 8929a1d754b...</td>\n    </tr>\n  </tbody>\n</table>\n</div>"
     },
     "execution_count": 17,
     "metadata": {},
     "output_type": "execute_result"
    }
   ],
   "source": [
    "# create a column 'hex_and_neighbors' which contains a set of hexagons\n",
    "# this set consists of the hexagon from column 'hex' and its 6 neighbours\n",
    "hexagons_df[\"hex_and_neighbors\"] = hexagons_df.apply(\n",
    "    lambda row: list(h3.k_ring(row[\"hex\"], 1)), axis=1\n",
    ")\n",
    "hexagons_df.head(2)\n"
   ]
  },
  {
   "cell_type": "code",
   "execution_count": 18,
   "metadata": {},
   "outputs": [
    {
     "data": {
      "text/plain": "['8929a1d7567ffff',\n '8929a1d7577ffff',\n '8929a1d7573ffff',\n '8929a1d7563ffff',\n '8929a1d750fffff',\n '8929a1d752bffff',\n '8929a1d753bffff']"
     },
     "execution_count": 18,
     "metadata": {},
     "output_type": "execute_result"
    }
   ],
   "source": [
    "# this is an example of how one entry in 'hex_and_neighbors' column looks like\n",
    "hexagons_df[\"hex_and_neighbors\"][0]\n"
   ]
  },
  {
   "cell_type": "code",
   "execution_count": 19,
   "metadata": {},
   "outputs": [],
   "source": [
    "# this function will return the sum of points of interest in given category for a given set of hexagons\n",
    "def calculate_poi(hex_and_neighbors, category):\n",
    "    return all_hexagons_with_poi[\n",
    "        (\n",
    "            (all_hexagons_with_poi[\"hex\"].isin(hex_and_neighbors))\n",
    "            & (all_hexagons_with_poi[\"category\"] == category)\n",
    "        )\n",
    "    ][\"number of poi\"].sum()\n"
   ]
  },
  {
   "cell_type": "code",
   "execution_count": 20,
   "metadata": {},
   "outputs": [
    {
     "data": {
      "text/plain": "               hex                                  hex_and_neighbors  \\\n0  8929a1d7577ffff  [8929a1d7567ffff, 8929a1d7577ffff, 8929a1d7573...   \n1  8929a1d7543ffff  [8929a1d7553ffff, 8929a1d7557ffff, 8929a1d754b...   \n\n   sustenance_poi  public_transport_poi  education_poi  arts_and_culture_poi  \\\n0              80                    28              2                     4   \n1              40                     1              2                     0   \n\n   sports_poi  \n0           0  \n1           1  ",
      "text/html": "<div>\n<style scoped>\n    .dataframe tbody tr th:only-of-type {\n        vertical-align: middle;\n    }\n\n    .dataframe tbody tr th {\n        vertical-align: top;\n    }\n\n    .dataframe thead th {\n        text-align: right;\n    }\n</style>\n<table border=\"1\" class=\"dataframe\">\n  <thead>\n    <tr style=\"text-align: right;\">\n      <th></th>\n      <th>hex</th>\n      <th>hex_and_neighbors</th>\n      <th>sustenance_poi</th>\n      <th>public_transport_poi</th>\n      <th>education_poi</th>\n      <th>arts_and_culture_poi</th>\n      <th>sports_poi</th>\n    </tr>\n  </thead>\n  <tbody>\n    <tr>\n      <th>0</th>\n      <td>8929a1d7577ffff</td>\n      <td>[8929a1d7567ffff, 8929a1d7577ffff, 8929a1d7573...</td>\n      <td>80</td>\n      <td>28</td>\n      <td>2</td>\n      <td>4</td>\n      <td>0</td>\n    </tr>\n    <tr>\n      <th>1</th>\n      <td>8929a1d7543ffff</td>\n      <td>[8929a1d7553ffff, 8929a1d7557ffff, 8929a1d754b...</td>\n      <td>40</td>\n      <td>1</td>\n      <td>2</td>\n      <td>0</td>\n      <td>1</td>\n    </tr>\n  </tbody>\n</table>\n</div>"
     },
     "execution_count": 20,
     "metadata": {},
     "output_type": "execute_result"
    }
   ],
   "source": [
    "# compute the number of poi in each category for each hexagon and its neighbours\n",
    "categories = [\n",
    "    'sustenance',\n",
    "    'public_transport',\n",
    "    'education',\n",
    "    'arts_and_culture',\n",
    "    'sports'\n",
    "]\n",
    "\n",
    "for category in categories:\n",
    "    hexagons_df[f\"{category}_poi\"] = hexagons_df[\"hex_and_neighbors\"].apply(\n",
    "    lambda row: calculate_poi(row, category)\n",
    ")\n",
    "\n",
    "hexagons_df.head(2)\n"
   ]
  },
  {
   "cell_type": "markdown",
   "metadata": {},
   "source": [
    "We will now add the newly acquired data to the trips dataset. Performing cluster analysis with these new features might yield intersting results."
   ]
  },
  {
   "cell_type": "code",
   "execution_count": 21,
   "metadata": {},
   "outputs": [
    {
     "data": {
      "text/plain": "           start_time            end_time  start_station_id  end_station_id  \\\n0 2019-01-01 00:18:00 2019-01-01 00:50:00              3030            3075   \n1 2019-01-01 00:20:00 2019-01-01 00:50:00              3030            3075   \n\n  bike_id user_type start_station_name end_station_name        duration  \\\n0   05992   Walk-up         Main & 1st   Broadway & 9th 0 days 00:32:00   \n1   05860   Walk-up         Main & 1st   Broadway & 9th 0 days 00:30:00   \n\n   start_latitude  ...  end_longitude  distance     speed        start_hex  \\\n0        34.05194  ...     -118.25619  1.498844  2.810332  8929a1d7577ffff   \n1        34.05194  ...     -118.25619  1.498844  2.997688  8929a1d7577ffff   \n\n           end_hex sustenance_poi_start public_transport_poi_start  \\\n0  8929a1d75a3ffff                   80                         28   \n1  8929a1d75a3ffff                   80                         28   \n\n   education_poi_start  arts_and_culture_poi_start  sports_poi_start  \n0                    2                           4                 0  \n1                    2                           4                 0  \n\n[2 rows x 22 columns]",
      "text/html": "<div>\n<style scoped>\n    .dataframe tbody tr th:only-of-type {\n        vertical-align: middle;\n    }\n\n    .dataframe tbody tr th {\n        vertical-align: top;\n    }\n\n    .dataframe thead th {\n        text-align: right;\n    }\n</style>\n<table border=\"1\" class=\"dataframe\">\n  <thead>\n    <tr style=\"text-align: right;\">\n      <th></th>\n      <th>start_time</th>\n      <th>end_time</th>\n      <th>start_station_id</th>\n      <th>end_station_id</th>\n      <th>bike_id</th>\n      <th>user_type</th>\n      <th>start_station_name</th>\n      <th>end_station_name</th>\n      <th>duration</th>\n      <th>start_latitude</th>\n      <th>...</th>\n      <th>end_longitude</th>\n      <th>distance</th>\n      <th>speed</th>\n      <th>start_hex</th>\n      <th>end_hex</th>\n      <th>sustenance_poi_start</th>\n      <th>public_transport_poi_start</th>\n      <th>education_poi_start</th>\n      <th>arts_and_culture_poi_start</th>\n      <th>sports_poi_start</th>\n    </tr>\n  </thead>\n  <tbody>\n    <tr>\n      <th>0</th>\n      <td>2019-01-01 00:18:00</td>\n      <td>2019-01-01 00:50:00</td>\n      <td>3030</td>\n      <td>3075</td>\n      <td>05992</td>\n      <td>Walk-up</td>\n      <td>Main &amp; 1st</td>\n      <td>Broadway &amp; 9th</td>\n      <td>0 days 00:32:00</td>\n      <td>34.05194</td>\n      <td>...</td>\n      <td>-118.25619</td>\n      <td>1.498844</td>\n      <td>2.810332</td>\n      <td>8929a1d7577ffff</td>\n      <td>8929a1d75a3ffff</td>\n      <td>80</td>\n      <td>28</td>\n      <td>2</td>\n      <td>4</td>\n      <td>0</td>\n    </tr>\n    <tr>\n      <th>1</th>\n      <td>2019-01-01 00:20:00</td>\n      <td>2019-01-01 00:50:00</td>\n      <td>3030</td>\n      <td>3075</td>\n      <td>05860</td>\n      <td>Walk-up</td>\n      <td>Main &amp; 1st</td>\n      <td>Broadway &amp; 9th</td>\n      <td>0 days 00:30:00</td>\n      <td>34.05194</td>\n      <td>...</td>\n      <td>-118.25619</td>\n      <td>1.498844</td>\n      <td>2.997688</td>\n      <td>8929a1d7577ffff</td>\n      <td>8929a1d75a3ffff</td>\n      <td>80</td>\n      <td>28</td>\n      <td>2</td>\n      <td>4</td>\n      <td>0</td>\n    </tr>\n  </tbody>\n</table>\n<p>2 rows × 22 columns</p>\n</div>"
     },
     "execution_count": 21,
     "metadata": {},
     "output_type": "execute_result"
    }
   ],
   "source": [
    "trips_df = pd.merge(trips_df, hexagons_df, left_on=\"start_hex\", right_on=\"hex\")\n",
    "trips_df = trips_df.drop(columns={\"hex\", \"hex_and_neighbors\"})\n",
    "\n",
    "# add '_start' suffix to poi columns\n",
    "trips_df = trips_df.rename(\n",
    "    columns={\n",
    "        \"sustenance_poi\": \"sustenance_poi_start\",\n",
    "        \"public_transport_poi\": \"public_transport_poi_start\",\n",
    "        \"education_poi\": \"education_poi_start\",\n",
    "        \"arts_and_culture_poi\": \"arts_and_culture_poi_start\",\n",
    "        \"sports_poi\": \"sports_poi_start\",\n",
    "    }\n",
    ")\n",
    "trips_df.head(2)\n"
   ]
  },
  {
   "cell_type": "code",
   "execution_count": 22,
   "metadata": {},
   "outputs": [
    {
     "data": {
      "text/plain": "           start_time            end_time  start_station_id  end_station_id  \\\n0 2019-01-01 00:18:00 2019-01-01 00:50:00              3030            3075   \n1 2019-01-01 00:20:00 2019-01-01 00:50:00              3030            3075   \n\n  bike_id user_type start_station_name end_station_name        duration  \\\n0   05992   Walk-up         Main & 1st   Broadway & 9th 0 days 00:32:00   \n1   05860   Walk-up         Main & 1st   Broadway & 9th 0 days 00:30:00   \n\n   start_latitude  ...  sustenance_poi_start  public_transport_poi_start  \\\n0        34.05194  ...                    80                          28   \n1        34.05194  ...                    80                          28   \n\n   education_poi_start  arts_and_culture_poi_start  sports_poi_start  \\\n0                    2                           4                 0   \n1                    2                           4                 0   \n\n  sustenance_poi_end public_transport_poi_end  education_poi_end  \\\n0                 67                       51                  0   \n1                 67                       51                  0   \n\n   arts_and_culture_poi_end  sports_poi_end  \n0                         4               4  \n1                         4               4  \n\n[2 rows x 27 columns]",
      "text/html": "<div>\n<style scoped>\n    .dataframe tbody tr th:only-of-type {\n        vertical-align: middle;\n    }\n\n    .dataframe tbody tr th {\n        vertical-align: top;\n    }\n\n    .dataframe thead th {\n        text-align: right;\n    }\n</style>\n<table border=\"1\" class=\"dataframe\">\n  <thead>\n    <tr style=\"text-align: right;\">\n      <th></th>\n      <th>start_time</th>\n      <th>end_time</th>\n      <th>start_station_id</th>\n      <th>end_station_id</th>\n      <th>bike_id</th>\n      <th>user_type</th>\n      <th>start_station_name</th>\n      <th>end_station_name</th>\n      <th>duration</th>\n      <th>start_latitude</th>\n      <th>...</th>\n      <th>sustenance_poi_start</th>\n      <th>public_transport_poi_start</th>\n      <th>education_poi_start</th>\n      <th>arts_and_culture_poi_start</th>\n      <th>sports_poi_start</th>\n      <th>sustenance_poi_end</th>\n      <th>public_transport_poi_end</th>\n      <th>education_poi_end</th>\n      <th>arts_and_culture_poi_end</th>\n      <th>sports_poi_end</th>\n    </tr>\n  </thead>\n  <tbody>\n    <tr>\n      <th>0</th>\n      <td>2019-01-01 00:18:00</td>\n      <td>2019-01-01 00:50:00</td>\n      <td>3030</td>\n      <td>3075</td>\n      <td>05992</td>\n      <td>Walk-up</td>\n      <td>Main &amp; 1st</td>\n      <td>Broadway &amp; 9th</td>\n      <td>0 days 00:32:00</td>\n      <td>34.05194</td>\n      <td>...</td>\n      <td>80</td>\n      <td>28</td>\n      <td>2</td>\n      <td>4</td>\n      <td>0</td>\n      <td>67</td>\n      <td>51</td>\n      <td>0</td>\n      <td>4</td>\n      <td>4</td>\n    </tr>\n    <tr>\n      <th>1</th>\n      <td>2019-01-01 00:20:00</td>\n      <td>2019-01-01 00:50:00</td>\n      <td>3030</td>\n      <td>3075</td>\n      <td>05860</td>\n      <td>Walk-up</td>\n      <td>Main &amp; 1st</td>\n      <td>Broadway &amp; 9th</td>\n      <td>0 days 00:30:00</td>\n      <td>34.05194</td>\n      <td>...</td>\n      <td>80</td>\n      <td>28</td>\n      <td>2</td>\n      <td>4</td>\n      <td>0</td>\n      <td>67</td>\n      <td>51</td>\n      <td>0</td>\n      <td>4</td>\n      <td>4</td>\n    </tr>\n  </tbody>\n</table>\n<p>2 rows × 27 columns</p>\n</div>"
     },
     "execution_count": 22,
     "metadata": {},
     "output_type": "execute_result"
    }
   ],
   "source": [
    "trips_df = pd.merge(trips_df, hexagons_df, left_on=\"end_hex\", right_on=\"hex\")\n",
    "trips_df = trips_df.drop(columns={\"hex\", \"hex_and_neighbors\"})\n",
    "\n",
    "# add '_end' suffix to poi columns\n",
    "trips_df = trips_df.rename(\n",
    "    columns={\n",
    "        \"sustenance_poi\": \"sustenance_poi_end\",\n",
    "        \"public_transport_poi\": \"public_transport_poi_end\",\n",
    "        \"education_poi\": \"education_poi_end\",\n",
    "        \"arts_and_culture_poi\": \"arts_and_culture_poi_end\",\n",
    "        \"sports_poi\": \"sports_poi_end\",\n",
    "    }\n",
    ")\n",
    "trips_df.head(2)\n"
   ]
  },
  {
   "cell_type": "code",
   "execution_count": 23,
   "metadata": {
    "pycharm": {
     "name": "#%%\n"
    }
   },
   "outputs": [],
   "source": [
    "poi_df.to_pickle(\"../00_data/poi.pkl\")\n",
    "hexagons_df.to_pickle(\"../00_data/hexagons.pkl\")\n",
    "trips_df.to_pickle(\"../00_data/trips.pkl\")"
   ]
  }
 ],
 "metadata": {
  "interpreter": {
   "hash": "a1c3f635b40863d0b470261b264aaf31ccd2c5c71a1254730ef69b2770038be6"
  },
  "kernelspec": {
   "display_name": "Python 3.9.7 64-bit ('base': conda)",
   "language": "python",
   "name": "python3"
  },
  "language_info": {
   "codemirror_mode": {
    "name": "ipython",
    "version": 3
   },
   "file_extension": ".py",
   "mimetype": "text/x-python",
   "name": "python",
   "nbconvert_exporter": "python",
   "pygments_lexer": "ipython3",
   "version": "3.9.7"
  },
  "orig_nbformat": 4
 },
 "nbformat": 4,
 "nbformat_minor": 2
}