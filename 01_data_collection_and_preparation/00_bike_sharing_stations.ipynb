{
 "cells": [
  {
   "cell_type": "markdown",
   "metadata": {},
   "source": [
    "### Bike Sharing Station Data Collection & Preperation\n",
    "In this notebook, we will download data on the bicycle sharing stations that are referenced by the our trip data.\n",
    "The station data is publicly available as GeoJSON [here](http://bikeshare.metro.net/stations/json/)."
   ]
  },
  {
   "cell_type": "code",
   "execution_count": 14,
   "metadata": {},
   "outputs": [],
   "source": [
    "import urllib.request\n",
    "import json\n",
    "import pandas as pd\n",
    "import folium\n",
    "import re"
   ]
  },
  {
   "cell_type": "code",
   "execution_count": 15,
   "metadata": {},
   "outputs": [],
   "source": [
    "# emulate a real browser by using common headers\n",
    "# without these headers metro bike share blocks requests with a 403 forbidden error\n",
    "# let's be nice to metro bike share and run this cell only ones\n",
    "headers = {'User-Agent': 'Mozilla/5.0 (X11; Linux x86_64) AppleWebKit/537.11 (KHTML, like Gecko) Chrome/23.0.1271.64 Safari/537.11',\n",
    "       'Accept': 'text/html,application/xhtml+xml,application/xml;q=0.9,*/*;q=0.8',\n",
    "       'Accept-Charset': 'ISO-8859-1,utf-8;q=0.7,*;q=0.3',\n",
    "       'Accept-Encoding': 'none',\n",
    "       'Accept-Language': 'en-US,en;q=0.8',\n",
    "       'Connection': 'keep-alive'}\n",
    "\n",
    "req = urllib.request.Request('http://bikeshare.metro.net/stations/json/', headers=headers)\n",
    "\n",
    "try:\n",
    "    stations_data_json\n",
    "    request_complete = True\n",
    "except NameError:\n",
    "    request_complete = False\n",
    "\n",
    "if(not request_complete):\n",
    "    print(\"Downloading station data\")\n",
    "    with urllib.request.urlopen(req) as url:\n",
    "       stations_data_json = json.loads(url.read().decode())"
   ]
  },
  {
   "cell_type": "code",
   "execution_count": 16,
   "metadata": {},
   "outputs": [
    {
     "data": {
      "text/html": [
       "<div>\n",
       "<style scoped>\n",
       "    .dataframe tbody tr th:only-of-type {\n",
       "        vertical-align: middle;\n",
       "    }\n",
       "\n",
       "    .dataframe tbody tr th {\n",
       "        vertical-align: top;\n",
       "    }\n",
       "\n",
       "    .dataframe thead th {\n",
       "        text-align: right;\n",
       "    }\n",
       "</style>\n",
       "<table border=\"1\" class=\"dataframe\">\n",
       "  <thead>\n",
       "    <tr style=\"text-align: right;\">\n",
       "      <th></th>\n",
       "      <th>type</th>\n",
       "      <th>geometry.coordinates</th>\n",
       "      <th>geometry.type</th>\n",
       "      <th>properties.addressStreet</th>\n",
       "      <th>properties.addressCity</th>\n",
       "      <th>properties.addressState</th>\n",
       "      <th>properties.addressZipCode</th>\n",
       "      <th>properties.bikesAvailable</th>\n",
       "      <th>properties.closeTime</th>\n",
       "      <th>properties.docksAvailable</th>\n",
       "      <th>...</th>\n",
       "      <th>properties.kioskConnectionStatus</th>\n",
       "      <th>properties.kioskType</th>\n",
       "      <th>properties.latitude</th>\n",
       "      <th>properties.longitude</th>\n",
       "      <th>properties.hasGeofence</th>\n",
       "      <th>properties.classicBikesAvailable</th>\n",
       "      <th>properties.smartBikesAvailable</th>\n",
       "      <th>properties.electricBikesAvailable</th>\n",
       "      <th>properties.isArchived</th>\n",
       "      <th>properties.clientVersion</th>\n",
       "    </tr>\n",
       "  </thead>\n",
       "  <tbody>\n",
       "    <tr>\n",
       "      <th>0</th>\n",
       "      <td>Feature</td>\n",
       "      <td>[-118.25854, 34.0485]</td>\n",
       "      <td>Point</td>\n",
       "      <td>700 Flower St</td>\n",
       "      <td>DTLA</td>\n",
       "      <td>CA</td>\n",
       "      <td>90017</td>\n",
       "      <td>3</td>\n",
       "      <td>05:39:00</td>\n",
       "      <td>27</td>\n",
       "      <td>...</td>\n",
       "      <td>Active</td>\n",
       "      <td>1</td>\n",
       "      <td>34.04850</td>\n",
       "      <td>-118.25854</td>\n",
       "      <td>False</td>\n",
       "      <td>3</td>\n",
       "      <td>0</td>\n",
       "      <td>0</td>\n",
       "      <td>False</td>\n",
       "      <td>5.2.2.26</td>\n",
       "    </tr>\n",
       "    <tr>\n",
       "      <th>1</th>\n",
       "      <td>Feature</td>\n",
       "      <td>[-118.25667, 34.04554]</td>\n",
       "      <td>Point</td>\n",
       "      <td>729 S Olive Street</td>\n",
       "      <td>DTLA</td>\n",
       "      <td>CA</td>\n",
       "      <td>90014</td>\n",
       "      <td>9</td>\n",
       "      <td>05:39:00</td>\n",
       "      <td>22</td>\n",
       "      <td>...</td>\n",
       "      <td>Active</td>\n",
       "      <td>1</td>\n",
       "      <td>34.04554</td>\n",
       "      <td>-118.25667</td>\n",
       "      <td>False</td>\n",
       "      <td>9</td>\n",
       "      <td>0</td>\n",
       "      <td>0</td>\n",
       "      <td>False</td>\n",
       "      <td>5.2.2.26</td>\n",
       "    </tr>\n",
       "  </tbody>\n",
       "</table>\n",
       "<p>2 rows × 36 columns</p>\n",
       "</div>"
      ],
      "text/plain": [
       "      type    geometry.coordinates geometry.type properties.addressStreet  \\\n",
       "0  Feature   [-118.25854, 34.0485]         Point            700 Flower St   \n",
       "1  Feature  [-118.25667, 34.04554]         Point       729 S Olive Street   \n",
       "\n",
       "  properties.addressCity properties.addressState properties.addressZipCode  \\\n",
       "0                   DTLA                      CA                     90017   \n",
       "1                   DTLA                      CA                     90014   \n",
       "\n",
       "   properties.bikesAvailable properties.closeTime  properties.docksAvailable  \\\n",
       "0                          3             05:39:00                         27   \n",
       "1                          9             05:39:00                         22   \n",
       "\n",
       "   ... properties.kioskConnectionStatus properties.kioskType  \\\n",
       "0  ...                           Active                    1   \n",
       "1  ...                           Active                    1   \n",
       "\n",
       "   properties.latitude  properties.longitude  properties.hasGeofence  \\\n",
       "0             34.04850            -118.25854                   False   \n",
       "1             34.04554            -118.25667                   False   \n",
       "\n",
       "   properties.classicBikesAvailable properties.smartBikesAvailable  \\\n",
       "0                                 3                              0   \n",
       "1                                 9                              0   \n",
       "\n",
       "  properties.electricBikesAvailable  properties.isArchived  \\\n",
       "0                                 0                  False   \n",
       "1                                 0                  False   \n",
       "\n",
       "  properties.clientVersion  \n",
       "0                 5.2.2.26  \n",
       "1                 5.2.2.26  \n",
       "\n",
       "[2 rows x 36 columns]"
      ]
     },
     "execution_count": 16,
     "metadata": {},
     "output_type": "execute_result"
    }
   ],
   "source": [
    "stations_df = pd.json_normalize(stations_data_json['features'])\n",
    "stations_df.head(2)"
   ]
  },
  {
   "cell_type": "code",
   "execution_count": 17,
   "metadata": {},
   "outputs": [
    {
     "name": "stdout",
     "output_type": "stream",
     "text": [
      "<class 'pandas.core.frame.DataFrame'>\n",
      "RangeIndex: 225 entries, 0 to 224\n",
      "Data columns (total 11 columns):\n",
      " #   Column                     Non-Null Count  Dtype  \n",
      "---  ------                     --------------  -----  \n",
      " 0   properties.latitude        225 non-null    float64\n",
      " 1   properties.longitude       225 non-null    float64\n",
      " 2   properties.addressZipCode  225 non-null    object \n",
      " 3   properties.totalDocks      225 non-null    int64  \n",
      " 4   properties.isEventBased    225 non-null    bool   \n",
      " 5   properties.isVirtual       225 non-null    bool   \n",
      " 6   properties.isVisible       225 non-null    bool   \n",
      " 7   properties.kioskId         225 non-null    int64  \n",
      " 8   properties.openTime        225 non-null    object \n",
      " 9   properties.closeTime       225 non-null    object \n",
      " 10  properties.hasGeofence     225 non-null    bool   \n",
      "dtypes: bool(4), float64(2), int64(2), object(3)\n",
      "memory usage: 13.3+ KB\n"
     ]
    }
   ],
   "source": [
    "stations_df = stations_df[\n",
    "    [\n",
    "        \"properties.latitude\",\n",
    "        \"properties.longitude\",\n",
    "        \"properties.addressZipCode\",\n",
    "        \"properties.totalDocks\",\n",
    "        \"properties.isEventBased\",\n",
    "        \"properties.isVirtual\",\n",
    "        \"properties.isVisible\",\n",
    "        \"properties.kioskId\",\n",
    "        \"properties.openTime\",\n",
    "        \"properties.closeTime\",\n",
    "        \"properties.hasGeofence\"\n",
    "    ]\n",
    "]\n",
    "stations_df.info()"
   ]
  },
  {
   "cell_type": "markdown",
   "metadata": {},
   "source": [
    "As we can see our selected columns do not have null values.   \n",
    "TODO: Should we check for 'outliers' in the data? This is probably not necessary as the station data a small and controlled set.  "
   ]
  },
  {
   "cell_type": "code",
   "execution_count": 18,
   "metadata": {},
   "outputs": [
    {
     "data": {
      "text/html": [
       "<div>\n",
       "<style scoped>\n",
       "    .dataframe tbody tr th:only-of-type {\n",
       "        vertical-align: middle;\n",
       "    }\n",
       "\n",
       "    .dataframe tbody tr th {\n",
       "        vertical-align: top;\n",
       "    }\n",
       "\n",
       "    .dataframe thead th {\n",
       "        text-align: right;\n",
       "    }\n",
       "</style>\n",
       "<table border=\"1\" class=\"dataframe\">\n",
       "  <thead>\n",
       "    <tr style=\"text-align: right;\">\n",
       "      <th></th>\n",
       "      <th>latitude</th>\n",
       "      <th>longitude</th>\n",
       "      <th>address_zip_code</th>\n",
       "      <th>total_docks</th>\n",
       "      <th>is_event_based</th>\n",
       "      <th>is_virtual</th>\n",
       "      <th>is_visible</th>\n",
       "      <th>kiosk_id</th>\n",
       "      <th>open_time</th>\n",
       "      <th>close_time</th>\n",
       "      <th>has_geofence</th>\n",
       "    </tr>\n",
       "  </thead>\n",
       "  <tbody>\n",
       "    <tr>\n",
       "      <th>0</th>\n",
       "      <td>34.04850</td>\n",
       "      <td>-118.25854</td>\n",
       "      <td>90017</td>\n",
       "      <td>31</td>\n",
       "      <td>False</td>\n",
       "      <td>False</td>\n",
       "      <td>False</td>\n",
       "      <td>3005</td>\n",
       "      <td>05:45:00</td>\n",
       "      <td>05:39:00</td>\n",
       "      <td>False</td>\n",
       "    </tr>\n",
       "    <tr>\n",
       "      <th>1</th>\n",
       "      <td>34.04554</td>\n",
       "      <td>-118.25667</td>\n",
       "      <td>90014</td>\n",
       "      <td>31</td>\n",
       "      <td>False</td>\n",
       "      <td>False</td>\n",
       "      <td>False</td>\n",
       "      <td>3006</td>\n",
       "      <td>05:45:00</td>\n",
       "      <td>05:39:00</td>\n",
       "      <td>False</td>\n",
       "    </tr>\n",
       "  </tbody>\n",
       "</table>\n",
       "</div>"
      ],
      "text/plain": [
       "   latitude  longitude address_zip_code  total_docks  is_event_based  \\\n",
       "0  34.04850 -118.25854            90017           31           False   \n",
       "1  34.04554 -118.25667            90014           31           False   \n",
       "\n",
       "   is_virtual  is_visible  kiosk_id open_time close_time  has_geofence  \n",
       "0       False       False      3005  05:45:00   05:39:00         False  \n",
       "1       False       False      3006  05:45:00   05:39:00         False  "
      ]
     },
     "execution_count": 18,
     "metadata": {},
     "output_type": "execute_result"
    }
   ],
   "source": [
    "stations_df.columns = stations_df.columns.str.replace(\n",
    "    \"properties.\", \"\", regex=False\n",
    ").map(lambda name: re.sub(\"(?!^)([A-Z]+)\", r\"_\\1\", name).lower())\n",
    "stations_df.head(2)\n"
   ]
  },
  {
   "cell_type": "code",
   "execution_count": 19,
   "metadata": {},
   "outputs": [
    {
     "ename": "KeyError",
     "evalue": "'kioskId'",
     "output_type": "error",
     "traceback": [
      "\u001b[0;31m---------------------------------------------------------------------------\u001b[0m",
      "\u001b[0;31mKeyError\u001b[0m                                  Traceback (most recent call last)",
      "\u001b[0;32m~/miniconda3/envs/aa_magma/lib/python3.9/site-packages/pandas/core/indexes/base.py\u001b[0m in \u001b[0;36mget_loc\u001b[0;34m(self, key, method, tolerance)\u001b[0m\n\u001b[1;32m   3360\u001b[0m             \u001b[0;32mtry\u001b[0m\u001b[0;34m:\u001b[0m\u001b[0;34m\u001b[0m\u001b[0;34m\u001b[0m\u001b[0m\n\u001b[0;32m-> 3361\u001b[0;31m                 \u001b[0;32mreturn\u001b[0m \u001b[0mself\u001b[0m\u001b[0;34m.\u001b[0m\u001b[0m_engine\u001b[0m\u001b[0;34m.\u001b[0m\u001b[0mget_loc\u001b[0m\u001b[0;34m(\u001b[0m\u001b[0mcasted_key\u001b[0m\u001b[0;34m)\u001b[0m\u001b[0;34m\u001b[0m\u001b[0;34m\u001b[0m\u001b[0m\n\u001b[0m\u001b[1;32m   3362\u001b[0m             \u001b[0;32mexcept\u001b[0m \u001b[0mKeyError\u001b[0m \u001b[0;32mas\u001b[0m \u001b[0merr\u001b[0m\u001b[0;34m:\u001b[0m\u001b[0;34m\u001b[0m\u001b[0;34m\u001b[0m\u001b[0m\n",
      "\u001b[0;32m~/miniconda3/envs/aa_magma/lib/python3.9/site-packages/pandas/_libs/index.pyx\u001b[0m in \u001b[0;36mpandas._libs.index.IndexEngine.get_loc\u001b[0;34m()\u001b[0m\n",
      "\u001b[0;32m~/miniconda3/envs/aa_magma/lib/python3.9/site-packages/pandas/_libs/index.pyx\u001b[0m in \u001b[0;36mpandas._libs.index.IndexEngine.get_loc\u001b[0;34m()\u001b[0m\n",
      "\u001b[0;32mpandas/_libs/hashtable_class_helper.pxi\u001b[0m in \u001b[0;36mpandas._libs.hashtable.PyObjectHashTable.get_item\u001b[0;34m()\u001b[0m\n",
      "\u001b[0;32mpandas/_libs/hashtable_class_helper.pxi\u001b[0m in \u001b[0;36mpandas._libs.hashtable.PyObjectHashTable.get_item\u001b[0;34m()\u001b[0m\n",
      "\u001b[0;31mKeyError\u001b[0m: 'kioskId'",
      "\nThe above exception was the direct cause of the following exception:\n",
      "\u001b[0;31mKeyError\u001b[0m                                  Traceback (most recent call last)",
      "\u001b[0;32m/tmp/ipykernel_82903/1200709952.py\u001b[0m in \u001b[0;36m<module>\u001b[0;34m\u001b[0m\n\u001b[1;32m      9\u001b[0m     folium.Marker(\n\u001b[1;32m     10\u001b[0m         \u001b[0mlocation\u001b[0m\u001b[0;34m=\u001b[0m\u001b[0;34m[\u001b[0m\u001b[0mrow\u001b[0m\u001b[0;34m[\u001b[0m\u001b[0;34m\"latitude\"\u001b[0m\u001b[0;34m]\u001b[0m\u001b[0;34m,\u001b[0m \u001b[0mrow\u001b[0m\u001b[0;34m[\u001b[0m\u001b[0;34m\"longitude\"\u001b[0m\u001b[0;34m]\u001b[0m\u001b[0;34m]\u001b[0m\u001b[0;34m,\u001b[0m\u001b[0;34m\u001b[0m\u001b[0;34m\u001b[0m\u001b[0m\n\u001b[0;32m---> 11\u001b[0;31m         \u001b[0mpopup\u001b[0m\u001b[0;34m=\u001b[0m\u001b[0mrow\u001b[0m\u001b[0;34m[\u001b[0m\u001b[0;34m\"kioskId\"\u001b[0m\u001b[0;34m]\u001b[0m\u001b[0;34m,\u001b[0m\u001b[0;34m\u001b[0m\u001b[0;34m\u001b[0m\u001b[0m\n\u001b[0m\u001b[1;32m     12\u001b[0m         \u001b[0micon\u001b[0m\u001b[0;34m=\u001b[0m\u001b[0mfolium\u001b[0m\u001b[0;34m.\u001b[0m\u001b[0mIcon\u001b[0m\u001b[0;34m(\u001b[0m\u001b[0mcolor\u001b[0m\u001b[0;34m=\u001b[0m\u001b[0;34m\"red\"\u001b[0m\u001b[0;34m)\u001b[0m\u001b[0;34m,\u001b[0m\u001b[0;34m\u001b[0m\u001b[0;34m\u001b[0m\u001b[0m\n\u001b[1;32m     13\u001b[0m     ).add_to(la_map)\n",
      "\u001b[0;32m~/miniconda3/envs/aa_magma/lib/python3.9/site-packages/pandas/core/series.py\u001b[0m in \u001b[0;36m__getitem__\u001b[0;34m(self, key)\u001b[0m\n\u001b[1;32m    940\u001b[0m \u001b[0;34m\u001b[0m\u001b[0m\n\u001b[1;32m    941\u001b[0m         \u001b[0;32melif\u001b[0m \u001b[0mkey_is_scalar\u001b[0m\u001b[0;34m:\u001b[0m\u001b[0;34m\u001b[0m\u001b[0;34m\u001b[0m\u001b[0m\n\u001b[0;32m--> 942\u001b[0;31m             \u001b[0;32mreturn\u001b[0m \u001b[0mself\u001b[0m\u001b[0;34m.\u001b[0m\u001b[0m_get_value\u001b[0m\u001b[0;34m(\u001b[0m\u001b[0mkey\u001b[0m\u001b[0;34m)\u001b[0m\u001b[0;34m\u001b[0m\u001b[0;34m\u001b[0m\u001b[0m\n\u001b[0m\u001b[1;32m    943\u001b[0m \u001b[0;34m\u001b[0m\u001b[0m\n\u001b[1;32m    944\u001b[0m         \u001b[0;32mif\u001b[0m \u001b[0mis_hashable\u001b[0m\u001b[0;34m(\u001b[0m\u001b[0mkey\u001b[0m\u001b[0;34m)\u001b[0m\u001b[0;34m:\u001b[0m\u001b[0;34m\u001b[0m\u001b[0;34m\u001b[0m\u001b[0m\n",
      "\u001b[0;32m~/miniconda3/envs/aa_magma/lib/python3.9/site-packages/pandas/core/series.py\u001b[0m in \u001b[0;36m_get_value\u001b[0;34m(self, label, takeable)\u001b[0m\n\u001b[1;32m   1049\u001b[0m \u001b[0;34m\u001b[0m\u001b[0m\n\u001b[1;32m   1050\u001b[0m         \u001b[0;31m# Similar to Index.get_value, but we do not fall back to positional\u001b[0m\u001b[0;34m\u001b[0m\u001b[0;34m\u001b[0m\u001b[0m\n\u001b[0;32m-> 1051\u001b[0;31m         \u001b[0mloc\u001b[0m \u001b[0;34m=\u001b[0m \u001b[0mself\u001b[0m\u001b[0;34m.\u001b[0m\u001b[0mindex\u001b[0m\u001b[0;34m.\u001b[0m\u001b[0mget_loc\u001b[0m\u001b[0;34m(\u001b[0m\u001b[0mlabel\u001b[0m\u001b[0;34m)\u001b[0m\u001b[0;34m\u001b[0m\u001b[0;34m\u001b[0m\u001b[0m\n\u001b[0m\u001b[1;32m   1052\u001b[0m         \u001b[0;32mreturn\u001b[0m \u001b[0mself\u001b[0m\u001b[0;34m.\u001b[0m\u001b[0mindex\u001b[0m\u001b[0;34m.\u001b[0m\u001b[0m_get_values_for_loc\u001b[0m\u001b[0;34m(\u001b[0m\u001b[0mself\u001b[0m\u001b[0;34m,\u001b[0m \u001b[0mloc\u001b[0m\u001b[0;34m,\u001b[0m \u001b[0mlabel\u001b[0m\u001b[0;34m)\u001b[0m\u001b[0;34m\u001b[0m\u001b[0;34m\u001b[0m\u001b[0m\n\u001b[1;32m   1053\u001b[0m \u001b[0;34m\u001b[0m\u001b[0m\n",
      "\u001b[0;32m~/miniconda3/envs/aa_magma/lib/python3.9/site-packages/pandas/core/indexes/base.py\u001b[0m in \u001b[0;36mget_loc\u001b[0;34m(self, key, method, tolerance)\u001b[0m\n\u001b[1;32m   3361\u001b[0m                 \u001b[0;32mreturn\u001b[0m \u001b[0mself\u001b[0m\u001b[0;34m.\u001b[0m\u001b[0m_engine\u001b[0m\u001b[0;34m.\u001b[0m\u001b[0mget_loc\u001b[0m\u001b[0;34m(\u001b[0m\u001b[0mcasted_key\u001b[0m\u001b[0;34m)\u001b[0m\u001b[0;34m\u001b[0m\u001b[0;34m\u001b[0m\u001b[0m\n\u001b[1;32m   3362\u001b[0m             \u001b[0;32mexcept\u001b[0m \u001b[0mKeyError\u001b[0m \u001b[0;32mas\u001b[0m \u001b[0merr\u001b[0m\u001b[0;34m:\u001b[0m\u001b[0;34m\u001b[0m\u001b[0;34m\u001b[0m\u001b[0m\n\u001b[0;32m-> 3363\u001b[0;31m                 \u001b[0;32mraise\u001b[0m \u001b[0mKeyError\u001b[0m\u001b[0;34m(\u001b[0m\u001b[0mkey\u001b[0m\u001b[0;34m)\u001b[0m \u001b[0;32mfrom\u001b[0m \u001b[0merr\u001b[0m\u001b[0;34m\u001b[0m\u001b[0;34m\u001b[0m\u001b[0m\n\u001b[0m\u001b[1;32m   3364\u001b[0m \u001b[0;34m\u001b[0m\u001b[0m\n\u001b[1;32m   3365\u001b[0m         \u001b[0;32mif\u001b[0m \u001b[0mis_scalar\u001b[0m\u001b[0;34m(\u001b[0m\u001b[0mkey\u001b[0m\u001b[0;34m)\u001b[0m \u001b[0;32mand\u001b[0m \u001b[0misna\u001b[0m\u001b[0;34m(\u001b[0m\u001b[0mkey\u001b[0m\u001b[0;34m)\u001b[0m \u001b[0;32mand\u001b[0m \u001b[0;32mnot\u001b[0m \u001b[0mself\u001b[0m\u001b[0;34m.\u001b[0m\u001b[0mhasnans\u001b[0m\u001b[0;34m:\u001b[0m\u001b[0;34m\u001b[0m\u001b[0;34m\u001b[0m\u001b[0m\n",
      "\u001b[0;31mKeyError\u001b[0m: 'kioskId'"
     ]
    }
   ],
   "source": [
    "la_map = folium.Map(\n",
    "    location=(34.052235, -118.243683),  # the orig mean values as location coordinates\n",
    "    zoom_start=11,\n",
    "    control_scale=True,\n",
    "    max_zoom=20,\n",
    ")\n",
    "\n",
    "for _, row in stations_df.iterrows():\n",
    "    folium.Marker(\n",
    "        location=[row[\"latitude\"], row[\"longitude\"]],\n",
    "        popup=row[\"kioskId\"],\n",
    "        icon=folium.Icon(color=\"red\"),\n",
    "    ).add_to(la_map)\n",
    "\n",
    "\n",
    "la_map\n"
   ]
  },
  {
   "cell_type": "markdown",
   "metadata": {},
   "source": [
    "All stations are located in Los Angeles, therefore we have no outliers."
   ]
  },
  {
   "cell_type": "code",
   "execution_count": null,
   "metadata": {},
   "outputs": [],
   "source": [
    "stations_df['openTimeTemp'] = pd.to_datetime(stations_df['openTime'])\n",
    "stations_df['openTimeHour'] = stations_df['openTimeTemp'].dt.hour\n",
    "stations_df['openTimeMinute'] = stations_df['openTimeTemp'].dt.minute\n",
    "stations_df = stations_df.drop(columns=['openTimeTemp'])\n",
    "\n",
    "stations_df['closeTimeTemp'] = pd.to_datetime(stations_df['closeTime'])\n",
    "stations_df['closeTimeHour'] = stations_df['closeTimeTemp'].dt.hour\n",
    "stations_df['closeTimeMinute'] = stations_df['closeTimeTemp'].dt.minute\n",
    "stations_df = stations_df.drop(columns=['closeTimeTemp'])\n"
   ]
  },
  {
   "cell_type": "code",
   "execution_count": 21,
   "metadata": {},
   "outputs": [],
   "source": [
    "stations_df.rename(\n",
    "    columns={\"address_zip_code\": \"zip_code\", \"kiosk_id\": \"station_id\"}, inplace=True\n",
    ")\n"
   ]
  },
  {
   "cell_type": "code",
   "execution_count": 22,
   "metadata": {},
   "outputs": [],
   "source": [
    "stations_df.to_pickle('../00_data/stations.pkl')"
   ]
  }
 ],
 "metadata": {
  "interpreter": {
   "hash": "92fc518b5b7384118677689b6c62f007241a114fd66f06ac06e1a7d68fdfd572"
  },
  "kernelspec": {
   "display_name": "Python 3.9.6 64-bit ('base': conda)",
   "language": "python",
   "name": "python3"
  },
  "language_info": {
   "codemirror_mode": {
    "name": "ipython",
    "version": 3
   },
   "file_extension": ".py",
   "mimetype": "text/x-python",
   "name": "python",
   "nbconvert_exporter": "python",
   "pygments_lexer": "ipython3",
   "version": "3.9.7"
  },
  "orig_nbformat": 4
 },
 "nbformat": 4,
 "nbformat_minor": 2
}
