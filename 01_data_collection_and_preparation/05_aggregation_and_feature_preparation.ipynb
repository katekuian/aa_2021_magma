{
 "cells": [
  {
   "cell_type": "markdown",
   "metadata": {},
   "source": [
    "In this notebook, we will first aggregate data on an hourly basis to be used for predictive analysis. Then, we will engineer new features for the model. Finally, we will do feature selection and drop some features to reduce dimensionality."
   ]
  },
  {
   "cell_type": "markdown",
   "metadata": {},
   "source": [
    "## Data Aggregation\n",
    "First, let us aggregate data on an hourly basis to be used for predictive analysis."
   ]
  },
  {
   "cell_type": "code",
   "execution_count": 11,
   "metadata": {},
   "outputs": [],
   "source": [
    "import pandas as pd\n",
    "import matplotlib.pyplot as plt"
   ]
  },
  {
   "cell_type": "code",
   "execution_count": 12,
   "metadata": {},
   "outputs": [],
   "source": [
    "trips_df = pd.read_pickle('../00_data/trips.pkl')"
   ]
  },
  {
   "cell_type": "code",
   "execution_count": 13,
   "metadata": {},
   "outputs": [],
   "source": [
    "# floor start and end times of trips to hour value, i.e. ignore minutes and seconds\n",
    "trips_df['start_time_floored'] = trips_df['start_time'].dt.floor('1H')\n",
    "trips_df['end_time_floored'] = trips_df['end_time'].dt.floor('1H')"
   ]
  },
  {
   "cell_type": "code",
   "execution_count": 14,
   "metadata": {},
   "outputs": [],
   "source": [
    "# calculate the number of starting and ending trips for each hour\n",
    "starting_trips_grouped = (\n",
    "    trips_df.groupby([\"start_time_floored\"])\n",
    "    .size()\n",
    "    .to_frame(\"starting_trips\")\n",
    ")\n",
    "ending_trips_grouped = (\n",
    "    trips_df.groupby([\"end_time_floored\"])\n",
    "    .size()\n",
    "    .to_frame(\"ending_trips\")\n",
    ")"
   ]
  },
  {
   "cell_type": "code",
   "execution_count": 15,
   "metadata": {},
   "outputs": [
    {
     "data": {
      "text/plain": [
       "starting_trips    142\n",
       "ending_trips       85\n",
       "dtype: int64"
      ]
     },
     "execution_count": 15,
     "metadata": {},
     "output_type": "execute_result"
    }
   ],
   "source": [
    "# combine these values into a single dataframe and determine whether data cleaning is necessary\n",
    "trips_hourly = pd.concat([starting_trips_grouped, ending_trips_grouped], axis=1)\n",
    "trips_hourly.isna().sum()"
   ]
  },
  {
   "cell_type": "markdown",
   "metadata": {},
   "source": [
    "There are some missing values, because there may be hours at which trips start but no trips end and vice versa. We will fill these null values with 0, which represents 0 trips started/ended in this hour, and save this aggregated data into a new file."
   ]
  },
  {
   "cell_type": "code",
   "execution_count": 16,
   "metadata": {},
   "outputs": [],
   "source": [
    "trips_hourly = trips_hourly.fillna(0) "
   ]
  },
  {
   "cell_type": "code",
   "execution_count": 17,
   "metadata": {},
   "outputs": [],
   "source": [
    "trips_hourly.to_pickle('../00_data/trips_hourly.pkl')"
   ]
  },
  {
   "cell_type": "markdown",
   "metadata": {},
   "source": [
    "## Feature Engineering\n",
    "Now we will combine different data collected until now into a single dataframe and additionally calculate some new features. This data will be then be used as features for predictive analysis."
   ]
  },
  {
   "cell_type": "code",
   "execution_count": 18,
   "metadata": {},
   "outputs": [],
   "source": [
    "import pandas as pd"
   ]
  },
  {
   "cell_type": "code",
   "execution_count": 19,
   "metadata": {},
   "outputs": [],
   "source": [
    "trips_hourly = pd.read_pickle('../00_data/trips_hourly.pkl')\n",
    "trips_df = pd.read_pickle('../00_data/trips.pkl')"
   ]
  },
  {
   "cell_type": "markdown",
   "metadata": {},
   "source": [
    "### Create ```available_bikes``` feature\n",
    "We assume that one of the features influencing the demand is the number of bicycles available for rental. If the user opens the app and sees only a few or even no bikes in the stations near them, they will most likely choose an alternative mode of transport.\n",
    "\n",
    "In order to calculate ```available_bikes``` we first have to determine how many bikes there are in the fleet and how many bikes are being currently rented. We will start with the second one, which we defined as the cumulative sum of the difference between started and ended trips. We then use the number of ongoing trips from the previous hour as an input feature."
   ]
  },
  {
   "cell_type": "code",
   "execution_count": 20,
   "metadata": {},
   "outputs": [],
   "source": [
    "trips_hourly['trips_diff'] = trips_hourly['starting_trips'] - trips_hourly['ending_trips']\n",
    "trips_hourly['ongoing_trips'] = trips_hourly['trips_diff'].cumsum()\n",
    "\n",
    "# save values from the previous hour in an additional column\n",
    "trips_hourly['ongoing_trips_prev'] = trips_hourly['ongoing_trips'].shift(1)\n",
    "\n",
    "# keep only the columns of interest; here starting trips represents demand\n",
    "trips_hourly = trips_hourly[['starting_trips', 'ongoing_trips_prev']]"
   ]
  },
  {
   "cell_type": "code",
   "execution_count": 21,
   "metadata": {},
   "outputs": [
    {
     "data": {
      "text/html": [
       "<div>\n",
       "<style scoped>\n",
       "    .dataframe tbody tr th:only-of-type {\n",
       "        vertical-align: middle;\n",
       "    }\n",
       "\n",
       "    .dataframe tbody tr th {\n",
       "        vertical-align: top;\n",
       "    }\n",
       "\n",
       "    .dataframe thead th {\n",
       "        text-align: right;\n",
       "    }\n",
       "</style>\n",
       "<table border=\"1\" class=\"dataframe\">\n",
       "  <thead>\n",
       "    <tr style=\"text-align: right;\">\n",
       "      <th></th>\n",
       "      <th>starting_trips</th>\n",
       "      <th>ongoing_trips_prev</th>\n",
       "    </tr>\n",
       "  </thead>\n",
       "  <tbody>\n",
       "    <tr>\n",
       "      <th>2019-01-01 00:00:00</th>\n",
       "      <td>14.0</td>\n",
       "      <td>NaN</td>\n",
       "    </tr>\n",
       "    <tr>\n",
       "      <th>2019-01-01 01:00:00</th>\n",
       "      <td>8.0</td>\n",
       "      <td>2.0</td>\n",
       "    </tr>\n",
       "    <tr>\n",
       "      <th>2019-01-01 02:00:00</th>\n",
       "      <td>11.0</td>\n",
       "      <td>4.0</td>\n",
       "    </tr>\n",
       "    <tr>\n",
       "      <th>2019-01-01 03:00:00</th>\n",
       "      <td>2.0</td>\n",
       "      <td>3.0</td>\n",
       "    </tr>\n",
       "  </tbody>\n",
       "</table>\n",
       "</div>"
      ],
      "text/plain": [
       "                     starting_trips  ongoing_trips_prev\n",
       "2019-01-01 00:00:00            14.0                 NaN\n",
       "2019-01-01 01:00:00             8.0                 2.0\n",
       "2019-01-01 02:00:00            11.0                 4.0\n",
       "2019-01-01 03:00:00             2.0                 3.0"
      ]
     },
     "execution_count": 21,
     "metadata": {},
     "output_type": "execute_result"
    }
   ],
   "source": [
    "trips_hourly.head(4)"
   ]
  },
  {
   "cell_type": "code",
   "execution_count": 22,
   "metadata": {},
   "outputs": [],
   "source": [
    "# effectively drops first observation as ongoing trips prev cannot be calculated due to the absence of data\n",
    "trips_hourly = trips_hourly.dropna()"
   ]
  },
  {
   "cell_type": "markdown",
   "metadata": {},
   "source": [
    "Next, we aim to determine the number of bicycles in the fleet. The easiest way would be to sum the number of unique bike ids. However, this calculation would most likely overestimate the actual value. We assume that bikes regularly break and have to be repaired, and therefore are unavailable to customers. Also, Metro Bike Share might want to control the fleet size to respond to changes in demand during different seasons. Therefore, we decided to calculate the number of unique bicycle ids for each week. Hereby, we assume that each bicycle, that is not broken and is placed correctly is used at least once a week."
   ]
  },
  {
   "cell_type": "code",
   "execution_count": 23,
   "metadata": {},
   "outputs": [
    {
     "name": "stdout",
     "output_type": "stream",
     "text": [
      "There are in total 3893 unique bike ids in the whole dataset.\n",
      "On average there are 757.3461538461538 bikes available.\n"
     ]
    }
   ],
   "source": [
    "trips_df['week'] = trips_df['start_time'].dt.isocalendar().week\n",
    "\n",
    "bike_ids_week_grouped = (\n",
    "    trips_df.groupby([\"week\"])['bike_id']\n",
    "    .nunique()\n",
    "    .to_frame(\"bike_ids_week\")\n",
    ")\n",
    "print(f\"There are in total {trips_df['bike_id'].nunique()} unique bike ids in the whole dataset.\")\n",
    "print(f\"On average there are {bike_ids_week_grouped['bike_ids_week'].mean()} bikes available.\")"
   ]
  },
  {
   "cell_type": "markdown",
   "metadata": {},
   "source": [
    "As we see, there is a substantial difference between the two numbers. In order to identify which one is more realistic, we will do some further analysis."
   ]
  },
  {
   "cell_type": "code",
   "execution_count": 24,
   "metadata": {},
   "outputs": [
    {
     "data": {
      "text/html": [
       "<div>\n",
       "<style scoped>\n",
       "    .dataframe tbody tr th:only-of-type {\n",
       "        vertical-align: middle;\n",
       "    }\n",
       "\n",
       "    .dataframe tbody tr th {\n",
       "        vertical-align: top;\n",
       "    }\n",
       "\n",
       "    .dataframe thead th {\n",
       "        text-align: right;\n",
       "    }\n",
       "</style>\n",
       "<table border=\"1\" class=\"dataframe\">\n",
       "  <thead>\n",
       "    <tr style=\"text-align: right;\">\n",
       "      <th></th>\n",
       "      <th>first_trip_start_time</th>\n",
       "      <th>last_trip_end_time</th>\n",
       "      <th>number_of_trips</th>\n",
       "    </tr>\n",
       "    <tr>\n",
       "      <th>bike_id</th>\n",
       "      <th></th>\n",
       "      <th></th>\n",
       "      <th></th>\n",
       "    </tr>\n",
       "  </thead>\n",
       "  <tbody>\n",
       "    <tr>\n",
       "      <th>5715</th>\n",
       "      <td>2019-04-17 23:39:00</td>\n",
       "      <td>2019-12-17 21:57:12</td>\n",
       "      <td>68</td>\n",
       "    </tr>\n",
       "    <tr>\n",
       "      <th>5716</th>\n",
       "      <td>2019-04-13 15:58:00</td>\n",
       "      <td>2019-06-07 17:13:00</td>\n",
       "      <td>33</td>\n",
       "    </tr>\n",
       "  </tbody>\n",
       "</table>\n",
       "</div>"
      ],
      "text/plain": [
       "        first_trip_start_time  last_trip_end_time  number_of_trips\n",
       "bike_id                                                           \n",
       "5715      2019-04-17 23:39:00 2019-12-17 21:57:12               68\n",
       "5716      2019-04-13 15:58:00 2019-06-07 17:13:00               33"
      ]
     },
     "execution_count": 24,
     "metadata": {},
     "output_type": "execute_result"
    }
   ],
   "source": [
    "# create dataframe that depicts the first time and the last time each bicycle was used (in our defined timeframe)\n",
    "# and the number of trips made with it\n",
    "bikes_df = trips_df.groupby(\"bike_id\").agg(\n",
    "    {\n",
    "\t\t\"start_time\": \"min\",\n",
    "\t\t\"end_time\": \"max\",\n",
    "\t\t\"bike_id\": \"count\"\n",
    "\t}\n",
    ")\n",
    "bikes_df = bikes_df.rename(columns={\n",
    "    \"start_time\" : \"first_trip_start_time\",\n",
    "    \"end_time\" : \"last_trip_end_time\",\n",
    "    \"bike_id\" : \"number_of_trips\"\n",
    "})\n",
    "bikes_df.head(2)"
   ]
  },
  {
   "cell_type": "code",
   "execution_count": 25,
   "metadata": {},
   "outputs": [
    {
     "data": {
      "text/html": [
       "<div>\n",
       "<style scoped>\n",
       "    .dataframe tbody tr th:only-of-type {\n",
       "        vertical-align: middle;\n",
       "    }\n",
       "\n",
       "    .dataframe tbody tr th {\n",
       "        vertical-align: top;\n",
       "    }\n",
       "\n",
       "    .dataframe thead th {\n",
       "        text-align: right;\n",
       "    }\n",
       "</style>\n",
       "<table border=\"1\" class=\"dataframe\">\n",
       "  <thead>\n",
       "    <tr style=\"text-align: right;\">\n",
       "      <th></th>\n",
       "      <th>start_time</th>\n",
       "      <th>end_time</th>\n",
       "      <th>start_station_id</th>\n",
       "      <th>end_station_id</th>\n",
       "      <th>bike_id</th>\n",
       "      <th>user_type</th>\n",
       "      <th>start_station_name</th>\n",
       "      <th>end_station_name</th>\n",
       "      <th>duration</th>\n",
       "      <th>start_latitude</th>\n",
       "      <th>...</th>\n",
       "      <th>public_transport_poi_start</th>\n",
       "      <th>education_poi_start</th>\n",
       "      <th>arts_and_culture_poi_start</th>\n",
       "      <th>sports_poi_start</th>\n",
       "      <th>sustenance_poi_end</th>\n",
       "      <th>public_transport_poi_end</th>\n",
       "      <th>education_poi_end</th>\n",
       "      <th>arts_and_culture_poi_end</th>\n",
       "      <th>sports_poi_end</th>\n",
       "      <th>week</th>\n",
       "    </tr>\n",
       "  </thead>\n",
       "  <tbody>\n",
       "    <tr>\n",
       "      <th>222737</th>\n",
       "      <td>2019-12-31 20:50:25</td>\n",
       "      <td>2019-12-31 20:58:42</td>\n",
       "      <td>4442</td>\n",
       "      <td>4436</td>\n",
       "      <td>6130</td>\n",
       "      <td>Annual Pass</td>\n",
       "      <td>Normandie &amp; Sunset</td>\n",
       "      <td>Vermont &amp; Franklin</td>\n",
       "      <td>0 days 00:08:17</td>\n",
       "      <td>34.098</td>\n",
       "      <td>...</td>\n",
       "      <td>19</td>\n",
       "      <td>1</td>\n",
       "      <td>1</td>\n",
       "      <td>0</td>\n",
       "      <td>51</td>\n",
       "      <td>15</td>\n",
       "      <td>1</td>\n",
       "      <td>2</td>\n",
       "      <td>0</td>\n",
       "      <td>1</td>\n",
       "    </tr>\n",
       "  </tbody>\n",
       "</table>\n",
       "<p>1 rows × 28 columns</p>\n",
       "</div>"
      ],
      "text/plain": [
       "                start_time            end_time  start_station_id  \\\n",
       "222737 2019-12-31 20:50:25 2019-12-31 20:58:42              4442   \n",
       "\n",
       "        end_station_id bike_id    user_type  start_station_name  \\\n",
       "222737            4436    6130  Annual Pass  Normandie & Sunset   \n",
       "\n",
       "          end_station_name        duration  start_latitude  ...  \\\n",
       "222737  Vermont & Franklin 0 days 00:08:17          34.098  ...   \n",
       "\n",
       "        public_transport_poi_start  education_poi_start  \\\n",
       "222737                          19                    1   \n",
       "\n",
       "        arts_and_culture_poi_start  sports_poi_start  sustenance_poi_end  \\\n",
       "222737                           1                 0                  51   \n",
       "\n",
       "       public_transport_poi_end education_poi_end  arts_and_culture_poi_end  \\\n",
       "222737                       15                 1                         2   \n",
       "\n",
       "        sports_poi_end  week  \n",
       "222737               0     1  \n",
       "\n",
       "[1 rows x 28 columns]"
      ]
     },
     "execution_count": 25,
     "metadata": {},
     "output_type": "execute_result"
    }
   ],
   "source": [
    "# show bike(s) with the latest start time\n",
    "trips_df[(trips_df[\"bike_id\"] == bikes_df[\"first_trip_start_time\"].idxmax())]"
   ]
  },
  {
   "cell_type": "code",
   "execution_count": 26,
   "metadata": {},
   "outputs": [
    {
     "data": {
      "text/html": [
       "<div>\n",
       "<style scoped>\n",
       "    .dataframe tbody tr th:only-of-type {\n",
       "        vertical-align: middle;\n",
       "    }\n",
       "\n",
       "    .dataframe tbody tr th {\n",
       "        vertical-align: top;\n",
       "    }\n",
       "\n",
       "    .dataframe thead th {\n",
       "        text-align: right;\n",
       "    }\n",
       "</style>\n",
       "<table border=\"1\" class=\"dataframe\">\n",
       "  <thead>\n",
       "    <tr style=\"text-align: right;\">\n",
       "      <th></th>\n",
       "      <th>start_time</th>\n",
       "      <th>end_time</th>\n",
       "      <th>start_station_id</th>\n",
       "      <th>end_station_id</th>\n",
       "      <th>bike_id</th>\n",
       "      <th>user_type</th>\n",
       "      <th>start_station_name</th>\n",
       "      <th>end_station_name</th>\n",
       "      <th>duration</th>\n",
       "      <th>start_latitude</th>\n",
       "      <th>...</th>\n",
       "      <th>public_transport_poi_start</th>\n",
       "      <th>education_poi_start</th>\n",
       "      <th>arts_and_culture_poi_start</th>\n",
       "      <th>sports_poi_start</th>\n",
       "      <th>sustenance_poi_end</th>\n",
       "      <th>public_transport_poi_end</th>\n",
       "      <th>education_poi_end</th>\n",
       "      <th>arts_and_culture_poi_end</th>\n",
       "      <th>sports_poi_end</th>\n",
       "      <th>week</th>\n",
       "    </tr>\n",
       "  </thead>\n",
       "  <tbody>\n",
       "    <tr>\n",
       "      <th>218790</th>\n",
       "      <td>2019-01-01 11:07:00</td>\n",
       "      <td>2019-01-01 11:49:00</td>\n",
       "      <td>4210</td>\n",
       "      <td>4210</td>\n",
       "      <td>12043</td>\n",
       "      <td>Walk-up</td>\n",
       "      <td>Ocean Front Walk &amp; North Venice</td>\n",
       "      <td>Ocean Front Walk &amp; North Venice</td>\n",
       "      <td>0 days 00:42:00</td>\n",
       "      <td>33.98434</td>\n",
       "      <td>...</td>\n",
       "      <td>5</td>\n",
       "      <td>0</td>\n",
       "      <td>0</td>\n",
       "      <td>0</td>\n",
       "      <td>13</td>\n",
       "      <td>5</td>\n",
       "      <td>0</td>\n",
       "      <td>0</td>\n",
       "      <td>0</td>\n",
       "      <td>1</td>\n",
       "    </tr>\n",
       "    <tr>\n",
       "      <th>218798</th>\n",
       "      <td>2019-01-01 12:29:00</td>\n",
       "      <td>2019-01-01 12:52:00</td>\n",
       "      <td>4210</td>\n",
       "      <td>4210</td>\n",
       "      <td>12043</td>\n",
       "      <td>Walk-up</td>\n",
       "      <td>Ocean Front Walk &amp; North Venice</td>\n",
       "      <td>Ocean Front Walk &amp; North Venice</td>\n",
       "      <td>0 days 00:23:00</td>\n",
       "      <td>33.98434</td>\n",
       "      <td>...</td>\n",
       "      <td>5</td>\n",
       "      <td>0</td>\n",
       "      <td>0</td>\n",
       "      <td>0</td>\n",
       "      <td>13</td>\n",
       "      <td>5</td>\n",
       "      <td>0</td>\n",
       "      <td>0</td>\n",
       "      <td>0</td>\n",
       "      <td>1</td>\n",
       "    </tr>\n",
       "  </tbody>\n",
       "</table>\n",
       "<p>2 rows × 28 columns</p>\n",
       "</div>"
      ],
      "text/plain": [
       "                start_time            end_time  start_station_id  \\\n",
       "218790 2019-01-01 11:07:00 2019-01-01 11:49:00              4210   \n",
       "218798 2019-01-01 12:29:00 2019-01-01 12:52:00              4210   \n",
       "\n",
       "        end_station_id bike_id user_type               start_station_name  \\\n",
       "218790            4210   12043   Walk-up  Ocean Front Walk & North Venice   \n",
       "218798            4210   12043   Walk-up  Ocean Front Walk & North Venice   \n",
       "\n",
       "                       end_station_name        duration  start_latitude  ...  \\\n",
       "218790  Ocean Front Walk & North Venice 0 days 00:42:00        33.98434  ...   \n",
       "218798  Ocean Front Walk & North Venice 0 days 00:23:00        33.98434  ...   \n",
       "\n",
       "        public_transport_poi_start  education_poi_start  \\\n",
       "218790                           5                    0   \n",
       "218798                           5                    0   \n",
       "\n",
       "        arts_and_culture_poi_start  sports_poi_start  sustenance_poi_end  \\\n",
       "218790                           0                 0                  13   \n",
       "218798                           0                 0                  13   \n",
       "\n",
       "       public_transport_poi_end education_poi_end  arts_and_culture_poi_end  \\\n",
       "218790                        5                 0                         0   \n",
       "218798                        5                 0                         0   \n",
       "\n",
       "        sports_poi_end  week  \n",
       "218790               0     1  \n",
       "218798               0     1  \n",
       "\n",
       "[2 rows x 28 columns]"
      ]
     },
     "execution_count": 26,
     "metadata": {},
     "output_type": "execute_result"
    }
   ],
   "source": [
    "# show bike(s) with the earliest end time\n",
    "trips_df[(trips_df[\"bike_id\"] == bikes_df[\"last_trip_end_time\"].idxmin())]"
   ]
  },
  {
   "cell_type": "markdown",
   "metadata": {},
   "source": [
    "There is a bike that was used on 31.12.2019 (the last day of our timeframe) for the first time and two bikes that were used on 01.01.2019 (the first day of our timeframe) for the last time. Clearly, none of these three bikes were available throughout the whole year. This proves that considering some sort of average is more accurate than a bold sum of all unique bike ids.\n",
    "\n",
    "We already have the time when each bicycle was used for the first and last time. Now we will aggregate the dataframe by these hours and calculate how many bicycle were used after and before certain hours. Afterwards, we will calculate the cumulative sum of the difference between ```bikes_used_after``` and ```bikes_used_before``` for each hour. Thus, we receive the new column ```in_service_bikes```."
   ]
  },
  {
   "cell_type": "code",
   "execution_count": 27,
   "metadata": {},
   "outputs": [],
   "source": [
    "bikes_df[\"start_time_floored\"] = bikes_df[\"first_trip_start_time\"].dt.floor(\"1H\")\n",
    "bikes_df[\"end_time_floored\"] = bikes_df[\"last_trip_end_time\"].dt.floor(\"1H\") + pd.DateOffset(hours=1)\n",
    "\n",
    "bikes_used_after = (\n",
    "    bikes_df.groupby(\"start_time_floored\").size().to_frame(\"bikes_used_after\")\n",
    ")\n",
    "bikes_used_before = (\n",
    "    bikes_df.groupby(\"end_time_floored\").size().to_frame(\"bikes_used_before\")\n",
    ")\n",
    "\n",
    "bikes_used = pd.concat([bikes_used_before, bikes_used_after], axis=1)\n",
    "bikes_used = bikes_used.fillna(0)\n",
    "bikes_used['diff'] = bikes_used['bikes_used_after'] - bikes_used['bikes_used_before'] \n",
    "bikes_used['in_service_bikes'] = bikes_used['diff'].cumsum()\n"
   ]
  },
  {
   "cell_type": "code",
   "execution_count": 28,
   "metadata": {},
   "outputs": [
    {
     "data": {
      "text/plain": [
       "Text(0, 0.5, 'Number of bikes in service')"
      ]
     },
     "execution_count": 28,
     "metadata": {},
     "output_type": "execute_result"
    },
    {
     "data": {
      "image/png": "[encoded data removed]",
      "text/plain": [
       "<Figure size 864x432 with 1 Axes>"
      ]
     },
     "metadata": {
      "needs_background": "light"
     },
     "output_type": "display_data"
    }
   ],
   "source": [
    "fig, ax = plt.subplots(figsize=(12, 6))\n",
    "# plot 'in_service_bikes' over time\n",
    "bikes_used = bikes_used.reset_index().rename(columns={\"index\": \"start_time_floored\"})\n",
    "bikes_used.plot.scatter(x=\"start_time_floored\", y=\"in_service_bikes\", ax=ax)\n",
    "\n",
    "ax.set_xlabel('Date')\n",
    "ax.set_ylabel('Number of bikes in service')\n"
   ]
  },
  {
   "cell_type": "code",
   "execution_count": 29,
   "metadata": {},
   "outputs": [],
   "source": [
    "# to smooth out the edges, especially at the beginning and the end of the dataset, we introduce in_service_bikes_rolling\n",
    "# rolling function provides us with a maximum value of 'in_service_bikes' column during a 30 days window\n",
    "bikes_used[\"in_service_bikes_rolling\"] = bikes_used.rolling(\n",
    "    \"30d\", center=True, on=\"start_time_floored\"\n",
    ")[\"in_service_bikes\"].max()\n"
   ]
  },
  {
   "cell_type": "code",
   "execution_count": 30,
   "metadata": {},
   "outputs": [
    {
     "data": {
      "image/png": "[encoded data removed]",
      "text/plain": [
       "<Figure size 864x432 with 1 Axes>"
      ]
     },
     "metadata": {
      "needs_background": "light"
     },
     "output_type": "display_data"
    }
   ],
   "source": [
    "# plot 'in_service_bikes_rolling' over time with matplotlib\n",
    "fig, ax = plt.subplots(figsize=(12, 6))\n",
    "bikes_used.plot.scatter(x=\"start_time_floored\", y=\"in_service_bikes_rolling\", ax=ax)\n",
    "\n",
    "ax.set_xlabel('Date')\n",
    "ax.set_ylabel('Number of bikes in service (maximum over 30 days)')\n",
    "\n",
    "fig.savefig('../figures/bikes_in_service_rolling.png')"
   ]
  },
  {
   "cell_type": "code",
   "execution_count": 31,
   "metadata": {},
   "outputs": [],
   "source": [
    "bikes_used = bikes_used.set_index(\"start_time_floored\")"
   ]
  },
  {
   "cell_type": "code",
   "execution_count": 32,
   "metadata": {},
   "outputs": [
    {
     "data": {
      "text/html": [
       "<div>\n",
       "<style scoped>\n",
       "    .dataframe tbody tr th:only-of-type {\n",
       "        vertical-align: middle;\n",
       "    }\n",
       "\n",
       "    .dataframe tbody tr th {\n",
       "        vertical-align: top;\n",
       "    }\n",
       "\n",
       "    .dataframe thead th {\n",
       "        text-align: right;\n",
       "    }\n",
       "</style>\n",
       "<table border=\"1\" class=\"dataframe\">\n",
       "  <thead>\n",
       "    <tr style=\"text-align: right;\">\n",
       "      <th></th>\n",
       "      <th>starting_trips</th>\n",
       "      <th>ongoing_trips_prev</th>\n",
       "      <th>in_service_bikes_rolling</th>\n",
       "    </tr>\n",
       "  </thead>\n",
       "  <tbody>\n",
       "    <tr>\n",
       "      <th>2019-01-01 01:00:00</th>\n",
       "      <td>8.0</td>\n",
       "      <td>2.0</td>\n",
       "      <td>873.0</td>\n",
       "    </tr>\n",
       "    <tr>\n",
       "      <th>2019-01-01 02:00:00</th>\n",
       "      <td>11.0</td>\n",
       "      <td>4.0</td>\n",
       "      <td>873.0</td>\n",
       "    </tr>\n",
       "  </tbody>\n",
       "</table>\n",
       "</div>"
      ],
      "text/plain": [
       "                     starting_trips  ongoing_trips_prev  \\\n",
       "2019-01-01 01:00:00             8.0                 2.0   \n",
       "2019-01-01 02:00:00            11.0                 4.0   \n",
       "\n",
       "                     in_service_bikes_rolling  \n",
       "2019-01-01 01:00:00                     873.0  \n",
       "2019-01-01 02:00:00                     873.0  "
      ]
     },
     "execution_count": 32,
     "metadata": {},
     "output_type": "execute_result"
    }
   ],
   "source": [
    "# fill null values\n",
    "trips_hourly['in_service_bikes_rolling'] = bikes_used['in_service_bikes_rolling'].asfreq('1H', method=\"bfill\")\n",
    "trips_hourly.head(2)"
   ]
  },
  {
   "cell_type": "code",
   "execution_count": 33,
   "metadata": {},
   "outputs": [
    {
     "data": {
      "text/html": [
       "<div>\n",
       "<style scoped>\n",
       "    .dataframe tbody tr th:only-of-type {\n",
       "        vertical-align: middle;\n",
       "    }\n",
       "\n",
       "    .dataframe tbody tr th {\n",
       "        vertical-align: top;\n",
       "    }\n",
       "\n",
       "    .dataframe thead th {\n",
       "        text-align: right;\n",
       "    }\n",
       "</style>\n",
       "<table border=\"1\" class=\"dataframe\">\n",
       "  <thead>\n",
       "    <tr style=\"text-align: right;\">\n",
       "      <th></th>\n",
       "      <th>starting_trips</th>\n",
       "      <th>ongoing_trips_prev</th>\n",
       "      <th>in_service_bikes_rolling</th>\n",
       "      <th>available_bikes</th>\n",
       "    </tr>\n",
       "  </thead>\n",
       "  <tbody>\n",
       "    <tr>\n",
       "      <th>2019-01-01 01:00:00</th>\n",
       "      <td>8.0</td>\n",
       "      <td>2.0</td>\n",
       "      <td>873.0</td>\n",
       "      <td>871.0</td>\n",
       "    </tr>\n",
       "    <tr>\n",
       "      <th>2019-01-01 02:00:00</th>\n",
       "      <td>11.0</td>\n",
       "      <td>4.0</td>\n",
       "      <td>873.0</td>\n",
       "      <td>869.0</td>\n",
       "    </tr>\n",
       "  </tbody>\n",
       "</table>\n",
       "</div>"
      ],
      "text/plain": [
       "                     starting_trips  ongoing_trips_prev  \\\n",
       "2019-01-01 01:00:00             8.0                 2.0   \n",
       "2019-01-01 02:00:00            11.0                 4.0   \n",
       "\n",
       "                     in_service_bikes_rolling  available_bikes  \n",
       "2019-01-01 01:00:00                     873.0            871.0  \n",
       "2019-01-01 02:00:00                     873.0            869.0  "
      ]
     },
     "execution_count": 33,
     "metadata": {},
     "output_type": "execute_result"
    }
   ],
   "source": [
    "# compute the 'available_bikes'\n",
    "trips_hourly[\"available_bikes\"] = (\n",
    "    trips_hourly[\"in_service_bikes_rolling\"] - trips_hourly[\"ongoing_trips_prev\"]\n",
    ")\n",
    "trips_hourly.head(2)"
   ]
  },
  {
   "cell_type": "code",
   "execution_count": 34,
   "metadata": {},
   "outputs": [
    {
     "data": {
      "text/html": [
       "<div>\n",
       "<style scoped>\n",
       "    .dataframe tbody tr th:only-of-type {\n",
       "        vertical-align: middle;\n",
       "    }\n",
       "\n",
       "    .dataframe tbody tr th {\n",
       "        vertical-align: top;\n",
       "    }\n",
       "\n",
       "    .dataframe thead th {\n",
       "        text-align: right;\n",
       "    }\n",
       "</style>\n",
       "<table border=\"1\" class=\"dataframe\">\n",
       "  <thead>\n",
       "    <tr style=\"text-align: right;\">\n",
       "      <th></th>\n",
       "      <th>starting_trips</th>\n",
       "      <th>ongoing_trips_prev</th>\n",
       "      <th>in_service_bikes_rolling</th>\n",
       "      <th>available_bikes</th>\n",
       "    </tr>\n",
       "  </thead>\n",
       "  <tbody>\n",
       "    <tr>\n",
       "      <th>count</th>\n",
       "      <td>8423.000000</td>\n",
       "      <td>8423.000000</td>\n",
       "      <td>8423.000000</td>\n",
       "      <td>8423.000000</td>\n",
       "    </tr>\n",
       "    <tr>\n",
       "      <th>mean</th>\n",
       "      <td>26.787012</td>\n",
       "      <td>10.834145</td>\n",
       "      <td>1273.804464</td>\n",
       "      <td>1262.970319</td>\n",
       "    </tr>\n",
       "    <tr>\n",
       "      <th>std</th>\n",
       "      <td>21.222319</td>\n",
       "      <td>10.956030</td>\n",
       "      <td>341.333060</td>\n",
       "      <td>340.324112</td>\n",
       "    </tr>\n",
       "    <tr>\n",
       "      <th>min</th>\n",
       "      <td>0.000000</td>\n",
       "      <td>0.000000</td>\n",
       "      <td>873.000000</td>\n",
       "      <td>825.000000</td>\n",
       "    </tr>\n",
       "    <tr>\n",
       "      <th>25%</th>\n",
       "      <td>7.000000</td>\n",
       "      <td>5.000000</td>\n",
       "      <td>993.000000</td>\n",
       "      <td>988.000000</td>\n",
       "    </tr>\n",
       "    <tr>\n",
       "      <th>50%</th>\n",
       "      <td>25.000000</td>\n",
       "      <td>9.000000</td>\n",
       "      <td>1160.000000</td>\n",
       "      <td>1151.000000</td>\n",
       "    </tr>\n",
       "    <tr>\n",
       "      <th>75%</th>\n",
       "      <td>41.000000</td>\n",
       "      <td>14.000000</td>\n",
       "      <td>1451.000000</td>\n",
       "      <td>1443.500000</td>\n",
       "    </tr>\n",
       "    <tr>\n",
       "      <th>max</th>\n",
       "      <td>281.000000</td>\n",
       "      <td>364.000000</td>\n",
       "      <td>1905.000000</td>\n",
       "      <td>1904.000000</td>\n",
       "    </tr>\n",
       "  </tbody>\n",
       "</table>\n",
       "</div>"
      ],
      "text/plain": [
       "       starting_trips  ongoing_trips_prev  in_service_bikes_rolling  \\\n",
       "count     8423.000000         8423.000000               8423.000000   \n",
       "mean        26.787012           10.834145               1273.804464   \n",
       "std         21.222319           10.956030                341.333060   \n",
       "min          0.000000            0.000000                873.000000   \n",
       "25%          7.000000            5.000000                993.000000   \n",
       "50%         25.000000            9.000000               1160.000000   \n",
       "75%         41.000000           14.000000               1451.000000   \n",
       "max        281.000000          364.000000               1905.000000   \n",
       "\n",
       "       available_bikes  \n",
       "count      8423.000000  \n",
       "mean       1262.970319  \n",
       "std         340.324112  \n",
       "min         825.000000  \n",
       "25%         988.000000  \n",
       "50%        1151.000000  \n",
       "75%        1443.500000  \n",
       "max        1904.000000  "
      ]
     },
     "execution_count": 34,
     "metadata": {},
     "output_type": "execute_result"
    }
   ],
   "source": [
    "trips_hourly.describe()"
   ]
  },
  {
   "cell_type": "markdown",
   "metadata": {},
   "source": [
    "### Add weather features\n",
    "Copy precipitation, min and max temperature values from weather dataset."
   ]
  },
  {
   "cell_type": "code",
   "execution_count": 35,
   "metadata": {},
   "outputs": [],
   "source": [
    "weather_df = pd.read_pickle('../00_data/weather.pkl')"
   ]
  },
  {
   "cell_type": "code",
   "execution_count": 36,
   "metadata": {},
   "outputs": [],
   "source": [
    "trips_hourly['max_temp'] = weather_df['max_temp']\n",
    "trips_hourly['min_temp'] = weather_df['min_temp']\n",
    "trips_hourly['precip'] = weather_df['precip']"
   ]
  },
  {
   "cell_type": "code",
   "execution_count": 37,
   "metadata": {},
   "outputs": [
    {
     "data": {
      "text/html": [
       "<div>\n",
       "<style scoped>\n",
       "    .dataframe tbody tr th:only-of-type {\n",
       "        vertical-align: middle;\n",
       "    }\n",
       "\n",
       "    .dataframe tbody tr th {\n",
       "        vertical-align: top;\n",
       "    }\n",
       "\n",
       "    .dataframe thead th {\n",
       "        text-align: right;\n",
       "    }\n",
       "</style>\n",
       "<table border=\"1\" class=\"dataframe\">\n",
       "  <thead>\n",
       "    <tr style=\"text-align: right;\">\n",
       "      <th></th>\n",
       "      <th>starting_trips</th>\n",
       "      <th>ongoing_trips_prev</th>\n",
       "      <th>in_service_bikes_rolling</th>\n",
       "      <th>available_bikes</th>\n",
       "      <th>max_temp</th>\n",
       "      <th>min_temp</th>\n",
       "      <th>precip</th>\n",
       "    </tr>\n",
       "  </thead>\n",
       "  <tbody>\n",
       "    <tr>\n",
       "      <th>2019-01-01 01:00:00</th>\n",
       "      <td>8.0</td>\n",
       "      <td>2.0</td>\n",
       "      <td>873.0</td>\n",
       "      <td>871.0</td>\n",
       "      <td>15.6</td>\n",
       "      <td>15.6</td>\n",
       "      <td>0.0</td>\n",
       "    </tr>\n",
       "    <tr>\n",
       "      <th>2019-01-01 02:00:00</th>\n",
       "      <td>11.0</td>\n",
       "      <td>4.0</td>\n",
       "      <td>873.0</td>\n",
       "      <td>869.0</td>\n",
       "      <td>15.0</td>\n",
       "      <td>15.0</td>\n",
       "      <td>0.0</td>\n",
       "    </tr>\n",
       "  </tbody>\n",
       "</table>\n",
       "</div>"
      ],
      "text/plain": [
       "                     starting_trips  ongoing_trips_prev  \\\n",
       "2019-01-01 01:00:00             8.0                 2.0   \n",
       "2019-01-01 02:00:00            11.0                 4.0   \n",
       "\n",
       "                     in_service_bikes_rolling  available_bikes  max_temp  \\\n",
       "2019-01-01 01:00:00                     873.0            871.0      15.6   \n",
       "2019-01-01 02:00:00                     873.0            869.0      15.0   \n",
       "\n",
       "                     min_temp  precip  \n",
       "2019-01-01 01:00:00      15.6     0.0  \n",
       "2019-01-01 02:00:00      15.0     0.0  "
      ]
     },
     "execution_count": 37,
     "metadata": {},
     "output_type": "execute_result"
    }
   ],
   "source": [
    "trips_hourly.head(2)"
   ]
  },
  {
   "cell_type": "code",
   "execution_count": 38,
   "metadata": {},
   "outputs": [],
   "source": [
    "trips_hourly = trips_hourly.dropna()"
   ]
  },
  {
   "cell_type": "markdown",
   "metadata": {},
   "source": [
    "### Create time related features"
   ]
  },
  {
   "cell_type": "code",
   "execution_count": 39,
   "metadata": {},
   "outputs": [],
   "source": [
    "trips_hourly['hour'] = trips_hourly.index.hour\n",
    "trips_hourly['day_of_week'] = trips_hourly.index.day_of_week\n",
    "trips_hourly['month'] = trips_hourly.index.month\n",
    "trips_hourly['day_of_year'] = trips_hourly.index.day_of_year\n",
    "trips_hourly['week'] = trips_hourly.index.isocalendar().week.astype('int64')\n",
    "trips_hourly['is_weekday'] = trips_hourly['day_of_week'] < 5\n",
    "trips_hourly['date'] = trips_hourly.index.date.astype('datetime64[ns]')"
   ]
  },
  {
   "cell_type": "code",
   "execution_count": 40,
   "metadata": {},
   "outputs": [
    {
     "data": {
      "text/html": [
       "<div>\n",
       "<style scoped>\n",
       "    .dataframe tbody tr th:only-of-type {\n",
       "        vertical-align: middle;\n",
       "    }\n",
       "\n",
       "    .dataframe tbody tr th {\n",
       "        vertical-align: top;\n",
       "    }\n",
       "\n",
       "    .dataframe thead th {\n",
       "        text-align: right;\n",
       "    }\n",
       "</style>\n",
       "<table border=\"1\" class=\"dataframe\">\n",
       "  <thead>\n",
       "    <tr style=\"text-align: right;\">\n",
       "      <th></th>\n",
       "      <th>starting_trips</th>\n",
       "      <th>ongoing_trips_prev</th>\n",
       "      <th>in_service_bikes_rolling</th>\n",
       "      <th>available_bikes</th>\n",
       "      <th>max_temp</th>\n",
       "      <th>min_temp</th>\n",
       "      <th>precip</th>\n",
       "      <th>hour</th>\n",
       "      <th>day_of_week</th>\n",
       "      <th>month</th>\n",
       "      <th>day_of_year</th>\n",
       "      <th>week</th>\n",
       "      <th>is_weekday</th>\n",
       "      <th>date</th>\n",
       "    </tr>\n",
       "  </thead>\n",
       "  <tbody>\n",
       "    <tr>\n",
       "      <th>2019-01-01 01:00:00</th>\n",
       "      <td>8.0</td>\n",
       "      <td>2.0</td>\n",
       "      <td>873.0</td>\n",
       "      <td>871.0</td>\n",
       "      <td>15.6</td>\n",
       "      <td>15.6</td>\n",
       "      <td>0.0</td>\n",
       "      <td>1</td>\n",
       "      <td>1</td>\n",
       "      <td>1</td>\n",
       "      <td>1</td>\n",
       "      <td>1</td>\n",
       "      <td>True</td>\n",
       "      <td>2019-01-01</td>\n",
       "    </tr>\n",
       "    <tr>\n",
       "      <th>2019-01-01 02:00:00</th>\n",
       "      <td>11.0</td>\n",
       "      <td>4.0</td>\n",
       "      <td>873.0</td>\n",
       "      <td>869.0</td>\n",
       "      <td>15.0</td>\n",
       "      <td>15.0</td>\n",
       "      <td>0.0</td>\n",
       "      <td>2</td>\n",
       "      <td>1</td>\n",
       "      <td>1</td>\n",
       "      <td>1</td>\n",
       "      <td>1</td>\n",
       "      <td>True</td>\n",
       "      <td>2019-01-01</td>\n",
       "    </tr>\n",
       "  </tbody>\n",
       "</table>\n",
       "</div>"
      ],
      "text/plain": [
       "                     starting_trips  ongoing_trips_prev  \\\n",
       "2019-01-01 01:00:00             8.0                 2.0   \n",
       "2019-01-01 02:00:00            11.0                 4.0   \n",
       "\n",
       "                     in_service_bikes_rolling  available_bikes  max_temp  \\\n",
       "2019-01-01 01:00:00                     873.0            871.0      15.6   \n",
       "2019-01-01 02:00:00                     873.0            869.0      15.0   \n",
       "\n",
       "                     min_temp  precip  hour  day_of_week  month  day_of_year  \\\n",
       "2019-01-01 01:00:00      15.6     0.0     1            1      1            1   \n",
       "2019-01-01 02:00:00      15.0     0.0     2            1      1            1   \n",
       "\n",
       "                     week  is_weekday       date  \n",
       "2019-01-01 01:00:00     1        True 2019-01-01  \n",
       "2019-01-01 02:00:00     1        True 2019-01-01  "
      ]
     },
     "execution_count": 40,
     "metadata": {},
     "output_type": "execute_result"
    }
   ],
   "source": [
    "trips_hourly.head(2)"
   ]
  },
  {
   "cell_type": "markdown",
   "metadata": {},
   "source": [
    "### Create is holiday feature\n",
    "We create a feature 'is_holiday', which is true when there is an entry on the same day in the holidays' dataset, and false otherwise."
   ]
  },
  {
   "cell_type": "code",
   "execution_count": 41,
   "metadata": {},
   "outputs": [],
   "source": [
    "holidays_df = pd.read_pickle('../00_data/holidays.pkl')"
   ]
  },
  {
   "cell_type": "code",
   "execution_count": 42,
   "metadata": {},
   "outputs": [],
   "source": [
    "trips_hourly = trips_hourly.reset_index().merge(holidays_df, on='date', how='left').set_index('index')"
   ]
  },
  {
   "cell_type": "code",
   "execution_count": 43,
   "metadata": {},
   "outputs": [
    {
     "data": {
      "text/plain": [
       "Index(['starting_trips', 'ongoing_trips_prev', 'in_service_bikes_rolling',\n",
       "       'available_bikes', 'max_temp', 'min_temp', 'precip', 'hour',\n",
       "       'day_of_week', 'month', 'day_of_year', 'week', 'is_weekday',\n",
       "       'is_holiday'],\n",
       "      dtype='object')"
      ]
     },
     "execution_count": 43,
     "metadata": {},
     "output_type": "execute_result"
    }
   ],
   "source": [
    "trips_hourly['is_holiday'] = trips_hourly['holiday_name'].notna()\n",
    "trips_hourly = trips_hourly.drop(columns=['holiday_name', 'date'])\n",
    "trips_hourly.columns"
   ]
  },
  {
   "cell_type": "code",
   "execution_count": 44,
   "metadata": {},
   "outputs": [],
   "source": [
    "trips_hourly.to_pickle('../00_data/trips_hourly_engineered.pkl')"
   ]
  },
  {
   "cell_type": "markdown",
   "metadata": {},
   "source": [
    "## Feature Selection\n",
    "Now we will filter previously prepared features. This will be done, firstly, based on the correlation of independent features and secondly, based on the results of Lasso Regression."
   ]
  },
  {
   "cell_type": "code",
   "execution_count": 45,
   "metadata": {},
   "outputs": [],
   "source": [
    "import pandas as pd\n",
    "import numpy as np\n",
    "from sklearn.preprocessing import StandardScaler\n",
    "from sklearn.linear_model import Lasso"
   ]
  },
  {
   "cell_type": "code",
   "execution_count": 46,
   "metadata": {},
   "outputs": [
    {
     "data": {
      "text/plain": [
       "Index(['starting_trips', 'ongoing_trips_prev', 'in_service_bikes_rolling',\n",
       "       'available_bikes', 'max_temp', 'min_temp', 'precip', 'hour',\n",
       "       'day_of_week', 'month', 'day_of_year', 'week', 'is_weekday',\n",
       "       'is_holiday'],\n",
       "      dtype='object')"
      ]
     },
     "execution_count": 46,
     "metadata": {},
     "output_type": "execute_result"
    }
   ],
   "source": [
    "trips_hourly_df = pd.read_pickle(\"../00_data/trips_hourly_engineered.pkl\")\n",
    "trips_hourly_df.columns"
   ]
  },
  {
   "cell_type": "markdown",
   "metadata": {},
   "source": [
    "### Feature Correlation\n",
    "We will now compute the correlation coefficient of each pair of features. Then we will retain only one of two features if their correlation coefficient is above 0.7 (or 70%). This is done because with highly correlated features one can be predicted from another. The second feature does not add any additional information to the model this way."
   ]
  },
  {
   "cell_type": "code",
   "execution_count": 47,
   "metadata": {},
   "outputs": [
    {
     "data": {
      "text/html": [
       "<div>\n",
       "<style scoped>\n",
       "    .dataframe tbody tr th:only-of-type {\n",
       "        vertical-align: middle;\n",
       "    }\n",
       "\n",
       "    .dataframe tbody tr th {\n",
       "        vertical-align: top;\n",
       "    }\n",
       "\n",
       "    .dataframe thead th {\n",
       "        text-align: right;\n",
       "    }\n",
       "</style>\n",
       "<table border=\"1\" class=\"dataframe\">\n",
       "  <thead>\n",
       "    <tr style=\"text-align: right;\">\n",
       "      <th></th>\n",
       "      <th>starting_trips</th>\n",
       "      <th>ongoing_trips_prev</th>\n",
       "      <th>in_service_bikes_rolling</th>\n",
       "      <th>available_bikes</th>\n",
       "      <th>max_temp</th>\n",
       "      <th>min_temp</th>\n",
       "      <th>precip</th>\n",
       "      <th>hour</th>\n",
       "      <th>day_of_week</th>\n",
       "      <th>month</th>\n",
       "      <th>day_of_year</th>\n",
       "      <th>week</th>\n",
       "      <th>is_weekday</th>\n",
       "      <th>is_holiday</th>\n",
       "    </tr>\n",
       "  </thead>\n",
       "  <tbody>\n",
       "    <tr>\n",
       "      <th>starting_trips</th>\n",
       "      <td>1.000000</td>\n",
       "      <td>0.569527</td>\n",
       "      <td>0.141622</td>\n",
       "      <td>0.123436</td>\n",
       "      <td>0.035981</td>\n",
       "      <td>0.033918</td>\n",
       "      <td>-0.057172</td>\n",
       "      <td>0.390460</td>\n",
       "      <td>-0.126312</td>\n",
       "      <td>0.124065</td>\n",
       "      <td>0.125217</td>\n",
       "      <td>0.126346</td>\n",
       "      <td>0.174406</td>\n",
       "      <td>-0.063861</td>\n",
       "    </tr>\n",
       "    <tr>\n",
       "      <th>ongoing_trips_prev</th>\n",
       "      <td>0.569527</td>\n",
       "      <td>1.000000</td>\n",
       "      <td>0.100954</td>\n",
       "      <td>0.068613</td>\n",
       "      <td>0.039249</td>\n",
       "      <td>0.038683</td>\n",
       "      <td>-0.048383</td>\n",
       "      <td>0.265459</td>\n",
       "      <td>0.075420</td>\n",
       "      <td>0.004065</td>\n",
       "      <td>0.002999</td>\n",
       "      <td>0.003419</td>\n",
       "      <td>-0.067057</td>\n",
       "      <td>-0.024483</td>\n",
       "    </tr>\n",
       "    <tr>\n",
       "      <th>in_service_bikes_rolling</th>\n",
       "      <td>0.141622</td>\n",
       "      <td>0.100954</td>\n",
       "      <td>1.000000</td>\n",
       "      <td>0.999473</td>\n",
       "      <td>0.586802</td>\n",
       "      <td>0.585854</td>\n",
       "      <td>-0.109778</td>\n",
       "      <td>-0.010288</td>\n",
       "      <td>0.004747</td>\n",
       "      <td>0.359183</td>\n",
       "      <td>0.356008</td>\n",
       "      <td>0.377125</td>\n",
       "      <td>-0.002675</td>\n",
       "      <td>-0.063135</td>\n",
       "    </tr>\n",
       "    <tr>\n",
       "      <th>available_bikes</th>\n",
       "      <td>0.123436</td>\n",
       "      <td>0.068613</td>\n",
       "      <td>0.999473</td>\n",
       "      <td>1.000000</td>\n",
       "      <td>0.587145</td>\n",
       "      <td>0.586213</td>\n",
       "      <td>-0.108504</td>\n",
       "      <td>-0.018975</td>\n",
       "      <td>0.002300</td>\n",
       "      <td>0.360044</td>\n",
       "      <td>0.356895</td>\n",
       "      <td>0.378057</td>\n",
       "      <td>-0.000495</td>\n",
       "      <td>-0.062511</td>\n",
       "    </tr>\n",
       "    <tr>\n",
       "      <th>max_temp</th>\n",
       "      <td>0.035981</td>\n",
       "      <td>0.039249</td>\n",
       "      <td>0.586802</td>\n",
       "      <td>0.587145</td>\n",
       "      <td>1.000000</td>\n",
       "      <td>0.999440</td>\n",
       "      <td>-0.146816</td>\n",
       "      <td>0.179775</td>\n",
       "      <td>0.017991</td>\n",
       "      <td>0.400793</td>\n",
       "      <td>0.401090</td>\n",
       "      <td>0.412108</td>\n",
       "      <td>-0.027452</td>\n",
       "      <td>-0.049952</td>\n",
       "    </tr>\n",
       "    <tr>\n",
       "      <th>min_temp</th>\n",
       "      <td>0.033918</td>\n",
       "      <td>0.038683</td>\n",
       "      <td>0.585854</td>\n",
       "      <td>0.586213</td>\n",
       "      <td>0.999440</td>\n",
       "      <td>1.000000</td>\n",
       "      <td>-0.150187</td>\n",
       "      <td>0.178030</td>\n",
       "      <td>0.019351</td>\n",
       "      <td>0.400901</td>\n",
       "      <td>0.401268</td>\n",
       "      <td>0.412107</td>\n",
       "      <td>-0.029415</td>\n",
       "      <td>-0.049908</td>\n",
       "    </tr>\n",
       "    <tr>\n",
       "      <th>precip</th>\n",
       "      <td>-0.057172</td>\n",
       "      <td>-0.048383</td>\n",
       "      <td>-0.109778</td>\n",
       "      <td>-0.108504</td>\n",
       "      <td>-0.146816</td>\n",
       "      <td>-0.150187</td>\n",
       "      <td>1.000000</td>\n",
       "      <td>0.024321</td>\n",
       "      <td>-0.015739</td>\n",
       "      <td>-0.098087</td>\n",
       "      <td>-0.100351</td>\n",
       "      <td>-0.096719</td>\n",
       "      <td>0.009660</td>\n",
       "      <td>0.071312</td>\n",
       "    </tr>\n",
       "    <tr>\n",
       "      <th>hour</th>\n",
       "      <td>0.390460</td>\n",
       "      <td>0.265459</td>\n",
       "      <td>-0.010288</td>\n",
       "      <td>-0.018975</td>\n",
       "      <td>0.179775</td>\n",
       "      <td>0.178030</td>\n",
       "      <td>0.024321</td>\n",
       "      <td>1.000000</td>\n",
       "      <td>-0.007612</td>\n",
       "      <td>-0.006197</td>\n",
       "      <td>-0.006243</td>\n",
       "      <td>-0.005902</td>\n",
       "      <td>0.005013</td>\n",
       "      <td>0.002796</td>\n",
       "    </tr>\n",
       "    <tr>\n",
       "      <th>day_of_week</th>\n",
       "      <td>-0.126312</td>\n",
       "      <td>0.075420</td>\n",
       "      <td>0.004747</td>\n",
       "      <td>0.002300</td>\n",
       "      <td>0.017991</td>\n",
       "      <td>0.019351</td>\n",
       "      <td>-0.015739</td>\n",
       "      <td>-0.007612</td>\n",
       "      <td>1.000000</td>\n",
       "      <td>-0.001364</td>\n",
       "      <td>-0.000885</td>\n",
       "      <td>0.005483</td>\n",
       "      <td>-0.791667</td>\n",
       "      <td>-0.091905</td>\n",
       "    </tr>\n",
       "    <tr>\n",
       "      <th>month</th>\n",
       "      <td>0.124065</td>\n",
       "      <td>0.004065</td>\n",
       "      <td>0.359183</td>\n",
       "      <td>0.360044</td>\n",
       "      <td>0.400793</td>\n",
       "      <td>0.400901</td>\n",
       "      <td>-0.098087</td>\n",
       "      <td>-0.006197</td>\n",
       "      <td>-0.001364</td>\n",
       "      <td>1.000000</td>\n",
       "      <td>0.996513</td>\n",
       "      <td>0.964648</td>\n",
       "      <td>-0.007627</td>\n",
       "      <td>0.014925</td>\n",
       "    </tr>\n",
       "    <tr>\n",
       "      <th>day_of_year</th>\n",
       "      <td>0.125217</td>\n",
       "      <td>0.002999</td>\n",
       "      <td>0.356008</td>\n",
       "      <td>0.356895</td>\n",
       "      <td>0.401090</td>\n",
       "      <td>0.401268</td>\n",
       "      <td>-0.100351</td>\n",
       "      <td>-0.006243</td>\n",
       "      <td>-0.000885</td>\n",
       "      <td>0.996513</td>\n",
       "      <td>1.000000</td>\n",
       "      <td>0.965362</td>\n",
       "      <td>-0.008653</td>\n",
       "      <td>0.015211</td>\n",
       "    </tr>\n",
       "    <tr>\n",
       "      <th>week</th>\n",
       "      <td>0.126346</td>\n",
       "      <td>0.003419</td>\n",
       "      <td>0.377125</td>\n",
       "      <td>0.378057</td>\n",
       "      <td>0.412108</td>\n",
       "      <td>0.412107</td>\n",
       "      <td>-0.096719</td>\n",
       "      <td>-0.005902</td>\n",
       "      <td>0.005483</td>\n",
       "      <td>0.964648</td>\n",
       "      <td>0.965362</td>\n",
       "      <td>1.000000</td>\n",
       "      <td>-0.006604</td>\n",
       "      <td>-0.024259</td>\n",
       "    </tr>\n",
       "    <tr>\n",
       "      <th>is_weekday</th>\n",
       "      <td>0.174406</td>\n",
       "      <td>-0.067057</td>\n",
       "      <td>-0.002675</td>\n",
       "      <td>-0.000495</td>\n",
       "      <td>-0.027452</td>\n",
       "      <td>-0.029415</td>\n",
       "      <td>0.009660</td>\n",
       "      <td>0.005013</td>\n",
       "      <td>-0.791667</td>\n",
       "      <td>-0.007627</td>\n",
       "      <td>-0.008653</td>\n",
       "      <td>-0.006604</td>\n",
       "      <td>1.000000</td>\n",
       "      <td>0.022742</td>\n",
       "    </tr>\n",
       "    <tr>\n",
       "      <th>is_holiday</th>\n",
       "      <td>-0.063861</td>\n",
       "      <td>-0.024483</td>\n",
       "      <td>-0.063135</td>\n",
       "      <td>-0.062511</td>\n",
       "      <td>-0.049952</td>\n",
       "      <td>-0.049908</td>\n",
       "      <td>0.071312</td>\n",
       "      <td>0.002796</td>\n",
       "      <td>-0.091905</td>\n",
       "      <td>0.014925</td>\n",
       "      <td>0.015211</td>\n",
       "      <td>-0.024259</td>\n",
       "      <td>0.022742</td>\n",
       "      <td>1.000000</td>\n",
       "    </tr>\n",
       "  </tbody>\n",
       "</table>\n",
       "</div>"
      ],
      "text/plain": [
       "                          starting_trips  ongoing_trips_prev  \\\n",
       "starting_trips                  1.000000            0.569527   \n",
       "ongoing_trips_prev              0.569527            1.000000   \n",
       "in_service_bikes_rolling        0.141622            0.100954   \n",
       "available_bikes                 0.123436            0.068613   \n",
       "max_temp                        0.035981            0.039249   \n",
       "min_temp                        0.033918            0.038683   \n",
       "precip                         -0.057172           -0.048383   \n",
       "hour                            0.390460            0.265459   \n",
       "day_of_week                    -0.126312            0.075420   \n",
       "month                           0.124065            0.004065   \n",
       "day_of_year                     0.125217            0.002999   \n",
       "week                            0.126346            0.003419   \n",
       "is_weekday                      0.174406           -0.067057   \n",
       "is_holiday                     -0.063861           -0.024483   \n",
       "\n",
       "                          in_service_bikes_rolling  available_bikes  max_temp  \\\n",
       "starting_trips                            0.141622         0.123436  0.035981   \n",
       "ongoing_trips_prev                        0.100954         0.068613  0.039249   \n",
       "in_service_bikes_rolling                  1.000000         0.999473  0.586802   \n",
       "available_bikes                           0.999473         1.000000  0.587145   \n",
       "max_temp                                  0.586802         0.587145  1.000000   \n",
       "min_temp                                  0.585854         0.586213  0.999440   \n",
       "precip                                   -0.109778        -0.108504 -0.146816   \n",
       "hour                                     -0.010288        -0.018975  0.179775   \n",
       "day_of_week                               0.004747         0.002300  0.017991   \n",
       "month                                     0.359183         0.360044  0.400793   \n",
       "day_of_year                               0.356008         0.356895  0.401090   \n",
       "week                                      0.377125         0.378057  0.412108   \n",
       "is_weekday                               -0.002675        -0.000495 -0.027452   \n",
       "is_holiday                               -0.063135        -0.062511 -0.049952   \n",
       "\n",
       "                          min_temp    precip      hour  day_of_week     month  \\\n",
       "starting_trips            0.033918 -0.057172  0.390460    -0.126312  0.124065   \n",
       "ongoing_trips_prev        0.038683 -0.048383  0.265459     0.075420  0.004065   \n",
       "in_service_bikes_rolling  0.585854 -0.109778 -0.010288     0.004747  0.359183   \n",
       "available_bikes           0.586213 -0.108504 -0.018975     0.002300  0.360044   \n",
       "max_temp                  0.999440 -0.146816  0.179775     0.017991  0.400793   \n",
       "min_temp                  1.000000 -0.150187  0.178030     0.019351  0.400901   \n",
       "precip                   -0.150187  1.000000  0.024321    -0.015739 -0.098087   \n",
       "hour                      0.178030  0.024321  1.000000    -0.007612 -0.006197   \n",
       "day_of_week               0.019351 -0.015739 -0.007612     1.000000 -0.001364   \n",
       "month                     0.400901 -0.098087 -0.006197    -0.001364  1.000000   \n",
       "day_of_year               0.401268 -0.100351 -0.006243    -0.000885  0.996513   \n",
       "week                      0.412107 -0.096719 -0.005902     0.005483  0.964648   \n",
       "is_weekday               -0.029415  0.009660  0.005013    -0.791667 -0.007627   \n",
       "is_holiday               -0.049908  0.071312  0.002796    -0.091905  0.014925   \n",
       "\n",
       "                          day_of_year      week  is_weekday  is_holiday  \n",
       "starting_trips               0.125217  0.126346    0.174406   -0.063861  \n",
       "ongoing_trips_prev           0.002999  0.003419   -0.067057   -0.024483  \n",
       "in_service_bikes_rolling     0.356008  0.377125   -0.002675   -0.063135  \n",
       "available_bikes              0.356895  0.378057   -0.000495   -0.062511  \n",
       "max_temp                     0.401090  0.412108   -0.027452   -0.049952  \n",
       "min_temp                     0.401268  0.412107   -0.029415   -0.049908  \n",
       "precip                      -0.100351 -0.096719    0.009660    0.071312  \n",
       "hour                        -0.006243 -0.005902    0.005013    0.002796  \n",
       "day_of_week                 -0.000885  0.005483   -0.791667   -0.091905  \n",
       "month                        0.996513  0.964648   -0.007627    0.014925  \n",
       "day_of_year                  1.000000  0.965362   -0.008653    0.015211  \n",
       "week                         0.965362  1.000000   -0.006604   -0.024259  \n",
       "is_weekday                  -0.008653 -0.006604    1.000000    0.022742  \n",
       "is_holiday                   0.015211 -0.024259    0.022742    1.000000  "
      ]
     },
     "execution_count": 47,
     "metadata": {},
     "output_type": "execute_result"
    }
   ],
   "source": [
    "trips_hourly_df.corr()"
   ]
  },
  {
   "cell_type": "markdown",
   "metadata": {},
   "source": [
    "The table provides all information at glance. However, it is difficult to single out pairs of features that are of interest to us. Therefore, we will write an additional method to print only those with their corresponding correlation coefficient."
   ]
  },
  {
   "cell_type": "code",
   "execution_count": 48,
   "metadata": {},
   "outputs": [
    {
     "name": "stdout",
     "output_type": "stream",
     "text": [
      "in_service_bikes_rolling available_bikes 0.9994732618754624\n",
      "max_temp min_temp 0.9994397326220161\n",
      "month day_of_year 0.9965133987634793\n",
      "month week 0.9646476104189302\n",
      "day_of_year week 0.9653615873661971\n"
     ]
    }
   ],
   "source": [
    "for id_1, variable in enumerate(trips_hourly_df.columns):\n",
    "    for id_2, comp_variable in enumerate(trips_hourly_df.columns):\n",
    "        if id_1 < id_2:\n",
    "            corrcoeff = np.corrcoef(\n",
    "                [\n",
    "                    trips_hourly_df[variable].astype(\"float64\"),\n",
    "                    trips_hourly_df[comp_variable].astype(\"float64\"),\n",
    "                ]\n",
    "            )[0][1]\n",
    "            if corrcoeff > 0.7:\n",
    "                print(variable, comp_variable, corrcoeff)\n",
    "                "
   ]
  },
  {
   "cell_type": "markdown",
   "metadata": {},
   "source": [
    "In general, it doesn't matter which feature to drop from each pair. We decided to exclude the following - ```in_service_bikes_rolling, max_temp, day_of_year, week```."
   ]
  },
  {
   "cell_type": "code",
   "execution_count": 49,
   "metadata": {},
   "outputs": [
    {
     "data": {
      "text/html": [
       "<div>\n",
       "<style scoped>\n",
       "    .dataframe tbody tr th:only-of-type {\n",
       "        vertical-align: middle;\n",
       "    }\n",
       "\n",
       "    .dataframe tbody tr th {\n",
       "        vertical-align: top;\n",
       "    }\n",
       "\n",
       "    .dataframe thead th {\n",
       "        text-align: right;\n",
       "    }\n",
       "</style>\n",
       "<table border=\"1\" class=\"dataframe\">\n",
       "  <thead>\n",
       "    <tr style=\"text-align: right;\">\n",
       "      <th></th>\n",
       "      <th>starting_trips</th>\n",
       "      <th>ongoing_trips_prev</th>\n",
       "      <th>available_bikes</th>\n",
       "      <th>min_temp</th>\n",
       "      <th>precip</th>\n",
       "      <th>hour</th>\n",
       "      <th>day_of_week</th>\n",
       "      <th>month</th>\n",
       "      <th>is_weekday</th>\n",
       "      <th>is_holiday</th>\n",
       "    </tr>\n",
       "    <tr>\n",
       "      <th>index</th>\n",
       "      <th></th>\n",
       "      <th></th>\n",
       "      <th></th>\n",
       "      <th></th>\n",
       "      <th></th>\n",
       "      <th></th>\n",
       "      <th></th>\n",
       "      <th></th>\n",
       "      <th></th>\n",
       "      <th></th>\n",
       "    </tr>\n",
       "  </thead>\n",
       "  <tbody>\n",
       "    <tr>\n",
       "      <th>2019-01-01 01:00:00</th>\n",
       "      <td>8.0</td>\n",
       "      <td>2.0</td>\n",
       "      <td>871.0</td>\n",
       "      <td>15.6</td>\n",
       "      <td>0.0</td>\n",
       "      <td>1</td>\n",
       "      <td>1</td>\n",
       "      <td>1</td>\n",
       "      <td>True</td>\n",
       "      <td>True</td>\n",
       "    </tr>\n",
       "    <tr>\n",
       "      <th>2019-01-01 02:00:00</th>\n",
       "      <td>11.0</td>\n",
       "      <td>4.0</td>\n",
       "      <td>869.0</td>\n",
       "      <td>15.0</td>\n",
       "      <td>0.0</td>\n",
       "      <td>2</td>\n",
       "      <td>1</td>\n",
       "      <td>1</td>\n",
       "      <td>True</td>\n",
       "      <td>True</td>\n",
       "    </tr>\n",
       "  </tbody>\n",
       "</table>\n",
       "</div>"
      ],
      "text/plain": [
       "                     starting_trips  ongoing_trips_prev  available_bikes  \\\n",
       "index                                                                      \n",
       "2019-01-01 01:00:00             8.0                 2.0            871.0   \n",
       "2019-01-01 02:00:00            11.0                 4.0            869.0   \n",
       "\n",
       "                     min_temp  precip  hour  day_of_week  month  is_weekday  \\\n",
       "index                                                                         \n",
       "2019-01-01 01:00:00      15.6     0.0     1            1      1        True   \n",
       "2019-01-01 02:00:00      15.0     0.0     2            1      1        True   \n",
       "\n",
       "                     is_holiday  \n",
       "index                            \n",
       "2019-01-01 01:00:00        True  \n",
       "2019-01-01 02:00:00        True  "
      ]
     },
     "execution_count": 49,
     "metadata": {},
     "output_type": "execute_result"
    }
   ],
   "source": [
    "trips_hourly_df = trips_hourly_df.drop(\n",
    "    columns=[\"in_service_bikes_rolling\", \"max_temp\", \"day_of_year\", \"week\"]\n",
    ")\n",
    "trips_hourly_df.head(2)"
   ]
  },
  {
   "cell_type": "markdown",
   "metadata": {},
   "source": [
    "### Lasso Regression\n",
    "Here, we will compute a simple linear regression. Lasso Regression is often used for feature selection because it assigns 0 coefficient to features with a very low impact on the predicted variable. These features can then be excluded from future analysis."
   ]
  },
  {
   "cell_type": "code",
   "execution_count": 50,
   "metadata": {},
   "outputs": [],
   "source": [
    "input_features = trips_hourly_df.reset_index().drop(columns=[\"starting_trips\", \"index\"])\n",
    "predicted_varible = trips_hourly_df[\"starting_trips\"]"
   ]
  },
  {
   "cell_type": "code",
   "execution_count": 51,
   "metadata": {},
   "outputs": [],
   "source": [
    "# scale input features\n",
    "scaler = StandardScaler()\n",
    "input_features_scaled = scaler.fit_transform(input_features.values)"
   ]
  },
  {
   "cell_type": "code",
   "execution_count": 52,
   "metadata": {},
   "outputs": [
    {
     "name": "stdout",
     "output_type": "stream",
     "text": [
      "Coefficients  [10.02267528  0.72193158 -0.47767462 -0.          4.72310471 -0.\n",
      "  1.58323662  3.35491256 -0.20255563]\n"
     ]
    }
   ],
   "source": [
    "# fit data to the linear regression model\n",
    "model = Lasso(alpha=1)\n",
    "model.fit(input_features_scaled, predicted_varible)\n",
    "print(\"Coefficients \", model.coef_)"
   ]
  },
  {
   "cell_type": "markdown",
   "metadata": {},
   "source": [
    "The results of the Lasso regression yield 0 coefficient for features precipitation, is_weekday, and is_holiday. Therefore we will drop these for the predictive analytics section."
   ]
  },
  {
   "cell_type": "code",
   "execution_count": 53,
   "metadata": {},
   "outputs": [],
   "source": [
    "trips_hourly_df = trips_hourly_df.drop(columns={\"precip\", \"day_of_week\"})"
   ]
  },
  {
   "cell_type": "code",
   "execution_count": 54,
   "metadata": {},
   "outputs": [],
   "source": [
    "trips_hourly_df.to_pickle(\"../00_data/trips_hourly_selected.pkl\")"
   ]
  }
 ],
 "metadata": {
  "interpreter": {
   "hash": "8b60088a9b347fcb01b673d89e7da3a71c8c9fcb762a42ef04d5b6405c108bf0"
  },
  "kernelspec": {
   "display_name": "Python 3 (ipykernel)",
   "language": "python",
   "name": "python3"
  },
  "language_info": {
   "codemirror_mode": {
    "name": "ipython",
    "version": 3
   },
   "file_extension": ".py",
   "mimetype": "text/x-python",
   "name": "python",
   "nbconvert_exporter": "python",
   "pygments_lexer": "ipython3",
   "version": "3.7.11"
  }
 },
 "nbformat": 4,
 "nbformat_minor": 2
}
