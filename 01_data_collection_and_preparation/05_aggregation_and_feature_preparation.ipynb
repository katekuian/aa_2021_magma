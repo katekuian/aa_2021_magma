{
 "cells": [
  {
   "cell_type": "markdown",
   "metadata": {},
   "source": [
    "In this notebook, we will first aggregate data on an hourly basis to be used for predictive analysis. Then, we will engineer new features for the model. Finally, we will do feature selection and drop some features to reduce dimensionality."
   ]
  },
  {
   "cell_type": "markdown",
   "metadata": {},
   "source": [
    "## Data Aggregation\n",
    "First, let us aggregate data on an hourly basis to be used for predictive analysis."
   ]
  },
  {
   "cell_type": "code",
   "execution_count": 147,
   "metadata": {},
   "outputs": [],
   "source": [
    "import pandas as pd\n",
    "import matplotlib.pyplot as plt"
   ]
  },
  {
   "cell_type": "code",
   "execution_count": 148,
   "metadata": {},
   "outputs": [],
   "source": [
    "trips_df = pd.read_pickle('../00_data/trips.pkl')"
   ]
  },
  {
   "cell_type": "code",
   "execution_count": 149,
   "metadata": {},
   "outputs": [],
   "source": [
    "# floor start and end times of trips to hour value, i.e. ignore minutes and seconds\n",
    "trips_df['start_time_floored'] = trips_df['start_time'].dt.floor('1H')\n",
    "trips_df['end_time_floored'] = trips_df['end_time'].dt.floor('1H')"
   ]
  },
  {
   "cell_type": "code",
   "execution_count": 150,
   "metadata": {},
   "outputs": [],
   "source": [
    "# calculate the number of starting and ending trips for each hour\n",
    "starting_trips_grouped = (\n",
    "    trips_df.groupby([\"start_time_floored\"])\n",
    "    .size()\n",
    "    .to_frame(\"starting_trips\")\n",
    ")\n",
    "ending_trips_grouped = (\n",
    "    trips_df.groupby([\"end_time_floored\"])\n",
    "    .size()\n",
    "    .to_frame(\"ending_trips\")\n",
    ")"
   ]
  },
  {
   "cell_type": "code",
   "execution_count": 151,
   "metadata": {},
   "outputs": [
    {
     "data": {
      "text/plain": [
       "starting_trips    141\n",
       "ending_trips       84\n",
       "dtype: int64"
      ]
     },
     "execution_count": 151,
     "metadata": {},
     "output_type": "execute_result"
    }
   ],
   "source": [
    "# combine these values into a single dataframe and determine whether data cleaning is necessary\n",
    "trips_hourly = pd.concat([starting_trips_grouped, ending_trips_grouped], axis=1)\n",
    "trips_hourly.isna().sum()"
   ]
  },
  {
   "cell_type": "markdown",
   "metadata": {},
   "source": [
    "There are some missing values, because there may be hours at which trips start but no trips end and vice versa. We will fill these null values with 0, which represents 0 trips started/ended in this hour, and save this aggregated data into a new file."
   ]
  },
  {
   "cell_type": "code",
   "execution_count": 152,
   "metadata": {},
   "outputs": [],
   "source": [
    "trips_hourly = trips_hourly.fillna(0) "
   ]
  },
  {
   "cell_type": "code",
   "execution_count": 153,
   "metadata": {},
   "outputs": [],
   "source": [
    "trips_hourly.to_pickle('../00_data/trips_hourly.pkl')"
   ]
  },
  {
   "cell_type": "markdown",
   "metadata": {},
   "source": [
    "## Feature Engineering\n",
    "Now we will combine different data collected until now into a single dataframe and additionally calculate some new features. This data will be then be used as features for predictive analysis."
   ]
  },
  {
   "cell_type": "code",
   "execution_count": 154,
   "metadata": {},
   "outputs": [],
   "source": [
    "import pandas as pd"
   ]
  },
  {
   "cell_type": "code",
   "execution_count": 155,
   "metadata": {},
   "outputs": [],
   "source": [
    "trips_hourly = pd.read_pickle('../00_data/trips_hourly.pkl')\n",
    "trips_df = pd.read_pickle('../00_data/trips.pkl')"
   ]
  },
  {
   "cell_type": "markdown",
   "metadata": {},
   "source": [
    "### Create ```available_bikes``` feature\n",
    "We assume that one of the features influencing the demand is the number of bikes available for rental. If the user opens the app and sees only a few or even no bikes in the stations near them, they will most likely choose an alternative mode of transport.\n",
    "\n",
    "In order to calculate ```available_bikes``` we first have to determine how many bikes there are in the fleet and how many bikes are being currently rented. We will start with the second one, which we defined as the cumulative sum of the difference between started and ended trips. We then use the number of ongoing trips from the previous hour as an input feature."
   ]
  },
  {
   "cell_type": "code",
   "execution_count": 156,
   "metadata": {},
   "outputs": [],
   "source": [
    "trips_hourly['trips_diff'] = trips_hourly['starting_trips'] - trips_hourly['ending_trips']\n",
    "trips_hourly['ongoing_trips'] = trips_hourly['trips_diff'].cumsum()\n",
    "\n",
    "# save values from the previous hour in an additional column\n",
    "trips_hourly['ongoing_trips_prev'] = trips_hourly['ongoing_trips'].shift(1)\n",
    "\n",
    "# keep only the columns of interest; here starting trips represents demand\n",
    "trips_hourly = trips_hourly[['starting_trips', 'ongoing_trips_prev']]"
   ]
  },
  {
   "cell_type": "code",
   "execution_count": 157,
   "metadata": {},
   "outputs": [
    {
     "data": {
      "text/html": [
       "<div>\n",
       "<style scoped>\n",
       "    .dataframe tbody tr th:only-of-type {\n",
       "        vertical-align: middle;\n",
       "    }\n",
       "\n",
       "    .dataframe tbody tr th {\n",
       "        vertical-align: top;\n",
       "    }\n",
       "\n",
       "    .dataframe thead th {\n",
       "        text-align: right;\n",
       "    }\n",
       "</style>\n",
       "<table border=\"1\" class=\"dataframe\">\n",
       "  <thead>\n",
       "    <tr style=\"text-align: right;\">\n",
       "      <th></th>\n",
       "      <th>starting_trips</th>\n",
       "      <th>ongoing_trips_prev</th>\n",
       "    </tr>\n",
       "  </thead>\n",
       "  <tbody>\n",
       "    <tr>\n",
       "      <th>2019-01-01 00:00:00</th>\n",
       "      <td>14.0</td>\n",
       "      <td>NaN</td>\n",
       "    </tr>\n",
       "    <tr>\n",
       "      <th>2019-01-01 01:00:00</th>\n",
       "      <td>8.0</td>\n",
       "      <td>2.0</td>\n",
       "    </tr>\n",
       "    <tr>\n",
       "      <th>2019-01-01 02:00:00</th>\n",
       "      <td>11.0</td>\n",
       "      <td>4.0</td>\n",
       "    </tr>\n",
       "    <tr>\n",
       "      <th>2019-01-01 03:00:00</th>\n",
       "      <td>2.0</td>\n",
       "      <td>3.0</td>\n",
       "    </tr>\n",
       "  </tbody>\n",
       "</table>\n",
       "</div>"
      ],
      "text/plain": [
       "                     starting_trips  ongoing_trips_prev\n",
       "2019-01-01 00:00:00            14.0                 NaN\n",
       "2019-01-01 01:00:00             8.0                 2.0\n",
       "2019-01-01 02:00:00            11.0                 4.0\n",
       "2019-01-01 03:00:00             2.0                 3.0"
      ]
     },
     "execution_count": 157,
     "metadata": {},
     "output_type": "execute_result"
    }
   ],
   "source": [
    "trips_hourly.head(4)"
   ]
  },
  {
   "cell_type": "code",
   "execution_count": 158,
   "metadata": {},
   "outputs": [],
   "source": [
    "# effectively drops first observation as ongoing trips prev cannot be calculated due to the absence of data\n",
    "trips_hourly = trips_hourly.dropna()"
   ]
  },
  {
   "cell_type": "markdown",
   "metadata": {},
   "source": [
    "Next, we aim to determine the number of bikes in the fleet. The easiest way would be to sum the number of unique bike ids. However, this calculation would most likely overestimate the actual value. We assume that bikes regularly break and have to be repaired, and therefore are unavailable to customers. Also, Bikeshare Metro might want to control the fleet size to respond to changes in demand during different seasons. Therefore, we decided to calculate the number of unique bike ids for each week. Hereby, we assume that each bike, that is not broken and is placed correctly is used at least once a week."
   ]
  },
  {
   "cell_type": "code",
   "execution_count": 159,
   "metadata": {},
   "outputs": [
    {
     "name": "stdout",
     "output_type": "stream",
     "text": [
      "There are in total 3891 unique bike ids in the whole dataset.\n",
      "On average there are 756.6730769230769 bikes available.\n"
     ]
    }
   ],
   "source": [
    "trips_df['week'] = trips_df['start_time'].dt.isocalendar().week\n",
    "\n",
    "bike_ids_week_grouped = (\n",
    "    trips_df.groupby([\"week\"])['bike_id']\n",
    "    .nunique()\n",
    "    .to_frame(\"bike_ids_week\")\n",
    ")\n",
    "print(f\"There are in total {trips_df['bike_id'].nunique()} unique bike ids in the whole dataset.\")\n",
    "print(f\"On average there are {bike_ids_week_grouped['bike_ids_week'].mean()} bikes available.\")"
   ]
  },
  {
   "cell_type": "markdown",
   "metadata": {},
   "source": [
    "As we see, there is a substantial difference between the two numbers. In order to identify which one is more realistic, we will do some further analysis."
   ]
  },
  {
   "cell_type": "code",
   "execution_count": 160,
   "metadata": {},
   "outputs": [
    {
     "data": {
      "text/html": [
       "<div>\n",
       "<style scoped>\n",
       "    .dataframe tbody tr th:only-of-type {\n",
       "        vertical-align: middle;\n",
       "    }\n",
       "\n",
       "    .dataframe tbody tr th {\n",
       "        vertical-align: top;\n",
       "    }\n",
       "\n",
       "    .dataframe thead th {\n",
       "        text-align: right;\n",
       "    }\n",
       "</style>\n",
       "<table border=\"1\" class=\"dataframe\">\n",
       "  <thead>\n",
       "    <tr style=\"text-align: right;\">\n",
       "      <th></th>\n",
       "      <th>first_trip_start_time</th>\n",
       "      <th>last_trip_end_time</th>\n",
       "      <th>number_of_trips</th>\n",
       "    </tr>\n",
       "    <tr>\n",
       "      <th>bike_id</th>\n",
       "      <th></th>\n",
       "      <th></th>\n",
       "      <th></th>\n",
       "    </tr>\n",
       "  </thead>\n",
       "  <tbody>\n",
       "    <tr>\n",
       "      <th>5715</th>\n",
       "      <td>2019-04-17 23:39:00</td>\n",
       "      <td>2019-12-17 21:57:12</td>\n",
       "      <td>68</td>\n",
       "    </tr>\n",
       "    <tr>\n",
       "      <th>5716</th>\n",
       "      <td>2019-04-13 15:58:00</td>\n",
       "      <td>2019-06-07 17:13:00</td>\n",
       "      <td>32</td>\n",
       "    </tr>\n",
       "  </tbody>\n",
       "</table>\n",
       "</div>"
      ],
      "text/plain": [
       "        first_trip_start_time  last_trip_end_time  number_of_trips\n",
       "bike_id                                                           \n",
       "5715      2019-04-17 23:39:00 2019-12-17 21:57:12               68\n",
       "5716      2019-04-13 15:58:00 2019-06-07 17:13:00               32"
      ]
     },
     "execution_count": 160,
     "metadata": {},
     "output_type": "execute_result"
    }
   ],
   "source": [
    "# create dataframe that depicts the first time and the last time each bicycle was used (in our defined timeframe)\n",
    "# and the number of trips made with it\n",
    "bikes_df = trips_df.groupby(\"bike_id\").agg(\n",
    "    {\n",
    "\t\t\"start_time\": \"min\",\n",
    "\t\t\"end_time\": \"max\",\n",
    "\t\t\"bike_id\": \"count\"\n",
    "\t}\n",
    ")\n",
    "bikes_df = bikes_df.rename(columns={\n",
    "    \"start_time\" : \"first_trip_start_time\",\n",
    "    \"end_time\" : \"last_trip_end_time\",\n",
    "    \"bike_id\" : \"number_of_trips\"\n",
    "})\n",
    "bikes_df.head(2)"
   ]
  },
  {
   "cell_type": "code",
   "execution_count": 161,
   "metadata": {},
   "outputs": [
    {
     "data": {
      "text/html": [
       "<div>\n",
       "<style scoped>\n",
       "    .dataframe tbody tr th:only-of-type {\n",
       "        vertical-align: middle;\n",
       "    }\n",
       "\n",
       "    .dataframe tbody tr th {\n",
       "        vertical-align: top;\n",
       "    }\n",
       "\n",
       "    .dataframe thead th {\n",
       "        text-align: right;\n",
       "    }\n",
       "</style>\n",
       "<table border=\"1\" class=\"dataframe\">\n",
       "  <thead>\n",
       "    <tr style=\"text-align: right;\">\n",
       "      <th></th>\n",
       "      <th>start_time</th>\n",
       "      <th>end_time</th>\n",
       "      <th>start_station_id</th>\n",
       "      <th>end_station_id</th>\n",
       "      <th>bike_id</th>\n",
       "      <th>user_type</th>\n",
       "      <th>start_station_name</th>\n",
       "      <th>end_station_name</th>\n",
       "      <th>duration</th>\n",
       "      <th>start_latitude</th>\n",
       "      <th>...</th>\n",
       "      <th>public_transport_poi_start</th>\n",
       "      <th>education_poi_start</th>\n",
       "      <th>arts_and_culture_poi_start</th>\n",
       "      <th>sports_poi_start</th>\n",
       "      <th>sustenance_poi_end</th>\n",
       "      <th>public_transport_poi_end</th>\n",
       "      <th>education_poi_end</th>\n",
       "      <th>arts_and_culture_poi_end</th>\n",
       "      <th>sports_poi_end</th>\n",
       "      <th>week</th>\n",
       "    </tr>\n",
       "  </thead>\n",
       "  <tbody>\n",
       "    <tr>\n",
       "      <th>222393</th>\n",
       "      <td>2019-12-31 20:50:25</td>\n",
       "      <td>2019-12-31 20:58:42</td>\n",
       "      <td>4442</td>\n",
       "      <td>4436</td>\n",
       "      <td>6130</td>\n",
       "      <td>Annual Pass</td>\n",
       "      <td>Normandie &amp; Sunset</td>\n",
       "      <td>Vermont &amp; Franklin</td>\n",
       "      <td>0 days 00:08:17</td>\n",
       "      <td>34.098</td>\n",
       "      <td>...</td>\n",
       "      <td>20</td>\n",
       "      <td>1</td>\n",
       "      <td>0</td>\n",
       "      <td>0</td>\n",
       "      <td>51</td>\n",
       "      <td>15</td>\n",
       "      <td>1</td>\n",
       "      <td>2</td>\n",
       "      <td>0</td>\n",
       "      <td>1</td>\n",
       "    </tr>\n",
       "  </tbody>\n",
       "</table>\n",
       "<p>1 rows × 28 columns</p>\n",
       "</div>"
      ],
      "text/plain": [
       "                start_time            end_time  start_station_id  \\\n",
       "222393 2019-12-31 20:50:25 2019-12-31 20:58:42              4442   \n",
       "\n",
       "        end_station_id bike_id    user_type  start_station_name  \\\n",
       "222393            4436    6130  Annual Pass  Normandie & Sunset   \n",
       "\n",
       "          end_station_name        duration  start_latitude  ...  \\\n",
       "222393  Vermont & Franklin 0 days 00:08:17          34.098  ...   \n",
       "\n",
       "        public_transport_poi_start  education_poi_start  \\\n",
       "222393                          20                    1   \n",
       "\n",
       "        arts_and_culture_poi_start  sports_poi_start  sustenance_poi_end  \\\n",
       "222393                           0                 0                  51   \n",
       "\n",
       "       public_transport_poi_end education_poi_end  arts_and_culture_poi_end  \\\n",
       "222393                       15                 1                         2   \n",
       "\n",
       "        sports_poi_end  week  \n",
       "222393               0     1  \n",
       "\n",
       "[1 rows x 28 columns]"
      ]
     },
     "execution_count": 161,
     "metadata": {},
     "output_type": "execute_result"
    }
   ],
   "source": [
    "# show bike(s) with the latest start time\n",
    "trips_df[(trips_df[\"bike_id\"] == bikes_df[\"first_trip_start_time\"].idxmax())]"
   ]
  },
  {
   "cell_type": "code",
   "execution_count": 162,
   "metadata": {},
   "outputs": [
    {
     "data": {
      "text/html": [
       "<div>\n",
       "<style scoped>\n",
       "    .dataframe tbody tr th:only-of-type {\n",
       "        vertical-align: middle;\n",
       "    }\n",
       "\n",
       "    .dataframe tbody tr th {\n",
       "        vertical-align: top;\n",
       "    }\n",
       "\n",
       "    .dataframe thead th {\n",
       "        text-align: right;\n",
       "    }\n",
       "</style>\n",
       "<table border=\"1\" class=\"dataframe\">\n",
       "  <thead>\n",
       "    <tr style=\"text-align: right;\">\n",
       "      <th></th>\n",
       "      <th>start_time</th>\n",
       "      <th>end_time</th>\n",
       "      <th>start_station_id</th>\n",
       "      <th>end_station_id</th>\n",
       "      <th>bike_id</th>\n",
       "      <th>user_type</th>\n",
       "      <th>start_station_name</th>\n",
       "      <th>end_station_name</th>\n",
       "      <th>duration</th>\n",
       "      <th>start_latitude</th>\n",
       "      <th>...</th>\n",
       "      <th>public_transport_poi_start</th>\n",
       "      <th>education_poi_start</th>\n",
       "      <th>arts_and_culture_poi_start</th>\n",
       "      <th>sports_poi_start</th>\n",
       "      <th>sustenance_poi_end</th>\n",
       "      <th>public_transport_poi_end</th>\n",
       "      <th>education_poi_end</th>\n",
       "      <th>arts_and_culture_poi_end</th>\n",
       "      <th>sports_poi_end</th>\n",
       "      <th>week</th>\n",
       "    </tr>\n",
       "  </thead>\n",
       "  <tbody>\n",
       "    <tr>\n",
       "      <th>218461</th>\n",
       "      <td>2019-01-01 11:07:00</td>\n",
       "      <td>2019-01-01 11:49:00</td>\n",
       "      <td>4210</td>\n",
       "      <td>4210</td>\n",
       "      <td>12043</td>\n",
       "      <td>Walk-up</td>\n",
       "      <td>Ocean Front Walk &amp; North Venice</td>\n",
       "      <td>Ocean Front Walk &amp; North Venice</td>\n",
       "      <td>0 days 00:42:00</td>\n",
       "      <td>33.98434</td>\n",
       "      <td>...</td>\n",
       "      <td>5</td>\n",
       "      <td>0</td>\n",
       "      <td>0</td>\n",
       "      <td>0</td>\n",
       "      <td>13</td>\n",
       "      <td>5</td>\n",
       "      <td>0</td>\n",
       "      <td>0</td>\n",
       "      <td>0</td>\n",
       "      <td>1</td>\n",
       "    </tr>\n",
       "    <tr>\n",
       "      <th>218469</th>\n",
       "      <td>2019-01-01 12:29:00</td>\n",
       "      <td>2019-01-01 12:52:00</td>\n",
       "      <td>4210</td>\n",
       "      <td>4210</td>\n",
       "      <td>12043</td>\n",
       "      <td>Walk-up</td>\n",
       "      <td>Ocean Front Walk &amp; North Venice</td>\n",
       "      <td>Ocean Front Walk &amp; North Venice</td>\n",
       "      <td>0 days 00:23:00</td>\n",
       "      <td>33.98434</td>\n",
       "      <td>...</td>\n",
       "      <td>5</td>\n",
       "      <td>0</td>\n",
       "      <td>0</td>\n",
       "      <td>0</td>\n",
       "      <td>13</td>\n",
       "      <td>5</td>\n",
       "      <td>0</td>\n",
       "      <td>0</td>\n",
       "      <td>0</td>\n",
       "      <td>1</td>\n",
       "    </tr>\n",
       "  </tbody>\n",
       "</table>\n",
       "<p>2 rows × 28 columns</p>\n",
       "</div>"
      ],
      "text/plain": [
       "                start_time            end_time  start_station_id  \\\n",
       "218461 2019-01-01 11:07:00 2019-01-01 11:49:00              4210   \n",
       "218469 2019-01-01 12:29:00 2019-01-01 12:52:00              4210   \n",
       "\n",
       "        end_station_id bike_id user_type               start_station_name  \\\n",
       "218461            4210   12043   Walk-up  Ocean Front Walk & North Venice   \n",
       "218469            4210   12043   Walk-up  Ocean Front Walk & North Venice   \n",
       "\n",
       "                       end_station_name        duration  start_latitude  ...  \\\n",
       "218461  Ocean Front Walk & North Venice 0 days 00:42:00        33.98434  ...   \n",
       "218469  Ocean Front Walk & North Venice 0 days 00:23:00        33.98434  ...   \n",
       "\n",
       "        public_transport_poi_start  education_poi_start  \\\n",
       "218461                           5                    0   \n",
       "218469                           5                    0   \n",
       "\n",
       "        arts_and_culture_poi_start  sports_poi_start  sustenance_poi_end  \\\n",
       "218461                           0                 0                  13   \n",
       "218469                           0                 0                  13   \n",
       "\n",
       "       public_transport_poi_end education_poi_end  arts_and_culture_poi_end  \\\n",
       "218461                        5                 0                         0   \n",
       "218469                        5                 0                         0   \n",
       "\n",
       "        sports_poi_end  week  \n",
       "218461               0     1  \n",
       "218469               0     1  \n",
       "\n",
       "[2 rows x 28 columns]"
      ]
     },
     "execution_count": 162,
     "metadata": {},
     "output_type": "execute_result"
    }
   ],
   "source": [
    "# show bike(s) with the earliest end time\n",
    "trips_df[(trips_df[\"bike_id\"] == bikes_df[\"last_trip_end_time\"].idxmin())]"
   ]
  },
  {
   "cell_type": "markdown",
   "metadata": {},
   "source": [
    "There is a bike that was used on 31.12.2019 (the last day of our timeframe) for the first time and two bikes that were used on 01.01.2019 (the first day of our timeframe) for the last time. Clearly, none of these three bikes were available throughout the whole year. This proves that considering some sort of average is more accurate than a bold sum of all unique bike ids.\n",
    "\n",
    "We already have time when each bike was used for the first and last time. Now we will aggregate the dataframe by these hours and calculate how many bikes were used after and before certain hours. Afterwards, we will calculate the cumulative sum of the difference between ```bikes_used_after``` and ```bikes_used_before``` for each hour. Thus, we receive the new column ```in_service_bikes```."
   ]
  },
  {
   "cell_type": "code",
   "execution_count": 163,
   "metadata": {},
   "outputs": [],
   "source": [
    "bikes_df[\"start_time_floored\"] = bikes_df[\"first_trip_start_time\"].dt.floor(\"1H\")\n",
    "bikes_df[\"end_time_floored\"] = bikes_df[\"last_trip_end_time\"].dt.floor(\"1H\") + pd.DateOffset(hours=1)\n",
    "\n",
    "bikes_used_after = (\n",
    "    bikes_df.groupby(\"start_time_floored\").size().to_frame(\"bikes_used_after\")\n",
    ")\n",
    "bikes_used_before = (\n",
    "    bikes_df.groupby(\"end_time_floored\").size().to_frame(\"bikes_used_before\")\n",
    ")\n",
    "\n",
    "bikes_used = pd.concat([bikes_used_before, bikes_used_after], axis=1)\n",
    "bikes_used = bikes_used.fillna(0)\n",
    "bikes_used['diff'] = bikes_used['bikes_used_after'] - bikes_used['bikes_used_before'] \n",
    "bikes_used['in_service_bikes'] = bikes_used['diff'].cumsum()\n"
   ]
  },
  {
   "cell_type": "code",
   "execution_count": 164,
   "metadata": {},
   "outputs": [
    {
     "data": {
      "text/plain": [
       "Text(0, 0.5, 'Number of bikes in service')"
      ]
     },
     "execution_count": 164,
     "metadata": {},
     "output_type": "execute_result"
    },
    {
     "data": {
      "image/png": "[encoded data removed]",
      "text/plain": [
       "<Figure size 864x432 with 1 Axes>"
      ]
     },
     "metadata": {
      "needs_background": "light"
     },
     "output_type": "display_data"
    }
   ],
   "source": [
    "fig, ax = plt.subplots(figsize=(12, 6))\n",
    "# plot 'in_service_bikes' over time\n",
    "bikes_used = bikes_used.reset_index().rename(columns={\"index\": \"start_time_floored\"})\n",
    "bikes_used.plot.scatter(x=\"start_time_floored\", y=\"in_service_bikes\", ax=ax)\n",
    "\n",
    "ax.set_xlabel('Date')\n",
    "ax.set_ylabel('Number of bikes in service')\n"
   ]
  },
  {
   "cell_type": "code",
   "execution_count": 165,
   "metadata": {},
   "outputs": [],
   "source": [
    "# to smooth out the edges, especially at the beginning and the end of the dataset, we introduce in_service_bikes_rolling\n",
    "# rolling function provides us with a maximum value of 'in_service_bikes' column during a 30 days window\n",
    "bikes_used[\"in_service_bikes_rolling\"] = bikes_used.rolling(\n",
    "    \"30d\", center=True, on=\"start_time_floored\"\n",
    ")[\"in_service_bikes\"].max()\n"
   ]
  },
  {
   "cell_type": "code",
   "execution_count": 166,
   "metadata": {},
   "outputs": [
    {
     "data": {
      "image/png": "[encoded data removed]",
      "text/plain": [
       "<Figure size 864x432 with 1 Axes>"
      ]
     },
     "metadata": {
      "needs_background": "light"
     },
     "output_type": "display_data"
    }
   ],
   "source": [
    "# plot 'in_service_bikes_rolling' over time with matplotlib\n",
    "fig, ax = plt.subplots(figsize=(12, 6))\n",
    "bikes_used.plot.scatter(x=\"start_time_floored\", y=\"in_service_bikes_rolling\", ax=ax)\n",
    "\n",
    "ax.set_xlabel('Date')\n",
    "ax.set_ylabel('Number of bikes in service (maximum over 30 days)')\n",
    "\n",
    "fig.savefig('../figures/bikes_in_service_rolling.png')"
   ]
  },
  {
   "cell_type": "code",
   "execution_count": 167,
   "metadata": {},
   "outputs": [],
   "source": [
    "bikes_used = bikes_used.set_index(\"start_time_floored\")"
   ]
  },
  {
   "cell_type": "code",
   "execution_count": 168,
   "metadata": {},
   "outputs": [
    {
     "data": {
      "text/html": [
       "<div>\n",
       "<style scoped>\n",
       "    .dataframe tbody tr th:only-of-type {\n",
       "        vertical-align: middle;\n",
       "    }\n",
       "\n",
       "    .dataframe tbody tr th {\n",
       "        vertical-align: top;\n",
       "    }\n",
       "\n",
       "    .dataframe thead th {\n",
       "        text-align: right;\n",
       "    }\n",
       "</style>\n",
       "<table border=\"1\" class=\"dataframe\">\n",
       "  <thead>\n",
       "    <tr style=\"text-align: right;\">\n",
       "      <th></th>\n",
       "      <th>starting_trips</th>\n",
       "      <th>ongoing_trips_prev</th>\n",
       "      <th>in_service_bikes_rolling</th>\n",
       "    </tr>\n",
       "  </thead>\n",
       "  <tbody>\n",
       "    <tr>\n",
       "      <th>2019-01-01 01:00:00</th>\n",
       "      <td>8.0</td>\n",
       "      <td>2.0</td>\n",
       "      <td>872.0</td>\n",
       "    </tr>\n",
       "    <tr>\n",
       "      <th>2019-01-01 02:00:00</th>\n",
       "      <td>11.0</td>\n",
       "      <td>4.0</td>\n",
       "      <td>872.0</td>\n",
       "    </tr>\n",
       "  </tbody>\n",
       "</table>\n",
       "</div>"
      ],
      "text/plain": [
       "                     starting_trips  ongoing_trips_prev  \\\n",
       "2019-01-01 01:00:00             8.0                 2.0   \n",
       "2019-01-01 02:00:00            11.0                 4.0   \n",
       "\n",
       "                     in_service_bikes_rolling  \n",
       "2019-01-01 01:00:00                     872.0  \n",
       "2019-01-01 02:00:00                     872.0  "
      ]
     },
     "execution_count": 168,
     "metadata": {},
     "output_type": "execute_result"
    }
   ],
   "source": [
    "# fill null values\n",
    "trips_hourly['in_service_bikes_rolling'] = bikes_used['in_service_bikes_rolling'].asfreq('1H', method=\"bfill\")\n",
    "trips_hourly.head(2)"
   ]
  },
  {
   "cell_type": "code",
   "execution_count": 169,
   "metadata": {},
   "outputs": [
    {
     "data": {
      "text/html": [
       "<div>\n",
       "<style scoped>\n",
       "    .dataframe tbody tr th:only-of-type {\n",
       "        vertical-align: middle;\n",
       "    }\n",
       "\n",
       "    .dataframe tbody tr th {\n",
       "        vertical-align: top;\n",
       "    }\n",
       "\n",
       "    .dataframe thead th {\n",
       "        text-align: right;\n",
       "    }\n",
       "</style>\n",
       "<table border=\"1\" class=\"dataframe\">\n",
       "  <thead>\n",
       "    <tr style=\"text-align: right;\">\n",
       "      <th></th>\n",
       "      <th>starting_trips</th>\n",
       "      <th>ongoing_trips_prev</th>\n",
       "      <th>in_service_bikes_rolling</th>\n",
       "      <th>available_bikes</th>\n",
       "    </tr>\n",
       "  </thead>\n",
       "  <tbody>\n",
       "    <tr>\n",
       "      <th>2019-01-01 01:00:00</th>\n",
       "      <td>8.0</td>\n",
       "      <td>2.0</td>\n",
       "      <td>872.0</td>\n",
       "      <td>870.0</td>\n",
       "    </tr>\n",
       "    <tr>\n",
       "      <th>2019-01-01 02:00:00</th>\n",
       "      <td>11.0</td>\n",
       "      <td>4.0</td>\n",
       "      <td>872.0</td>\n",
       "      <td>868.0</td>\n",
       "    </tr>\n",
       "  </tbody>\n",
       "</table>\n",
       "</div>"
      ],
      "text/plain": [
       "                     starting_trips  ongoing_trips_prev  \\\n",
       "2019-01-01 01:00:00             8.0                 2.0   \n",
       "2019-01-01 02:00:00            11.0                 4.0   \n",
       "\n",
       "                     in_service_bikes_rolling  available_bikes  \n",
       "2019-01-01 01:00:00                     872.0            870.0  \n",
       "2019-01-01 02:00:00                     872.0            868.0  "
      ]
     },
     "execution_count": 169,
     "metadata": {},
     "output_type": "execute_result"
    }
   ],
   "source": [
    "# compute the 'available_bikes'\n",
    "trips_hourly[\"available_bikes\"] = (\n",
    "    trips_hourly[\"in_service_bikes_rolling\"] - trips_hourly[\"ongoing_trips_prev\"]\n",
    ")\n",
    "trips_hourly.head(2)"
   ]
  },
  {
   "cell_type": "code",
   "execution_count": 170,
   "metadata": {},
   "outputs": [
    {
     "data": {
      "text/html": [
       "<div>\n",
       "<style scoped>\n",
       "    .dataframe tbody tr th:only-of-type {\n",
       "        vertical-align: middle;\n",
       "    }\n",
       "\n",
       "    .dataframe tbody tr th {\n",
       "        vertical-align: top;\n",
       "    }\n",
       "\n",
       "    .dataframe thead th {\n",
       "        text-align: right;\n",
       "    }\n",
       "</style>\n",
       "<table border=\"1\" class=\"dataframe\">\n",
       "  <thead>\n",
       "    <tr style=\"text-align: right;\">\n",
       "      <th></th>\n",
       "      <th>starting_trips</th>\n",
       "      <th>ongoing_trips_prev</th>\n",
       "      <th>in_service_bikes_rolling</th>\n",
       "      <th>available_bikes</th>\n",
       "    </tr>\n",
       "  </thead>\n",
       "  <tbody>\n",
       "    <tr>\n",
       "      <th>count</th>\n",
       "      <td>8418.000000</td>\n",
       "      <td>8418.000000</td>\n",
       "      <td>8418.000000</td>\n",
       "      <td>8418.000000</td>\n",
       "    </tr>\n",
       "    <tr>\n",
       "      <th>mean</th>\n",
       "      <td>26.761701</td>\n",
       "      <td>9.212758</td>\n",
       "      <td>1273.285222</td>\n",
       "      <td>1264.072464</td>\n",
       "    </tr>\n",
       "    <tr>\n",
       "      <th>std</th>\n",
       "      <td>21.185417</td>\n",
       "      <td>10.625903</td>\n",
       "      <td>341.309420</td>\n",
       "      <td>340.691950</td>\n",
       "    </tr>\n",
       "    <tr>\n",
       "      <th>min</th>\n",
       "      <td>0.000000</td>\n",
       "      <td>0.000000</td>\n",
       "      <td>872.000000</td>\n",
       "      <td>825.000000</td>\n",
       "    </tr>\n",
       "    <tr>\n",
       "      <th>25%</th>\n",
       "      <td>7.000000</td>\n",
       "      <td>4.000000</td>\n",
       "      <td>992.000000</td>\n",
       "      <td>988.000000</td>\n",
       "    </tr>\n",
       "    <tr>\n",
       "      <th>50%</th>\n",
       "      <td>25.000000</td>\n",
       "      <td>8.000000</td>\n",
       "      <td>1159.000000</td>\n",
       "      <td>1151.000000</td>\n",
       "    </tr>\n",
       "    <tr>\n",
       "      <th>75%</th>\n",
       "      <td>41.000000</td>\n",
       "      <td>12.000000</td>\n",
       "      <td>1448.000000</td>\n",
       "      <td>1442.750000</td>\n",
       "    </tr>\n",
       "    <tr>\n",
       "      <th>max</th>\n",
       "      <td>279.000000</td>\n",
       "      <td>355.000000</td>\n",
       "      <td>1905.000000</td>\n",
       "      <td>1905.000000</td>\n",
       "    </tr>\n",
       "  </tbody>\n",
       "</table>\n",
       "</div>"
      ],
      "text/plain": [
       "       starting_trips  ongoing_trips_prev  in_service_bikes_rolling  \\\n",
       "count     8418.000000         8418.000000               8418.000000   \n",
       "mean        26.761701            9.212758               1273.285222   \n",
       "std         21.185417           10.625903                341.309420   \n",
       "min          0.000000            0.000000                872.000000   \n",
       "25%          7.000000            4.000000                992.000000   \n",
       "50%         25.000000            8.000000               1159.000000   \n",
       "75%         41.000000           12.000000               1448.000000   \n",
       "max        279.000000          355.000000               1905.000000   \n",
       "\n",
       "       available_bikes  \n",
       "count      8418.000000  \n",
       "mean       1264.072464  \n",
       "std         340.691950  \n",
       "min         825.000000  \n",
       "25%         988.000000  \n",
       "50%        1151.000000  \n",
       "75%        1442.750000  \n",
       "max        1905.000000  "
      ]
     },
     "execution_count": 170,
     "metadata": {},
     "output_type": "execute_result"
    }
   ],
   "source": [
    "trips_hourly.describe()"
   ]
  },
  {
   "cell_type": "markdown",
   "metadata": {},
   "source": [
    "### Add weather features\n",
    "Copy precipitation, min and max temperature values from weather dataset."
   ]
  },
  {
   "cell_type": "code",
   "execution_count": 171,
   "metadata": {},
   "outputs": [],
   "source": [
    "weather_df = pd.read_pickle('../00_data/weather.pkl')"
   ]
  },
  {
   "cell_type": "code",
   "execution_count": 172,
   "metadata": {},
   "outputs": [],
   "source": [
    "trips_hourly['max_temp'] = weather_df['max_temp']\n",
    "trips_hourly['min_temp'] = weather_df['min_temp']\n",
    "trips_hourly['precip'] = weather_df['precip']"
   ]
  },
  {
   "cell_type": "code",
   "execution_count": 173,
   "metadata": {},
   "outputs": [
    {
     "data": {
      "text/html": [
       "<div>\n",
       "<style scoped>\n",
       "    .dataframe tbody tr th:only-of-type {\n",
       "        vertical-align: middle;\n",
       "    }\n",
       "\n",
       "    .dataframe tbody tr th {\n",
       "        vertical-align: top;\n",
       "    }\n",
       "\n",
       "    .dataframe thead th {\n",
       "        text-align: right;\n",
       "    }\n",
       "</style>\n",
       "<table border=\"1\" class=\"dataframe\">\n",
       "  <thead>\n",
       "    <tr style=\"text-align: right;\">\n",
       "      <th></th>\n",
       "      <th>starting_trips</th>\n",
       "      <th>ongoing_trips_prev</th>\n",
       "      <th>in_service_bikes_rolling</th>\n",
       "      <th>available_bikes</th>\n",
       "      <th>max_temp</th>\n",
       "      <th>min_temp</th>\n",
       "      <th>precip</th>\n",
       "    </tr>\n",
       "  </thead>\n",
       "  <tbody>\n",
       "    <tr>\n",
       "      <th>2019-01-01 01:00:00</th>\n",
       "      <td>8.0</td>\n",
       "      <td>2.0</td>\n",
       "      <td>872.0</td>\n",
       "      <td>870.0</td>\n",
       "      <td>15.6</td>\n",
       "      <td>15.6</td>\n",
       "      <td>0.0</td>\n",
       "    </tr>\n",
       "    <tr>\n",
       "      <th>2019-01-01 02:00:00</th>\n",
       "      <td>11.0</td>\n",
       "      <td>4.0</td>\n",
       "      <td>872.0</td>\n",
       "      <td>868.0</td>\n",
       "      <td>15.0</td>\n",
       "      <td>15.0</td>\n",
       "      <td>0.0</td>\n",
       "    </tr>\n",
       "  </tbody>\n",
       "</table>\n",
       "</div>"
      ],
      "text/plain": [
       "                     starting_trips  ongoing_trips_prev  \\\n",
       "2019-01-01 01:00:00             8.0                 2.0   \n",
       "2019-01-01 02:00:00            11.0                 4.0   \n",
       "\n",
       "                     in_service_bikes_rolling  available_bikes  max_temp  \\\n",
       "2019-01-01 01:00:00                     872.0            870.0      15.6   \n",
       "2019-01-01 02:00:00                     872.0            868.0      15.0   \n",
       "\n",
       "                     min_temp  precip  \n",
       "2019-01-01 01:00:00      15.6     0.0  \n",
       "2019-01-01 02:00:00      15.0     0.0  "
      ]
     },
     "execution_count": 173,
     "metadata": {},
     "output_type": "execute_result"
    }
   ],
   "source": [
    "trips_hourly.head(2)"
   ]
  },
  {
   "cell_type": "code",
   "execution_count": 174,
   "metadata": {},
   "outputs": [],
   "source": [
    "trips_hourly = trips_hourly.dropna()"
   ]
  },
  {
   "cell_type": "markdown",
   "metadata": {},
   "source": [
    "### Create time related features"
   ]
  },
  {
   "cell_type": "code",
   "execution_count": 175,
   "metadata": {},
   "outputs": [],
   "source": [
    "trips_hourly['hour'] = trips_hourly.index.hour\n",
    "trips_hourly['day_of_week'] = trips_hourly.index.day_of_week\n",
    "trips_hourly['month'] = trips_hourly.index.month\n",
    "trips_hourly['day_of_year'] = trips_hourly.index.day_of_year\n",
    "trips_hourly['week'] = trips_hourly.index.isocalendar().week.astype('int64')\n",
    "trips_hourly['is_weekday'] = trips_hourly['day_of_week'] < 5\n",
    "trips_hourly['date'] = trips_hourly.index.date.astype('datetime64[ns]')"
   ]
  },
  {
   "cell_type": "code",
   "execution_count": 176,
   "metadata": {},
   "outputs": [
    {
     "data": {
      "text/html": [
       "<div>\n",
       "<style scoped>\n",
       "    .dataframe tbody tr th:only-of-type {\n",
       "        vertical-align: middle;\n",
       "    }\n",
       "\n",
       "    .dataframe tbody tr th {\n",
       "        vertical-align: top;\n",
       "    }\n",
       "\n",
       "    .dataframe thead th {\n",
       "        text-align: right;\n",
       "    }\n",
       "</style>\n",
       "<table border=\"1\" class=\"dataframe\">\n",
       "  <thead>\n",
       "    <tr style=\"text-align: right;\">\n",
       "      <th></th>\n",
       "      <th>starting_trips</th>\n",
       "      <th>ongoing_trips_prev</th>\n",
       "      <th>in_service_bikes_rolling</th>\n",
       "      <th>available_bikes</th>\n",
       "      <th>max_temp</th>\n",
       "      <th>min_temp</th>\n",
       "      <th>precip</th>\n",
       "      <th>hour</th>\n",
       "      <th>day_of_week</th>\n",
       "      <th>month</th>\n",
       "      <th>day_of_year</th>\n",
       "      <th>week</th>\n",
       "      <th>is_weekday</th>\n",
       "      <th>date</th>\n",
       "    </tr>\n",
       "  </thead>\n",
       "  <tbody>\n",
       "    <tr>\n",
       "      <th>2019-01-01 01:00:00</th>\n",
       "      <td>8.0</td>\n",
       "      <td>2.0</td>\n",
       "      <td>872.0</td>\n",
       "      <td>870.0</td>\n",
       "      <td>15.6</td>\n",
       "      <td>15.6</td>\n",
       "      <td>0.0</td>\n",
       "      <td>1</td>\n",
       "      <td>1</td>\n",
       "      <td>1</td>\n",
       "      <td>1</td>\n",
       "      <td>1</td>\n",
       "      <td>True</td>\n",
       "      <td>2019-01-01</td>\n",
       "    </tr>\n",
       "    <tr>\n",
       "      <th>2019-01-01 02:00:00</th>\n",
       "      <td>11.0</td>\n",
       "      <td>4.0</td>\n",
       "      <td>872.0</td>\n",
       "      <td>868.0</td>\n",
       "      <td>15.0</td>\n",
       "      <td>15.0</td>\n",
       "      <td>0.0</td>\n",
       "      <td>2</td>\n",
       "      <td>1</td>\n",
       "      <td>1</td>\n",
       "      <td>1</td>\n",
       "      <td>1</td>\n",
       "      <td>True</td>\n",
       "      <td>2019-01-01</td>\n",
       "    </tr>\n",
       "  </tbody>\n",
       "</table>\n",
       "</div>"
      ],
      "text/plain": [
       "                     starting_trips  ongoing_trips_prev  \\\n",
       "2019-01-01 01:00:00             8.0                 2.0   \n",
       "2019-01-01 02:00:00            11.0                 4.0   \n",
       "\n",
       "                     in_service_bikes_rolling  available_bikes  max_temp  \\\n",
       "2019-01-01 01:00:00                     872.0            870.0      15.6   \n",
       "2019-01-01 02:00:00                     872.0            868.0      15.0   \n",
       "\n",
       "                     min_temp  precip  hour  day_of_week  month  day_of_year  \\\n",
       "2019-01-01 01:00:00      15.6     0.0     1            1      1            1   \n",
       "2019-01-01 02:00:00      15.0     0.0     2            1      1            1   \n",
       "\n",
       "                     week  is_weekday       date  \n",
       "2019-01-01 01:00:00     1        True 2019-01-01  \n",
       "2019-01-01 02:00:00     1        True 2019-01-01  "
      ]
     },
     "execution_count": 176,
     "metadata": {},
     "output_type": "execute_result"
    }
   ],
   "source": [
    "trips_hourly.head(2)"
   ]
  },
  {
   "cell_type": "markdown",
   "metadata": {},
   "source": [
    "### Create is holiday feature\n",
    "We create a feature 'is_holiday', which is true when there is an entry on the same day in the holidays' dataset, and false otherwise."
   ]
  },
  {
   "cell_type": "code",
   "execution_count": 177,
   "metadata": {},
   "outputs": [],
   "source": [
    "holidays_df = pd.read_pickle('../00_data/holidays.pkl')"
   ]
  },
  {
   "cell_type": "code",
   "execution_count": 178,
   "metadata": {},
   "outputs": [],
   "source": [
    "trips_hourly = trips_hourly.reset_index().merge(holidays_df, on='date', how='left').set_index('index')"
   ]
  },
  {
   "cell_type": "code",
   "execution_count": 179,
   "metadata": {},
   "outputs": [
    {
     "data": {
      "text/plain": [
       "Index(['starting_trips', 'ongoing_trips_prev', 'in_service_bikes_rolling',\n",
       "       'available_bikes', 'max_temp', 'min_temp', 'precip', 'hour',\n",
       "       'day_of_week', 'month', 'day_of_year', 'week', 'is_weekday',\n",
       "       'is_holiday'],\n",
       "      dtype='object')"
      ]
     },
     "execution_count": 179,
     "metadata": {},
     "output_type": "execute_result"
    }
   ],
   "source": [
    "trips_hourly['is_holiday'] = trips_hourly['holiday_name'].notna()\n",
    "trips_hourly = trips_hourly.drop(columns=['holiday_name', 'date'])\n",
    "trips_hourly.columns"
   ]
  },
  {
   "cell_type": "code",
   "execution_count": 180,
   "metadata": {},
   "outputs": [],
   "source": [
    "trips_hourly.to_pickle('../00_data/trips_hourly_engineered.pkl')"
   ]
  },
  {
   "cell_type": "markdown",
   "metadata": {},
   "source": [
    "## Feature Selection\n",
    "Now we will filter previously prepared features. This will be done, firstly, based on the correlation of independent features and secondly, based on the results of Lasso Regression."
   ]
  },
  {
   "cell_type": "code",
   "execution_count": 181,
   "metadata": {},
   "outputs": [],
   "source": [
    "import pandas as pd\n",
    "import numpy as np\n",
    "from sklearn.preprocessing import StandardScaler\n",
    "from sklearn.linear_model import Lasso"
   ]
  },
  {
   "cell_type": "code",
   "execution_count": 182,
   "metadata": {},
   "outputs": [
    {
     "data": {
      "text/plain": [
       "Index(['starting_trips', 'ongoing_trips_prev', 'in_service_bikes_rolling',\n",
       "       'available_bikes', 'max_temp', 'min_temp', 'precip', 'hour',\n",
       "       'day_of_week', 'month', 'day_of_year', 'week', 'is_weekday',\n",
       "       'is_holiday'],\n",
       "      dtype='object')"
      ]
     },
     "execution_count": 182,
     "metadata": {},
     "output_type": "execute_result"
    }
   ],
   "source": [
    "trips_hourly_df = pd.read_pickle(\"../00_data/trips_hourly_engineered.pkl\")\n",
    "trips_hourly_df.columns"
   ]
  },
  {
   "cell_type": "markdown",
   "metadata": {},
   "source": [
    "### Feature Correlation\n",
    "We will now compute the correlation coefficient of each pair of features. Then we will retain only one of two features if their correlation coefficient is above 0.7 (or 70%). This is done because with highly correlated features one can be predicted from another. The second feature does not add any additional information to the model this way."
   ]
  },
  {
   "cell_type": "code",
   "execution_count": 183,
   "metadata": {},
   "outputs": [
    {
     "data": {
      "text/html": [
       "<div>\n",
       "<style scoped>\n",
       "    .dataframe tbody tr th:only-of-type {\n",
       "        vertical-align: middle;\n",
       "    }\n",
       "\n",
       "    .dataframe tbody tr th {\n",
       "        vertical-align: top;\n",
       "    }\n",
       "\n",
       "    .dataframe thead th {\n",
       "        text-align: right;\n",
       "    }\n",
       "</style>\n",
       "<table border=\"1\" class=\"dataframe\">\n",
       "  <thead>\n",
       "    <tr style=\"text-align: right;\">\n",
       "      <th></th>\n",
       "      <th>starting_trips</th>\n",
       "      <th>ongoing_trips_prev</th>\n",
       "      <th>in_service_bikes_rolling</th>\n",
       "      <th>available_bikes</th>\n",
       "      <th>max_temp</th>\n",
       "      <th>min_temp</th>\n",
       "      <th>precip</th>\n",
       "      <th>hour</th>\n",
       "      <th>day_of_week</th>\n",
       "      <th>month</th>\n",
       "      <th>day_of_year</th>\n",
       "      <th>week</th>\n",
       "      <th>is_weekday</th>\n",
       "      <th>is_holiday</th>\n",
       "    </tr>\n",
       "  </thead>\n",
       "  <tbody>\n",
       "    <tr>\n",
       "      <th>starting_trips</th>\n",
       "      <td>1.000000</td>\n",
       "      <td>0.574824</td>\n",
       "      <td>0.141570</td>\n",
       "      <td>0.123631</td>\n",
       "      <td>0.036030</td>\n",
       "      <td>0.033967</td>\n",
       "      <td>-0.058520</td>\n",
       "      <td>0.389957</td>\n",
       "      <td>-0.126456</td>\n",
       "      <td>0.124492</td>\n",
       "      <td>0.125698</td>\n",
       "      <td>0.126804</td>\n",
       "      <td>0.174813</td>\n",
       "      <td>-0.064120</td>\n",
       "    </tr>\n",
       "    <tr>\n",
       "      <th>ongoing_trips_prev</th>\n",
       "      <td>0.574824</td>\n",
       "      <td>1.000000</td>\n",
       "      <td>0.067681</td>\n",
       "      <td>0.036180</td>\n",
       "      <td>0.021533</td>\n",
       "      <td>0.020945</td>\n",
       "      <td>-0.039440</td>\n",
       "      <td>0.273713</td>\n",
       "      <td>0.069324</td>\n",
       "      <td>-0.009921</td>\n",
       "      <td>-0.010000</td>\n",
       "      <td>-0.009312</td>\n",
       "      <td>-0.061970</td>\n",
       "      <td>-0.021558</td>\n",
       "    </tr>\n",
       "    <tr>\n",
       "      <th>in_service_bikes_rolling</th>\n",
       "      <td>0.141570</td>\n",
       "      <td>0.067681</td>\n",
       "      <td>1.000000</td>\n",
       "      <td>0.999503</td>\n",
       "      <td>0.586810</td>\n",
       "      <td>0.585861</td>\n",
       "      <td>-0.111927</td>\n",
       "      <td>-0.010177</td>\n",
       "      <td>0.004920</td>\n",
       "      <td>0.358770</td>\n",
       "      <td>0.355559</td>\n",
       "      <td>0.376718</td>\n",
       "      <td>-0.003149</td>\n",
       "      <td>-0.063213</td>\n",
       "    </tr>\n",
       "    <tr>\n",
       "      <th>available_bikes</th>\n",
       "      <td>0.123631</td>\n",
       "      <td>0.036180</td>\n",
       "      <td>0.999503</td>\n",
       "      <td>1.000000</td>\n",
       "      <td>0.587093</td>\n",
       "      <td>0.586161</td>\n",
       "      <td>-0.110864</td>\n",
       "      <td>-0.018847</td>\n",
       "      <td>0.002737</td>\n",
       "      <td>0.359673</td>\n",
       "      <td>0.356459</td>\n",
       "      <td>0.377631</td>\n",
       "      <td>-0.001195</td>\n",
       "      <td>-0.062636</td>\n",
       "    </tr>\n",
       "    <tr>\n",
       "      <th>max_temp</th>\n",
       "      <td>0.036030</td>\n",
       "      <td>0.021533</td>\n",
       "      <td>0.586810</td>\n",
       "      <td>0.587093</td>\n",
       "      <td>1.000000</td>\n",
       "      <td>0.999439</td>\n",
       "      <td>-0.149823</td>\n",
       "      <td>0.179879</td>\n",
       "      <td>0.018225</td>\n",
       "      <td>0.400874</td>\n",
       "      <td>0.401182</td>\n",
       "      <td>0.412204</td>\n",
       "      <td>-0.028022</td>\n",
       "      <td>-0.049975</td>\n",
       "    </tr>\n",
       "    <tr>\n",
       "      <th>min_temp</th>\n",
       "      <td>0.033967</td>\n",
       "      <td>0.020945</td>\n",
       "      <td>0.585861</td>\n",
       "      <td>0.586161</td>\n",
       "      <td>0.999439</td>\n",
       "      <td>1.000000</td>\n",
       "      <td>-0.153644</td>\n",
       "      <td>0.178138</td>\n",
       "      <td>0.019583</td>\n",
       "      <td>0.400981</td>\n",
       "      <td>0.401358</td>\n",
       "      <td>0.412202</td>\n",
       "      <td>-0.029985</td>\n",
       "      <td>-0.049931</td>\n",
       "    </tr>\n",
       "    <tr>\n",
       "      <th>precip</th>\n",
       "      <td>-0.058520</td>\n",
       "      <td>-0.039440</td>\n",
       "      <td>-0.111927</td>\n",
       "      <td>-0.110864</td>\n",
       "      <td>-0.149823</td>\n",
       "      <td>-0.153644</td>\n",
       "      <td>1.000000</td>\n",
       "      <td>0.026791</td>\n",
       "      <td>-0.014882</td>\n",
       "      <td>-0.097331</td>\n",
       "      <td>-0.099763</td>\n",
       "      <td>-0.096081</td>\n",
       "      <td>0.008493</td>\n",
       "      <td>0.069449</td>\n",
       "    </tr>\n",
       "    <tr>\n",
       "      <th>hour</th>\n",
       "      <td>0.389957</td>\n",
       "      <td>0.273713</td>\n",
       "      <td>-0.010177</td>\n",
       "      <td>-0.018847</td>\n",
       "      <td>0.179879</td>\n",
       "      <td>0.178138</td>\n",
       "      <td>0.026791</td>\n",
       "      <td>1.000000</td>\n",
       "      <td>-0.007258</td>\n",
       "      <td>-0.005999</td>\n",
       "      <td>-0.006005</td>\n",
       "      <td>-0.005656</td>\n",
       "      <td>0.004881</td>\n",
       "      <td>0.002615</td>\n",
       "    </tr>\n",
       "    <tr>\n",
       "      <th>day_of_week</th>\n",
       "      <td>-0.126456</td>\n",
       "      <td>0.069324</td>\n",
       "      <td>0.004920</td>\n",
       "      <td>0.002737</td>\n",
       "      <td>0.018225</td>\n",
       "      <td>0.019583</td>\n",
       "      <td>-0.014882</td>\n",
       "      <td>-0.007258</td>\n",
       "      <td>1.000000</td>\n",
       "      <td>-0.001384</td>\n",
       "      <td>-0.000908</td>\n",
       "      <td>0.005463</td>\n",
       "      <td>-0.791730</td>\n",
       "      <td>-0.091845</td>\n",
       "    </tr>\n",
       "    <tr>\n",
       "      <th>month</th>\n",
       "      <td>0.124492</td>\n",
       "      <td>-0.009921</td>\n",
       "      <td>0.358770</td>\n",
       "      <td>0.359673</td>\n",
       "      <td>0.400874</td>\n",
       "      <td>0.400981</td>\n",
       "      <td>-0.097331</td>\n",
       "      <td>-0.005999</td>\n",
       "      <td>-0.001384</td>\n",
       "      <td>1.000000</td>\n",
       "      <td>0.996514</td>\n",
       "      <td>0.964626</td>\n",
       "      <td>-0.007797</td>\n",
       "      <td>0.014958</td>\n",
       "    </tr>\n",
       "    <tr>\n",
       "      <th>day_of_year</th>\n",
       "      <td>0.125698</td>\n",
       "      <td>-0.010000</td>\n",
       "      <td>0.355559</td>\n",
       "      <td>0.356459</td>\n",
       "      <td>0.401182</td>\n",
       "      <td>0.401358</td>\n",
       "      <td>-0.099763</td>\n",
       "      <td>-0.006005</td>\n",
       "      <td>-0.000908</td>\n",
       "      <td>0.996514</td>\n",
       "      <td>1.000000</td>\n",
       "      <td>0.965335</td>\n",
       "      <td>-0.008830</td>\n",
       "      <td>0.015251</td>\n",
       "    </tr>\n",
       "    <tr>\n",
       "      <th>week</th>\n",
       "      <td>0.126804</td>\n",
       "      <td>-0.009312</td>\n",
       "      <td>0.376718</td>\n",
       "      <td>0.377631</td>\n",
       "      <td>0.412204</td>\n",
       "      <td>0.412202</td>\n",
       "      <td>-0.096081</td>\n",
       "      <td>-0.005656</td>\n",
       "      <td>0.005463</td>\n",
       "      <td>0.964626</td>\n",
       "      <td>0.965335</td>\n",
       "      <td>1.000000</td>\n",
       "      <td>-0.006783</td>\n",
       "      <td>-0.024234</td>\n",
       "    </tr>\n",
       "    <tr>\n",
       "      <th>is_weekday</th>\n",
       "      <td>0.174813</td>\n",
       "      <td>-0.061970</td>\n",
       "      <td>-0.003149</td>\n",
       "      <td>-0.001195</td>\n",
       "      <td>-0.028022</td>\n",
       "      <td>-0.029985</td>\n",
       "      <td>0.008493</td>\n",
       "      <td>0.004881</td>\n",
       "      <td>-0.791730</td>\n",
       "      <td>-0.007797</td>\n",
       "      <td>-0.008830</td>\n",
       "      <td>-0.006783</td>\n",
       "      <td>1.000000</td>\n",
       "      <td>0.022715</td>\n",
       "    </tr>\n",
       "    <tr>\n",
       "      <th>is_holiday</th>\n",
       "      <td>-0.064120</td>\n",
       "      <td>-0.021558</td>\n",
       "      <td>-0.063213</td>\n",
       "      <td>-0.062636</td>\n",
       "      <td>-0.049975</td>\n",
       "      <td>-0.049931</td>\n",
       "      <td>0.069449</td>\n",
       "      <td>0.002615</td>\n",
       "      <td>-0.091845</td>\n",
       "      <td>0.014958</td>\n",
       "      <td>0.015251</td>\n",
       "      <td>-0.024234</td>\n",
       "      <td>0.022715</td>\n",
       "      <td>1.000000</td>\n",
       "    </tr>\n",
       "  </tbody>\n",
       "</table>\n",
       "</div>"
      ],
      "text/plain": [
       "                          starting_trips  ongoing_trips_prev  \\\n",
       "starting_trips                  1.000000            0.574824   \n",
       "ongoing_trips_prev              0.574824            1.000000   \n",
       "in_service_bikes_rolling        0.141570            0.067681   \n",
       "available_bikes                 0.123631            0.036180   \n",
       "max_temp                        0.036030            0.021533   \n",
       "min_temp                        0.033967            0.020945   \n",
       "precip                         -0.058520           -0.039440   \n",
       "hour                            0.389957            0.273713   \n",
       "day_of_week                    -0.126456            0.069324   \n",
       "month                           0.124492           -0.009921   \n",
       "day_of_year                     0.125698           -0.010000   \n",
       "week                            0.126804           -0.009312   \n",
       "is_weekday                      0.174813           -0.061970   \n",
       "is_holiday                     -0.064120           -0.021558   \n",
       "\n",
       "                          in_service_bikes_rolling  available_bikes  max_temp  \\\n",
       "starting_trips                            0.141570         0.123631  0.036030   \n",
       "ongoing_trips_prev                        0.067681         0.036180  0.021533   \n",
       "in_service_bikes_rolling                  1.000000         0.999503  0.586810   \n",
       "available_bikes                           0.999503         1.000000  0.587093   \n",
       "max_temp                                  0.586810         0.587093  1.000000   \n",
       "min_temp                                  0.585861         0.586161  0.999439   \n",
       "precip                                   -0.111927        -0.110864 -0.149823   \n",
       "hour                                     -0.010177        -0.018847  0.179879   \n",
       "day_of_week                               0.004920         0.002737  0.018225   \n",
       "month                                     0.358770         0.359673  0.400874   \n",
       "day_of_year                               0.355559         0.356459  0.401182   \n",
       "week                                      0.376718         0.377631  0.412204   \n",
       "is_weekday                               -0.003149        -0.001195 -0.028022   \n",
       "is_holiday                               -0.063213        -0.062636 -0.049975   \n",
       "\n",
       "                          min_temp    precip      hour  day_of_week     month  \\\n",
       "starting_trips            0.033967 -0.058520  0.389957    -0.126456  0.124492   \n",
       "ongoing_trips_prev        0.020945 -0.039440  0.273713     0.069324 -0.009921   \n",
       "in_service_bikes_rolling  0.585861 -0.111927 -0.010177     0.004920  0.358770   \n",
       "available_bikes           0.586161 -0.110864 -0.018847     0.002737  0.359673   \n",
       "max_temp                  0.999439 -0.149823  0.179879     0.018225  0.400874   \n",
       "min_temp                  1.000000 -0.153644  0.178138     0.019583  0.400981   \n",
       "precip                   -0.153644  1.000000  0.026791    -0.014882 -0.097331   \n",
       "hour                      0.178138  0.026791  1.000000    -0.007258 -0.005999   \n",
       "day_of_week               0.019583 -0.014882 -0.007258     1.000000 -0.001384   \n",
       "month                     0.400981 -0.097331 -0.005999    -0.001384  1.000000   \n",
       "day_of_year               0.401358 -0.099763 -0.006005    -0.000908  0.996514   \n",
       "week                      0.412202 -0.096081 -0.005656     0.005463  0.964626   \n",
       "is_weekday               -0.029985  0.008493  0.004881    -0.791730 -0.007797   \n",
       "is_holiday               -0.049931  0.069449  0.002615    -0.091845  0.014958   \n",
       "\n",
       "                          day_of_year      week  is_weekday  is_holiday  \n",
       "starting_trips               0.125698  0.126804    0.174813   -0.064120  \n",
       "ongoing_trips_prev          -0.010000 -0.009312   -0.061970   -0.021558  \n",
       "in_service_bikes_rolling     0.355559  0.376718   -0.003149   -0.063213  \n",
       "available_bikes              0.356459  0.377631   -0.001195   -0.062636  \n",
       "max_temp                     0.401182  0.412204   -0.028022   -0.049975  \n",
       "min_temp                     0.401358  0.412202   -0.029985   -0.049931  \n",
       "precip                      -0.099763 -0.096081    0.008493    0.069449  \n",
       "hour                        -0.006005 -0.005656    0.004881    0.002615  \n",
       "day_of_week                 -0.000908  0.005463   -0.791730   -0.091845  \n",
       "month                        0.996514  0.964626   -0.007797    0.014958  \n",
       "day_of_year                  1.000000  0.965335   -0.008830    0.015251  \n",
       "week                         0.965335  1.000000   -0.006783   -0.024234  \n",
       "is_weekday                  -0.008830 -0.006783    1.000000    0.022715  \n",
       "is_holiday                   0.015251 -0.024234    0.022715    1.000000  "
      ]
     },
     "execution_count": 183,
     "metadata": {},
     "output_type": "execute_result"
    }
   ],
   "source": [
    "trips_hourly_df.corr()"
   ]
  },
  {
   "cell_type": "markdown",
   "metadata": {},
   "source": [
    "The table provides all information at glance. However, it is difficult to single out pairs of features that are of interest to us. Therefore, we will write an additional method to print only those with their corresponding correlation coefficient."
   ]
  },
  {
   "cell_type": "code",
   "execution_count": 184,
   "metadata": {},
   "outputs": [
    {
     "name": "stdout",
     "output_type": "stream",
     "text": [
      "in_service_bikes_rolling available_bikes 0.9995025051665766\n",
      "max_temp min_temp 0.9994394842395657\n",
      "month day_of_year 0.9965143119316073\n",
      "month week 0.964625983029945\n",
      "day_of_year week 0.9653350880329168\n"
     ]
    }
   ],
   "source": [
    "for id_1, variable in enumerate(trips_hourly_df.columns):\n",
    "    for id_2, comp_variable in enumerate(trips_hourly_df.columns):\n",
    "        if id_1 < id_2:\n",
    "            corrcoeff = np.corrcoef(\n",
    "                [\n",
    "                    trips_hourly_df[variable].astype(\"float64\"),\n",
    "                    trips_hourly_df[comp_variable].astype(\"float64\"),\n",
    "                ]\n",
    "            )[0][1]\n",
    "            if corrcoeff > 0.7:\n",
    "                print(variable, comp_variable, corrcoeff)\n",
    "                "
   ]
  },
  {
   "cell_type": "markdown",
   "metadata": {},
   "source": [
    "In general, it doesn't matter which feature to drop from each pair. We decided to exclude the following - ```in_service_bikes_rolling, max_temp, day_of_year, week```."
   ]
  },
  {
   "cell_type": "code",
   "execution_count": 185,
   "metadata": {},
   "outputs": [
    {
     "data": {
      "text/html": [
       "<div>\n",
       "<style scoped>\n",
       "    .dataframe tbody tr th:only-of-type {\n",
       "        vertical-align: middle;\n",
       "    }\n",
       "\n",
       "    .dataframe tbody tr th {\n",
       "        vertical-align: top;\n",
       "    }\n",
       "\n",
       "    .dataframe thead th {\n",
       "        text-align: right;\n",
       "    }\n",
       "</style>\n",
       "<table border=\"1\" class=\"dataframe\">\n",
       "  <thead>\n",
       "    <tr style=\"text-align: right;\">\n",
       "      <th></th>\n",
       "      <th>starting_trips</th>\n",
       "      <th>ongoing_trips_prev</th>\n",
       "      <th>available_bikes</th>\n",
       "      <th>min_temp</th>\n",
       "      <th>precip</th>\n",
       "      <th>hour</th>\n",
       "      <th>day_of_week</th>\n",
       "      <th>month</th>\n",
       "      <th>is_weekday</th>\n",
       "      <th>is_holiday</th>\n",
       "    </tr>\n",
       "    <tr>\n",
       "      <th>index</th>\n",
       "      <th></th>\n",
       "      <th></th>\n",
       "      <th></th>\n",
       "      <th></th>\n",
       "      <th></th>\n",
       "      <th></th>\n",
       "      <th></th>\n",
       "      <th></th>\n",
       "      <th></th>\n",
       "      <th></th>\n",
       "    </tr>\n",
       "  </thead>\n",
       "  <tbody>\n",
       "    <tr>\n",
       "      <th>2019-01-01 01:00:00</th>\n",
       "      <td>8.0</td>\n",
       "      <td>2.0</td>\n",
       "      <td>870.0</td>\n",
       "      <td>15.6</td>\n",
       "      <td>0.0</td>\n",
       "      <td>1</td>\n",
       "      <td>1</td>\n",
       "      <td>1</td>\n",
       "      <td>True</td>\n",
       "      <td>True</td>\n",
       "    </tr>\n",
       "    <tr>\n",
       "      <th>2019-01-01 02:00:00</th>\n",
       "      <td>11.0</td>\n",
       "      <td>4.0</td>\n",
       "      <td>868.0</td>\n",
       "      <td>15.0</td>\n",
       "      <td>0.0</td>\n",
       "      <td>2</td>\n",
       "      <td>1</td>\n",
       "      <td>1</td>\n",
       "      <td>True</td>\n",
       "      <td>True</td>\n",
       "    </tr>\n",
       "  </tbody>\n",
       "</table>\n",
       "</div>"
      ],
      "text/plain": [
       "                     starting_trips  ongoing_trips_prev  available_bikes  \\\n",
       "index                                                                      \n",
       "2019-01-01 01:00:00             8.0                 2.0            870.0   \n",
       "2019-01-01 02:00:00            11.0                 4.0            868.0   \n",
       "\n",
       "                     min_temp  precip  hour  day_of_week  month  is_weekday  \\\n",
       "index                                                                         \n",
       "2019-01-01 01:00:00      15.6     0.0     1            1      1        True   \n",
       "2019-01-01 02:00:00      15.0     0.0     2            1      1        True   \n",
       "\n",
       "                     is_holiday  \n",
       "index                            \n",
       "2019-01-01 01:00:00        True  \n",
       "2019-01-01 02:00:00        True  "
      ]
     },
     "execution_count": 185,
     "metadata": {},
     "output_type": "execute_result"
    }
   ],
   "source": [
    "trips_hourly_df = trips_hourly_df.drop(\n",
    "    columns=[\"in_service_bikes_rolling\", \"max_temp\", \"day_of_year\", \"week\"]\n",
    ")\n",
    "trips_hourly_df.head(2)"
   ]
  },
  {
   "cell_type": "markdown",
   "metadata": {},
   "source": [
    "### Lasso Regression\n",
    "Here, we will compute a simple linear regression. Lasso Regression is often used for feature selection because it assigns 0 coefficient to features with a very low impact on the predicted variable. These features can then be excluded from future analysis."
   ]
  },
  {
   "cell_type": "code",
   "execution_count": 186,
   "metadata": {},
   "outputs": [],
   "source": [
    "input_features = trips_hourly_df.reset_index().drop(columns=[\"starting_trips\", \"index\"])\n",
    "predicted_varible = trips_hourly_df[\"starting_trips\"]"
   ]
  },
  {
   "cell_type": "code",
   "execution_count": 187,
   "metadata": {},
   "outputs": [],
   "source": [
    "# scale input features\n",
    "scaler = StandardScaler()\n",
    "input_features_scaled = scaler.fit_transform(input_features.values)"
   ]
  },
  {
   "cell_type": "code",
   "execution_count": 188,
   "metadata": {},
   "outputs": [
    {
     "name": "stdout",
     "output_type": "stream",
     "text": [
      "Coefficients  [10.11670111  1.02691302 -0.47117983 -0.          4.59424271 -0.\n",
      "  1.61539644  3.31454493 -0.21173056]\n"
     ]
    }
   ],
   "source": [
    "# fit data to the linear regression model\n",
    "model = Lasso(alpha=1)\n",
    "model.fit(input_features_scaled, predicted_varible)\n",
    "print(\"Coefficients \", model.coef_)"
   ]
  },
  {
   "cell_type": "markdown",
   "metadata": {},
   "source": [
    "The results of the Lasso regression yield 0 coefficient for features precipitation, is_weekday, and is_holiday. Therefore we will drop these for the predictive analytics section."
   ]
  },
  {
   "cell_type": "code",
   "execution_count": 189,
   "metadata": {},
   "outputs": [],
   "source": [
    "trips_hourly_df = trips_hourly_df.drop(columns={\"precip\", \"day_of_week\"})"
   ]
  },
  {
   "cell_type": "code",
   "execution_count": 190,
   "metadata": {},
   "outputs": [],
   "source": [
    "trips_hourly_df.to_pickle(\"../00_data/trips_hourly_selected.pkl\")"
   ]
  }
 ],
 "metadata": {
  "interpreter": {
   "hash": "8b60088a9b347fcb01b673d89e7da3a71c8c9fcb762a42ef04d5b6405c108bf0"
  },
  "kernelspec": {
   "display_name": "Python 3.9.7 64-bit ('aa_magma': conda)",
   "language": "python",
   "name": "python3"
  },
  "language_info": {
   "codemirror_mode": {
    "name": "ipython",
    "version": 3
   },
   "file_extension": ".py",
   "mimetype": "text/x-python",
   "name": "python",
   "nbconvert_exporter": "python",
   "pygments_lexer": "ipython3",
   "version": "3.9.7"
  },
  "orig_nbformat": 4
 },
 "nbformat": 4,
 "nbformat_minor": 2
}
