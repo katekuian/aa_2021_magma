{
 "cells": [
  {
   "cell_type": "markdown",
   "metadata": {},
   "source": [
    "In this notebook, we will first aggregate data on an hourly basis to be used for predictive analysis. Then, we will engineer new features for the model. Finally, we will do feature selection and drop some features to reduce dimensionality."
   ]
  },
  {
   "cell_type": "markdown",
   "metadata": {},
   "source": [
    "## Data Aggregation\n",
    "First, let us aggregate data on an hourly basis to be used for predictive analysis."
   ]
  },
  {
   "cell_type": "code",
   "execution_count": 45,
   "metadata": {},
   "outputs": [],
   "source": [
    "import pandas as pd\n",
    "import matplotlib.pyplot as plt"
   ]
  },
  {
   "cell_type": "code",
   "execution_count": 46,
   "metadata": {},
   "outputs": [],
   "source": [
    "trips_df = pd.read_pickle('../00_data/trips.pkl')"
   ]
  },
  {
   "cell_type": "code",
   "execution_count": 47,
   "metadata": {},
   "outputs": [],
   "source": [
    "# floor start and end times of trips to hour value, i.e. ignore minutes and seconds\n",
    "trips_df['start_time_floored'] = trips_df['start_time'].dt.floor('1H')\n",
    "trips_df['end_time_floored'] = trips_df['end_time'].dt.floor('1H')"
   ]
  },
  {
   "cell_type": "code",
   "execution_count": 48,
   "metadata": {},
   "outputs": [],
   "source": [
    "# calculate the number of starting and ending trips for each hour\n",
    "starting_trips_grouped = (\n",
    "    trips_df.groupby([\"start_time_floored\"])\n",
    "    .size()\n",
    "    .to_frame(\"starting_trips\")\n",
    ")\n",
    "ending_trips_grouped = (\n",
    "    trips_df.groupby([\"end_time_floored\"])\n",
    "    .size()\n",
    "    .to_frame(\"ending_trips\")\n",
    ")"
   ]
  },
  {
   "cell_type": "code",
   "execution_count": 49,
   "metadata": {},
   "outputs": [
    {
     "data": {
      "text/plain": [
       "starting_trips    143\n",
       "ending_trips       81\n",
       "dtype: int64"
      ]
     },
     "execution_count": 49,
     "metadata": {},
     "output_type": "execute_result"
    }
   ],
   "source": [
    "# combine these values into a single dataframe and determine whether data cleaning is necessary\n",
    "trips_hourly = pd.concat([starting_trips_grouped, ending_trips_grouped], axis=1)\n",
    "trips_hourly.isna().sum()"
   ]
  },
  {
   "cell_type": "markdown",
   "metadata": {},
   "source": [
    "There are some missing values, because there may be hours at which trips start but no trips end and vice versa. We will fill these null values with 0, which represents 0 trips started/ended in this hour, and save this aggregated data into a new file."
   ]
  },
  {
   "cell_type": "code",
   "execution_count": 50,
   "metadata": {},
   "outputs": [],
   "source": [
    "trips_hourly = trips_hourly.fillna(0) "
   ]
  },
  {
   "cell_type": "code",
   "execution_count": 51,
   "metadata": {},
   "outputs": [],
   "source": [
    "trips_hourly.to_pickle('../00_data/trips_hourly.pkl')"
   ]
  },
  {
   "cell_type": "markdown",
   "metadata": {},
   "source": [
    "## Feature Engineering\n",
    "Now we will combine different data collected until now into a single dataframe and additionally calculate some new features. This data will be then be used as features for predictive analysis."
   ]
  },
  {
   "cell_type": "code",
   "execution_count": 52,
   "metadata": {},
   "outputs": [],
   "source": [
    "import pandas as pd"
   ]
  },
  {
   "cell_type": "code",
   "execution_count": 53,
   "metadata": {},
   "outputs": [],
   "source": [
    "trips_hourly = pd.read_pickle('../00_data/trips_hourly.pkl')\n",
    "trips_df = pd.read_pickle('../00_data/trips.pkl')"
   ]
  },
  {
   "cell_type": "markdown",
   "metadata": {},
   "source": [
    "### Create ```available_bikes``` feature\n",
    "We assume that one of the features influencing the demand is the number of bicycles available for rental. If the user opens the app and sees only a few or even no bikes in the stations near them, they will most likely choose an alternative mode of transport.\n",
    "\n",
    "In order to calculate ```available_bikes``` we first have to determine how many bikes there are in the fleet and how many bikes are being currently rented. We will start with the second one, which we defined as the cumulative sum of the difference between started and ended trips. We then use the number of ongoing trips from the previous hour as an input feature."
   ]
  },
  {
   "cell_type": "code",
   "execution_count": 54,
   "metadata": {},
   "outputs": [],
   "source": [
    "trips_hourly['trips_diff'] = trips_hourly['starting_trips'] - trips_hourly['ending_trips']\n",
    "trips_hourly['ongoing_trips'] = trips_hourly['trips_diff'].cumsum()\n",
    "\n",
    "# save values from the previous hour in an additional column\n",
    "trips_hourly['ongoing_trips_prev'] = trips_hourly['ongoing_trips'].shift(1)\n",
    "\n",
    "# keep only the columns of interest; here starting trips represents demand\n",
    "trips_hourly = trips_hourly[['starting_trips', 'ongoing_trips_prev']]"
   ]
  },
  {
   "cell_type": "code",
   "execution_count": 55,
   "metadata": {},
   "outputs": [
    {
     "data": {
      "text/html": [
       "<div>\n",
       "<style scoped>\n",
       "    .dataframe tbody tr th:only-of-type {\n",
       "        vertical-align: middle;\n",
       "    }\n",
       "\n",
       "    .dataframe tbody tr th {\n",
       "        vertical-align: top;\n",
       "    }\n",
       "\n",
       "    .dataframe thead th {\n",
       "        text-align: right;\n",
       "    }\n",
       "</style>\n",
       "<table border=\"1\" class=\"dataframe\">\n",
       "  <thead>\n",
       "    <tr style=\"text-align: right;\">\n",
       "      <th></th>\n",
       "      <th>starting_trips</th>\n",
       "      <th>ongoing_trips_prev</th>\n",
       "    </tr>\n",
       "  </thead>\n",
       "  <tbody>\n",
       "    <tr>\n",
       "      <th>2019-01-01 00:00:00</th>\n",
       "      <td>14.0</td>\n",
       "      <td>NaN</td>\n",
       "    </tr>\n",
       "    <tr>\n",
       "      <th>2019-01-01 01:00:00</th>\n",
       "      <td>8.0</td>\n",
       "      <td>2.0</td>\n",
       "    </tr>\n",
       "  </tbody>\n",
       "</table>\n",
       "</div>"
      ],
      "text/plain": [
       "                     starting_trips  ongoing_trips_prev\n",
       "2019-01-01 00:00:00            14.0                 NaN\n",
       "2019-01-01 01:00:00             8.0                 2.0"
      ]
     },
     "execution_count": 55,
     "metadata": {},
     "output_type": "execute_result"
    }
   ],
   "source": [
    "trips_hourly.head(2)"
   ]
  },
  {
   "cell_type": "code",
   "execution_count": 56,
   "metadata": {},
   "outputs": [],
   "source": [
    "# effectively drops first observation as ongoing trips prev cannot be calculated due to the absence of data\n",
    "trips_hourly = trips_hourly.dropna()"
   ]
  },
  {
   "cell_type": "markdown",
   "metadata": {},
   "source": [
    "Next, we aim to determine the number of bicycles in the fleet. The easiest way would be to sum the number of unique bike ids. However, this calculation would most likely overestimate the actual value. We assume that bikes regularly break and have to be repaired, and therefore are unavailable to customers. Also, Metro Bike Share might want to control the fleet size to respond to changes in demand during different seasons. Therefore, we decided to calculate the number of unique bicycle ids for each week. Hereby, we assume that each bicycle, that is not broken and is placed correctly is used at least once a week."
   ]
  },
  {
   "cell_type": "code",
   "execution_count": 57,
   "metadata": {},
   "outputs": [
    {
     "name": "stdout",
     "output_type": "stream",
     "text": [
      "There are in total 3568 unique bike ids in the whole dataset.\n",
      "On average there are 734.8653846153846 bikes available.\n"
     ]
    }
   ],
   "source": [
    "trips_df['week'] = trips_df['start_time'].dt.isocalendar().week\n",
    "\n",
    "bike_ids_week_grouped = (\n",
    "    trips_df.groupby([\"week\"])['bike_id']\n",
    "    .nunique()\n",
    "    .to_frame(\"bike_ids_week\")\n",
    ")\n",
    "print(f\"There are in total {trips_df['bike_id'].nunique()} unique bike ids in the whole dataset.\")\n",
    "print(f\"On average there are {bike_ids_week_grouped['bike_ids_week'].mean()} bikes available.\")"
   ]
  },
  {
   "cell_type": "markdown",
   "metadata": {},
   "source": [
    "As we see, there is a substantial difference between the two numbers. In order to identify which one is more realistic, we will do some further analysis."
   ]
  },
  {
   "cell_type": "code",
   "execution_count": 58,
   "metadata": {},
   "outputs": [
    {
     "data": {
      "text/html": [
       "<div>\n",
       "<style scoped>\n",
       "    .dataframe tbody tr th:only-of-type {\n",
       "        vertical-align: middle;\n",
       "    }\n",
       "\n",
       "    .dataframe tbody tr th {\n",
       "        vertical-align: top;\n",
       "    }\n",
       "\n",
       "    .dataframe thead th {\n",
       "        text-align: right;\n",
       "    }\n",
       "</style>\n",
       "<table border=\"1\" class=\"dataframe\">\n",
       "  <thead>\n",
       "    <tr style=\"text-align: right;\">\n",
       "      <th></th>\n",
       "      <th>first_trip_start_time</th>\n",
       "      <th>last_trip_end_time</th>\n",
       "      <th>number_of_trips</th>\n",
       "    </tr>\n",
       "    <tr>\n",
       "      <th>bike_id</th>\n",
       "      <th></th>\n",
       "      <th></th>\n",
       "      <th></th>\n",
       "    </tr>\n",
       "  </thead>\n",
       "  <tbody>\n",
       "    <tr>\n",
       "      <th>5715</th>\n",
       "      <td>2019-04-17 23:39:00</td>\n",
       "      <td>2019-12-17 21:57:12</td>\n",
       "      <td>68</td>\n",
       "    </tr>\n",
       "    <tr>\n",
       "      <th>5716</th>\n",
       "      <td>2019-04-13 15:58:00</td>\n",
       "      <td>2019-06-07 17:13:00</td>\n",
       "      <td>32</td>\n",
       "    </tr>\n",
       "  </tbody>\n",
       "</table>\n",
       "</div>"
      ],
      "text/plain": [
       "        first_trip_start_time  last_trip_end_time  number_of_trips\n",
       "bike_id                                                           \n",
       "5715      2019-04-17 23:39:00 2019-12-17 21:57:12               68\n",
       "5716      2019-04-13 15:58:00 2019-06-07 17:13:00               32"
      ]
     },
     "execution_count": 58,
     "metadata": {},
     "output_type": "execute_result"
    }
   ],
   "source": [
    "# create dataframe that depicts the first time and the last time each bicycle was used (in our defined timeframe)\n",
    "# and the number of trips made with it\n",
    "bikes_df = trips_df.groupby(\"bike_id\").agg(\n",
    "    {\n",
    "\t\t\"start_time\": \"min\",\n",
    "\t\t\"end_time\": \"max\",\n",
    "\t\t\"bike_id\": \"count\"\n",
    "\t}\n",
    ")\n",
    "bikes_df = bikes_df.rename(columns={\n",
    "    \"start_time\" : \"first_trip_start_time\",\n",
    "    \"end_time\" : \"last_trip_end_time\",\n",
    "    \"bike_id\" : \"number_of_trips\"\n",
    "})\n",
    "bikes_df.head(2)"
   ]
  },
  {
   "cell_type": "code",
   "execution_count": 59,
   "metadata": {},
   "outputs": [
    {
     "data": {
      "text/html": [
       "<div>\n",
       "<style scoped>\n",
       "    .dataframe tbody tr th:only-of-type {\n",
       "        vertical-align: middle;\n",
       "    }\n",
       "\n",
       "    .dataframe tbody tr th {\n",
       "        vertical-align: top;\n",
       "    }\n",
       "\n",
       "    .dataframe thead th {\n",
       "        text-align: right;\n",
       "    }\n",
       "</style>\n",
       "<table border=\"1\" class=\"dataframe\">\n",
       "  <thead>\n",
       "    <tr style=\"text-align: right;\">\n",
       "      <th></th>\n",
       "      <th>start_time</th>\n",
       "      <th>end_time</th>\n",
       "      <th>start_station_id</th>\n",
       "      <th>end_station_id</th>\n",
       "      <th>bike_id</th>\n",
       "      <th>user_type</th>\n",
       "      <th>start_station_name</th>\n",
       "      <th>end_station_name</th>\n",
       "      <th>duration</th>\n",
       "      <th>start_latitude</th>\n",
       "      <th>...</th>\n",
       "      <th>public_transport_poi_start</th>\n",
       "      <th>education_poi_start</th>\n",
       "      <th>arts_and_culture_poi_start</th>\n",
       "      <th>sports_poi_start</th>\n",
       "      <th>sustenance_poi_end</th>\n",
       "      <th>public_transport_poi_end</th>\n",
       "      <th>education_poi_end</th>\n",
       "      <th>arts_and_culture_poi_end</th>\n",
       "      <th>sports_poi_end</th>\n",
       "      <th>week</th>\n",
       "    </tr>\n",
       "  </thead>\n",
       "  <tbody>\n",
       "    <tr>\n",
       "      <th>222393</th>\n",
       "      <td>2019-12-31 20:50:25</td>\n",
       "      <td>2019-12-31 20:58:42</td>\n",
       "      <td>4442</td>\n",
       "      <td>4436</td>\n",
       "      <td>6130</td>\n",
       "      <td>Annual Pass</td>\n",
       "      <td>Normandie &amp; Sunset</td>\n",
       "      <td>Vermont &amp; Franklin</td>\n",
       "      <td>0 days 00:08:17</td>\n",
       "      <td>34.098</td>\n",
       "      <td>...</td>\n",
       "      <td>20</td>\n",
       "      <td>1</td>\n",
       "      <td>0</td>\n",
       "      <td>0</td>\n",
       "      <td>51</td>\n",
       "      <td>15</td>\n",
       "      <td>1</td>\n",
       "      <td>2</td>\n",
       "      <td>0</td>\n",
       "      <td>1</td>\n",
       "    </tr>\n",
       "  </tbody>\n",
       "</table>\n",
       "<p>1 rows × 28 columns</p>\n",
       "</div>"
      ],
      "text/plain": [
       "                start_time            end_time  start_station_id  \\\n",
       "222393 2019-12-31 20:50:25 2019-12-31 20:58:42              4442   \n",
       "\n",
       "        end_station_id bike_id    user_type  start_station_name  \\\n",
       "222393            4436    6130  Annual Pass  Normandie & Sunset   \n",
       "\n",
       "          end_station_name        duration  start_latitude  ...  \\\n",
       "222393  Vermont & Franklin 0 days 00:08:17          34.098  ...   \n",
       "\n",
       "        public_transport_poi_start  education_poi_start  \\\n",
       "222393                          20                    1   \n",
       "\n",
       "        arts_and_culture_poi_start  sports_poi_start  sustenance_poi_end  \\\n",
       "222393                           0                 0                  51   \n",
       "\n",
       "       public_transport_poi_end education_poi_end  arts_and_culture_poi_end  \\\n",
       "222393                       15                 1                         2   \n",
       "\n",
       "        sports_poi_end  week  \n",
       "222393               0     1  \n",
       "\n",
       "[1 rows x 28 columns]"
      ]
     },
     "execution_count": 59,
     "metadata": {},
     "output_type": "execute_result"
    }
   ],
   "source": [
    "# show bike(s) with the latest start time\n",
    "trips_df[(trips_df[\"bike_id\"] == bikes_df[\"first_trip_start_time\"].idxmax())]"
   ]
  },
  {
   "cell_type": "code",
   "execution_count": 60,
   "metadata": {},
   "outputs": [
    {
     "data": {
      "text/html": [
       "<div>\n",
       "<style scoped>\n",
       "    .dataframe tbody tr th:only-of-type {\n",
       "        vertical-align: middle;\n",
       "    }\n",
       "\n",
       "    .dataframe tbody tr th {\n",
       "        vertical-align: top;\n",
       "    }\n",
       "\n",
       "    .dataframe thead th {\n",
       "        text-align: right;\n",
       "    }\n",
       "</style>\n",
       "<table border=\"1\" class=\"dataframe\">\n",
       "  <thead>\n",
       "    <tr style=\"text-align: right;\">\n",
       "      <th></th>\n",
       "      <th>start_time</th>\n",
       "      <th>end_time</th>\n",
       "      <th>start_station_id</th>\n",
       "      <th>end_station_id</th>\n",
       "      <th>bike_id</th>\n",
       "      <th>user_type</th>\n",
       "      <th>start_station_name</th>\n",
       "      <th>end_station_name</th>\n",
       "      <th>duration</th>\n",
       "      <th>start_latitude</th>\n",
       "      <th>...</th>\n",
       "      <th>public_transport_poi_start</th>\n",
       "      <th>education_poi_start</th>\n",
       "      <th>arts_and_culture_poi_start</th>\n",
       "      <th>sports_poi_start</th>\n",
       "      <th>sustenance_poi_end</th>\n",
       "      <th>public_transport_poi_end</th>\n",
       "      <th>education_poi_end</th>\n",
       "      <th>arts_and_culture_poi_end</th>\n",
       "      <th>sports_poi_end</th>\n",
       "      <th>week</th>\n",
       "    </tr>\n",
       "  </thead>\n",
       "  <tbody>\n",
       "    <tr>\n",
       "      <th>218461</th>\n",
       "      <td>2019-01-01 11:07:00</td>\n",
       "      <td>2019-01-01 11:49:00</td>\n",
       "      <td>4210</td>\n",
       "      <td>4210</td>\n",
       "      <td>12043</td>\n",
       "      <td>Walk-up</td>\n",
       "      <td>Ocean Front Walk &amp; North Venice</td>\n",
       "      <td>Ocean Front Walk &amp; North Venice</td>\n",
       "      <td>0 days 00:42:00</td>\n",
       "      <td>33.98434</td>\n",
       "      <td>...</td>\n",
       "      <td>5</td>\n",
       "      <td>0</td>\n",
       "      <td>0</td>\n",
       "      <td>0</td>\n",
       "      <td>13</td>\n",
       "      <td>5</td>\n",
       "      <td>0</td>\n",
       "      <td>0</td>\n",
       "      <td>0</td>\n",
       "      <td>1</td>\n",
       "    </tr>\n",
       "    <tr>\n",
       "      <th>218469</th>\n",
       "      <td>2019-01-01 12:29:00</td>\n",
       "      <td>2019-01-01 12:52:00</td>\n",
       "      <td>4210</td>\n",
       "      <td>4210</td>\n",
       "      <td>12043</td>\n",
       "      <td>Walk-up</td>\n",
       "      <td>Ocean Front Walk &amp; North Venice</td>\n",
       "      <td>Ocean Front Walk &amp; North Venice</td>\n",
       "      <td>0 days 00:23:00</td>\n",
       "      <td>33.98434</td>\n",
       "      <td>...</td>\n",
       "      <td>5</td>\n",
       "      <td>0</td>\n",
       "      <td>0</td>\n",
       "      <td>0</td>\n",
       "      <td>13</td>\n",
       "      <td>5</td>\n",
       "      <td>0</td>\n",
       "      <td>0</td>\n",
       "      <td>0</td>\n",
       "      <td>1</td>\n",
       "    </tr>\n",
       "  </tbody>\n",
       "</table>\n",
       "<p>2 rows × 28 columns</p>\n",
       "</div>"
      ],
      "text/plain": [
       "                start_time            end_time  start_station_id  \\\n",
       "218461 2019-01-01 11:07:00 2019-01-01 11:49:00              4210   \n",
       "218469 2019-01-01 12:29:00 2019-01-01 12:52:00              4210   \n",
       "\n",
       "        end_station_id bike_id user_type               start_station_name  \\\n",
       "218461            4210   12043   Walk-up  Ocean Front Walk & North Venice   \n",
       "218469            4210   12043   Walk-up  Ocean Front Walk & North Venice   \n",
       "\n",
       "                       end_station_name        duration  start_latitude  ...  \\\n",
       "218461  Ocean Front Walk & North Venice 0 days 00:42:00        33.98434  ...   \n",
       "218469  Ocean Front Walk & North Venice 0 days 00:23:00        33.98434  ...   \n",
       "\n",
       "        public_transport_poi_start  education_poi_start  \\\n",
       "218461                           5                    0   \n",
       "218469                           5                    0   \n",
       "\n",
       "        arts_and_culture_poi_start  sports_poi_start  sustenance_poi_end  \\\n",
       "218461                           0                 0                  13   \n",
       "218469                           0                 0                  13   \n",
       "\n",
       "       public_transport_poi_end education_poi_end  arts_and_culture_poi_end  \\\n",
       "218461                        5                 0                         0   \n",
       "218469                        5                 0                         0   \n",
       "\n",
       "        sports_poi_end  week  \n",
       "218461               0     1  \n",
       "218469               0     1  \n",
       "\n",
       "[2 rows x 28 columns]"
      ]
     },
     "execution_count": 60,
     "metadata": {},
     "output_type": "execute_result"
    }
   ],
   "source": [
    "# show bike(s) with the earliest end time\n",
    "trips_df[(trips_df[\"bike_id\"] == bikes_df[\"last_trip_end_time\"].idxmin())]"
   ]
  },
  {
   "cell_type": "markdown",
   "metadata": {},
   "source": [
    "There is a bike that was used on 31.12.2019 (the last day of our timeframe) for the first time and two bikes that were used on 01.01.2019 (the first day of our timeframe) for the last time. Clearly, none of these three bikes were available throughout the whole year. This proves that considering some sort of average is more accurate than a bold sum of all unique bike ids.\n",
    "\n",
    "We already have the time when each bicycle was used for the first and last time. Now we will aggregate the dataframe by these hours and calculate how many bicycle were used after and before certain hours. Afterwards, we will calculate the cumulative sum of the difference between ```bikes_used_after``` and ```bikes_used_before``` for each hour. Thus, we receive the new column ```in_service_bikes```."
   ]
  },
  {
   "cell_type": "code",
   "execution_count": 61,
   "metadata": {},
   "outputs": [],
   "source": [
    "bikes_df[\"start_time_floored\"] = bikes_df[\"first_trip_start_time\"].dt.floor(\"1H\")\n",
    "bikes_df[\"end_time_floored\"] = bikes_df[\"last_trip_end_time\"].dt.floor(\"1H\") + pd.DateOffset(hours=1)\n",
    "\n",
    "bikes_used_after = (\n",
    "    bikes_df.groupby(\"start_time_floored\").size().to_frame(\"bikes_used_after\")\n",
    ")\n",
    "bikes_used_before = (\n",
    "    bikes_df.groupby(\"end_time_floored\").size().to_frame(\"bikes_used_before\")\n",
    ")\n",
    "\n",
    "bikes_used = pd.concat([bikes_used_before, bikes_used_after], axis=1)\n",
    "bikes_used = bikes_used.fillna(0)\n",
    "bikes_used['diff'] = bikes_used['bikes_used_after'] - bikes_used['bikes_used_before'] \n",
    "bikes_used['in_service_bikes'] = bikes_used['diff'].cumsum()\n"
   ]
  },
  {
   "cell_type": "code",
   "execution_count": 62,
   "metadata": {},
   "outputs": [
    {
     "data": {
      "text/plain": [
       "Text(0, 0.5, 'Number of bikes in service')"
      ]
     },
     "execution_count": 62,
     "metadata": {},
     "output_type": "execute_result"
    },
    {
     "data": {
      "image/png": "[encoded data removed]",
      "text/plain": [
       "<Figure size 864x432 with 1 Axes>"
      ]
     },
     "metadata": {
      "needs_background": "light"
     },
     "output_type": "display_data"
    }
   ],
   "source": [
    "fig, ax = plt.subplots(figsize=(12, 6))\n",
    "# plot 'in_service_bikes' over time\n",
    "bikes_used = bikes_used.reset_index().rename(columns={\"index\": \"start_time_floored\"})\n",
    "bikes_used.plot.scatter(x=\"start_time_floored\", y=\"in_service_bikes\", ax=ax)\n",
    "\n",
    "ax.set_xlabel('Date')\n",
    "ax.set_ylabel('Number of bikes in service')\n"
   ]
  },
  {
   "cell_type": "code",
   "execution_count": 63,
   "metadata": {},
   "outputs": [],
   "source": [
    "# to smooth out the edges, especially at the beginning and the end of the dataset, we introduce in_service_bikes_rolling\n",
    "# rolling function provides us with a maximum value of 'in_service_bikes' column during a 30 days window\n",
    "bikes_used[\"in_service_bikes_rolling\"] = bikes_used.rolling(\n",
    "    \"30d\", center=True, on=\"start_time_floored\"\n",
    ")[\"in_service_bikes\"].max()\n"
   ]
  },
  {
   "cell_type": "code",
   "execution_count": 64,
   "metadata": {},
   "outputs": [
    {
     "data": {
      "image/png": "[encoded data removed]",
      "text/plain": [
       "<Figure size 864x432 with 1 Axes>"
      ]
     },
     "metadata": {
      "needs_background": "light"
     },
     "output_type": "display_data"
    }
   ],
   "source": [
    "# plot 'in_service_bikes_rolling' over time with matplotlib\n",
    "fig, ax = plt.subplots(figsize=(12, 6))\n",
    "bikes_used.plot.scatter(x=\"start_time_floored\", y=\"in_service_bikes_rolling\", ax=ax)\n",
    "\n",
    "ax.set_xlabel('Date')\n",
    "ax.set_ylabel('Number of bikes in service (maximum over 30 days)')\n",
    "\n",
    "fig.savefig('../figures/bikes_in_service_rolling.png')"
   ]
  },
  {
   "cell_type": "code",
   "execution_count": 65,
   "metadata": {},
   "outputs": [],
   "source": [
    "bikes_used = bikes_used.set_index(\"start_time_floored\")"
   ]
  },
  {
   "cell_type": "code",
   "execution_count": 66,
   "metadata": {},
   "outputs": [
    {
     "data": {
      "text/html": [
       "<div>\n",
       "<style scoped>\n",
       "    .dataframe tbody tr th:only-of-type {\n",
       "        vertical-align: middle;\n",
       "    }\n",
       "\n",
       "    .dataframe tbody tr th {\n",
       "        vertical-align: top;\n",
       "    }\n",
       "\n",
       "    .dataframe thead th {\n",
       "        text-align: right;\n",
       "    }\n",
       "</style>\n",
       "<table border=\"1\" class=\"dataframe\">\n",
       "  <thead>\n",
       "    <tr style=\"text-align: right;\">\n",
       "      <th></th>\n",
       "      <th>starting_trips</th>\n",
       "      <th>ongoing_trips_prev</th>\n",
       "      <th>in_service_bikes_rolling</th>\n",
       "    </tr>\n",
       "  </thead>\n",
       "  <tbody>\n",
       "    <tr>\n",
       "      <th>2019-01-01 01:00:00</th>\n",
       "      <td>8.0</td>\n",
       "      <td>2.0</td>\n",
       "      <td>872.0</td>\n",
       "    </tr>\n",
       "    <tr>\n",
       "      <th>2019-01-01 02:00:00</th>\n",
       "      <td>11.0</td>\n",
       "      <td>4.0</td>\n",
       "      <td>872.0</td>\n",
       "    </tr>\n",
       "  </tbody>\n",
       "</table>\n",
       "</div>"
      ],
      "text/plain": [
       "                     starting_trips  ongoing_trips_prev  \\\n",
       "2019-01-01 01:00:00             8.0                 2.0   \n",
       "2019-01-01 02:00:00            11.0                 4.0   \n",
       "\n",
       "                     in_service_bikes_rolling  \n",
       "2019-01-01 01:00:00                     872.0  \n",
       "2019-01-01 02:00:00                     872.0  "
      ]
     },
     "execution_count": 66,
     "metadata": {},
     "output_type": "execute_result"
    }
   ],
   "source": [
    "# fill null values\n",
    "trips_hourly['in_service_bikes_rolling'] = bikes_used['in_service_bikes_rolling'].asfreq('1H', method=\"bfill\")\n",
    "trips_hourly.head(2)"
   ]
  },
  {
   "cell_type": "code",
   "execution_count": 67,
   "metadata": {},
   "outputs": [
    {
     "data": {
      "text/html": [
       "<div>\n",
       "<style scoped>\n",
       "    .dataframe tbody tr th:only-of-type {\n",
       "        vertical-align: middle;\n",
       "    }\n",
       "\n",
       "    .dataframe tbody tr th {\n",
       "        vertical-align: top;\n",
       "    }\n",
       "\n",
       "    .dataframe thead th {\n",
       "        text-align: right;\n",
       "    }\n",
       "</style>\n",
       "<table border=\"1\" class=\"dataframe\">\n",
       "  <thead>\n",
       "    <tr style=\"text-align: right;\">\n",
       "      <th></th>\n",
       "      <th>starting_trips</th>\n",
       "      <th>ongoing_trips_prev</th>\n",
       "      <th>in_service_bikes_rolling</th>\n",
       "      <th>available_bikes</th>\n",
       "    </tr>\n",
       "  </thead>\n",
       "  <tbody>\n",
       "    <tr>\n",
       "      <th>2019-01-01 01:00:00</th>\n",
       "      <td>8.0</td>\n",
       "      <td>2.0</td>\n",
       "      <td>872.0</td>\n",
       "      <td>870.0</td>\n",
       "    </tr>\n",
       "    <tr>\n",
       "      <th>2019-01-01 02:00:00</th>\n",
       "      <td>11.0</td>\n",
       "      <td>4.0</td>\n",
       "      <td>872.0</td>\n",
       "      <td>868.0</td>\n",
       "    </tr>\n",
       "  </tbody>\n",
       "</table>\n",
       "</div>"
      ],
      "text/plain": [
       "                     starting_trips  ongoing_trips_prev  \\\n",
       "2019-01-01 01:00:00             8.0                 2.0   \n",
       "2019-01-01 02:00:00            11.0                 4.0   \n",
       "\n",
       "                     in_service_bikes_rolling  available_bikes  \n",
       "2019-01-01 01:00:00                     872.0            870.0  \n",
       "2019-01-01 02:00:00                     872.0            868.0  "
      ]
     },
     "execution_count": 67,
     "metadata": {},
     "output_type": "execute_result"
    }
   ],
   "source": [
    "# compute the 'available_bikes'\n",
    "trips_hourly[\"available_bikes\"] = (\n",
    "    trips_hourly[\"in_service_bikes_rolling\"] - trips_hourly[\"ongoing_trips_prev\"]\n",
    ")\n",
    "trips_hourly.head(2)"
   ]
  },
  {
   "cell_type": "code",
   "execution_count": 68,
   "metadata": {},
   "outputs": [
    {
     "data": {
      "text/html": [
       "<div>\n",
       "<style scoped>\n",
       "    .dataframe tbody tr th:only-of-type {\n",
       "        vertical-align: middle;\n",
       "    }\n",
       "\n",
       "    .dataframe tbody tr th {\n",
       "        vertical-align: top;\n",
       "    }\n",
       "\n",
       "    .dataframe thead th {\n",
       "        text-align: right;\n",
       "    }\n",
       "</style>\n",
       "<table border=\"1\" class=\"dataframe\">\n",
       "  <thead>\n",
       "    <tr style=\"text-align: right;\">\n",
       "      <th></th>\n",
       "      <th>starting_trips</th>\n",
       "      <th>ongoing_trips_prev</th>\n",
       "      <th>in_service_bikes_rolling</th>\n",
       "      <th>available_bikes</th>\n",
       "    </tr>\n",
       "  </thead>\n",
       "  <tbody>\n",
       "    <tr>\n",
       "      <th>count</th>\n",
       "      <td>8410.000000</td>\n",
       "      <td>8410.000000</td>\n",
       "      <td>8410.000000</td>\n",
       "      <td>8410.000000</td>\n",
       "    </tr>\n",
       "    <tr>\n",
       "      <th>mean</th>\n",
       "      <td>26.473722</td>\n",
       "      <td>9.107491</td>\n",
       "      <td>1236.044590</td>\n",
       "      <td>1226.937099</td>\n",
       "    </tr>\n",
       "    <tr>\n",
       "      <th>std</th>\n",
       "      <td>20.909186</td>\n",
       "      <td>10.487209</td>\n",
       "      <td>332.328948</td>\n",
       "      <td>331.800288</td>\n",
       "    </tr>\n",
       "    <tr>\n",
       "      <th>min</th>\n",
       "      <td>0.000000</td>\n",
       "      <td>0.000000</td>\n",
       "      <td>861.000000</td>\n",
       "      <td>748.000000</td>\n",
       "    </tr>\n",
       "    <tr>\n",
       "      <th>25%</th>\n",
       "      <td>7.000000</td>\n",
       "      <td>4.000000</td>\n",
       "      <td>992.000000</td>\n",
       "      <td>986.000000</td>\n",
       "    </tr>\n",
       "    <tr>\n",
       "      <th>50%</th>\n",
       "      <td>25.000000</td>\n",
       "      <td>8.000000</td>\n",
       "      <td>1098.000000</td>\n",
       "      <td>1087.000000</td>\n",
       "    </tr>\n",
       "    <tr>\n",
       "      <th>75%</th>\n",
       "      <td>41.000000</td>\n",
       "      <td>12.000000</td>\n",
       "      <td>1448.000000</td>\n",
       "      <td>1430.000000</td>\n",
       "    </tr>\n",
       "    <tr>\n",
       "      <th>max</th>\n",
       "      <td>278.000000</td>\n",
       "      <td>350.000000</td>\n",
       "      <td>1848.000000</td>\n",
       "      <td>1848.000000</td>\n",
       "    </tr>\n",
       "  </tbody>\n",
       "</table>\n",
       "</div>"
      ],
      "text/plain": [
       "       starting_trips  ongoing_trips_prev  in_service_bikes_rolling  \\\n",
       "count     8410.000000         8410.000000               8410.000000   \n",
       "mean        26.473722            9.107491               1236.044590   \n",
       "std         20.909186           10.487209                332.328948   \n",
       "min          0.000000            0.000000                861.000000   \n",
       "25%          7.000000            4.000000                992.000000   \n",
       "50%         25.000000            8.000000               1098.000000   \n",
       "75%         41.000000           12.000000               1448.000000   \n",
       "max        278.000000          350.000000               1848.000000   \n",
       "\n",
       "       available_bikes  \n",
       "count      8410.000000  \n",
       "mean       1226.937099  \n",
       "std         331.800288  \n",
       "min         748.000000  \n",
       "25%         986.000000  \n",
       "50%        1087.000000  \n",
       "75%        1430.000000  \n",
       "max        1848.000000  "
      ]
     },
     "execution_count": 68,
     "metadata": {},
     "output_type": "execute_result"
    }
   ],
   "source": [
    "trips_hourly.describe()"
   ]
  },
  {
   "cell_type": "markdown",
   "metadata": {},
   "source": [
    "### Add weather features\n",
    "Copy precipitation, min and max temperature values from weather dataset."
   ]
  },
  {
   "cell_type": "code",
   "execution_count": 69,
   "metadata": {},
   "outputs": [],
   "source": [
    "weather_df = pd.read_pickle('../00_data/weather.pkl')"
   ]
  },
  {
   "cell_type": "code",
   "execution_count": 70,
   "metadata": {},
   "outputs": [],
   "source": [
    "trips_hourly['max_temp'] = weather_df['max_temp']\n",
    "trips_hourly['min_temp'] = weather_df['min_temp']\n",
    "trips_hourly['precip'] = weather_df['precip']"
   ]
  },
  {
   "cell_type": "code",
   "execution_count": 71,
   "metadata": {},
   "outputs": [
    {
     "data": {
      "text/html": [
       "<div>\n",
       "<style scoped>\n",
       "    .dataframe tbody tr th:only-of-type {\n",
       "        vertical-align: middle;\n",
       "    }\n",
       "\n",
       "    .dataframe tbody tr th {\n",
       "        vertical-align: top;\n",
       "    }\n",
       "\n",
       "    .dataframe thead th {\n",
       "        text-align: right;\n",
       "    }\n",
       "</style>\n",
       "<table border=\"1\" class=\"dataframe\">\n",
       "  <thead>\n",
       "    <tr style=\"text-align: right;\">\n",
       "      <th></th>\n",
       "      <th>starting_trips</th>\n",
       "      <th>ongoing_trips_prev</th>\n",
       "      <th>in_service_bikes_rolling</th>\n",
       "      <th>available_bikes</th>\n",
       "      <th>max_temp</th>\n",
       "      <th>min_temp</th>\n",
       "      <th>precip</th>\n",
       "    </tr>\n",
       "  </thead>\n",
       "  <tbody>\n",
       "    <tr>\n",
       "      <th>2019-01-01 01:00:00</th>\n",
       "      <td>8.0</td>\n",
       "      <td>2.0</td>\n",
       "      <td>872.0</td>\n",
       "      <td>870.0</td>\n",
       "      <td>15.6</td>\n",
       "      <td>15.6</td>\n",
       "      <td>0.0</td>\n",
       "    </tr>\n",
       "    <tr>\n",
       "      <th>2019-01-01 02:00:00</th>\n",
       "      <td>11.0</td>\n",
       "      <td>4.0</td>\n",
       "      <td>872.0</td>\n",
       "      <td>868.0</td>\n",
       "      <td>15.0</td>\n",
       "      <td>15.0</td>\n",
       "      <td>0.0</td>\n",
       "    </tr>\n",
       "  </tbody>\n",
       "</table>\n",
       "</div>"
      ],
      "text/plain": [
       "                     starting_trips  ongoing_trips_prev  \\\n",
       "2019-01-01 01:00:00             8.0                 2.0   \n",
       "2019-01-01 02:00:00            11.0                 4.0   \n",
       "\n",
       "                     in_service_bikes_rolling  available_bikes  max_temp  \\\n",
       "2019-01-01 01:00:00                     872.0            870.0      15.6   \n",
       "2019-01-01 02:00:00                     872.0            868.0      15.0   \n",
       "\n",
       "                     min_temp  precip  \n",
       "2019-01-01 01:00:00      15.6     0.0  \n",
       "2019-01-01 02:00:00      15.0     0.0  "
      ]
     },
     "execution_count": 71,
     "metadata": {},
     "output_type": "execute_result"
    }
   ],
   "source": [
    "trips_hourly.head(2)"
   ]
  },
  {
   "cell_type": "code",
   "execution_count": 72,
   "metadata": {},
   "outputs": [],
   "source": [
    "trips_hourly = trips_hourly.dropna()"
   ]
  },
  {
   "cell_type": "markdown",
   "metadata": {},
   "source": [
    "### Create time related features"
   ]
  },
  {
   "cell_type": "code",
   "execution_count": 73,
   "metadata": {},
   "outputs": [],
   "source": [
    "trips_hourly['hour'] = trips_hourly.index.hour\n",
    "trips_hourly['day_of_week'] = trips_hourly.index.day_of_week\n",
    "trips_hourly['month'] = trips_hourly.index.month\n",
    "trips_hourly['day_of_year'] = trips_hourly.index.day_of_year\n",
    "trips_hourly['week'] = trips_hourly.index.isocalendar().week.astype('int64')\n",
    "trips_hourly['is_weekday'] = trips_hourly['day_of_week'] < 5\n",
    "trips_hourly['date'] = trips_hourly.index.date.astype('datetime64[ns]')"
   ]
  },
  {
   "cell_type": "code",
   "execution_count": 74,
   "metadata": {},
   "outputs": [
    {
     "data": {
      "text/html": [
       "<div>\n",
       "<style scoped>\n",
       "    .dataframe tbody tr th:only-of-type {\n",
       "        vertical-align: middle;\n",
       "    }\n",
       "\n",
       "    .dataframe tbody tr th {\n",
       "        vertical-align: top;\n",
       "    }\n",
       "\n",
       "    .dataframe thead th {\n",
       "        text-align: right;\n",
       "    }\n",
       "</style>\n",
       "<table border=\"1\" class=\"dataframe\">\n",
       "  <thead>\n",
       "    <tr style=\"text-align: right;\">\n",
       "      <th></th>\n",
       "      <th>starting_trips</th>\n",
       "      <th>ongoing_trips_prev</th>\n",
       "      <th>in_service_bikes_rolling</th>\n",
       "      <th>available_bikes</th>\n",
       "      <th>max_temp</th>\n",
       "      <th>min_temp</th>\n",
       "      <th>precip</th>\n",
       "      <th>hour</th>\n",
       "      <th>day_of_week</th>\n",
       "      <th>month</th>\n",
       "      <th>day_of_year</th>\n",
       "      <th>week</th>\n",
       "      <th>is_weekday</th>\n",
       "      <th>date</th>\n",
       "    </tr>\n",
       "  </thead>\n",
       "  <tbody>\n",
       "    <tr>\n",
       "      <th>2019-01-01 01:00:00</th>\n",
       "      <td>8.0</td>\n",
       "      <td>2.0</td>\n",
       "      <td>872.0</td>\n",
       "      <td>870.0</td>\n",
       "      <td>15.6</td>\n",
       "      <td>15.6</td>\n",
       "      <td>0.0</td>\n",
       "      <td>1</td>\n",
       "      <td>1</td>\n",
       "      <td>1</td>\n",
       "      <td>1</td>\n",
       "      <td>1</td>\n",
       "      <td>True</td>\n",
       "      <td>2019-01-01</td>\n",
       "    </tr>\n",
       "    <tr>\n",
       "      <th>2019-01-01 02:00:00</th>\n",
       "      <td>11.0</td>\n",
       "      <td>4.0</td>\n",
       "      <td>872.0</td>\n",
       "      <td>868.0</td>\n",
       "      <td>15.0</td>\n",
       "      <td>15.0</td>\n",
       "      <td>0.0</td>\n",
       "      <td>2</td>\n",
       "      <td>1</td>\n",
       "      <td>1</td>\n",
       "      <td>1</td>\n",
       "      <td>1</td>\n",
       "      <td>True</td>\n",
       "      <td>2019-01-01</td>\n",
       "    </tr>\n",
       "  </tbody>\n",
       "</table>\n",
       "</div>"
      ],
      "text/plain": [
       "                     starting_trips  ongoing_trips_prev  \\\n",
       "2019-01-01 01:00:00             8.0                 2.0   \n",
       "2019-01-01 02:00:00            11.0                 4.0   \n",
       "\n",
       "                     in_service_bikes_rolling  available_bikes  max_temp  \\\n",
       "2019-01-01 01:00:00                     872.0            870.0      15.6   \n",
       "2019-01-01 02:00:00                     872.0            868.0      15.0   \n",
       "\n",
       "                     min_temp  precip  hour  day_of_week  month  day_of_year  \\\n",
       "2019-01-01 01:00:00      15.6     0.0     1            1      1            1   \n",
       "2019-01-01 02:00:00      15.0     0.0     2            1      1            1   \n",
       "\n",
       "                     week  is_weekday       date  \n",
       "2019-01-01 01:00:00     1        True 2019-01-01  \n",
       "2019-01-01 02:00:00     1        True 2019-01-01  "
      ]
     },
     "execution_count": 74,
     "metadata": {},
     "output_type": "execute_result"
    }
   ],
   "source": [
    "trips_hourly.head(2)"
   ]
  },
  {
   "cell_type": "markdown",
   "metadata": {},
   "source": [
    "### Create is holiday feature\n",
    "We create a feature 'is_holiday', which is true when there is an entry on the same day in the holidays' dataset, and false otherwise."
   ]
  },
  {
   "cell_type": "code",
   "execution_count": 75,
   "metadata": {},
   "outputs": [],
   "source": [
    "holidays_df = pd.read_pickle('../00_data/holidays.pkl')"
   ]
  },
  {
   "cell_type": "code",
   "execution_count": 76,
   "metadata": {},
   "outputs": [],
   "source": [
    "trips_hourly = trips_hourly.reset_index().merge(holidays_df, on='date', how='left').set_index('index')"
   ]
  },
  {
   "cell_type": "code",
   "execution_count": 77,
   "metadata": {},
   "outputs": [
    {
     "data": {
      "text/plain": [
       "Index(['starting_trips', 'ongoing_trips_prev', 'in_service_bikes_rolling',\n",
       "       'available_bikes', 'max_temp', 'min_temp', 'precip', 'hour',\n",
       "       'day_of_week', 'month', 'day_of_year', 'week', 'is_weekday',\n",
       "       'is_holiday'],\n",
       "      dtype='object')"
      ]
     },
     "execution_count": 77,
     "metadata": {},
     "output_type": "execute_result"
    }
   ],
   "source": [
    "trips_hourly['is_holiday'] = trips_hourly['holiday_name'].notna()\n",
    "trips_hourly = trips_hourly.drop(columns=['holiday_name', 'date'])\n",
    "trips_hourly.columns"
   ]
  },
  {
   "cell_type": "code",
   "execution_count": 78,
   "metadata": {},
   "outputs": [],
   "source": [
    "trips_hourly.to_pickle('../00_data/trips_hourly_engineered.pkl')"
   ]
  },
  {
   "cell_type": "markdown",
   "metadata": {},
   "source": [
    "## Feature Selection\n",
    "Now we will filter previously prepared features. This will be done, firstly, based on the correlation of independent features and secondly, based on the results of Lasso Regression."
   ]
  },
  {
   "cell_type": "code",
   "execution_count": 79,
   "metadata": {},
   "outputs": [],
   "source": [
    "import pandas as pd\n",
    "import numpy as np\n",
    "from sklearn.preprocessing import StandardScaler\n",
    "from sklearn.linear_model import Lasso"
   ]
  },
  {
   "cell_type": "code",
   "execution_count": 80,
   "metadata": {},
   "outputs": [
    {
     "data": {
      "text/plain": [
       "Index(['starting_trips', 'ongoing_trips_prev', 'in_service_bikes_rolling',\n",
       "       'available_bikes', 'max_temp', 'min_temp', 'precip', 'hour',\n",
       "       'day_of_week', 'month', 'day_of_year', 'week', 'is_weekday',\n",
       "       'is_holiday'],\n",
       "      dtype='object')"
      ]
     },
     "execution_count": 80,
     "metadata": {},
     "output_type": "execute_result"
    }
   ],
   "source": [
    "trips_hourly_df = pd.read_pickle(\"../00_data/trips_hourly_engineered.pkl\")\n",
    "trips_hourly_df.columns"
   ]
  },
  {
   "cell_type": "markdown",
   "metadata": {},
   "source": [
    "### Feature Correlation\n",
    "We will now compute the correlation coefficient of each pair of features. Then we will retain only one of two features if their correlation coefficient is above 0.7 (or 70%). This is done because with highly correlated features one can be predicted from another. The second feature does not add any additional information to the model this way."
   ]
  },
  {
   "cell_type": "code",
   "execution_count": 81,
   "metadata": {},
   "outputs": [
    {
     "data": {
      "text/html": [
       "<div>\n",
       "<style scoped>\n",
       "    .dataframe tbody tr th:only-of-type {\n",
       "        vertical-align: middle;\n",
       "    }\n",
       "\n",
       "    .dataframe tbody tr th {\n",
       "        vertical-align: top;\n",
       "    }\n",
       "\n",
       "    .dataframe thead th {\n",
       "        text-align: right;\n",
       "    }\n",
       "</style>\n",
       "<table border=\"1\" class=\"dataframe\">\n",
       "  <thead>\n",
       "    <tr style=\"text-align: right;\">\n",
       "      <th></th>\n",
       "      <th>starting_trips</th>\n",
       "      <th>ongoing_trips_prev</th>\n",
       "      <th>in_service_bikes_rolling</th>\n",
       "      <th>available_bikes</th>\n",
       "      <th>max_temp</th>\n",
       "      <th>min_temp</th>\n",
       "      <th>precip</th>\n",
       "      <th>hour</th>\n",
       "      <th>day_of_week</th>\n",
       "      <th>month</th>\n",
       "      <th>day_of_year</th>\n",
       "      <th>week</th>\n",
       "      <th>is_weekday</th>\n",
       "      <th>is_holiday</th>\n",
       "    </tr>\n",
       "  </thead>\n",
       "  <tbody>\n",
       "    <tr>\n",
       "      <th>starting_trips</th>\n",
       "      <td>1.000000</td>\n",
       "      <td>0.574559</td>\n",
       "      <td>0.120235</td>\n",
       "      <td>0.102000</td>\n",
       "      <td>0.026981</td>\n",
       "      <td>0.024925</td>\n",
       "      <td>-0.057668</td>\n",
       "      <td>0.388443</td>\n",
       "      <td>-0.127494</td>\n",
       "      <td>0.114194</td>\n",
       "      <td>0.115355</td>\n",
       "      <td>0.116594</td>\n",
       "      <td>0.176737</td>\n",
       "      <td>-0.064088</td>\n",
       "    </tr>\n",
       "    <tr>\n",
       "      <th>ongoing_trips_prev</th>\n",
       "      <td>0.574559</td>\n",
       "      <td>1.000000</td>\n",
       "      <td>0.060260</td>\n",
       "      <td>0.028311</td>\n",
       "      <td>0.014286</td>\n",
       "      <td>0.013682</td>\n",
       "      <td>-0.038599</td>\n",
       "      <td>0.272185</td>\n",
       "      <td>0.068659</td>\n",
       "      <td>-0.018433</td>\n",
       "      <td>-0.018484</td>\n",
       "      <td>-0.017797</td>\n",
       "      <td>-0.060921</td>\n",
       "      <td>-0.021968</td>\n",
       "    </tr>\n",
       "    <tr>\n",
       "      <th>in_service_bikes_rolling</th>\n",
       "      <td>0.120235</td>\n",
       "      <td>0.060260</td>\n",
       "      <td>1.000000</td>\n",
       "      <td>0.999489</td>\n",
       "      <td>0.549341</td>\n",
       "      <td>0.548311</td>\n",
       "      <td>-0.105845</td>\n",
       "      <td>-0.009098</td>\n",
       "      <td>0.005302</td>\n",
       "      <td>0.256508</td>\n",
       "      <td>0.253343</td>\n",
       "      <td>0.275505</td>\n",
       "      <td>-0.002824</td>\n",
       "      <td>-0.066714</td>\n",
       "    </tr>\n",
       "    <tr>\n",
       "      <th>available_bikes</th>\n",
       "      <td>0.102000</td>\n",
       "      <td>0.028311</td>\n",
       "      <td>0.999489</td>\n",
       "      <td>1.000000</td>\n",
       "      <td>0.549663</td>\n",
       "      <td>0.548651</td>\n",
       "      <td>-0.104759</td>\n",
       "      <td>-0.017830</td>\n",
       "      <td>0.003110</td>\n",
       "      <td>0.257462</td>\n",
       "      <td>0.254295</td>\n",
       "      <td>0.276466</td>\n",
       "      <td>-0.000877</td>\n",
       "      <td>-0.066105</td>\n",
       "    </tr>\n",
       "    <tr>\n",
       "      <th>max_temp</th>\n",
       "      <td>0.026981</td>\n",
       "      <td>0.014286</td>\n",
       "      <td>0.549341</td>\n",
       "      <td>0.549663</td>\n",
       "      <td>1.000000</td>\n",
       "      <td>0.999439</td>\n",
       "      <td>-0.149799</td>\n",
       "      <td>0.180742</td>\n",
       "      <td>0.018512</td>\n",
       "      <td>0.401068</td>\n",
       "      <td>0.401329</td>\n",
       "      <td>0.412347</td>\n",
       "      <td>-0.028593</td>\n",
       "      <td>-0.049873</td>\n",
       "    </tr>\n",
       "    <tr>\n",
       "      <th>min_temp</th>\n",
       "      <td>0.024925</td>\n",
       "      <td>0.013682</td>\n",
       "      <td>0.548311</td>\n",
       "      <td>0.548651</td>\n",
       "      <td>0.999439</td>\n",
       "      <td>1.000000</td>\n",
       "      <td>-0.153622</td>\n",
       "      <td>0.179007</td>\n",
       "      <td>0.019869</td>\n",
       "      <td>0.401170</td>\n",
       "      <td>0.401501</td>\n",
       "      <td>0.412339</td>\n",
       "      <td>-0.030555</td>\n",
       "      <td>-0.049827</td>\n",
       "    </tr>\n",
       "    <tr>\n",
       "      <th>precip</th>\n",
       "      <td>-0.057668</td>\n",
       "      <td>-0.038599</td>\n",
       "      <td>-0.105845</td>\n",
       "      <td>-0.104759</td>\n",
       "      <td>-0.149799</td>\n",
       "      <td>-0.153622</td>\n",
       "      <td>1.000000</td>\n",
       "      <td>0.026621</td>\n",
       "      <td>-0.014829</td>\n",
       "      <td>-0.097236</td>\n",
       "      <td>-0.099667</td>\n",
       "      <td>-0.095982</td>\n",
       "      <td>0.008467</td>\n",
       "      <td>0.069412</td>\n",
       "    </tr>\n",
       "    <tr>\n",
       "      <th>hour</th>\n",
       "      <td>0.388443</td>\n",
       "      <td>0.272185</td>\n",
       "      <td>-0.009098</td>\n",
       "      <td>-0.017830</td>\n",
       "      <td>0.180742</td>\n",
       "      <td>0.179007</td>\n",
       "      <td>0.026621</td>\n",
       "      <td>1.000000</td>\n",
       "      <td>-0.006948</td>\n",
       "      <td>-0.005118</td>\n",
       "      <td>-0.005132</td>\n",
       "      <td>-0.004765</td>\n",
       "      <td>0.004783</td>\n",
       "      <td>0.002349</td>\n",
       "    </tr>\n",
       "    <tr>\n",
       "      <th>day_of_week</th>\n",
       "      <td>-0.127494</td>\n",
       "      <td>0.068659</td>\n",
       "      <td>0.005302</td>\n",
       "      <td>0.003110</td>\n",
       "      <td>0.018512</td>\n",
       "      <td>0.019869</td>\n",
       "      <td>-0.014829</td>\n",
       "      <td>-0.006948</td>\n",
       "      <td>1.000000</td>\n",
       "      <td>-0.002097</td>\n",
       "      <td>-0.001550</td>\n",
       "      <td>0.004841</td>\n",
       "      <td>-0.791639</td>\n",
       "      <td>-0.091811</td>\n",
       "    </tr>\n",
       "    <tr>\n",
       "      <th>month</th>\n",
       "      <td>0.114194</td>\n",
       "      <td>-0.018433</td>\n",
       "      <td>0.256508</td>\n",
       "      <td>0.257462</td>\n",
       "      <td>0.401068</td>\n",
       "      <td>0.401170</td>\n",
       "      <td>-0.097236</td>\n",
       "      <td>-0.005118</td>\n",
       "      <td>-0.002097</td>\n",
       "      <td>1.000000</td>\n",
       "      <td>0.996515</td>\n",
       "      <td>0.964600</td>\n",
       "      <td>-0.007206</td>\n",
       "      <td>0.015167</td>\n",
       "    </tr>\n",
       "    <tr>\n",
       "      <th>day_of_year</th>\n",
       "      <td>0.115355</td>\n",
       "      <td>-0.018484</td>\n",
       "      <td>0.253343</td>\n",
       "      <td>0.254295</td>\n",
       "      <td>0.401329</td>\n",
       "      <td>0.401501</td>\n",
       "      <td>-0.099667</td>\n",
       "      <td>-0.005132</td>\n",
       "      <td>-0.001550</td>\n",
       "      <td>0.996515</td>\n",
       "      <td>1.000000</td>\n",
       "      <td>0.965306</td>\n",
       "      <td>-0.008300</td>\n",
       "      <td>0.015457</td>\n",
       "    </tr>\n",
       "    <tr>\n",
       "      <th>week</th>\n",
       "      <td>0.116594</td>\n",
       "      <td>-0.017797</td>\n",
       "      <td>0.275505</td>\n",
       "      <td>0.276466</td>\n",
       "      <td>0.412347</td>\n",
       "      <td>0.412339</td>\n",
       "      <td>-0.095982</td>\n",
       "      <td>-0.004765</td>\n",
       "      <td>0.004841</td>\n",
       "      <td>0.964600</td>\n",
       "      <td>0.965306</td>\n",
       "      <td>1.000000</td>\n",
       "      <td>-0.006266</td>\n",
       "      <td>-0.024042</td>\n",
       "    </tr>\n",
       "    <tr>\n",
       "      <th>is_weekday</th>\n",
       "      <td>0.176737</td>\n",
       "      <td>-0.060921</td>\n",
       "      <td>-0.002824</td>\n",
       "      <td>-0.000877</td>\n",
       "      <td>-0.028593</td>\n",
       "      <td>-0.030555</td>\n",
       "      <td>0.008467</td>\n",
       "      <td>0.004783</td>\n",
       "      <td>-0.791639</td>\n",
       "      <td>-0.007206</td>\n",
       "      <td>-0.008300</td>\n",
       "      <td>-0.006266</td>\n",
       "      <td>1.000000</td>\n",
       "      <td>0.022684</td>\n",
       "    </tr>\n",
       "    <tr>\n",
       "      <th>is_holiday</th>\n",
       "      <td>-0.064088</td>\n",
       "      <td>-0.021968</td>\n",
       "      <td>-0.066714</td>\n",
       "      <td>-0.066105</td>\n",
       "      <td>-0.049873</td>\n",
       "      <td>-0.049827</td>\n",
       "      <td>0.069412</td>\n",
       "      <td>0.002349</td>\n",
       "      <td>-0.091811</td>\n",
       "      <td>0.015167</td>\n",
       "      <td>0.015457</td>\n",
       "      <td>-0.024042</td>\n",
       "      <td>0.022684</td>\n",
       "      <td>1.000000</td>\n",
       "    </tr>\n",
       "  </tbody>\n",
       "</table>\n",
       "</div>"
      ],
      "text/plain": [
       "                          starting_trips  ongoing_trips_prev  \\\n",
       "starting_trips                  1.000000            0.574559   \n",
       "ongoing_trips_prev              0.574559            1.000000   \n",
       "in_service_bikes_rolling        0.120235            0.060260   \n",
       "available_bikes                 0.102000            0.028311   \n",
       "max_temp                        0.026981            0.014286   \n",
       "min_temp                        0.024925            0.013682   \n",
       "precip                         -0.057668           -0.038599   \n",
       "hour                            0.388443            0.272185   \n",
       "day_of_week                    -0.127494            0.068659   \n",
       "month                           0.114194           -0.018433   \n",
       "day_of_year                     0.115355           -0.018484   \n",
       "week                            0.116594           -0.017797   \n",
       "is_weekday                      0.176737           -0.060921   \n",
       "is_holiday                     -0.064088           -0.021968   \n",
       "\n",
       "                          in_service_bikes_rolling  available_bikes  max_temp  \\\n",
       "starting_trips                            0.120235         0.102000  0.026981   \n",
       "ongoing_trips_prev                        0.060260         0.028311  0.014286   \n",
       "in_service_bikes_rolling                  1.000000         0.999489  0.549341   \n",
       "available_bikes                           0.999489         1.000000  0.549663   \n",
       "max_temp                                  0.549341         0.549663  1.000000   \n",
       "min_temp                                  0.548311         0.548651  0.999439   \n",
       "precip                                   -0.105845        -0.104759 -0.149799   \n",
       "hour                                     -0.009098        -0.017830  0.180742   \n",
       "day_of_week                               0.005302         0.003110  0.018512   \n",
       "month                                     0.256508         0.257462  0.401068   \n",
       "day_of_year                               0.253343         0.254295  0.401329   \n",
       "week                                      0.275505         0.276466  0.412347   \n",
       "is_weekday                               -0.002824        -0.000877 -0.028593   \n",
       "is_holiday                               -0.066714        -0.066105 -0.049873   \n",
       "\n",
       "                          min_temp    precip      hour  day_of_week     month  \\\n",
       "starting_trips            0.024925 -0.057668  0.388443    -0.127494  0.114194   \n",
       "ongoing_trips_prev        0.013682 -0.038599  0.272185     0.068659 -0.018433   \n",
       "in_service_bikes_rolling  0.548311 -0.105845 -0.009098     0.005302  0.256508   \n",
       "available_bikes           0.548651 -0.104759 -0.017830     0.003110  0.257462   \n",
       "max_temp                  0.999439 -0.149799  0.180742     0.018512  0.401068   \n",
       "min_temp                  1.000000 -0.153622  0.179007     0.019869  0.401170   \n",
       "precip                   -0.153622  1.000000  0.026621    -0.014829 -0.097236   \n",
       "hour                      0.179007  0.026621  1.000000    -0.006948 -0.005118   \n",
       "day_of_week               0.019869 -0.014829 -0.006948     1.000000 -0.002097   \n",
       "month                     0.401170 -0.097236 -0.005118    -0.002097  1.000000   \n",
       "day_of_year               0.401501 -0.099667 -0.005132    -0.001550  0.996515   \n",
       "week                      0.412339 -0.095982 -0.004765     0.004841  0.964600   \n",
       "is_weekday               -0.030555  0.008467  0.004783    -0.791639 -0.007206   \n",
       "is_holiday               -0.049827  0.069412  0.002349    -0.091811  0.015167   \n",
       "\n",
       "                          day_of_year      week  is_weekday  is_holiday  \n",
       "starting_trips               0.115355  0.116594    0.176737   -0.064088  \n",
       "ongoing_trips_prev          -0.018484 -0.017797   -0.060921   -0.021968  \n",
       "in_service_bikes_rolling     0.253343  0.275505   -0.002824   -0.066714  \n",
       "available_bikes              0.254295  0.276466   -0.000877   -0.066105  \n",
       "max_temp                     0.401329  0.412347   -0.028593   -0.049873  \n",
       "min_temp                     0.401501  0.412339   -0.030555   -0.049827  \n",
       "precip                      -0.099667 -0.095982    0.008467    0.069412  \n",
       "hour                        -0.005132 -0.004765    0.004783    0.002349  \n",
       "day_of_week                 -0.001550  0.004841   -0.791639   -0.091811  \n",
       "month                        0.996515  0.964600   -0.007206    0.015167  \n",
       "day_of_year                  1.000000  0.965306   -0.008300    0.015457  \n",
       "week                         0.965306  1.000000   -0.006266   -0.024042  \n",
       "is_weekday                  -0.008300 -0.006266    1.000000    0.022684  \n",
       "is_holiday                   0.015457 -0.024042    0.022684    1.000000  "
      ]
     },
     "execution_count": 81,
     "metadata": {},
     "output_type": "execute_result"
    }
   ],
   "source": [
    "trips_hourly_df.corr()"
   ]
  },
  {
   "cell_type": "markdown",
   "metadata": {},
   "source": [
    "The table provides all information at glance. However, it is difficult to single out pairs of features that are of interest to us. Therefore, we will write an additional method to print only those with their corresponding correlation coefficient."
   ]
  },
  {
   "cell_type": "code",
   "execution_count": 82,
   "metadata": {},
   "outputs": [
    {
     "name": "stdout",
     "output_type": "stream",
     "text": [
      "in_service_bikes_rolling available_bikes 0.999488640936895\n",
      "max_temp min_temp 0.999439041098791\n",
      "month day_of_year 0.9965152677587397\n",
      "month week 0.9645997268362144\n",
      "day_of_year week 0.9653057568623041\n"
     ]
    }
   ],
   "source": [
    "for id_1, variable in enumerate(trips_hourly_df.columns):\n",
    "    for id_2, comp_variable in enumerate(trips_hourly_df.columns):\n",
    "        if id_1 < id_2:\n",
    "            corrcoeff = np.corrcoef(\n",
    "                [\n",
    "                    trips_hourly_df[variable].astype(\"float64\"),\n",
    "                    trips_hourly_df[comp_variable].astype(\"float64\"),\n",
    "                ]\n",
    "            )[0][1]\n",
    "            if corrcoeff > 0.7:\n",
    "                print(variable, comp_variable, corrcoeff)\n",
    "                "
   ]
  },
  {
   "cell_type": "markdown",
   "metadata": {},
   "source": [
    "In general, it doesn't matter which feature to drop from each pair. We decided to exclude the following - ```in_service_bikes_rolling, max_temp, day_of_year, week```."
   ]
  },
  {
   "cell_type": "code",
   "execution_count": 83,
   "metadata": {},
   "outputs": [
    {
     "data": {
      "text/html": [
       "<div>\n",
       "<style scoped>\n",
       "    .dataframe tbody tr th:only-of-type {\n",
       "        vertical-align: middle;\n",
       "    }\n",
       "\n",
       "    .dataframe tbody tr th {\n",
       "        vertical-align: top;\n",
       "    }\n",
       "\n",
       "    .dataframe thead th {\n",
       "        text-align: right;\n",
       "    }\n",
       "</style>\n",
       "<table border=\"1\" class=\"dataframe\">\n",
       "  <thead>\n",
       "    <tr style=\"text-align: right;\">\n",
       "      <th></th>\n",
       "      <th>starting_trips</th>\n",
       "      <th>ongoing_trips_prev</th>\n",
       "      <th>available_bikes</th>\n",
       "      <th>min_temp</th>\n",
       "      <th>precip</th>\n",
       "      <th>hour</th>\n",
       "      <th>day_of_week</th>\n",
       "      <th>month</th>\n",
       "      <th>is_weekday</th>\n",
       "      <th>is_holiday</th>\n",
       "    </tr>\n",
       "    <tr>\n",
       "      <th>index</th>\n",
       "      <th></th>\n",
       "      <th></th>\n",
       "      <th></th>\n",
       "      <th></th>\n",
       "      <th></th>\n",
       "      <th></th>\n",
       "      <th></th>\n",
       "      <th></th>\n",
       "      <th></th>\n",
       "      <th></th>\n",
       "    </tr>\n",
       "  </thead>\n",
       "  <tbody>\n",
       "    <tr>\n",
       "      <th>2019-01-01 01:00:00</th>\n",
       "      <td>8.0</td>\n",
       "      <td>2.0</td>\n",
       "      <td>870.0</td>\n",
       "      <td>15.6</td>\n",
       "      <td>0.0</td>\n",
       "      <td>1</td>\n",
       "      <td>1</td>\n",
       "      <td>1</td>\n",
       "      <td>True</td>\n",
       "      <td>True</td>\n",
       "    </tr>\n",
       "    <tr>\n",
       "      <th>2019-01-01 02:00:00</th>\n",
       "      <td>11.0</td>\n",
       "      <td>4.0</td>\n",
       "      <td>868.0</td>\n",
       "      <td>15.0</td>\n",
       "      <td>0.0</td>\n",
       "      <td>2</td>\n",
       "      <td>1</td>\n",
       "      <td>1</td>\n",
       "      <td>True</td>\n",
       "      <td>True</td>\n",
       "    </tr>\n",
       "  </tbody>\n",
       "</table>\n",
       "</div>"
      ],
      "text/plain": [
       "                     starting_trips  ongoing_trips_prev  available_bikes  \\\n",
       "index                                                                      \n",
       "2019-01-01 01:00:00             8.0                 2.0            870.0   \n",
       "2019-01-01 02:00:00            11.0                 4.0            868.0   \n",
       "\n",
       "                     min_temp  precip  hour  day_of_week  month  is_weekday  \\\n",
       "index                                                                         \n",
       "2019-01-01 01:00:00      15.6     0.0     1            1      1        True   \n",
       "2019-01-01 02:00:00      15.0     0.0     2            1      1        True   \n",
       "\n",
       "                     is_holiday  \n",
       "index                            \n",
       "2019-01-01 01:00:00        True  \n",
       "2019-01-01 02:00:00        True  "
      ]
     },
     "execution_count": 83,
     "metadata": {},
     "output_type": "execute_result"
    }
   ],
   "source": [
    "trips_hourly_df = trips_hourly_df.drop(\n",
    "    columns=[\"in_service_bikes_rolling\", \"max_temp\", \"day_of_year\", \"week\"]\n",
    ")\n",
    "trips_hourly_df.head(2)"
   ]
  },
  {
   "cell_type": "markdown",
   "metadata": {},
   "source": [
    "### Lasso Regression\n",
    "Here, we will compute a simple linear regression. Lasso Regression is often used for feature selection because it assigns 0 coefficient to features with a very low impact on the predicted variable. These features can then be excluded from future analysis."
   ]
  },
  {
   "cell_type": "code",
   "execution_count": 84,
   "metadata": {},
   "outputs": [],
   "source": [
    "input_features = trips_hourly_df.reset_index().drop(columns=[\"starting_trips\", \"index\"])\n",
    "predicted_varible = trips_hourly_df[\"starting_trips\"]"
   ]
  },
  {
   "cell_type": "code",
   "execution_count": 85,
   "metadata": {},
   "outputs": [],
   "source": [
    "# scale input features\n",
    "scaler = StandardScaler()\n",
    "input_features_scaled = scaler.fit_transform(input_features.values)"
   ]
  },
  {
   "cell_type": "code",
   "execution_count": 86,
   "metadata": {},
   "outputs": [
    {
     "name": "stdout",
     "output_type": "stream",
     "text": [
      "Coefficients  [10.01446394  0.70085322 -0.34323986 -0.          4.46753593 -0.\n",
      "  1.58051296  3.29228006 -0.20069737]\n"
     ]
    }
   ],
   "source": [
    "# fit data to the linear regression model\n",
    "model = Lasso(alpha=1)\n",
    "model.fit(input_features_scaled, predicted_varible)\n",
    "print(\"Coefficients \", model.coef_)"
   ]
  },
  {
   "cell_type": "markdown",
   "metadata": {},
   "source": [
    "The results of the Lasso regression yield 0 coefficient for features precipitation, is_weekday, and is_holiday. Therefore we will drop these for the predictive analytics section."
   ]
  },
  {
   "cell_type": "code",
   "execution_count": 87,
   "metadata": {},
   "outputs": [],
   "source": [
    "trips_hourly_df = trips_hourly_df.drop(columns={\"precip\", \"day_of_week\"})"
   ]
  },
  {
   "cell_type": "code",
   "execution_count": 88,
   "metadata": {},
   "outputs": [],
   "source": [
    "trips_hourly_df.to_pickle(\"../00_data/trips_hourly_selected.pkl\")"
   ]
  }
 ],
 "metadata": {
  "interpreter": {
   "hash": "8b60088a9b347fcb01b673d89e7da3a71c8c9fcb762a42ef04d5b6405c108bf0"
  },
  "kernelspec": {
   "display_name": "Python 3 (ipykernel)",
   "language": "python",
   "name": "python3"
  },
  "language_info": {
   "codemirror_mode": {
    "name": "ipython",
    "version": 3
   },
   "file_extension": ".py",
   "mimetype": "text/x-python",
   "name": "python",
   "nbconvert_exporter": "python",
   "pygments_lexer": "ipython3",
   "version": "3.9.7"
  }
 },
 "nbformat": 4,
 "nbformat_minor": 2
}
