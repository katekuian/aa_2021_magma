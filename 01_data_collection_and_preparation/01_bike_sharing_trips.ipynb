{
 "cells": [
  {
   "cell_type": "markdown",
   "metadata": {},
   "source": [
    "## Bike Sharing Trips Data Preparation\n",
    "\n",
    "__Requirements__\n",
    "\n",
    "Before running this notebook, you should place the `la_2019.csv` and the `weather_hourly_la.csv` files in the `00_data` folder and run the `00_bike_sharing_stations.ipynb` notebook."
   ]
  },
  {
   "cell_type": "code",
   "execution_count": 1,
   "metadata": {},
   "outputs": [],
   "source": [
    "import pandas as pd\n",
    "import numpy as np"
   ]
  },
  {
   "cell_type": "code",
   "execution_count": 2,
   "metadata": {},
   "outputs": [
    {
     "name": "stderr",
     "output_type": "stream",
     "text": [
      "/home/moritz/miniconda3/envs/aa_magma/lib/python3.9/site-packages/IPython/core/interactiveshell.py:3444: DtypeWarning: Columns (4) have mixed types.Specify dtype option on import or set low_memory=False.\n",
      "  exec(code_obj, self.user_global_ns, self.user_ns)\n"
     ]
    }
   ],
   "source": [
    "bikesharing_df = pd.read_csv('../00_data/la_2019.csv')"
   ]
  },
  {
   "cell_type": "code",
   "execution_count": 3,
   "metadata": {},
   "outputs": [
    {
     "data": {
      "text/html": [
       "<div>\n",
       "<style scoped>\n",
       "    .dataframe tbody tr th:only-of-type {\n",
       "        vertical-align: middle;\n",
       "    }\n",
       "\n",
       "    .dataframe tbody tr th {\n",
       "        vertical-align: top;\n",
       "    }\n",
       "\n",
       "    .dataframe thead th {\n",
       "        text-align: right;\n",
       "    }\n",
       "</style>\n",
       "<table border=\"1\" class=\"dataframe\">\n",
       "  <thead>\n",
       "    <tr style=\"text-align: right;\">\n",
       "      <th></th>\n",
       "      <th>start_time</th>\n",
       "      <th>end_time</th>\n",
       "      <th>start_station_id</th>\n",
       "      <th>end_station_id</th>\n",
       "      <th>bike_id</th>\n",
       "      <th>user_type</th>\n",
       "      <th>start_station_name</th>\n",
       "      <th>end_station_name</th>\n",
       "    </tr>\n",
       "  </thead>\n",
       "  <tbody>\n",
       "    <tr>\n",
       "      <th>0</th>\n",
       "      <td>2019-01-01 00:07:00</td>\n",
       "      <td>2019-01-01 00:14:00</td>\n",
       "      <td>3046</td>\n",
       "      <td>3051</td>\n",
       "      <td>06468</td>\n",
       "      <td>Walk-up</td>\n",
       "      <td>2nd &amp; Hill</td>\n",
       "      <td>7th &amp; Broadway</td>\n",
       "    </tr>\n",
       "    <tr>\n",
       "      <th>1</th>\n",
       "      <td>2019-01-01 00:08:00</td>\n",
       "      <td>2019-01-01 00:14:00</td>\n",
       "      <td>3046</td>\n",
       "      <td>3051</td>\n",
       "      <td>12311</td>\n",
       "      <td>Walk-up</td>\n",
       "      <td>2nd &amp; Hill</td>\n",
       "      <td>7th &amp; Broadway</td>\n",
       "    </tr>\n",
       "  </tbody>\n",
       "</table>\n",
       "</div>"
      ],
      "text/plain": [
       "            start_time             end_time  start_station_id  end_station_id  \\\n",
       "0  2019-01-01 00:07:00  2019-01-01 00:14:00              3046            3051   \n",
       "1  2019-01-01 00:08:00  2019-01-01 00:14:00              3046            3051   \n",
       "\n",
       "  bike_id user_type start_station_name end_station_name  \n",
       "0   06468   Walk-up         2nd & Hill   7th & Broadway  \n",
       "1   12311   Walk-up         2nd & Hill   7th & Broadway  "
      ]
     },
     "execution_count": 3,
     "metadata": {},
     "output_type": "execute_result"
    }
   ],
   "source": [
    "bikesharing_df.head(2)"
   ]
  },
  {
   "cell_type": "code",
   "execution_count": 4,
   "metadata": {},
   "outputs": [
    {
     "name": "stdout",
     "output_type": "stream",
     "text": [
      "<class 'pandas.core.frame.DataFrame'>\n",
      "RangeIndex: 290342 entries, 0 to 290341\n",
      "Data columns (total 8 columns):\n",
      " #   Column              Non-Null Count   Dtype \n",
      "---  ------              --------------   ----- \n",
      " 0   start_time          290342 non-null  object\n",
      " 1   end_time            290342 non-null  object\n",
      " 2   start_station_id    290342 non-null  int64 \n",
      " 3   end_station_id      290342 non-null  int64 \n",
      " 4   bike_id             290342 non-null  object\n",
      " 5   user_type           290342 non-null  object\n",
      " 6   start_station_name  290342 non-null  object\n",
      " 7   end_station_name    290342 non-null  object\n",
      "dtypes: int64(2), object(6)\n",
      "memory usage: 17.7+ MB\n"
     ]
    }
   ],
   "source": [
    "bikesharing_df.info()"
   ]
  },
  {
   "cell_type": "markdown",
   "metadata": {},
   "source": [
    "As seen from the column `Non-Null`, all values are the same (=290342). So there are no missing values in this dataset. In the next step, we will explore data ranges for continuous variables and possible values for discrete variables."
   ]
  },
  {
   "cell_type": "code",
   "execution_count": 5,
   "metadata": {},
   "outputs": [
    {
     "name": "stdout",
     "output_type": "stream",
     "text": [
      "New datatype for 'start_time' - datetime64[ns] and 'end_time' - datetime64[ns].\n"
     ]
    }
   ],
   "source": [
    "# first, we will convert the start and end time of the trip into a new more convenient for future use data format\n",
    "bikesharing_df['start_time'] = pd.to_datetime(bikesharing_df['start_time'])\n",
    "bikesharing_df['end_time'] = pd.to_datetime(bikesharing_df['end_time'])\n",
    "print(f\"New datatype for 'start_time' - {bikesharing_df['start_time'].dtype} and 'end_time' - {bikesharing_df['end_time'].dtype}.\")"
   ]
  },
  {
   "cell_type": "code",
   "execution_count": 6,
   "metadata": {},
   "outputs": [
    {
     "name": "stdout",
     "output_type": "stream",
     "text": [
      "Earliest observation: 01.01.2019 00:07:00\n",
      "Latest observation: 06.01.2020 09:50:52\n"
     ]
    }
   ],
   "source": [
    "datetime_format = '%d.%m.%Y %H:%M:%S'\n",
    "print(f\"Earliest observation: {format(bikesharing_df['start_time'].min(), datetime_format)}\")\n",
    "print(f\"Latest observation: {format(bikesharing_df['end_time'].max(), datetime_format)}\")"
   ]
  },
  {
   "cell_type": "markdown",
   "metadata": {},
   "source": [
    "There are trips ending in the year 2020. Our dataset should, however, be only for the year 2019. As we cannot be sure that we have complete data between 01.01.2020 and 06.01.2020, we will simply remove those trips from our dataset."
   ]
  },
  {
   "cell_type": "code",
   "execution_count": 7,
   "metadata": {},
   "outputs": [],
   "source": [
    "bikesharing_df = bikesharing_df[\n",
    "    (bikesharing_df[\"start_time\"] >= \"2019-01-01 00:00:00\")\n",
    "    & (bikesharing_df[\"end_time\"] <= \"2019-12-31 23:59:59\")\n",
    "]"
   ]
  },
  {
   "cell_type": "code",
   "execution_count": 8,
   "metadata": {},
   "outputs": [
    {
     "name": "stdout",
     "output_type": "stream",
     "text": [
      "Shortest trip: 0 days 00:00:00\n",
      "Longest trip: 61 days 15:47:00\n"
     ]
    }
   ],
   "source": [
    "# add new column duration and determine its minimum and maximum values\n",
    "bikesharing_df['duration'] = (bikesharing_df['end_time'] - bikesharing_df['start_time'])\n",
    "\n",
    "print(f\"Shortest trip: {bikesharing_df['duration'].min()}\")\n",
    "print(f\"Longest trip: {bikesharing_df['duration'].max()}\")"
   ]
  },
  {
   "cell_type": "code",
   "execution_count": 9,
   "metadata": {},
   "outputs": [
    {
     "name": "stdout",
     "output_type": "stream",
     "text": [
      "Number of trips longer than 1 day: 1265 (0.44%)\n"
     ]
    }
   ],
   "source": [
    "# determine how many trips lasted longer than one day\n",
    "n_trips_above_1d = (\n",
    "    bikesharing_df[\"duration\"]\n",
    "    .apply(lambda duration: duration > pd.Timedelta(\"1d\"))\n",
    "    .sum()\n",
    ")\n",
    "print(\n",
    "    f\"Number of trips longer than 1 day: {n_trips_above_1d}\"\n",
    "    + f\" ({n_trips_above_1d / len(bikesharing_df) * 100:.2f}%)\"\n",
    ")\n"
   ]
  },
  {
   "cell_type": "markdown",
   "metadata": {},
   "source": [
    "Metro Bike Share specified the maximum rental time of 24 hours [(link)](https://bikeshare.metro.net/user-agreement/#:~:text=1%20Maximum%20rental%20time%20is%2024%20hours.). Therefore, we will remove trips above this threshold from our dataset.\n",
    "\n",
    "Trips that lasted 0 days 00:00:00 can be interpreted as erroneous data. However, there are also cases, where it's the user's mistake. For example, a user rents a bike and decides instantly that they don't actually need a bike. Or there could be a problem with a bike lock. It is often the case that even after the rental has started the lock won't open and the user has to start a new rental. \n",
    "\n",
    "We consider the second explanation more plausible. That's why we decided to make an assumption that 0 days 00:00:00 trips represent actual rentals and keep them in our dataset."
   ]
  },
  {
   "cell_type": "code",
   "execution_count": 10,
   "metadata": {},
   "outputs": [],
   "source": [
    "bikesharing_df = bikesharing_df[bikesharing_df['duration'] <= pd.Timedelta(\"1d\")]"
   ]
  },
  {
   "cell_type": "code",
   "execution_count": 11,
   "metadata": {},
   "outputs": [
    {
     "data": {
      "text/plain": [
       "array(['Walk-up', 'Monthly Pass', 'Annual Pass', 'One Day Pass',\n",
       "       'Flex Pass', 'Testing'], dtype=object)"
      ]
     },
     "execution_count": 11,
     "metadata": {},
     "output_type": "execute_result"
    }
   ],
   "source": [
    "# next, we will explore what user types exist\n",
    "bikesharing_df['user_type'].unique()"
   ]
  },
  {
   "cell_type": "markdown",
   "metadata": {},
   "source": [
    "While most user types are self-explanatory, `Testing` could mean a couple of things. First, those could be trips conducted by workers of the Metro Bike Share for some testing purposes. Second, those could be test trips granted to new users or by using coupons, etc. In this case, we make an assumption it is the second type of trip, because it sounds more plausible to us."
   ]
  },
  {
   "cell_type": "markdown",
   "metadata": {},
   "source": [
    "In the next step, we will import the bike stations dataset, merge it with the trips data and check whether there are any missing data."
   ]
  },
  {
   "cell_type": "code",
   "execution_count": 12,
   "metadata": {},
   "outputs": [],
   "source": [
    "stations_df = pd.read_pickle('../00_data/stations.pkl')"
   ]
  },
  {
   "cell_type": "code",
   "execution_count": 13,
   "metadata": {},
   "outputs": [],
   "source": [
    "stations_df = stations_df.set_index(\"station_id\")\n",
    "stations_small_df = stations_df[[\"latitude\", \"longitude\"]]\n",
    "\n",
    "bikesharing_df = bikesharing_df.join(stations_small_df, on=\"start_station_id\")\n",
    "bikesharing_df.rename(\n",
    "    columns={\"latitude\": \"start_latitude\", \"longitude\": \"start_longitude\"}, inplace=True\n",
    ")\n",
    "bikesharing_df = bikesharing_df.join(stations_small_df, on=\"end_station_id\")\n",
    "bikesharing_df.rename(\n",
    "    columns={\"latitude\": \"end_latitude\", \"longitude\": \"end_longitude\"}, inplace=True\n",
    ")\n"
   ]
  },
  {
   "cell_type": "code",
   "execution_count": 14,
   "metadata": {},
   "outputs": [
    {
     "data": {
      "text/plain": [
       "start_longitude    55590\n",
       "start_latitude     55590\n",
       "end_longitude      58111\n",
       "end_latitude       58111\n",
       "dtype: int64"
      ]
     },
     "execution_count": 14,
     "metadata": {},
     "output_type": "execute_result"
    }
   ],
   "source": [
    "bikesharing_df[\n",
    "    [\"start_longitude\", \"start_latitude\", \"end_longitude\", \"end_latitude\"]\n",
    "].isna().sum()"
   ]
  },
  {
   "cell_type": "markdown",
   "metadata": {},
   "source": [
    "There are some stations in our trip data that cannot be linked to the station data. This is most likely due to the fact that our trip data is from 2019 and our station data is from 2020. Some stations have probably been removed. However, as we don't expect to require stations data in all of the coming parts of our project, we will remove those trips on demand."
   ]
  },
  {
   "cell_type": "markdown",
   "metadata": {},
   "source": [
    "Next, we calculate the distance covered and the speed of the trips. To calculate the distance of the trip we use haversine distance instead of the direct line because of its higher accuracy."
   ]
  },
  {
   "cell_type": "code",
   "execution_count": 15,
   "metadata": {},
   "outputs": [],
   "source": [
    "def haversine(lon1, lat1, lon2, lat2):\n",
    "    \"\"\"\n",
    "    Calculate the great circle distance between two points\n",
    "    on the earth (specified in decimal degrees)\n",
    "\n",
    "    All args must be of equal length.    \n",
    "    author: derricw (https://stackoverflow.com/questions/29545704/fast-haversine-approximation-python-pandas/29546836#29546836)\n",
    "    \"\"\"\n",
    "    lon1, lat1, lon2, lat2 = map(np.radians, [lon1, lat1, lon2, lat2])\n",
    "\n",
    "    dlon = lon2 - lon1\n",
    "    dlat = lat2 - lat1\n",
    "\n",
    "    a = np.sin(dlat/2.0)**2 + np.cos(lat1) * np.cos(lat2) * np.sin(dlon/2.0)**2\n",
    "\n",
    "    c = 2 * np.arcsin(np.sqrt(a))\n",
    "    km = 6367 * c\n",
    "    return km"
   ]
  },
  {
   "cell_type": "code",
   "execution_count": 16,
   "metadata": {},
   "outputs": [
    {
     "name": "stdout",
     "output_type": "stream",
     "text": [
      "Smallest distance: 0.0 km\n",
      "Greatest distance: 28.47503197477015 km\n"
     ]
    }
   ],
   "source": [
    "bikesharing_df[\"distance\"] = haversine(\n",
    "    bikesharing_df[\"start_latitude\"],\n",
    "    bikesharing_df[\"start_longitude\"],\n",
    "    bikesharing_df[\"end_latitude\"],\n",
    "    bikesharing_df[\"end_longitude\"],\n",
    ")\n",
    "\n",
    "print(f\"Smallest distance: {bikesharing_df['distance'].min()} km\")\n",
    "print(f\"Greatest distance: {bikesharing_df['distance'].max()} km\")\n"
   ]
  },
  {
   "cell_type": "code",
   "execution_count": 17,
   "metadata": {},
   "outputs": [
    {
     "name": "stdout",
     "output_type": "stream",
     "text": [
      "Lowest speed: 0.0\n",
      "Highest speed: 40.969097401067344\n"
     ]
    }
   ],
   "source": [
    "bikesharing_df[\"speed\"] = bikesharing_df[\n",
    "    \"distance\"\n",
    "] / bikesharing_df[\"duration\"].apply(\n",
    "    lambda duration: duration.total_seconds() / (60 * 60)\n",
    ")\n",
    "\n",
    "print(f\"Lowest speed: {bikesharing_df['speed'].min()}\")\n",
    "print(f\"Highest speed: {bikesharing_df['speed'].max()}\")"
   ]
  },
  {
   "cell_type": "markdown",
   "metadata": {},
   "source": [
    "We will omit all trips that exceed the speed of 20mph, which is the limit for e-bikes in the U.S. [(link)](https://electricbikereport.com/fast-electric-bike/#:~:text=You'll%20most%20likely%20know,throttle)\n",
    "This seems plausible as trips that exceed this limit are very likely to be faulty because they would need to cycle faster than the maximum speed of e-bikes without any stops during the trip.\n",
    "Also, our `distance` column is calculated as the distance between the start and end station, which is a lower bound on the actual distance traveled. \n",
    "Therefore the actual distance traveled is most likely longer and the actual speed is most likely lower."
   ]
  },
  {
   "cell_type": "code",
   "execution_count": 18,
   "metadata": {},
   "outputs": [
    {
     "name": "stdout",
     "output_type": "stream",
     "text": [
      "Number of trips faster than 32.1868 km/h: 10 (0.0035%)\n"
     ]
    }
   ],
   "source": [
    "max_allowed_kmh = 20 * 1.60934 # 20mp/h in km/h\n",
    "n_trips_too_fast = len(bikesharing_df[bikesharing_df[\"speed\"] > max_allowed_kmh])\n",
    "print(\n",
    "    f\"Number of trips faster than {max_allowed_kmh} km/h: {n_trips_too_fast}\"\n",
    "    + f\" ({n_trips_too_fast / len(bikesharing_df) * 100:.4f}%)\"\n",
    ")\n"
   ]
  },
  {
   "cell_type": "code",
   "execution_count": 19,
   "metadata": {},
   "outputs": [],
   "source": [
    "bikesharing_df = bikesharing_df[bikesharing_df['speed'] < max_allowed_kmh]"
   ]
  },
  {
   "cell_type": "code",
   "execution_count": 20,
   "metadata": {
    "pycharm": {
     "name": "#%%\n"
    }
   },
   "outputs": [],
   "source": [
    "pd.to_pickle(bikesharing_df, '../00_data/trips.pkl')"
   ]
  }
 ],
 "metadata": {
  "interpreter": {
   "hash": "92fc518b5b7384118677689b6c62f007241a114fd66f06ac06e1a7d68fdfd572"
  },
  "kernelspec": {
   "display_name": "Python 3.9.6 64-bit ('base': conda)",
   "language": "python",
   "name": "python3"
  },
  "language_info": {
   "codemirror_mode": {
    "name": "ipython",
    "version": 3
   },
   "file_extension": ".py",
   "mimetype": "text/x-python",
   "name": "python",
   "nbconvert_exporter": "python",
   "pygments_lexer": "ipython3",
   "version": "3.9.7"
  },
  "orig_nbformat": 4
 },
 "nbformat": 4,
 "nbformat_minor": 2
}
